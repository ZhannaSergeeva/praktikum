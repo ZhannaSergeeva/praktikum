{
 "cells": [
  {
   "cell_type": "markdown",
   "metadata": {},
   "source": [
    "# 1. Подготовка"
   ]
  },
  {
   "cell_type": "code",
   "execution_count": 1,
   "metadata": {},
   "outputs": [],
   "source": [
    "# вызов библиотеки Pandas\n",
    "import pandas as pd\n",
    "# импорт библиотеки numpy\n",
    "import numpy as np\n",
    "# вызов функции деления выборки\n",
    "from sklearn.model_selection import train_test_split\n",
    "# импорт библиотеки seaborn\n",
    "import seaborn as sns\n",
    "# импорт библиотеки matplotlib\n",
    "import matplotlib.pyplot as plt\n",
    "# импорт функции расчета MSE\n",
    "from sklearn.metrics import mean_squared_error\n",
    "# импорт метрики make_scorer\n",
    "from sklearn.metrics import make_scorer\n",
    "# импорт функции кросс-валидации\n",
    "from sklearn.model_selection import cross_val_score\n",
    "# импорт функции seasonal_decompose\n",
    "from statsmodels.tsa.seasonal import seasonal_decompose"
   ]
  },
  {
   "cell_type": "code",
   "execution_count": 2,
   "metadata": {},
   "outputs": [],
   "source": [
    "# исследование данных\n",
    "data_taxi = pd.read_csv('/datasets/taxi.csv')"
   ]
  },
  {
   "cell_type": "code",
   "execution_count": 3,
   "metadata": {},
   "outputs": [
    {
     "data": {
      "text/html": [
       "<div>\n",
       "<style scoped>\n",
       "    .dataframe tbody tr th:only-of-type {\n",
       "        vertical-align: middle;\n",
       "    }\n",
       "\n",
       "    .dataframe tbody tr th {\n",
       "        vertical-align: top;\n",
       "    }\n",
       "\n",
       "    .dataframe thead th {\n",
       "        text-align: right;\n",
       "    }\n",
       "</style>\n",
       "<table border=\"1\" class=\"dataframe\">\n",
       "  <thead>\n",
       "    <tr style=\"text-align: right;\">\n",
       "      <th></th>\n",
       "      <th>datetime</th>\n",
       "      <th>num_orders</th>\n",
       "    </tr>\n",
       "  </thead>\n",
       "  <tbody>\n",
       "    <tr>\n",
       "      <td>0</td>\n",
       "      <td>2018-03-01 00:00:00</td>\n",
       "      <td>9</td>\n",
       "    </tr>\n",
       "    <tr>\n",
       "      <td>1</td>\n",
       "      <td>2018-03-01 00:10:00</td>\n",
       "      <td>14</td>\n",
       "    </tr>\n",
       "    <tr>\n",
       "      <td>2</td>\n",
       "      <td>2018-03-01 00:20:00</td>\n",
       "      <td>28</td>\n",
       "    </tr>\n",
       "    <tr>\n",
       "      <td>3</td>\n",
       "      <td>2018-03-01 00:30:00</td>\n",
       "      <td>20</td>\n",
       "    </tr>\n",
       "    <tr>\n",
       "      <td>4</td>\n",
       "      <td>2018-03-01 00:40:00</td>\n",
       "      <td>32</td>\n",
       "    </tr>\n",
       "  </tbody>\n",
       "</table>\n",
       "</div>"
      ],
      "text/plain": [
       "              datetime  num_orders\n",
       "0  2018-03-01 00:00:00           9\n",
       "1  2018-03-01 00:10:00          14\n",
       "2  2018-03-01 00:20:00          28\n",
       "3  2018-03-01 00:30:00          20\n",
       "4  2018-03-01 00:40:00          32"
      ]
     },
     "execution_count": 3,
     "metadata": {},
     "output_type": "execute_result"
    }
   ],
   "source": [
    "# Просмотр данных в таблице\n",
    "data_taxi.head(5)"
   ]
  },
  {
   "cell_type": "code",
   "execution_count": 4,
   "metadata": {},
   "outputs": [
    {
     "name": "stdout",
     "output_type": "stream",
     "text": [
      "<class 'pandas.core.frame.DataFrame'>\n",
      "RangeIndex: 26496 entries, 0 to 26495\n",
      "Data columns (total 2 columns):\n",
      "datetime      26496 non-null object\n",
      "num_orders    26496 non-null int64\n",
      "dtypes: int64(1), object(1)\n",
      "memory usage: 414.1+ KB\n",
      "None\n"
     ]
    }
   ],
   "source": [
    "# Просмотр информации по структуре таблице\n",
    "print(data_taxi.info())"
   ]
  },
  {
   "cell_type": "code",
   "execution_count": 5,
   "metadata": {},
   "outputs": [],
   "source": [
    "# Изменим тип данных Datetime с object на datetime6\n",
    "data_taxi['datetime']= pd.to_datetime(data_taxi['datetime'])"
   ]
  },
  {
   "cell_type": "code",
   "execution_count": 6,
   "metadata": {},
   "outputs": [
    {
     "data": {
      "text/plain": [
       "datetime      0\n",
       "num_orders    0\n",
       "dtype: int64"
      ]
     },
     "execution_count": 6,
     "metadata": {},
     "output_type": "execute_result"
    }
   ],
   "source": [
    "# Определим количество пропусков\n",
    "data_taxi.isnull().sum()"
   ]
  },
  {
   "cell_type": "markdown",
   "metadata": {},
   "source": [
    "*Пропусков в данных нет*"
   ]
  },
  {
   "cell_type": "code",
   "execution_count": 7,
   "metadata": {},
   "outputs": [
    {
     "data": {
      "text/plain": [
       "0"
      ]
     },
     "execution_count": 7,
     "metadata": {},
     "output_type": "execute_result"
    }
   ],
   "source": [
    "# Поиск дубликатов по таблице\n",
    "data_taxi.duplicated().sum()"
   ]
  },
  {
   "cell_type": "markdown",
   "metadata": {},
   "source": [
    "*В таблице дублирующих записей нет*"
   ]
  },
  {
   "cell_type": "code",
   "execution_count": 8,
   "metadata": {},
   "outputs": [
    {
     "name": "stdout",
     "output_type": "stream",
     "text": [
      "81\n"
     ]
    }
   ],
   "source": [
    "# Поиск уникальных значений по колонке \"Количество заказов\"\n",
    "print(len(data_taxi[\"num_orders\"].unique()))"
   ]
  },
  {
   "cell_type": "markdown",
   "metadata": {},
   "source": [
    "*По колонке \"Количество заказов\" найдено 81 уникальное значение*"
   ]
  },
  {
   "cell_type": "code",
   "execution_count": 9,
   "metadata": {},
   "outputs": [],
   "source": [
    "# Установим индекс таблицы\n",
    "data_taxi.set_index('datetime', inplace=True)"
   ]
  },
  {
   "cell_type": "code",
   "execution_count": 10,
   "metadata": {},
   "outputs": [
    {
     "name": "stdout",
     "output_type": "stream",
     "text": [
      "True\n"
     ]
    }
   ],
   "source": [
    "# Отсортируем таблицу по индексу\n",
    "data_taxi = data_taxi.sort_index()\n",
    "# Проверим отображение значений в хронологическом порядке\n",
    "print(data_taxi.index.is_monotonic)"
   ]
  },
  {
   "cell_type": "markdown",
   "metadata": {},
   "source": [
    "*Данные отсортированы в хронологическом порядке*"
   ]
  },
  {
   "cell_type": "code",
   "execution_count": 11,
   "metadata": {},
   "outputs": [],
   "source": [
    "# Выполним ресемплирование по 1 часу\n",
    "data_taxi = data_taxi.resample('1H').sum()"
   ]
  },
  {
   "cell_type": "code",
   "execution_count": 12,
   "metadata": {},
   "outputs": [],
   "source": [
    "# Разложим временной ряд на тренд и сезонную компоненту\n",
    "decomposed = seasonal_decompose(data_taxi)\n",
    "#decomposed.seasonal = decomposed.seasonal['2018-06-01':'2018-07-01']"
   ]
  },
  {
   "cell_type": "code",
   "execution_count": 13,
   "metadata": {},
   "outputs": [
    {
     "data": {
      "image/png": "[encoded data removed]",
      "text/plain": [
       "<Figure size 432x576 with 3 Axes>"
      ]
     },
     "metadata": {
      "needs_background": "light"
     },
     "output_type": "display_data"
    }
   ],
   "source": [
    "# Построим график вывода составляющих\n",
    "plt.figure(figsize=(6, 8))\n",
    "plt.subplot(311)\n",
    "decomposed.trend.plot(ax=plt.gca())\n",
    "plt.title('Trend')\n",
    "\n",
    "\n",
    "plt.subplot(312)\n",
    "decomposed.seasonal.plot(ax=plt.gca())\n",
    "plt.title('Seasonality')\n",
    "plt.subplot(313)\n",
    "\n",
    "\n",
    "decomposed.resid.plot(ax=plt.gca())\n",
    "plt.title('Residuals')\n",
    "plt.tight_layout()"
   ]
  },
  {
   "cell_type": "code",
   "execution_count": 14,
   "metadata": {},
   "outputs": [
    {
     "name": "stdout",
     "output_type": "stream",
     "text": [
      "                     num_orders  rolling_mean\n",
      "datetime                                     \n",
      "2018-03-01 00:00:00         124           NaN\n",
      "2018-03-01 01:00:00          85           NaN\n",
      "2018-03-01 02:00:00          71           NaN\n",
      "2018-03-01 03:00:00          66           NaN\n",
      "2018-03-01 04:00:00          43           NaN\n",
      "...                         ...           ...\n",
      "2018-08-31 19:00:00         136         166.6\n",
      "2018-08-31 20:00:00         154         162.9\n",
      "2018-08-31 21:00:00         159         162.1\n",
      "2018-08-31 22:00:00         223         170.8\n",
      "2018-08-31 23:00:00         205         174.7\n",
      "\n",
      "[4416 rows x 2 columns]\n"
     ]
    },
    {
     "data": {
      "text/plain": [
       "<matplotlib.axes._subplots.AxesSubplot at 0x7f90e0401850>"
      ]
     },
     "execution_count": 14,
     "metadata": {},
     "output_type": "execute_result"
    },
    {
     "data": {
      "image/png": "[encoded data removed]",
      "text/plain": [
       "<Figure size 432x288 with 1 Axes>"
      ]
     },
     "metadata": {
      "needs_background": "light"
     },
     "output_type": "display_data"
    }
   ],
   "source": [
    "# В таблицу добавим колонку со скользящим средним с размером окна 10\n",
    "data_taxi['rolling_mean'] = data_taxi.rolling(10).mean()\n",
    "print(data_taxi)\n",
    "# Построим график в том числе со скользящим средним\n",
    "data_taxi.plot()"
   ]
  },
  {
   "cell_type": "markdown",
   "metadata": {},
   "source": [
    "#### Вывод\n",
    "1. Таблица data_taxi содержит 2 колонки-признака.\n",
    "2. Таблица data_taxi содержит 26496 строк-объектов.\n",
    "3. В таблице data_taxi нет пропусков, нет дублей.\n",
    "4. В таблице data_taxi 81 уникальных значений.\n",
    "5. В таблице data_taxi по колонке \"Количество заказов\" (num_orders) данные отсортированы в хронологическом порядке.\n",
    "6. В таблицу data_taxi добавлена колонка rolling_mean, в которой отображается скользящее среднее с окном 10."
   ]
  },
  {
   "cell_type": "markdown",
   "metadata": {},
   "source": [
    "# 2. Анализ"
   ]
  },
  {
   "cell_type": "code",
   "execution_count": 15,
   "metadata": {},
   "outputs": [
    {
     "data": {
      "text/plain": [
       "count    4416.000000\n",
       "mean       84.422781\n",
       "std        45.023853\n",
       "min         0.000000\n",
       "25%        54.000000\n",
       "50%        78.000000\n",
       "75%       107.000000\n",
       "max       462.000000\n",
       "Name: num_orders, dtype: float64"
      ]
     },
     "execution_count": 15,
     "metadata": {},
     "output_type": "execute_result"
    }
   ],
   "source": [
    "# Изучим информацию в колонке \"Количество заказов\"\n",
    "data_taxi[\"num_orders\"].describe()"
   ]
  },
  {
   "cell_type": "markdown",
   "metadata": {},
   "source": [
    "*Среднее количество заказов - 84.42*"
   ]
  },
  {
   "cell_type": "code",
   "execution_count": 16,
   "metadata": {},
   "outputs": [],
   "source": [
    "# Функция создания новых признаков, размера отставания, скользящего среднего\n",
    "def make_features(data_taxi, max_lag, rolling_mean_size):\n",
    "    data_taxi['month'] = data_taxi.index.month\n",
    "    data_taxi['day'] = data_taxi.index.day\n",
    "    data_taxi['dayofweek'] = data_taxi.index.dayofweek\n",
    "    data_taxi['hour'] = data_taxi.index.hour\n",
    "    \n",
    "    for lag in range(1, max_lag + 1):\n",
    "        data_taxi['lag_{}'.format(lag)] = data_taxi['num_orders'].shift(lag)\n",
    "    \n",
    "    data_taxi['rolling_mean_shift'] = data_taxi['num_orders'].shift().rolling(rolling_mean_size).mean()\n",
    "\n",
    "make_features(data_taxi, 6, 6)"
   ]
  },
  {
   "cell_type": "markdown",
   "metadata": {},
   "source": [
    "Новые календарные признаки для горизонта прогнозирования:\n",
    "1. Фактор год не информативен, потому что все данные за 2018 год\n",
    "2. Фактор месяц. Количество заказов такси может зависеть от времени года или зависеть от конкретного месяца (например, месяцы с большим количеством праздничных и выходных дней).\n",
    "3. Фактор день. Количество заказов может зависеть от конкретного дня (дня месяца). Например, больше заказов в праздничные дни\n",
    "4. Фактор день недели. Количество заказов такси может зависеть от рабочего дня недели или от выходных.\n",
    "5. Фактор час. Количество заказов такси может зависеть от времени суток. Например, ночью заказов может быть больше чем утром или днем.\n",
    "\n",
    "Отстающие (предыдущие) значения lag временного ряда подскажут, будет ли функция расти или уменьшаться. \n",
    "\n",
    "Скользящее среднее rolling_mean как признак задаёт общий тренд временного ряда"
   ]
  },
  {
   "cell_type": "code",
   "execution_count": 17,
   "metadata": {},
   "outputs": [
    {
     "data": {
      "text/html": [
       "<div>\n",
       "<style scoped>\n",
       "    .dataframe tbody tr th:only-of-type {\n",
       "        vertical-align: middle;\n",
       "    }\n",
       "\n",
       "    .dataframe tbody tr th {\n",
       "        vertical-align: top;\n",
       "    }\n",
       "\n",
       "    .dataframe thead th {\n",
       "        text-align: right;\n",
       "    }\n",
       "</style>\n",
       "<table border=\"1\" class=\"dataframe\">\n",
       "  <thead>\n",
       "    <tr style=\"text-align: right;\">\n",
       "      <th></th>\n",
       "      <th>num_orders</th>\n",
       "      <th>rolling_mean</th>\n",
       "      <th>month</th>\n",
       "      <th>day</th>\n",
       "      <th>dayofweek</th>\n",
       "      <th>hour</th>\n",
       "      <th>lag_1</th>\n",
       "      <th>lag_2</th>\n",
       "      <th>lag_3</th>\n",
       "      <th>lag_4</th>\n",
       "      <th>lag_5</th>\n",
       "      <th>lag_6</th>\n",
       "      <th>rolling_mean_shift</th>\n",
       "    </tr>\n",
       "    <tr>\n",
       "      <th>datetime</th>\n",
       "      <th></th>\n",
       "      <th></th>\n",
       "      <th></th>\n",
       "      <th></th>\n",
       "      <th></th>\n",
       "      <th></th>\n",
       "      <th></th>\n",
       "      <th></th>\n",
       "      <th></th>\n",
       "      <th></th>\n",
       "      <th></th>\n",
       "      <th></th>\n",
       "      <th></th>\n",
       "    </tr>\n",
       "  </thead>\n",
       "  <tbody>\n",
       "    <tr>\n",
       "      <td>2018-03-01 00:00:00</td>\n",
       "      <td>124</td>\n",
       "      <td>NaN</td>\n",
       "      <td>3</td>\n",
       "      <td>1</td>\n",
       "      <td>3</td>\n",
       "      <td>0</td>\n",
       "      <td>NaN</td>\n",
       "      <td>NaN</td>\n",
       "      <td>NaN</td>\n",
       "      <td>NaN</td>\n",
       "      <td>NaN</td>\n",
       "      <td>NaN</td>\n",
       "      <td>NaN</td>\n",
       "    </tr>\n",
       "    <tr>\n",
       "      <td>2018-03-01 01:00:00</td>\n",
       "      <td>85</td>\n",
       "      <td>NaN</td>\n",
       "      <td>3</td>\n",
       "      <td>1</td>\n",
       "      <td>3</td>\n",
       "      <td>1</td>\n",
       "      <td>124.0</td>\n",
       "      <td>NaN</td>\n",
       "      <td>NaN</td>\n",
       "      <td>NaN</td>\n",
       "      <td>NaN</td>\n",
       "      <td>NaN</td>\n",
       "      <td>NaN</td>\n",
       "    </tr>\n",
       "    <tr>\n",
       "      <td>2018-03-01 02:00:00</td>\n",
       "      <td>71</td>\n",
       "      <td>NaN</td>\n",
       "      <td>3</td>\n",
       "      <td>1</td>\n",
       "      <td>3</td>\n",
       "      <td>2</td>\n",
       "      <td>85.0</td>\n",
       "      <td>124.0</td>\n",
       "      <td>NaN</td>\n",
       "      <td>NaN</td>\n",
       "      <td>NaN</td>\n",
       "      <td>NaN</td>\n",
       "      <td>NaN</td>\n",
       "    </tr>\n",
       "    <tr>\n",
       "      <td>2018-03-01 03:00:00</td>\n",
       "      <td>66</td>\n",
       "      <td>NaN</td>\n",
       "      <td>3</td>\n",
       "      <td>1</td>\n",
       "      <td>3</td>\n",
       "      <td>3</td>\n",
       "      <td>71.0</td>\n",
       "      <td>85.0</td>\n",
       "      <td>124.0</td>\n",
       "      <td>NaN</td>\n",
       "      <td>NaN</td>\n",
       "      <td>NaN</td>\n",
       "      <td>NaN</td>\n",
       "    </tr>\n",
       "    <tr>\n",
       "      <td>2018-03-01 04:00:00</td>\n",
       "      <td>43</td>\n",
       "      <td>NaN</td>\n",
       "      <td>3</td>\n",
       "      <td>1</td>\n",
       "      <td>3</td>\n",
       "      <td>4</td>\n",
       "      <td>66.0</td>\n",
       "      <td>71.0</td>\n",
       "      <td>85.0</td>\n",
       "      <td>124.0</td>\n",
       "      <td>NaN</td>\n",
       "      <td>NaN</td>\n",
       "      <td>NaN</td>\n",
       "    </tr>\n",
       "  </tbody>\n",
       "</table>\n",
       "</div>"
      ],
      "text/plain": [
       "                     num_orders  rolling_mean  month  day  dayofweek  hour  \\\n",
       "datetime                                                                     \n",
       "2018-03-01 00:00:00         124           NaN      3    1          3     0   \n",
       "2018-03-01 01:00:00          85           NaN      3    1          3     1   \n",
       "2018-03-01 02:00:00          71           NaN      3    1          3     2   \n",
       "2018-03-01 03:00:00          66           NaN      3    1          3     3   \n",
       "2018-03-01 04:00:00          43           NaN      3    1          3     4   \n",
       "\n",
       "                     lag_1  lag_2  lag_3  lag_4  lag_5  lag_6  \\\n",
       "datetime                                                        \n",
       "2018-03-01 00:00:00    NaN    NaN    NaN    NaN    NaN    NaN   \n",
       "2018-03-01 01:00:00  124.0    NaN    NaN    NaN    NaN    NaN   \n",
       "2018-03-01 02:00:00   85.0  124.0    NaN    NaN    NaN    NaN   \n",
       "2018-03-01 03:00:00   71.0   85.0  124.0    NaN    NaN    NaN   \n",
       "2018-03-01 04:00:00   66.0   71.0   85.0  124.0    NaN    NaN   \n",
       "\n",
       "                     rolling_mean_shift  \n",
       "datetime                                 \n",
       "2018-03-01 00:00:00                 NaN  \n",
       "2018-03-01 01:00:00                 NaN  \n",
       "2018-03-01 02:00:00                 NaN  \n",
       "2018-03-01 03:00:00                 NaN  \n",
       "2018-03-01 04:00:00                 NaN  "
      ]
     },
     "execution_count": 17,
     "metadata": {},
     "output_type": "execute_result"
    }
   ],
   "source": [
    "# Посмотр таблицы с новыми колонками-признаками\n",
    "data_taxi.head(5)"
   ]
  },
  {
   "cell_type": "code",
   "execution_count": 18,
   "metadata": {},
   "outputs": [
    {
     "data": {
      "text/plain": [
       "<matplotlib.axes._subplots.AxesSubplot at 0x7f90e0b71350>"
      ]
     },
     "execution_count": 18,
     "metadata": {},
     "output_type": "execute_result"
    },
    {
     "data": {
      "image/png": "[encoded data removed]",
      "text/plain": [
       "<Figure size 432x288 with 1 Axes>"
      ]
     },
     "metadata": {
      "needs_background": "light"
     },
     "output_type": "display_data"
    }
   ],
   "source": [
    "# Построим график\n",
    "data_taxi.plot()"
   ]
  },
  {
   "cell_type": "code",
   "execution_count": 19,
   "metadata": {},
   "outputs": [
    {
     "data": {
      "text/plain": [
       "<seaborn.axisgrid.FacetGrid at 0x7f90de1e9290>"
      ]
     },
     "execution_count": 19,
     "metadata": {},
     "output_type": "execute_result"
    },
    {
     "data": {
      "image/png": "[encoded data removed]",
      "text/plain": [
       "<Figure size 360x360 with 1 Axes>"
      ]
     },
     "metadata": {
      "needs_background": "light"
     },
     "output_type": "display_data"
    }
   ],
   "source": [
    "# График зависимости количества заказов от месяца\n",
    "sns.relplot(x=\"month\", y=\"num_orders\", kind=\"line\", data=data_taxi)"
   ]
  },
  {
   "cell_type": "markdown",
   "metadata": {},
   "source": [
    "*Наибольшее количество заказов было в августе. Наименьшее количество заказов было в марте. Количесто заказов непрерывно росло за весь наблюдаемый период*"
   ]
  },
  {
   "cell_type": "code",
   "execution_count": 20,
   "metadata": {},
   "outputs": [
    {
     "data": {
      "text/plain": [
       "<seaborn.axisgrid.FacetGrid at 0x7f90dde99310>"
      ]
     },
     "execution_count": 20,
     "metadata": {},
     "output_type": "execute_result"
    },
    {
     "data": {
      "image/png": "[encoded data removed]",
      "text/plain": [
       "<Figure size 360x360 with 1 Axes>"
      ]
     },
     "metadata": {
      "needs_background": "light"
     },
     "output_type": "display_data"
    }
   ],
   "source": [
    "# График зависимости количества заказов от дня месяца\n",
    "sns.relplot(x=\"day\", y=\"num_orders\", kind=\"line\", data=data_taxi)"
   ]
  },
  {
   "cell_type": "markdown",
   "metadata": {},
   "source": [
    "*Наибольшее количество заказов наблюдается в конце месяца. Наименьшее количество заказов наблюдается в начале месяца. За наблюдаемый период (дни месяца) наблюдается увеличение вызовов*"
   ]
  },
  {
   "cell_type": "code",
   "execution_count": 21,
   "metadata": {},
   "outputs": [
    {
     "data": {
      "text/plain": [
       "<seaborn.axisgrid.FacetGrid at 0x7f90e0e4d810>"
      ]
     },
     "execution_count": 21,
     "metadata": {},
     "output_type": "execute_result"
    },
    {
     "data": {
      "image/png": "[encoded data removed]",
      "text/plain": [
       "<Figure size 360x360 with 1 Axes>"
      ]
     },
     "metadata": {
      "needs_background": "light"
     },
     "output_type": "display_data"
    }
   ],
   "source": [
    "# График зависимости количества заказов от дня недели\n",
    "sns.relplot(x=\"dayofweek\", y=\"num_orders\", kind=\"line\", data=data_taxi)"
   ]
  },
  {
   "cell_type": "markdown",
   "metadata": {},
   "source": [
    "*Наибольшее количество заказов наблюдалось в пятницу (4) и понедельник (0). Наименьшее количество вызовов наблюдалось во вторник (1) и в воскресенье (6)*"
   ]
  },
  {
   "cell_type": "code",
   "execution_count": 22,
   "metadata": {},
   "outputs": [
    {
     "data": {
      "text/plain": [
       "<seaborn.axisgrid.FacetGrid at 0x7f90ddf05310>"
      ]
     },
     "execution_count": 22,
     "metadata": {},
     "output_type": "execute_result"
    },
    {
     "data": {
      "image/png": "[encoded data removed]",
      "text/plain": [
       "<Figure size 360x360 with 1 Axes>"
      ]
     },
     "metadata": {
      "needs_background": "light"
     },
     "output_type": "display_data"
    }
   ],
   "source": [
    "# График зависимости количества вызовов в закисимости от часа вызова\n",
    "sns.relplot(x=\"hour\", y=\"num_orders\", kind=\"line\", data=data_taxi)"
   ]
  },
  {
   "cell_type": "markdown",
   "metadata": {},
   "source": [
    "*Наибольшее количество заказов наблюдалось ночью - примерно в 00:00. Наименьшее количество заказов - рано утром, примерно 05:00 - 06:00*"
   ]
  },
  {
   "cell_type": "markdown",
   "metadata": {},
   "source": [
    "#### Вывод\n",
    "1. Среднее количество заказов - 84.42.\n",
    "2. Наибольшее количество заказов было в августе. Наименьшее количество заказов было в марте. Количесто вывозов непрерывно росло за весь наблюдаемый период.\n",
    "3. Наибольшее количество заказов наблюдается в конце месяца. Наименьшее количество заказов наблюдается в начале месяца. За наблюдаемый период (дни месяца) наблюдается увеличение вызовов.\n",
    "4. Наибольшее количество заказов наблюдалось в пятницу (4) и понедельник (0). Наименьшее количество вызовов наблюдалось во вторник (1) и в воскресенье (6).\n",
    "5. Наибольшее количество заказов наблюдалось ночью - примерно в 00:00. Наименьшее количество заказов - рано утром, примерно 05:00 - 06:00."
   ]
  },
  {
   "cell_type": "markdown",
   "metadata": {},
   "source": [
    "# 3. Обучение"
   ]
  },
  {
   "cell_type": "code",
   "execution_count": 23,
   "metadata": {},
   "outputs": [
    {
     "name": "stdout",
     "output_type": "stream",
     "text": [
      "(3965, 13)\n",
      "(442, 13)\n"
     ]
    }
   ],
   "source": [
    "# Разделим таблицу data_taxi на обучающую и тестовую выборки (размер тестовой - 10% от исходных данных)\n",
    "train, test = train_test_split(data_taxi, shuffle=False, test_size=0.1)\n",
    "train = train.dropna()\n",
    "print(train.shape)\n",
    "print(test.shape)"
   ]
  },
  {
   "cell_type": "code",
   "execution_count": 24,
   "metadata": {},
   "outputs": [
    {
     "name": "stdout",
     "output_type": "stream",
     "text": [
      "Обучающая выборка  89.78713768115942\n",
      "Тестовая выборка  10.009057971014492\n"
     ]
    }
   ],
   "source": [
    "# проверка размерности тренировочной и тестовой выборок \n",
    "def size(data_taxi,train,test):\n",
    "    size_data = len(data_taxi.index)\n",
    "    size_train = len(train.index)\n",
    "    size_test = len(test.index)\n",
    "    print(\"Обучающая выборка \", size_train*100/size_data)\n",
    "    print(\"Тестовая выборка \", size_test*100/size_data)\n",
    "    return \n",
    "size(data_taxi,train,test)"
   ]
  },
  {
   "cell_type": "code",
   "execution_count": 25,
   "metadata": {},
   "outputs": [],
   "source": [
    "# Признаки обучающей выборки\n",
    "features_train = train.drop(['num_orders'], axis=1)\n",
    "# Целевой признак обучающей выборки\n",
    "target_train = train['num_orders']\n",
    "# Признаки тестовой выборки\n",
    "features_test = test.drop(['num_orders'], axis=1)\n",
    "# Целевой признак тестовой выборки\n",
    "target_test = test['num_orders']"
   ]
  },
  {
   "cell_type": "markdown",
   "metadata": {},
   "source": [
    "*Целевой признак - количество заказов. Решаем задачу регресии*"
   ]
  },
  {
   "cell_type": "code",
   "execution_count": 26,
   "metadata": {},
   "outputs": [],
   "source": [
    "# Функция для расчета RMSE\n",
    "def RMSE(target, predict):\n",
    "    return np.sqrt(mean_squared_error(target, predict))\n",
    "\n",
    "my_scoring = make_scorer(RMSE, greater_is_better = False)"
   ]
  },
  {
   "cell_type": "markdown",
   "metadata": {},
   "source": [
    "#### Исследование модели \"Дерево решений в регресии\""
   ]
  },
  {
   "cell_type": "code",
   "execution_count": 27,
   "metadata": {},
   "outputs": [],
   "source": [
    "# импорт из библиотеки sklearn структуры данных модели \"Дерево решений в регрессии\"\n",
    "from sklearn.tree import DecisionTreeRegressor"
   ]
  },
  {
   "cell_type": "code",
   "execution_count": 28,
   "metadata": {},
   "outputs": [
    {
     "name": "stdout",
     "output_type": "stream",
     "text": [
      "max_depth= 3 min_samples_leaf = 2  -- -29.089964681942156\n",
      "max_depth= 3 min_samples_leaf = 3  -- -29.089964681942156\n",
      "max_depth= 3 min_samples_leaf = 4  -- -29.089964681942156\n",
      "max_depth= 3 min_samples_leaf = 5  -- -29.089964681942156\n",
      "max_depth= 3 min_samples_leaf = 6  -- -29.089964681942156\n",
      "max_depth= 3 min_samples_leaf = 7  -- -29.089964681942156\n",
      "max_depth= 3 min_samples_leaf = 8  -- -29.089964681942156\n",
      "max_depth= 3 min_samples_leaf = 9  -- -29.089964681942156\n",
      "max_depth= 4 min_samples_leaf = 2  -- -27.32507162515781\n",
      "max_depth= 4 min_samples_leaf = 3  -- -27.32507162515781\n",
      "max_depth= 4 min_samples_leaf = 4  -- -27.32507162515781\n",
      "max_depth= 4 min_samples_leaf = 5  -- -27.32507162515781\n",
      "max_depth= 4 min_samples_leaf = 6  -- -27.32507162515781\n",
      "max_depth= 4 min_samples_leaf = 7  -- -27.32507162515781\n",
      "max_depth= 4 min_samples_leaf = 8  -- -27.32507162515781\n",
      "max_depth= 4 min_samples_leaf = 9  -- -27.32507162515781\n",
      "max_depth= 5 min_samples_leaf = 2  -- -26.845985261455375\n",
      "max_depth= 5 min_samples_leaf = 3  -- -26.964932322062246\n",
      "max_depth= 5 min_samples_leaf = 4  -- -27.020878982908574\n",
      "max_depth= 5 min_samples_leaf = 5  -- -26.98535671063368\n",
      "max_depth= 5 min_samples_leaf = 6  -- -26.772868748136954\n",
      "max_depth= 5 min_samples_leaf = 7  -- -26.69450456036152\n",
      "max_depth= 5 min_samples_leaf = 8  -- -26.69439120320605\n",
      "max_depth= 5 min_samples_leaf = 9  -- -26.674808720898817\n",
      "max_depth= 6 min_samples_leaf = 2  -- -26.178940477037735\n",
      "max_depth= 6 min_samples_leaf = 3  -- -26.339473483896292\n",
      "max_depth= 6 min_samples_leaf = 4  -- -26.437597182409935\n",
      "max_depth= 6 min_samples_leaf = 5  -- -26.510222567943096\n",
      "max_depth= 6 min_samples_leaf = 6  -- -26.23384538388752\n",
      "max_depth= 6 min_samples_leaf = 7  -- -26.27701380022532\n",
      "max_depth= 6 min_samples_leaf = 8  -- -26.225549799707085\n",
      "max_depth= 6 min_samples_leaf = 9  -- -26.189851270697147\n",
      "max_depth= 7 min_samples_leaf = 2  -- -26.249437967880134\n",
      "max_depth= 7 min_samples_leaf = 3  -- -26.299057887909306\n",
      "max_depth= 7 min_samples_leaf = 4  -- -26.374190867082966\n",
      "max_depth= 7 min_samples_leaf = 5  -- -26.565294597037592\n",
      "max_depth= 7 min_samples_leaf = 6  -- -26.188116149530778\n",
      "max_depth= 7 min_samples_leaf = 7  -- -26.305559272574396\n",
      "max_depth= 7 min_samples_leaf = 8  -- -26.20653733024139\n",
      "max_depth= 7 min_samples_leaf = 9  -- -26.167166949997846\n",
      "max_depth= 8 min_samples_leaf = 2  -- -26.878735402452218\n",
      "max_depth= 8 min_samples_leaf = 3  -- -27.01797885159167\n",
      "max_depth= 8 min_samples_leaf = 4  -- -26.973898563949707\n",
      "max_depth= 8 min_samples_leaf = 5  -- -27.07170643996803\n",
      "max_depth= 8 min_samples_leaf = 6  -- -26.629546759236014\n",
      "max_depth= 8 min_samples_leaf = 7  -- -26.5165209209923\n",
      "max_depth= 8 min_samples_leaf = 8  -- -26.35576343439447\n",
      "max_depth= 8 min_samples_leaf = 9  -- -26.30186558676504\n"
     ]
    }
   ],
   "source": [
    "# создание модели методом \"Дерево решений в регрессии\"\n",
    "# Напишем циклы для max_depth от 1 до 10 и samples_leaf от 2 до 10\n",
    "min_score1 = 100\n",
    "for depth in range(3, 9):\n",
    "    for samples_leaf in range(2, 10):\n",
    "        model_DTR = DecisionTreeRegressor(random_state=12345, \n",
    "                                          max_depth=depth, \n",
    "                                          min_samples_leaf = samples_leaf)\n",
    "\n",
    "        # обучение модели на Обучающей выборке для каждого целевого показателя\n",
    "        model_DTR.fit(features_train, target_train)\n",
    "\n",
    "        # Оценка качества модели кросс-валидацией с учетом значений гиперпараметров\n",
    "        print('max_depth=', depth, \"min_samples_leaf =\", samples_leaf, \" -- \", end='')\n",
    "        score_DTR = cross_val_score(model_DTR, \n",
    "                             features_train, \n",
    "                             target_train, \n",
    "                             cv=5, \n",
    "                             scoring = my_scoring)\n",
    "        if min_score1 > score_DTR.mean():\n",
    "            min_score1 = score_DTR.mean()\n",
    "        print(score_DTR.mean())"
   ]
  },
  {
   "cell_type": "code",
   "execution_count": 29,
   "metadata": {},
   "outputs": [
    {
     "data": {
      "text/html": [
       "<div>\n",
       "<style scoped>\n",
       "    .dataframe tbody tr th:only-of-type {\n",
       "        vertical-align: middle;\n",
       "    }\n",
       "\n",
       "    .dataframe tbody tr th {\n",
       "        vertical-align: top;\n",
       "    }\n",
       "\n",
       "    .dataframe thead th {\n",
       "        text-align: right;\n",
       "    }\n",
       "</style>\n",
       "<table border=\"1\" class=\"dataframe\">\n",
       "  <thead>\n",
       "    <tr style=\"text-align: right;\">\n",
       "      <th></th>\n",
       "      <th>model</th>\n",
       "      <th>score</th>\n",
       "    </tr>\n",
       "  </thead>\n",
       "  <tbody>\n",
       "    <tr>\n",
       "      <td>0</td>\n",
       "      <td>DecisionTreeRegressor</td>\n",
       "      <td>-29.089965</td>\n",
       "    </tr>\n",
       "  </tbody>\n",
       "</table>\n",
       "</div>"
      ],
      "text/plain": [
       "                   model      score\n",
       "0  DecisionTreeRegressor -29.089965"
      ]
     },
     "execution_count": 29,
     "metadata": {},
     "output_type": "execute_result"
    }
   ],
   "source": [
    "# Оформим результаты в таблицу\n",
    "df_models = pd.DataFrame({'model':['DecisionTreeRegressor'],'score':[min_score1]}) \n",
    "df_models"
   ]
  },
  {
   "cell_type": "markdown",
   "metadata": {},
   "source": [
    "#### Исследование модели \"Случайный лес в регресии\""
   ]
  },
  {
   "cell_type": "code",
   "execution_count": 30,
   "metadata": {},
   "outputs": [],
   "source": [
    "# импорт из библиотеки sklearn структуры данных модели \"Случайный лес в регрессии\"\n",
    "from sklearn.ensemble import RandomForestRegressor"
   ]
  },
  {
   "cell_type": "code",
   "execution_count": 31,
   "metadata": {},
   "outputs": [
    {
     "name": "stdout",
     "output_type": "stream",
     "text": [
      "max_depth= 3 , n_estimators = 4  -- -28.342545887822865\n",
      "max_depth= 3 , n_estimators = 29  -- -27.816628147136008\n",
      "max_depth= 3 , n_estimators = 54  -- -27.8381688270132\n",
      "max_depth= 3 , n_estimators = 79  -- -27.836768446757038\n"
     ]
    }
   ],
   "source": [
    "# Настроим гиперпараметрs метода \"Случайный лес в регрессии\" - max_depth и n_estimators \n",
    "# (количество деревьев в лесу)\n",
    "# Напишем цикл для количества дереьев в случайном лесу\n",
    "min_score2 = 100\n",
    "for depth in range(3, 5, 2):\n",
    "    for estim in range(4, 101, 25):\n",
    "        # создание модели методом \"Случайный лес в регрессии\"\n",
    "        model_RFG = RandomForestRegressor(random_state=12345, max_depth=depth, n_estimators=estim)\n",
    "        # обучение модели\n",
    "        model_RFG.fit(features_train, target_train)\n",
    "\n",
    "        # Оценка качества модели кросс-валидацией\n",
    "        print('max_depth=', depth, ',', \"n_estimators =\", estim, \" -- \", end='')\n",
    "        score_RFG = cross_val_score(model_RFG, \n",
    "                             features_train, \n",
    "                             target_train, \n",
    "                             cv=5, \n",
    "                             scoring = my_scoring)\n",
    "        if min_score2 > score_RFG.mean():\n",
    "            min_score2 = score_RFG.mean()\n",
    "        print(score_RFG.mean())"
   ]
  },
  {
   "cell_type": "code",
   "execution_count": 32,
   "metadata": {},
   "outputs": [
    {
     "data": {
      "text/html": [
       "<div>\n",
       "<style scoped>\n",
       "    .dataframe tbody tr th:only-of-type {\n",
       "        vertical-align: middle;\n",
       "    }\n",
       "\n",
       "    .dataframe tbody tr th {\n",
       "        vertical-align: top;\n",
       "    }\n",
       "\n",
       "    .dataframe thead th {\n",
       "        text-align: right;\n",
       "    }\n",
       "</style>\n",
       "<table border=\"1\" class=\"dataframe\">\n",
       "  <thead>\n",
       "    <tr style=\"text-align: right;\">\n",
       "      <th></th>\n",
       "      <th>model</th>\n",
       "      <th>score</th>\n",
       "    </tr>\n",
       "  </thead>\n",
       "  <tbody>\n",
       "    <tr>\n",
       "      <td>0</td>\n",
       "      <td>DecisionTreeRegressor</td>\n",
       "      <td>-29.089965</td>\n",
       "    </tr>\n",
       "    <tr>\n",
       "      <td>1</td>\n",
       "      <td>RandomForestRegressor</td>\n",
       "      <td>-28.342546</td>\n",
       "    </tr>\n",
       "  </tbody>\n",
       "</table>\n",
       "</div>"
      ],
      "text/plain": [
       "                   model      score\n",
       "0  DecisionTreeRegressor -29.089965\n",
       "1  RandomForestRegressor -28.342546"
      ]
     },
     "execution_count": 32,
     "metadata": {},
     "output_type": "execute_result"
    }
   ],
   "source": [
    "# Оформим результаты в таблицу\n",
    "df_models.loc[1] = ['RandomForestRegressor', min_score2]\n",
    "df_models"
   ]
  },
  {
   "cell_type": "markdown",
   "metadata": {},
   "source": [
    "#### Исследование модели \"Линейная регрессия\""
   ]
  },
  {
   "cell_type": "code",
   "execution_count": 33,
   "metadata": {},
   "outputs": [],
   "source": [
    "# импорт из библиотеки sklearn структуры данных модели \"Линейная регрессия\"\n",
    "from sklearn.linear_model import LinearRegression"
   ]
  },
  {
   "cell_type": "code",
   "execution_count": 34,
   "metadata": {},
   "outputs": [],
   "source": [
    "# создание модели методом \"Линейная регрессия\"\n",
    "model_LR = LinearRegression(copy_X=True, fit_intercept=True, n_jobs=None, normalize=False)"
   ]
  },
  {
   "cell_type": "code",
   "execution_count": 35,
   "metadata": {},
   "outputs": [
    {
     "data": {
      "text/plain": [
       "LinearRegression(copy_X=True, fit_intercept=True, n_jobs=None, normalize=False)"
      ]
     },
     "execution_count": 35,
     "metadata": {},
     "output_type": "execute_result"
    }
   ],
   "source": [
    "# обучение модели на Обучающей выборке для каждого целевого показателя\n",
    "model_LR.fit(features_train, target_train)"
   ]
  },
  {
   "cell_type": "code",
   "execution_count": 36,
   "metadata": {},
   "outputs": [
    {
     "name": "stdout",
     "output_type": "stream",
     "text": [
      "-27.8350513362789\n"
     ]
    }
   ],
   "source": [
    "# Оценка качества модели кросс-валидацией\n",
    "score_LR = cross_val_score(model_LR, \n",
    "                             features_train, \n",
    "                             target_train, \n",
    "                             cv=5, \n",
    "                             scoring = my_scoring)\n",
    "print(score_LR.mean())"
   ]
  },
  {
   "cell_type": "code",
   "execution_count": 37,
   "metadata": {},
   "outputs": [
    {
     "data": {
      "text/html": [
       "<div>\n",
       "<style scoped>\n",
       "    .dataframe tbody tr th:only-of-type {\n",
       "        vertical-align: middle;\n",
       "    }\n",
       "\n",
       "    .dataframe tbody tr th {\n",
       "        vertical-align: top;\n",
       "    }\n",
       "\n",
       "    .dataframe thead th {\n",
       "        text-align: right;\n",
       "    }\n",
       "</style>\n",
       "<table border=\"1\" class=\"dataframe\">\n",
       "  <thead>\n",
       "    <tr style=\"text-align: right;\">\n",
       "      <th></th>\n",
       "      <th>model</th>\n",
       "      <th>score</th>\n",
       "    </tr>\n",
       "  </thead>\n",
       "  <tbody>\n",
       "    <tr>\n",
       "      <td>0</td>\n",
       "      <td>DecisionTreeRegressor</td>\n",
       "      <td>-29.089965</td>\n",
       "    </tr>\n",
       "    <tr>\n",
       "      <td>1</td>\n",
       "      <td>RandomForestRegressor</td>\n",
       "      <td>-28.342546</td>\n",
       "    </tr>\n",
       "    <tr>\n",
       "      <td>2</td>\n",
       "      <td>LinearRegression</td>\n",
       "      <td>-27.835051</td>\n",
       "    </tr>\n",
       "  </tbody>\n",
       "</table>\n",
       "</div>"
      ],
      "text/plain": [
       "                   model      score\n",
       "0  DecisionTreeRegressor -29.089965\n",
       "1  RandomForestRegressor -28.342546\n",
       "2       LinearRegression -27.835051"
      ]
     },
     "execution_count": 37,
     "metadata": {},
     "output_type": "execute_result"
    }
   ],
   "source": [
    "# Оформим результаты в таблицу\n",
    "df_models.loc[2] = ['LinearRegression', score_LR.mean()]\n",
    "df_models"
   ]
  },
  {
   "cell_type": "code",
   "execution_count": 38,
   "metadata": {},
   "outputs": [
    {
     "name": "stdout",
     "output_type": "stream",
     "text": [
      "              model      score\n",
      "2  LinearRegression -27.835051\n"
     ]
    }
   ],
   "source": [
    "min_score = df_models[df_models['score'] == df_models['score'].max()]\n",
    "print(min_score)"
   ]
  },
  {
   "cell_type": "markdown",
   "metadata": {},
   "source": [
    "#### Вывод\n",
    "Лучшей моделью можно считать модель - Линейная регрессия (RSME=27,84)"
   ]
  },
  {
   "cell_type": "markdown",
   "metadata": {},
   "source": [
    "# 4. Тестирование"
   ]
  },
  {
   "cell_type": "code",
   "execution_count": 39,
   "metadata": {},
   "outputs": [
    {
     "name": "stdout",
     "output_type": "stream",
     "text": [
      "RMSE на тестовой выборке: 46.296226061948154\n"
     ]
    }
   ],
   "source": [
    "# тестирование модели \"Линейная регрессия\"\n",
    "# предсказание тестовой выборки \n",
    "test_predictions_LR = model_LR.predict(features_test)\n",
    "\n",
    "# Расчет MSE модели \"Линейная регрессия\" на тестовой выборке\n",
    "mse_test_LR = mean_squared_error(target_test, test_predictions_LR)\n",
    "\n",
    "# Расчет RMSE модели \"Линейная регрессия\" на тестовой выборке\n",
    "rmse_test_LR = mse_test_LR ** 0.5\n",
    "print(\"RMSE на тестовой выборке:\", rmse_test_LR)"
   ]
  },
  {
   "cell_type": "code",
   "execution_count": 40,
   "metadata": {},
   "outputs": [
    {
     "data": {
      "text/html": [
       "<div>\n",
       "<style scoped>\n",
       "    .dataframe tbody tr th:only-of-type {\n",
       "        vertical-align: middle;\n",
       "    }\n",
       "\n",
       "    .dataframe tbody tr th {\n",
       "        vertical-align: top;\n",
       "    }\n",
       "\n",
       "    .dataframe thead th {\n",
       "        text-align: right;\n",
       "    }\n",
       "</style>\n",
       "<table border=\"1\" class=\"dataframe\">\n",
       "  <thead>\n",
       "    <tr style=\"text-align: right;\">\n",
       "      <th></th>\n",
       "      <th>0</th>\n",
       "    </tr>\n",
       "  </thead>\n",
       "  <tbody>\n",
       "    <tr>\n",
       "      <td>0</td>\n",
       "      <td>91.403229</td>\n",
       "    </tr>\n",
       "    <tr>\n",
       "      <td>1</td>\n",
       "      <td>94.866163</td>\n",
       "    </tr>\n",
       "    <tr>\n",
       "      <td>2</td>\n",
       "      <td>123.880458</td>\n",
       "    </tr>\n",
       "    <tr>\n",
       "      <td>3</td>\n",
       "      <td>140.972730</td>\n",
       "    </tr>\n",
       "    <tr>\n",
       "      <td>4</td>\n",
       "      <td>149.686360</td>\n",
       "    </tr>\n",
       "    <tr>\n",
       "      <td>...</td>\n",
       "      <td>...</td>\n",
       "    </tr>\n",
       "    <tr>\n",
       "      <td>437</td>\n",
       "      <td>180.637830</td>\n",
       "    </tr>\n",
       "    <tr>\n",
       "      <td>438</td>\n",
       "      <td>157.940637</td>\n",
       "    </tr>\n",
       "    <tr>\n",
       "      <td>439</td>\n",
       "      <td>157.316736</td>\n",
       "    </tr>\n",
       "    <tr>\n",
       "      <td>440</td>\n",
       "      <td>157.172895</td>\n",
       "    </tr>\n",
       "    <tr>\n",
       "      <td>441</td>\n",
       "      <td>180.578753</td>\n",
       "    </tr>\n",
       "  </tbody>\n",
       "</table>\n",
       "<p>442 rows × 1 columns</p>\n",
       "</div>"
      ],
      "text/plain": [
       "              0\n",
       "0     91.403229\n",
       "1     94.866163\n",
       "2    123.880458\n",
       "3    140.972730\n",
       "4    149.686360\n",
       "..          ...\n",
       "437  180.637830\n",
       "438  157.940637\n",
       "439  157.316736\n",
       "440  157.172895\n",
       "441  180.578753\n",
       "\n",
       "[442 rows x 1 columns]"
      ]
     },
     "execution_count": 40,
     "metadata": {},
     "output_type": "execute_result"
    }
   ],
   "source": [
    "# Выведем список предсказаний в отдельную таблицу\n",
    "pd.DataFrame(test_predictions_LR)"
   ]
  },
  {
   "cell_type": "code",
   "execution_count": 41,
   "metadata": {},
   "outputs": [],
   "source": [
    "# Функция расчета фактических и предсказанных значений\n",
    "def ttt(prediction, target, df_):\n",
    "    df_['fact'] = target\n",
    "    df_['prediction'] = prediction\n",
    "\n",
    "df_ttt = pd.DataFrame()\n",
    "ttt(test_predictions_LR,target_test,df_ttt)"
   ]
  },
  {
   "cell_type": "code",
   "execution_count": 42,
   "metadata": {},
   "outputs": [
    {
     "data": {
      "text/html": [
       "<div>\n",
       "<style scoped>\n",
       "    .dataframe tbody tr th:only-of-type {\n",
       "        vertical-align: middle;\n",
       "    }\n",
       "\n",
       "    .dataframe tbody tr th {\n",
       "        vertical-align: top;\n",
       "    }\n",
       "\n",
       "    .dataframe thead th {\n",
       "        text-align: right;\n",
       "    }\n",
       "</style>\n",
       "<table border=\"1\" class=\"dataframe\">\n",
       "  <thead>\n",
       "    <tr style=\"text-align: right;\">\n",
       "      <th></th>\n",
       "      <th>fact</th>\n",
       "      <th>prediction</th>\n",
       "    </tr>\n",
       "    <tr>\n",
       "      <th>datetime</th>\n",
       "      <th></th>\n",
       "      <th></th>\n",
       "    </tr>\n",
       "  </thead>\n",
       "  <tbody>\n",
       "    <tr>\n",
       "      <td>2018-08-13 14:00:00</td>\n",
       "      <td>102</td>\n",
       "      <td>91.403229</td>\n",
       "    </tr>\n",
       "    <tr>\n",
       "      <td>2018-08-13 15:00:00</td>\n",
       "      <td>175</td>\n",
       "      <td>94.866163</td>\n",
       "    </tr>\n",
       "    <tr>\n",
       "      <td>2018-08-13 16:00:00</td>\n",
       "      <td>144</td>\n",
       "      <td>123.880458</td>\n",
       "    </tr>\n",
       "    <tr>\n",
       "      <td>2018-08-13 17:00:00</td>\n",
       "      <td>152</td>\n",
       "      <td>140.972730</td>\n",
       "    </tr>\n",
       "    <tr>\n",
       "      <td>2018-08-13 18:00:00</td>\n",
       "      <td>104</td>\n",
       "      <td>149.686360</td>\n",
       "    </tr>\n",
       "  </tbody>\n",
       "</table>\n",
       "</div>"
      ],
      "text/plain": [
       "                     fact  prediction\n",
       "datetime                             \n",
       "2018-08-13 14:00:00   102   91.403229\n",
       "2018-08-13 15:00:00   175   94.866163\n",
       "2018-08-13 16:00:00   144  123.880458\n",
       "2018-08-13 17:00:00   152  140.972730\n",
       "2018-08-13 18:00:00   104  149.686360"
      ]
     },
     "execution_count": 42,
     "metadata": {},
     "output_type": "execute_result"
    }
   ],
   "source": [
    "# Таблица с фактическими данными и предсказанными данными\n",
    "df_ttt.head(5)"
   ]
  },
  {
   "cell_type": "code",
   "execution_count": 43,
   "metadata": {},
   "outputs": [
    {
     "data": {
      "text/plain": [
       "<matplotlib.axes._subplots.AxesSubplot at 0x7f90dac5f250>"
      ]
     },
     "execution_count": 43,
     "metadata": {},
     "output_type": "execute_result"
    },
    {
     "data": {
      "image/png": "[encoded data removed]",
      "text/plain": [
       "<Figure size 1080x504 with 1 Axes>"
      ]
     },
     "metadata": {
      "needs_background": "light"
     },
     "output_type": "display_data"
    }
   ],
   "source": [
    "# Построим график сравнения предсказанных и фактических значений\n",
    "plt.figure(figsize=(15,7))\n",
    "df_ttt['fact'].hist(alpha=0.5, color='blue', bins=100)\n",
    "df_ttt['prediction'].hist(alpha=0.5, color='red', bins=100)"
   ]
  },
  {
   "cell_type": "markdown",
   "metadata": {},
   "source": [
    "#### Вывод\n",
    "Лучшей моделью является \"Линейная регрессия\":\n",
    "1. RMSE на обучающей выборке: 27,84\n",
    "2. RMSE на тестовой выборке: 46,3\n",
    "\n",
    "Предсказанные значения на порядок меньше фактических значений"
   ]
  }
 ],
 "metadata": {
  "kernelspec": {
   "display_name": "Python 3",
   "language": "python",
   "name": "python3"
  },
  "language_info": {
   "codemirror_mode": {
    "name": "ipython",
    "version": 3
   },
   "file_extension": ".py",
   "mimetype": "text/x-python",
   "name": "python",
   "nbconvert_exporter": "python",
   "pygments_lexer": "ipython3",
   "version": "3.7.6"
  }
 },
 "nbformat": 4,
 "nbformat_minor": 2
}
