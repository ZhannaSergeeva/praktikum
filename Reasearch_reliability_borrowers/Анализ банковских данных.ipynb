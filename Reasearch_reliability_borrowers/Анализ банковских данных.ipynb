{
 "cells": [
  {
   "cell_type": "markdown",
   "metadata": {},
   "source": [
    "### Изучение общей информации"
   ]
  },
  {
   "cell_type": "code",
   "execution_count": 1,
   "metadata": {},
   "outputs": [
    {
     "name": "stdout",
     "output_type": "stream",
     "text": [
      "   children  days_employed  dob_years education  education_id  \\\n",
      "0         1   -8437.673028         42    высшее             0   \n",
      "1         1   -4024.803754         36   среднее             1   \n",
      "2         0   -5623.422610         33   Среднее             1   \n",
      "3         3   -4124.747207         32   среднее             1   \n",
      "4         0  340266.072047         53   среднее             1   \n",
      "\n",
      "      family_status  family_status_id gender income_type  debt   total_income  \\\n",
      "0   женат / замужем                 0      F   сотрудник     0  253875.639453   \n",
      "1   женат / замужем                 0      F   сотрудник     0  112080.014102   \n",
      "2   женат / замужем                 0      M   сотрудник     0  145885.952297   \n",
      "3   женат / замужем                 0      M   сотрудник     0  267628.550329   \n",
      "4  гражданский брак                 1      F   пенсионер     0  158616.077870   \n",
      "\n",
      "                      purpose  \n",
      "0               покупка жилья  \n",
      "1     приобретение автомобиля  \n",
      "2               покупка жилья  \n",
      "3  дополнительное образование  \n",
      "4             сыграть свадьбу  \n",
      "<class 'pandas.core.frame.DataFrame'>\n",
      "RangeIndex: 21525 entries, 0 to 21524\n",
      "Data columns (total 12 columns):\n",
      "children            21525 non-null int64\n",
      "days_employed       19351 non-null float64\n",
      "dob_years           21525 non-null int64\n",
      "education           21525 non-null object\n",
      "education_id        21525 non-null int64\n",
      "family_status       21525 non-null object\n",
      "family_status_id    21525 non-null int64\n",
      "gender              21525 non-null object\n",
      "income_type         21525 non-null object\n",
      "debt                21525 non-null int64\n",
      "total_income        19351 non-null float64\n",
      "purpose             21525 non-null object\n",
      "dtypes: float64(2), int64(5), object(5)\n",
      "memory usage: 2.0+ MB\n",
      "None\n"
     ]
    }
   ],
   "source": [
    "#вызов библиотеки Pandas\n",
    "import pandas as pd\n",
    "\n",
    "#исследование статистики платежеспособности клиентов\n",
    "statistics = pd.read_csv('/datasets/data.csv')\n",
    "\n",
    "#Вывод первых 10 строк таблицы\n",
    "print(statistics.head(5))\n",
    "\n",
    "#просмотр сводной информации о наборе данных в таблице\n",
    "print(statistics.info())"
   ]
  },
  {
   "cell_type": "code",
   "execution_count": 2,
   "metadata": {},
   "outputs": [
    {
     "data": {
      "text/html": [
       "<div>\n",
       "<style scoped>\n",
       "    .dataframe tbody tr th:only-of-type {\n",
       "        vertical-align: middle;\n",
       "    }\n",
       "\n",
       "    .dataframe tbody tr th {\n",
       "        vertical-align: top;\n",
       "    }\n",
       "\n",
       "    .dataframe thead th {\n",
       "        text-align: right;\n",
       "    }\n",
       "</style>\n",
       "<table border=\"1\" class=\"dataframe\">\n",
       "  <thead>\n",
       "    <tr style=\"text-align: right;\">\n",
       "      <th></th>\n",
       "      <th>children</th>\n",
       "      <th>days_employed</th>\n",
       "      <th>dob_years</th>\n",
       "      <th>education</th>\n",
       "      <th>education_id</th>\n",
       "      <th>family_status</th>\n",
       "      <th>family_status_id</th>\n",
       "      <th>gender</th>\n",
       "      <th>income_type</th>\n",
       "      <th>debt</th>\n",
       "      <th>total_income</th>\n",
       "      <th>purpose</th>\n",
       "    </tr>\n",
       "  </thead>\n",
       "  <tbody>\n",
       "    <tr>\n",
       "      <td>0</td>\n",
       "      <td>1</td>\n",
       "      <td>-8437.673028</td>\n",
       "      <td>42</td>\n",
       "      <td>высшее</td>\n",
       "      <td>0</td>\n",
       "      <td>женат / замужем</td>\n",
       "      <td>0</td>\n",
       "      <td>F</td>\n",
       "      <td>сотрудник</td>\n",
       "      <td>0</td>\n",
       "      <td>253875.639453</td>\n",
       "      <td>покупка жилья</td>\n",
       "    </tr>\n",
       "    <tr>\n",
       "      <td>1</td>\n",
       "      <td>1</td>\n",
       "      <td>-4024.803754</td>\n",
       "      <td>36</td>\n",
       "      <td>среднее</td>\n",
       "      <td>1</td>\n",
       "      <td>женат / замужем</td>\n",
       "      <td>0</td>\n",
       "      <td>F</td>\n",
       "      <td>сотрудник</td>\n",
       "      <td>0</td>\n",
       "      <td>112080.014102</td>\n",
       "      <td>приобретение автомобиля</td>\n",
       "    </tr>\n",
       "    <tr>\n",
       "      <td>2</td>\n",
       "      <td>0</td>\n",
       "      <td>-5623.422610</td>\n",
       "      <td>33</td>\n",
       "      <td>Среднее</td>\n",
       "      <td>1</td>\n",
       "      <td>женат / замужем</td>\n",
       "      <td>0</td>\n",
       "      <td>M</td>\n",
       "      <td>сотрудник</td>\n",
       "      <td>0</td>\n",
       "      <td>145885.952297</td>\n",
       "      <td>покупка жилья</td>\n",
       "    </tr>\n",
       "    <tr>\n",
       "      <td>3</td>\n",
       "      <td>3</td>\n",
       "      <td>-4124.747207</td>\n",
       "      <td>32</td>\n",
       "      <td>среднее</td>\n",
       "      <td>1</td>\n",
       "      <td>женат / замужем</td>\n",
       "      <td>0</td>\n",
       "      <td>M</td>\n",
       "      <td>сотрудник</td>\n",
       "      <td>0</td>\n",
       "      <td>267628.550329</td>\n",
       "      <td>дополнительное образование</td>\n",
       "    </tr>\n",
       "    <tr>\n",
       "      <td>4</td>\n",
       "      <td>0</td>\n",
       "      <td>340266.072047</td>\n",
       "      <td>53</td>\n",
       "      <td>среднее</td>\n",
       "      <td>1</td>\n",
       "      <td>гражданский брак</td>\n",
       "      <td>1</td>\n",
       "      <td>F</td>\n",
       "      <td>пенсионер</td>\n",
       "      <td>0</td>\n",
       "      <td>158616.077870</td>\n",
       "      <td>сыграть свадьбу</td>\n",
       "    </tr>\n",
       "  </tbody>\n",
       "</table>\n",
       "</div>"
      ],
      "text/plain": [
       "   children  days_employed  dob_years education  education_id  \\\n",
       "0         1   -8437.673028         42    высшее             0   \n",
       "1         1   -4024.803754         36   среднее             1   \n",
       "2         0   -5623.422610         33   Среднее             1   \n",
       "3         3   -4124.747207         32   среднее             1   \n",
       "4         0  340266.072047         53   среднее             1   \n",
       "\n",
       "      family_status  family_status_id gender income_type  debt   total_income  \\\n",
       "0   женат / замужем                 0      F   сотрудник     0  253875.639453   \n",
       "1   женат / замужем                 0      F   сотрудник     0  112080.014102   \n",
       "2   женат / замужем                 0      M   сотрудник     0  145885.952297   \n",
       "3   женат / замужем                 0      M   сотрудник     0  267628.550329   \n",
       "4  гражданский брак                 1      F   пенсионер     0  158616.077870   \n",
       "\n",
       "                      purpose  \n",
       "0               покупка жилья  \n",
       "1     приобретение автомобиля  \n",
       "2               покупка жилья  \n",
       "3  дополнительное образование  \n",
       "4             сыграть свадьбу  "
      ]
     },
     "execution_count": 2,
     "metadata": {},
     "output_type": "execute_result"
    }
   ],
   "source": [
    "statistics.head(5)"
   ]
  },
  {
   "cell_type": "markdown",
   "metadata": {},
   "source": [
    "### Вывод"
   ]
  },
  {
   "cell_type": "markdown",
   "metadata": {},
   "source": [
    "#### Анализ первых строк таблицы с данными выявил следующее:\n",
    "1) в колонке \"days_employed\" присутствуют значения с дробной частью. Необходимо заменить значние на целое число;\n",
    "2) в колонке \"education\" присутствуют значения, записанные разным регистром. Необходимо привести текстовые значения к единому стандарту (регистру) вывода.\n",
    "3) в колонке \"children\" присутствуют отрицательные значения. Необходимо заменить значение на положительное число.\n",
    "4) возможно в таблице присутствуют дублирующие значения. Необходимо сделать проверку на поиск дубликаторов по всем колонкам таблицы. В случае выявления дубликатов - удалить их.\n",
    "\n",
    "#### Анализ сводной информации о наборе данных в таблице выявил следующее:\n",
    "1) таблица содержит 12 колонок и 21525 строк;\n",
    "2) таблица содержит 5 колонок с с типом object (строка);\n",
    "3) таблица содержит 2 колонки с типом float64 (вещественные числа);\n",
    "4) таблица содержит 5 колонок с типом int64 (целые числа);\n",
    "5) колонки \"days_employed\" и \"total_income\" содержат пропущенные значения; \n",
    "  5.1. Колонка \"Трудовой стаж в днях\" содержит пропцщенные значения возможно просто из-за ошибки заполнения. Чтобы не потерять важные данные пропуски необходимо заменить нулями;\n",
    "  5.2. Колонка \"Ежемесячный доход\" содержит пропущенные значения возможно из-за того, что человек работает неофициально, без оформления документов. Необходимо проанализировать данные в разрезе типа занятости и заполнить пропуски медианой в разрезе каждого типа деятельности;\n",
    "  5.3. Необходимо определить тип пропущенных значений в колонке \"days_employed\", заполнить пропуски значением \"0\";\n",
    "  5.4. Для колонки \"total_income\" пропуски заменить значением медианы, вычисленной для каждого значения колонки \"Тип занятости\".\n",
    "6) колонка \"days_employed\" с типом данных float64 содержит данные о трудовом стаже в днях. Данный показатель свидетельствует, что значения должны быть целочисленными. Необходимо провести замену типа данных с типа float64 на тип int64;\n",
    "7) колонка \"purpose\" содержит сведения о целях получения кредита. Значения данной колонки могут содержать от 1 "
   ]
  },
  {
   "cell_type": "markdown",
   "metadata": {},
   "source": [
    "### Обработка пропусков"
   ]
  },
  {
   "cell_type": "code",
   "execution_count": 3,
   "metadata": {},
   "outputs": [
    {
     "name": "stdout",
     "output_type": "stream",
     "text": [
      "children            0\n",
      "days_employed       0\n",
      "dob_years           0\n",
      "education           0\n",
      "education_id        0\n",
      "family_status       0\n",
      "family_status_id    0\n",
      "gender              0\n",
      "income_type         0\n",
      "debt                0\n",
      "total_income        0\n",
      "purpose             0\n",
      "dtype: int64\n"
     ]
    }
   ],
   "source": [
    "# Безработные пенсионеры. Проставляем доход = 0 \n",
    "#statistics.loc[(statistics['days_employed'].isna()) & (statistics['income_type']=='пенсионер'),'total_income']=statistics[(statistics['days_employed'].isna()) & (statistics['income_type']=='пенсионер')]['income_type'].fillna(0)\n",
    "\n",
    "statistics[statistics['days_employed'].isna()]\n",
    "\n",
    "#Замена пропусков в колонке \"Трудовой стаж в днях\"\n",
    "statistics['days_employed'] = statistics['days_employed'].fillna(0)\n",
    "\n",
    "for row in set(statistics['income_type']):\n",
    "    #Расчет медианы колонки \"Доход в месяц\" по каждому типу занятости\n",
    "    median = statistics[statistics['income_type'] == row]['total_income'].median()\n",
    "    #Для каждого типа занятости, если найдено пропущенное значение в колонке \"Доход в месяц\" заменяем пропуск на значение медианы\n",
    "    statistics.loc[statistics['income_type'] == row , 'total_income'] = statistics[statistics['income_type'] == row]['total_income'].fillna(median)\n",
    "\n",
    "print(statistics.isnull().sum()) "
   ]
  },
  {
   "cell_type": "markdown",
   "metadata": {},
   "source": [
    "#### Вывод"
   ]
  },
  {
   "cell_type": "markdown",
   "metadata": {},
   "source": [
    "Колонки \"Трудовой стаж в днях\" и \"Доход в месяц\" содержали пропущенные числовые значения (NaN).\n",
    "При выводе таблицы, отфильтрованной по условию \"Трудовой стаж в днях\" содержит пропуски (\"NaN\"), была выявлена закономерность что у всех отфильтрованных строк в колонке \"Доход в месяц\" также вместо значения указан пропуск NaN. Вероятно, что все эти пропуски не случайно и относятся они людям с типом занятости \"Безработный\".\n",
    "\n",
    "Для того, чтобы не пропустить важные данные в таблице, вместо удаления строк:\n",
    "1) методом fillna() пропуски в колонке \"Трудовой стаж в днях\" были заменены на значение \"0\".\n",
    "2) в колонке \"Доход в месяц\" методом fillna() пропуски были заменены на значением медианы, вычисленной в разрезе каждого значения колонки \"Тип занятости\"\n",
    "\n",
    "После применения всех вышеуказанных методов, таблица statistics заполнена без пропусков."
   ]
  },
  {
   "cell_type": "markdown",
   "metadata": {},
   "source": [
    "### Замена типа данных"
   ]
  },
  {
   "cell_type": "code",
   "execution_count": 4,
   "metadata": {},
   "outputs": [
    {
     "name": "stdout",
     "output_type": "stream",
     "text": [
      "0         -8437\n",
      "1         -4024\n",
      "2         -5623\n",
      "3         -4124\n",
      "4        340266\n",
      "          ...  \n",
      "21520     -4529\n",
      "21521    343937\n",
      "21522     -2113\n",
      "21523     -3112\n",
      "21524     -1984\n",
      "Name: days_employed, Length: 21525, dtype: int64\n"
     ]
    }
   ],
   "source": [
    "#Замена типа данных в колонке \"Трудовой стаж в днях\"\n",
    "statistics['days_employed'] = statistics['days_employed'].astype('int')\n",
    "print(statistics['days_employed'])"
   ]
  },
  {
   "cell_type": "markdown",
   "metadata": {},
   "source": [
    "#### Вывод"
   ]
  },
  {
   "cell_type": "markdown",
   "metadata": {},
   "source": [
    "Тип колонки \"Трудовой стаж в днях\" до преобразования был - вещественное число, но трудовой стаж в днях относительно года не может быть дробным. После применения метода astype() (перевод типа в целое число), тип колонки \"Трудовой стаж в днях\" стал \"целое число\"."
   ]
  },
  {
   "cell_type": "markdown",
   "metadata": {},
   "source": [
    "### Обработка дубликатов"
   ]
  },
  {
   "cell_type": "code",
   "execution_count": 5,
   "metadata": {},
   "outputs": [
    {
     "name": "stdout",
     "output_type": "stream",
     "text": [
      "Количество дублирующих записей в таблице:  71\n",
      "Количество дублирующих записей в таблице:  0\n"
     ]
    }
   ],
   "source": [
    "#Приведение к нижнему регистру всех значений колонки \"Образование клиента\"\n",
    "statistics['education'] = statistics.education.str.lower()\n",
    "#Поиск дубликатов (полного соответствия значений) по всем колонкам таблицы\n",
    "print('Количество дублирующих записей в таблице: ', statistics.duplicated().sum())\n",
    "\n",
    "#Удаление дублирующих записей и  таблицы\n",
    "statistics = statistics.drop_duplicates().reset_index(drop=True)\n",
    "#Поиск дубликатов (полного соответствия значений) по всем колонкам таблицы\n",
    "print('Количество дублирующих записей в таблице: ', statistics.duplicated().sum())"
   ]
  },
  {
   "cell_type": "markdown",
   "metadata": {},
   "source": [
    "#### Вывод"
   ]
  },
  {
   "cell_type": "markdown",
   "metadata": {},
   "source": [
    "В колонке \"Образование клиента\" все значения приведены к одному виду - нижний регистр букв.\n",
    "В таблице statistics с помощью методов duplicated() и sum() найдено 71 полное совпадение (по всем колонкам таблицы).\n",
    "С помощью метода drop_duplicates() из таблицы statistics удалены строки с полным совпадением данных. Вместе с повторяющимися строками удалены их индексы с помощью метода reset_index().\n",
    "\n",
    "Таблица statistics содержит только уникальные строки по всем колонкам таблицы.\n"
   ]
  },
  {
   "cell_type": "markdown",
   "metadata": {},
   "source": [
    "### Лемматизация"
   ]
  },
  {
   "cell_type": "code",
   "execution_count": 6,
   "metadata": {},
   "outputs": [
    {
     "data": {
      "text/plain": [
       "Counter({'недвижимость': 10204,\n",
       "         'автомобиль': 4306,\n",
       "         'образование': 4013,\n",
       "         'свадьба': 2324,\n",
       "         'ремонт': 607})"
      ]
     },
     "execution_count": 6,
     "metadata": {},
     "output_type": "execute_result"
    }
   ],
   "source": [
    "# Импорт библитеки pymystem3 с лемматизацией на русском языке:\n",
    "from pymystem3 import Mystem\n",
    "m = Mystem()\n",
    "from collections import Counter\n",
    "\n",
    "#Лемматизация значений колонки \"Цель получения кредита\"\n",
    "def lemma_purpose(text):\n",
    "    purposes = ['свадьба', 'недвижимость', 'автомобиль', 'образование', 'ремонт']\n",
    "    lemmas = m.lemmatize(text)\n",
    "    for lemma in lemmas:\n",
    "        if lemma in ['жилье','строительство']:\n",
    "            return 'недвижимость'\n",
    "        if lemma in purposes:\n",
    "            return lemma     \n",
    "        \n",
    "#Подсчет уникальных значений по каждой группе\n",
    "statistics['purpose_lemma_group']=statistics['purpose'].apply(lemma_purpose)\n",
    "Counter(statistics['purpose_lemma_group'])    "
   ]
  },
  {
   "cell_type": "markdown",
   "metadata": {},
   "source": [
    "#### Вывод"
   ]
  },
  {
   "cell_type": "markdown",
   "metadata": {},
   "source": [
    "Колонка \"Цель получения\" содержит следующий перечень основных лемм-целей получения кредита (значения указаны в порядке убывания количества повторений):\n",
    "1. недвижимость - 10204 (значения недвижимость,жилье и строительство объединены в 1 значение);\n",
    "2. автомобиль - 4306;\n",
    "3. образование - 4013;\n",
    "4. свадьба - 2324;\n",
    "5. ремонт - 607."
   ]
  },
  {
   "cell_type": "markdown",
   "metadata": {},
   "source": [
    "### Категоризация данных"
   ]
  },
  {
   "cell_type": "code",
   "execution_count": 7,
   "metadata": {},
   "outputs": [
    {
     "name": "stdout",
     "output_type": "stream",
     "text": [
      "Количество значений по типу занятости:\n",
      "сотрудник          10959\n",
      "компаньон           5016\n",
      "пенсионер           3938\n",
      "госслужащий         1434\n",
      "дети                 101\n",
      "предприниматель        2\n",
      "безработный            2\n",
      "в декрете              1\n",
      "студент                1\n",
      "Name: age_group, dtype: int64\n",
      "Количество значений по группам дохода в месяц:\n",
      "средний доход    10726\n",
      "низкий доход      5364\n",
      "высокий доход     5364\n",
      "Name: income_group, dtype: int64\n",
      "Количество дублирующих записей в таблице:  0\n",
      "Количество дублирующих записей в таблице:  0\n"
     ]
    }
   ],
   "source": [
    "#Выделение категории \"Тип занятости\".  Подсчет количества в каждой группе.\n",
    "def age_group_unemployed(row):\n",
    "        # группа 'дети' при значении age < 18 лет\n",
    "        # группа 'взрослые' при значениии age более 18 и менее 64, включая 64\n",
    "        # группа 'пенсионеры' во всех остальных случаях\n",
    "        age = row['dob_years']\n",
    "        income_type = row['income_type']        \n",
    "        if age < 18:\n",
    "               return 'дети'\n",
    "        if age <= 64:\n",
    "            return income_type\n",
    "        return 'пенсионер'\n",
    "\n",
    "\n",
    "#Выделение категории \"Доход в месяц\". Подсчет количества в каждой группе.\n",
    "statistics['age_group'] = statistics.apply(age_group_unemployed, axis=1)\n",
    "print('Количество значений по типу занятости:')\n",
    "print(statistics['age_group'].value_counts())\n",
    "\n",
    "#Определяем границы группы \"средний доход\"\n",
    "mean_min_income = statistics['total_income'].quantile(q=0.25)\n",
    "mean_max_income = statistics['total_income'].quantile(q=0.75)\n",
    "def income_group_unemployed(income):\n",
    "        if income <= mean_min_income:\n",
    "            return 'низкий доход'\n",
    "        if (mean_min_income < income) & (income <= mean_max_income) :\n",
    "            return 'средний доход'\n",
    "        return 'высокий доход'\n",
    "\n",
    "statistics['income_group'] = statistics['total_income'].apply(income_group_unemployed)\n",
    "print('Количество значений по группам дохода в месяц:')\n",
    "print(statistics['income_group'].value_counts())\n",
    "\n",
    "#Создаем новый DataFrame\n",
    "df_new = statistics.pivot_table(index=['age_group','income_group','purpose_lemma_group'],\n",
    "                       columns='debt',\n",
    "                       values='total_income',\n",
    "                       aggfunc=['mean','median','count']).stack().reset_index()\n",
    "#Ищем дубликаты\n",
    "print('Количество дублирующих записей в таблице: ', df_new.duplicated().sum())\n",
    "#Удаление дублирующих записей \n",
    "df_new = df_new.drop_duplicates().reset_index(drop=True)\n",
    "print('Количество дублирующих записей в таблице: ', df_new.duplicated().sum())\n"
   ]
  },
  {
   "cell_type": "markdown",
   "metadata": {},
   "source": [
    "#### Вывод"
   ]
  },
  {
   "cell_type": "markdown",
   "metadata": {},
   "source": [
    "Можно выделить 5 значений (с наибольшим количеством) категории типа занятости:\n",
    "1. сотрудник - 10959;\n",
    "2. компаньон - 5016;\n",
    "3. пенсионер - 3938;\n",
    "4. госслужащий - 1434;\n",
    "5. дети - 101.\n",
    "\n",
    "Значения колонки \"Доход в месяц\" разделены на 3 группы значений. \n",
    "1. средний доход - 10726;\n",
    "2. низкий доход - 5364;\n",
    "3. высокий доход - 5364."
   ]
  },
  {
   "cell_type": "code",
   "execution_count": 9,
   "metadata": {},
   "outputs": [
    {
     "name": "stdout",
     "output_type": "stream",
     "text": [
      "Доля клиентов с детьми, имеющих задолженность по возврату кредита в срок: 9.25\n",
      "Доля клиентов без детей, имеющих задолженность по возврату кредита в срок: 7.53\n",
      "Доля клиентов с детьми, вернувших кредит в срок: 90.75\n",
      "Доля клиентов без детей, вернувших кредит в срок: 92.47\n"
     ]
    }
   ],
   "source": [
    "# Колонка \"Количество детей в семье\" содержит некорректное значение \"-1\". \n",
    "# Необходимо заменить значение на \"0\"\n",
    "statistics['children'] = statistics['children'].replace(-1,0)\n",
    "\n",
    "# Определяем общее количество клиентов с детьми\n",
    "total_with_childs = statistics[statistics['children']>0]['children'].count()\n",
    "# Определяем обзее количество клиентов без детей \n",
    "total_not_childs = statistics[statistics['children']==0]['children'].count()\n",
    "\n",
    "#какой процент от всех клиентов с детьми (без детей) имел задолженность по возврату кредита\n",
    "print('Доля клиентов с детьми, имеющих задолженность по возврату кредита в срок: {:.2f}'.format(statistics[(statistics['debt']==1) & (statistics['children']>0)]['children'].count()*100/total_with_childs))\n",
    "print('Доля клиентов без детей, имеющих задолженность по возврату кредита в срок: {:.2f}'.format(statistics[(statistics['debt']==1) & (statistics['children']==0)]['children'].count()*100/total_not_childs))\n",
    "\n",
    "#какой процент от всех клиентов с детьми (без детей) вернули кредит в срок\n",
    "print('Доля клиентов с детьми, вернувших кредит в срок: {:.2f}'.format(statistics[(statistics['debt']==0) & (statistics['children']>0)]['children'].count()*100/total_with_childs))\n",
    "print('Доля клиентов без детей, вернувших кредит в срок: {:.2f}'.format(statistics[(statistics['debt']==0) & (statistics['children']==0)]['children'].count()*100/total_not_childs))"
   ]
  },
  {
   "cell_type": "markdown",
   "metadata": {},
   "source": [
    "#### Вывод"
   ]
  },
  {
   "cell_type": "markdown",
   "metadata": {},
   "source": [
    "Клиенты без детей имеют больший процент случаев возврата кредитов в срок, нежели чем клиенты с детьми"
   ]
  },
  {
   "cell_type": "code",
   "execution_count": 10,
   "metadata": {},
   "outputs": [
    {
     "name": "stdout",
     "output_type": "stream",
     "text": [
      "family_status\n",
      "в разводе                7.112971\n",
      "вдовец / вдова           6.569343\n",
      "гражданский брак         9.347145\n",
      "женат / замужем          7.545182\n",
      "не женат / не замужем    9.750890\n",
      "Name: family_status, dtype: float64\n"
     ]
    }
   ],
   "source": [
    "#Приведение к нижнему регистру всех значений колонки \"Семейное положение\"\n",
    "statistics['family_status'] = statistics.family_status.str.lower()\n",
    "\n",
    "#какой процент клиентов всех типов семенойго положения допустили задолженность по возврату кредита\n",
    "print(statistics[statistics['debt']==1].groupby('family_status')['family_status'].count()*100/statistics.groupby('family_status')['family_status'].count())"
   ]
  },
  {
   "cell_type": "markdown",
   "metadata": {},
   "source": [
    "#### Вывод"
   ]
  },
  {
   "cell_type": "markdown",
   "metadata": {},
   "source": [
    "Наибольшие проценты случаев задолженности по возврату кредита допустили люди с семейным положением \"не женат / не замужем\" - 9,75% и \"гражданский брак\" - 9,35%"
   ]
  },
  {
   "cell_type": "code",
   "execution_count": 11,
   "metadata": {},
   "outputs": [
    {
     "name": "stdout",
     "output_type": "stream",
     "text": [
      "income_group\n",
      "высокий доход    92.859806\n",
      "низкий доход     92.039523\n",
      "средний доход    91.320157\n",
      "Name: income_group, dtype: float64\n"
     ]
    }
   ],
   "source": [
    "# какой процент клиентов в разрезе групп дохода вернули кредит в срок\n",
    "non_debt = statistics[statistics['debt']==0]\n",
    "print(non_debt.groupby('income_group')['income_group'].count()*100/statistics.groupby('income_group')['income_group'].count())"
   ]
  },
  {
   "cell_type": "markdown",
   "metadata": {},
   "source": [
    "#### Вывод"
   ]
  },
  {
   "cell_type": "markdown",
   "metadata": {},
   "source": [
    "Наибольший процент случаев возврата кредита в срок допустили люди из группы с высоким доходом - 95,24%"
   ]
  },
  {
   "cell_type": "code",
   "execution_count": 12,
   "metadata": {},
   "outputs": [
    {
     "data": {
      "text/plain": [
       "purpose_lemma_group\n",
       "автомобиль      90.640966\n",
       "недвижимость    92.679341\n",
       "образование     90.779965\n",
       "ремонт          94.233937\n",
       "свадьба         91.996558\n",
       "Name: count, dtype: float64"
      ]
     },
     "execution_count": 12,
     "metadata": {},
     "output_type": "execute_result"
    }
   ],
   "source": [
    "# отображение цели кредита его погашения\n",
    "statistics_group = statistics.pivot_table(index='purpose_lemma_group',\n",
    "                       columns='debt',\n",
    "                       values='age_group',\n",
    "                       aggfunc=['count']).stack().reset_index()\n",
    "# какой процент целей влияет на возврат кредита в срок\n",
    "statistics_group[statistics_group['debt']==0].groupby('purpose_lemma_group')['count'].sum()*100/statistics_group.groupby('purpose_lemma_group')['count'].sum()"
   ]
  },
  {
   "cell_type": "markdown",
   "metadata": {},
   "source": [
    "#### Вывод"
   ]
  },
  {
   "cell_type": "markdown",
   "metadata": {},
   "source": [
    "Максимальный процент возвратов кредитов в срок отнесен на цель \"ремонт\" - 94,23%"
   ]
  },
  {
   "cell_type": "markdown",
   "metadata": {},
   "source": [
    "### Общий вывод"
   ]
  },
  {
   "cell_type": "markdown",
   "metadata": {},
   "source": [
    "1. Количество детей не влияет на возврат кредитов в срок, но клиенты вообще без детей выплачивают кредиты в срок чаще чем клиенты с детьми.\n",
    "2. Люди с высоким доходом чаще остальных выплачивают кредиты в срок\n",
    "3. Люди с семейным статусом \"вдовец / вдова\" реже всех допускают просрочки по возврату кредитов в срок.\n",
    "4. Кредиты с целью \"ремонт\" лучше всего возвращаются в срок\n",
    "\n",
    "#### Общий вывод:\n",
    "Одинокие люди без детей и с высоким доходом луше всех выплачивают кредиты в срок взятые с целью \"ремонт\"."
   ]
  }
 ],
 "metadata": {
  "kernelspec": {
   "display_name": "Python 3",
   "language": "python",
   "name": "python3"
  },
  "language_info": {
   "codemirror_mode": {
    "name": "ipython",
    "version": 3
   },
   "file_extension": ".py",
   "mimetype": "text/x-python",
   "name": "python",
   "nbconvert_exporter": "python",
   "pygments_lexer": "ipython3",
   "version": "3.7.6"
  }
 },
 "nbformat": 4,
 "nbformat_minor": 2
}
