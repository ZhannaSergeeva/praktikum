{
 "cells": [
  {
   "cell_type": "markdown",
   "metadata": {},
   "source": [
    "# 1. Загрузка и подготовка данных"
   ]
  },
  {
   "cell_type": "code",
   "execution_count": 1,
   "metadata": {},
   "outputs": [],
   "source": [
    "#вызов библиотеки Pandas\n",
    "import pandas as pd\n",
    "# импорт структуры для стандартизации данных\n",
    "from sklearn.preprocessing import StandardScaler"
   ]
  },
  {
   "cell_type": "code",
   "execution_count": 2,
   "metadata": {},
   "outputs": [],
   "source": [
    "# исследование данных 1 региона\n",
    "data_region1 = pd.read_csv('/datasets/geo_data_0.csv')\n",
    "# исследование данных 2 региона\n",
    "data_region2 = pd.read_csv('/datasets/geo_data_1.csv')\n",
    "# исследование данных 3 региона\n",
    "data_region3 = pd.read_csv('/datasets/geo_data_2.csv')"
   ]
  },
  {
   "cell_type": "code",
   "execution_count": 3,
   "metadata": {},
   "outputs": [
    {
     "data": {
      "text/html": [
       "<div>\n",
       "<style scoped>\n",
       "    .dataframe tbody tr th:only-of-type {\n",
       "        vertical-align: middle;\n",
       "    }\n",
       "\n",
       "    .dataframe tbody tr th {\n",
       "        vertical-align: top;\n",
       "    }\n",
       "\n",
       "    .dataframe thead th {\n",
       "        text-align: right;\n",
       "    }\n",
       "</style>\n",
       "<table border=\"1\" class=\"dataframe\">\n",
       "  <thead>\n",
       "    <tr style=\"text-align: right;\">\n",
       "      <th></th>\n",
       "      <th>id</th>\n",
       "      <th>f0</th>\n",
       "      <th>f1</th>\n",
       "      <th>f2</th>\n",
       "      <th>product</th>\n",
       "    </tr>\n",
       "  </thead>\n",
       "  <tbody>\n",
       "    <tr>\n",
       "      <td>0</td>\n",
       "      <td>txEyH</td>\n",
       "      <td>0.705745</td>\n",
       "      <td>-0.497823</td>\n",
       "      <td>1.221170</td>\n",
       "      <td>105.280062</td>\n",
       "    </tr>\n",
       "    <tr>\n",
       "      <td>1</td>\n",
       "      <td>2acmU</td>\n",
       "      <td>1.334711</td>\n",
       "      <td>-0.340164</td>\n",
       "      <td>4.365080</td>\n",
       "      <td>73.037750</td>\n",
       "    </tr>\n",
       "    <tr>\n",
       "      <td>2</td>\n",
       "      <td>409Wp</td>\n",
       "      <td>1.022732</td>\n",
       "      <td>0.151990</td>\n",
       "      <td>1.419926</td>\n",
       "      <td>85.265647</td>\n",
       "    </tr>\n",
       "    <tr>\n",
       "      <td>3</td>\n",
       "      <td>iJLyR</td>\n",
       "      <td>-0.032172</td>\n",
       "      <td>0.139033</td>\n",
       "      <td>2.978566</td>\n",
       "      <td>168.620776</td>\n",
       "    </tr>\n",
       "    <tr>\n",
       "      <td>4</td>\n",
       "      <td>Xdl7t</td>\n",
       "      <td>1.988431</td>\n",
       "      <td>0.155413</td>\n",
       "      <td>4.751769</td>\n",
       "      <td>154.036647</td>\n",
       "    </tr>\n",
       "  </tbody>\n",
       "</table>\n",
       "</div>"
      ],
      "text/plain": [
       "      id        f0        f1        f2     product\n",
       "0  txEyH  0.705745 -0.497823  1.221170  105.280062\n",
       "1  2acmU  1.334711 -0.340164  4.365080   73.037750\n",
       "2  409Wp  1.022732  0.151990  1.419926   85.265647\n",
       "3  iJLyR -0.032172  0.139033  2.978566  168.620776\n",
       "4  Xdl7t  1.988431  0.155413  4.751769  154.036647"
      ]
     },
     "execution_count": 3,
     "metadata": {},
     "output_type": "execute_result"
    }
   ],
   "source": [
    "# Просмотр данных таблицы 1 региона\n",
    "data_region1.head(5)"
   ]
  },
  {
   "cell_type": "code",
   "execution_count": 4,
   "metadata": {},
   "outputs": [
    {
     "data": {
      "text/html": [
       "<div>\n",
       "<style scoped>\n",
       "    .dataframe tbody tr th:only-of-type {\n",
       "        vertical-align: middle;\n",
       "    }\n",
       "\n",
       "    .dataframe tbody tr th {\n",
       "        vertical-align: top;\n",
       "    }\n",
       "\n",
       "    .dataframe thead th {\n",
       "        text-align: right;\n",
       "    }\n",
       "</style>\n",
       "<table border=\"1\" class=\"dataframe\">\n",
       "  <thead>\n",
       "    <tr style=\"text-align: right;\">\n",
       "      <th></th>\n",
       "      <th>id</th>\n",
       "      <th>f0</th>\n",
       "      <th>f1</th>\n",
       "      <th>f2</th>\n",
       "      <th>product</th>\n",
       "    </tr>\n",
       "  </thead>\n",
       "  <tbody>\n",
       "    <tr>\n",
       "      <td>0</td>\n",
       "      <td>kBEdx</td>\n",
       "      <td>-15.001348</td>\n",
       "      <td>-8.276000</td>\n",
       "      <td>-0.005876</td>\n",
       "      <td>3.179103</td>\n",
       "    </tr>\n",
       "    <tr>\n",
       "      <td>1</td>\n",
       "      <td>62mP7</td>\n",
       "      <td>14.272088</td>\n",
       "      <td>-3.475083</td>\n",
       "      <td>0.999183</td>\n",
       "      <td>26.953261</td>\n",
       "    </tr>\n",
       "    <tr>\n",
       "      <td>2</td>\n",
       "      <td>vyE1P</td>\n",
       "      <td>6.263187</td>\n",
       "      <td>-5.948386</td>\n",
       "      <td>5.001160</td>\n",
       "      <td>134.766305</td>\n",
       "    </tr>\n",
       "    <tr>\n",
       "      <td>3</td>\n",
       "      <td>KcrkZ</td>\n",
       "      <td>-13.081196</td>\n",
       "      <td>-11.506057</td>\n",
       "      <td>4.999415</td>\n",
       "      <td>137.945408</td>\n",
       "    </tr>\n",
       "    <tr>\n",
       "      <td>4</td>\n",
       "      <td>AHL4O</td>\n",
       "      <td>12.702195</td>\n",
       "      <td>-8.147433</td>\n",
       "      <td>5.004363</td>\n",
       "      <td>134.766305</td>\n",
       "    </tr>\n",
       "  </tbody>\n",
       "</table>\n",
       "</div>"
      ],
      "text/plain": [
       "      id         f0         f1        f2     product\n",
       "0  kBEdx -15.001348  -8.276000 -0.005876    3.179103\n",
       "1  62mP7  14.272088  -3.475083  0.999183   26.953261\n",
       "2  vyE1P   6.263187  -5.948386  5.001160  134.766305\n",
       "3  KcrkZ -13.081196 -11.506057  4.999415  137.945408\n",
       "4  AHL4O  12.702195  -8.147433  5.004363  134.766305"
      ]
     },
     "execution_count": 4,
     "metadata": {},
     "output_type": "execute_result"
    }
   ],
   "source": [
    "# Просмотр данных таблицы 2 региона\n",
    "data_region2.head(5)"
   ]
  },
  {
   "cell_type": "code",
   "execution_count": 5,
   "metadata": {},
   "outputs": [
    {
     "data": {
      "text/html": [
       "<div>\n",
       "<style scoped>\n",
       "    .dataframe tbody tr th:only-of-type {\n",
       "        vertical-align: middle;\n",
       "    }\n",
       "\n",
       "    .dataframe tbody tr th {\n",
       "        vertical-align: top;\n",
       "    }\n",
       "\n",
       "    .dataframe thead th {\n",
       "        text-align: right;\n",
       "    }\n",
       "</style>\n",
       "<table border=\"1\" class=\"dataframe\">\n",
       "  <thead>\n",
       "    <tr style=\"text-align: right;\">\n",
       "      <th></th>\n",
       "      <th>id</th>\n",
       "      <th>f0</th>\n",
       "      <th>f1</th>\n",
       "      <th>f2</th>\n",
       "      <th>product</th>\n",
       "    </tr>\n",
       "  </thead>\n",
       "  <tbody>\n",
       "    <tr>\n",
       "      <td>0</td>\n",
       "      <td>fwXo0</td>\n",
       "      <td>-1.146987</td>\n",
       "      <td>0.963328</td>\n",
       "      <td>-0.828965</td>\n",
       "      <td>27.758673</td>\n",
       "    </tr>\n",
       "    <tr>\n",
       "      <td>1</td>\n",
       "      <td>WJtFt</td>\n",
       "      <td>0.262778</td>\n",
       "      <td>0.269839</td>\n",
       "      <td>-2.530187</td>\n",
       "      <td>56.069697</td>\n",
       "    </tr>\n",
       "    <tr>\n",
       "      <td>2</td>\n",
       "      <td>ovLUW</td>\n",
       "      <td>0.194587</td>\n",
       "      <td>0.289035</td>\n",
       "      <td>-5.586433</td>\n",
       "      <td>62.871910</td>\n",
       "    </tr>\n",
       "    <tr>\n",
       "      <td>3</td>\n",
       "      <td>q6cA6</td>\n",
       "      <td>2.236060</td>\n",
       "      <td>-0.553760</td>\n",
       "      <td>0.930038</td>\n",
       "      <td>114.572842</td>\n",
       "    </tr>\n",
       "    <tr>\n",
       "      <td>4</td>\n",
       "      <td>WPMUX</td>\n",
       "      <td>-0.515993</td>\n",
       "      <td>1.716266</td>\n",
       "      <td>5.899011</td>\n",
       "      <td>149.600746</td>\n",
       "    </tr>\n",
       "  </tbody>\n",
       "</table>\n",
       "</div>"
      ],
      "text/plain": [
       "      id        f0        f1        f2     product\n",
       "0  fwXo0 -1.146987  0.963328 -0.828965   27.758673\n",
       "1  WJtFt  0.262778  0.269839 -2.530187   56.069697\n",
       "2  ovLUW  0.194587  0.289035 -5.586433   62.871910\n",
       "3  q6cA6  2.236060 -0.553760  0.930038  114.572842\n",
       "4  WPMUX -0.515993  1.716266  5.899011  149.600746"
      ]
     },
     "execution_count": 5,
     "metadata": {},
     "output_type": "execute_result"
    }
   ],
   "source": [
    "# Просмотр данных таблицы 3 региона\n",
    "data_region3.head(5)"
   ]
  },
  {
   "cell_type": "code",
   "execution_count": 6,
   "metadata": {},
   "outputs": [
    {
     "name": "stdout",
     "output_type": "stream",
     "text": [
      "<class 'pandas.core.frame.DataFrame'>\n",
      "RangeIndex: 100000 entries, 0 to 99999\n",
      "Data columns (total 5 columns):\n",
      "id         100000 non-null object\n",
      "f0         100000 non-null float64\n",
      "f1         100000 non-null float64\n",
      "f2         100000 non-null float64\n",
      "product    100000 non-null float64\n",
      "dtypes: float64(4), object(1)\n",
      "memory usage: 3.8+ MB\n",
      "<class 'pandas.core.frame.DataFrame'>\n",
      "RangeIndex: 100000 entries, 0 to 99999\n",
      "Data columns (total 5 columns):\n",
      "id         100000 non-null object\n",
      "f0         100000 non-null float64\n",
      "f1         100000 non-null float64\n",
      "f2         100000 non-null float64\n",
      "product    100000 non-null float64\n",
      "dtypes: float64(4), object(1)\n",
      "memory usage: 3.8+ MB\n",
      "<class 'pandas.core.frame.DataFrame'>\n",
      "RangeIndex: 100000 entries, 0 to 99999\n",
      "Data columns (total 5 columns):\n",
      "id         100000 non-null object\n",
      "f0         100000 non-null float64\n",
      "f1         100000 non-null float64\n",
      "f2         100000 non-null float64\n",
      "product    100000 non-null float64\n",
      "dtypes: float64(4), object(1)\n",
      "memory usage: 3.8+ MB\n"
     ]
    }
   ],
   "source": [
    "# Исследование общей информации таблиц 3 регионов\n",
    "data_region1.info()\n",
    "data_region2.info()\n",
    "data_region3.info()"
   ]
  },
  {
   "cell_type": "code",
   "execution_count": 7,
   "metadata": {},
   "outputs": [
    {
     "name": "stdout",
     "output_type": "stream",
     "text": [
      "id         0\n",
      "f0         0\n",
      "f1         0\n",
      "f2         0\n",
      "product    0\n",
      "dtype: int64\n",
      "id         0\n",
      "f0         0\n",
      "f1         0\n",
      "f2         0\n",
      "product    0\n",
      "dtype: int64\n",
      "id         0\n",
      "f0         0\n",
      "f1         0\n",
      "f2         0\n",
      "product    0\n",
      "dtype: int64\n"
     ]
    }
   ],
   "source": [
    "# проверка на количество пропусков в таблицах \n",
    "print(data_region1.isnull().sum())\n",
    "print(data_region2.isnull().sum())\n",
    "print(data_region3.isnull().sum())"
   ]
  },
  {
   "cell_type": "code",
   "execution_count": 8,
   "metadata": {},
   "outputs": [
    {
     "name": "stdout",
     "output_type": "stream",
     "text": [
      "0\n",
      "0\n",
      "0\n"
     ]
    }
   ],
   "source": [
    "# проверка на количество дублей в таблицах \n",
    "print(data_region1.duplicated().sum())\n",
    "print(data_region2.duplicated().sum())\n",
    "print(data_region3.duplicated().sum())"
   ]
  },
  {
   "cell_type": "code",
   "execution_count": 9,
   "metadata": {},
   "outputs": [
    {
     "name": "stdout",
     "output_type": "stream",
     "text": [
      "      id        f0        f1        f2     product\n",
      "0  txEyH  0.406298 -0.286488 -0.366773  105.280062\n",
      "1  2acmU  0.769435 -0.195378  0.538360   73.037750\n",
      "2  409Wp  0.589312  0.089037 -0.309551   85.265647\n",
      "3  iJLyR -0.019742  0.081549  0.139182  168.620776\n",
      "4  Xdl7t  1.146863  0.091015  0.649687  154.036647\n",
      "      id        f0        f1        f2     product\n",
      "0  kBEdx -8.662273 -4.781484 -0.720039    3.179103\n",
      "1  62mP7  8.238895 -2.007042 -0.430683   26.953261\n",
      "2  vyE1P  3.614915 -3.436359  0.721487  134.766305\n",
      "3  KcrkZ -7.553664 -6.648128  0.720985  137.945408\n",
      "4  AHL4O  7.332509 -4.707185  0.722409  134.766305\n",
      "      id        f0        f1        f2     product\n",
      "0  fwXo0 -0.663387  0.557908 -0.957007   27.758673\n",
      "1  WJtFt  0.150548  0.157142 -1.446788   56.069697\n",
      "2  ovLUW  0.111178  0.168235 -2.326682   62.871910\n",
      "3  q6cA6  1.289833 -0.318815 -0.450590  114.572842\n",
      "4  WPMUX -0.299079  0.993029  0.979978  149.600746\n"
     ]
    }
   ],
   "source": [
    "# масштабирование данных всех 3 таблиц\n",
    "numeric = ['f0','f1','f2']\n",
    "\n",
    "scaler = StandardScaler()\n",
    "scaler.fit(data_region1[numeric])\n",
    "scaler.fit(data_region2[numeric])\n",
    "scaler.fit(data_region3[numeric])\n",
    "\n",
    "data_region1[numeric] = scaler.transform(data_region1[numeric])\n",
    "data_region2[numeric] = scaler.transform(data_region2[numeric])\n",
    "data_region3[numeric] = scaler.transform(data_region3[numeric])\n",
    "\n",
    "print(data_region1.head())\n",
    "print(data_region2.head())\n",
    "print(data_region3.head())"
   ]
  },
  {
   "cell_type": "markdown",
   "metadata": {},
   "source": [
    "#### Вывод\n",
    "1. Каждая таблица из таблиц 3 регионов состоит из:\n",
    "    + 100000 строк-объектов;\n",
    "    + 5 колонок-признаков.\n",
    "2. Во всех 3 таблицах пропуски отсутствуют.\n",
    "3. Во всех 3 таблицах дублирующие записи отсутствуют.\n",
    "4. Во всех 3 таблицах числовые данные масштабированы. \n",
    "5. Во всех 3 таблицах целевым признаком является - product \"Объем запасов в скважине (тыс.барралей)\" \n",
    "6. Во всех трех таблицах признаками являются:\n",
    "    + id \"уникальный идентификатор скважины\";\n",
    "    + f0, f1, f2 - три признака точек.\n",
    "7. Целевой признак количественный. Решаем задачу регрессии.    "
   ]
  },
  {
   "cell_type": "markdown",
   "metadata": {},
   "source": [
    "# 2. Обучение и проверка модели"
   ]
  },
  {
   "cell_type": "code",
   "execution_count": 10,
   "metadata": {},
   "outputs": [],
   "source": [
    "# вызов функции деления выборки\n",
    "from sklearn.model_selection import train_test_split\n",
    "# импорт функции оценки правильности\n",
    "from sklearn.metrics import accuracy_score\n",
    "# импорт библиотеки numpy\n",
    "import numpy as np\n",
    "# импорт функции расчета MSE\n",
    "from sklearn.metrics import mean_squared_error"
   ]
  },
  {
   "cell_type": "code",
   "execution_count": 11,
   "metadata": {},
   "outputs": [],
   "source": [
    "# разделим каждые 3 таблицы на отдельные выборки: обучающая и валидационная\n",
    "Reg1_Train, Reg1_Valid = train_test_split(data_region1, test_size=0.25, random_state=42)\n",
    "Reg2_Train, Reg2_Valid = train_test_split(data_region2, test_size=0.25, random_state=42)\n",
    "Reg3_Train, Reg3_Valid = train_test_split(data_region3, test_size=0.25, random_state=42)"
   ]
  },
  {
   "cell_type": "code",
   "execution_count": 12,
   "metadata": {},
   "outputs": [
    {
     "name": "stdout",
     "output_type": "stream",
     "text": [
      "Обучающая выборка  1  региона :  75.0\n",
      "Валидационная выборка  1  региона:  25.0\n",
      "Обучающая выборка  2  региона :  75.0\n",
      "Валидационная выборка  2  региона:  25.0\n",
      "Обучающая выборка  3  региона :  75.0\n",
      "Валидационная выборка  3  региона:  25.0\n"
     ]
    }
   ],
   "source": [
    "# проверка размерности тренировочной и валидационной выборок всех 3 регионов\n",
    "def sizereg(reg,data,train,valid):\n",
    "    size_data = len(data.index)\n",
    "    size_train = len(train.index)\n",
    "    size_valid = len(valid.index)\n",
    "    print(\"Обучающая выборка \",reg,\" региона : \", size_train*100/size_data)\n",
    "    print(\"Валидационная выборка \",reg,\" региона: \", size_valid*100/size_data)\n",
    "    return \n",
    "sizereg(1,data_region1,Reg1_Train,Reg1_Valid)\n",
    "sizereg(2,data_region2,Reg2_Train,Reg2_Valid)\n",
    "sizereg(3,data_region3,Reg3_Train,Reg3_Valid)"
   ]
  },
  {
   "cell_type": "code",
   "execution_count": 13,
   "metadata": {},
   "outputs": [],
   "source": [
    "# Признаки обучающих выборок 3 регионов\n",
    "features_Train_Reg1 = Reg1_Train.drop(['product','id'], axis = 1)\n",
    "features_Train_Reg2 = Reg2_Train.drop(['product','id'], axis = 1)\n",
    "features_Train_Reg3 = Reg3_Train.drop(['product','id'], axis = 1)"
   ]
  },
  {
   "cell_type": "code",
   "execution_count": 14,
   "metadata": {},
   "outputs": [],
   "source": [
    "# Целевый признак обучающих выборок 3 регионов\n",
    "target_Train_Reg1 = Reg1_Train['product']\n",
    "target_Train_Reg2 = Reg2_Train['product']\n",
    "target_Train_Reg3 = Reg3_Train['product']"
   ]
  },
  {
   "cell_type": "code",
   "execution_count": 15,
   "metadata": {},
   "outputs": [
    {
     "name": "stdout",
     "output_type": "stream",
     "text": [
      "(75000, 3)\n",
      "(75000, 3)\n",
      "(75000, 3)\n"
     ]
    }
   ],
   "source": [
    "# Вывод на печать размеров признаков обучающих выборках 3 регионов\n",
    "print(features_Train_Reg1.shape)\n",
    "print(features_Train_Reg2.shape)\n",
    "print(features_Train_Reg3.shape)"
   ]
  },
  {
   "cell_type": "code",
   "execution_count": 16,
   "metadata": {},
   "outputs": [
    {
     "name": "stdout",
     "output_type": "stream",
     "text": [
      "(75000,)\n",
      "(75000,)\n",
      "(75000,)\n"
     ]
    }
   ],
   "source": [
    "# Вывод на печать размеров целевого признака обучающих выборках 3 регионов\n",
    "print(target_Train_Reg1.shape)\n",
    "print(target_Train_Reg2.shape)\n",
    "print(target_Train_Reg3.shape)"
   ]
  },
  {
   "cell_type": "code",
   "execution_count": 17,
   "metadata": {},
   "outputs": [],
   "source": [
    "# Признаки валидационных выборок 3 регионов\n",
    "features_Valid_Reg1 = Reg1_Valid.drop(['product','id'], axis = 1)\n",
    "features_Valid_Reg2 = Reg2_Valid.drop(['product','id'], axis = 1)\n",
    "features_Valid_Reg3 = Reg3_Valid.drop(['product','id'], axis = 1)"
   ]
  },
  {
   "cell_type": "code",
   "execution_count": 18,
   "metadata": {},
   "outputs": [],
   "source": [
    "# Целевой признак валидационных выборок 3 регионов\n",
    "target_Valid_Reg1 = Reg1_Valid['product']\n",
    "target_Valid_Reg2 = Reg2_Valid['product']\n",
    "target_Valid_Reg3 = Reg3_Valid['product']"
   ]
  },
  {
   "cell_type": "code",
   "execution_count": 19,
   "metadata": {},
   "outputs": [
    {
     "name": "stdout",
     "output_type": "stream",
     "text": [
      "(25000, 3)\n",
      "(25000, 3)\n",
      "(25000, 3)\n"
     ]
    }
   ],
   "source": [
    "# Вывод на печать размеров признаков валидационных выборках 3 регионов\n",
    "print(features_Valid_Reg1.shape)\n",
    "print(features_Valid_Reg2.shape)\n",
    "print(features_Valid_Reg3.shape)\n"
   ]
  },
  {
   "cell_type": "code",
   "execution_count": 20,
   "metadata": {},
   "outputs": [
    {
     "name": "stdout",
     "output_type": "stream",
     "text": [
      "(25000,)\n",
      "(25000,)\n",
      "(25000,)\n"
     ]
    }
   ],
   "source": [
    "# Вывод на печать размеров целевого признака валидационныхвыборках 3 регионов\n",
    "print(target_Valid_Reg1.shape)\n",
    "print(target_Valid_Reg2.shape)\n",
    "print(target_Valid_Reg3.shape)"
   ]
  },
  {
   "cell_type": "markdown",
   "metadata": {},
   "source": [
    "#### Исследование модели \"Линейная регрессия\""
   ]
  },
  {
   "cell_type": "code",
   "execution_count": 21,
   "metadata": {},
   "outputs": [],
   "source": [
    "# импорт из библиотеки sklearn структуры данных модели \"Линейная регрессия\"\n",
    "from sklearn.linear_model import LinearRegression"
   ]
  },
  {
   "cell_type": "code",
   "execution_count": 22,
   "metadata": {},
   "outputs": [],
   "source": [
    "# создание модели методом \"Линейная регрессия\"\n",
    "model_LR_Reg1 = LinearRegression()\n",
    "model_LR_Reg2 = LinearRegression()\n",
    "model_LR_Reg3 = LinearRegression()"
   ]
  },
  {
   "cell_type": "code",
   "execution_count": 23,
   "metadata": {},
   "outputs": [
    {
     "data": {
      "text/plain": [
       "LinearRegression(copy_X=True, fit_intercept=True, n_jobs=None, normalize=False)"
      ]
     },
     "execution_count": 23,
     "metadata": {},
     "output_type": "execute_result"
    }
   ],
   "source": [
    "# обучение модели на обучающих выборках 3 регионов\n",
    "model_LR_Reg1.fit(features_Train_Reg1, target_Train_Reg1)\n",
    "model_LR_Reg2.fit(features_Train_Reg2, target_Train_Reg2)\n",
    "model_LR_Reg3.fit(features_Train_Reg3, target_Train_Reg3)"
   ]
  },
  {
   "cell_type": "code",
   "execution_count": 24,
   "metadata": {},
   "outputs": [],
   "source": [
    "# предсказание модели на валидационных выборках 3 регионов  \n",
    "valid_predictions_LR_Reg1 = model_LR_Reg1.predict(features_Valid_Reg1)\n",
    "valid_predictions_LR_Reg2 = model_LR_Reg2.predict(features_Valid_Reg2)\n",
    "valid_predictions_LR_Reg3 = model_LR_Reg3.predict(features_Valid_Reg3)"
   ]
  },
  {
   "cell_type": "code",
   "execution_count": 25,
   "metadata": {},
   "outputs": [
    {
     "name": "stdout",
     "output_type": "stream",
     "text": [
      "Правильные ответы валидационной выборки 1 региона: 0.2728\n",
      "Правильные ответы валидационной выборки 2 региона: 0.9996\n",
      "Правильные ответы валидационной выборки 3 региона: 0.1963\n"
     ]
    }
   ],
   "source": [
    "# проверка правильности модели валидационных выборках 3 регионов  \n",
    "accuracy_valid_LR_Reg1 = model_LR_Reg1.score(features_Valid_Reg1, target_Valid_Reg1)\n",
    "accuracy_valid_LR_Reg2 = model_LR_Reg2.score(features_Valid_Reg2, target_Valid_Reg2)\n",
    "accuracy_valid_LR_Reg3 = model_LR_Reg3.score(features_Valid_Reg3, target_Valid_Reg3)\n",
    "\n",
    "print(\"Правильные ответы валидационной выборки 1 региона: {:.4f}\".format(accuracy_valid_LR_Reg1))\n",
    "print(\"Правильные ответы валидационной выборки 2 региона: {:.4f}\".format(accuracy_valid_LR_Reg2))\n",
    "print(\"Правильные ответы валидационной выборки 3 региона: {:.4f}\".format(accuracy_valid_LR_Reg3))"
   ]
  },
  {
   "cell_type": "code",
   "execution_count": 26,
   "metadata": {},
   "outputs": [
    {
     "name": "stdout",
     "output_type": "stream",
     "text": [
      "Предсказание модели (сред.) для 1 региона:  92.39879990657768\n",
      "Предсказание модели (сред.) для 2 региона:  68.71287803913762\n",
      "Предсказание модели (сред.) для 3 региона:  94.77102387765939\n"
     ]
    }
   ],
   "source": [
    "# Расчет MSE модели каждого региона\n",
    "mse_LR_Reg1 = mean_squared_error(target_Valid_Reg1, valid_predictions_LR_Reg1)\n",
    "mse_LR_Reg2 = mean_squared_error(target_Valid_Reg2, valid_predictions_LR_Reg2)\n",
    "mse_LR_Reg3 = mean_squared_error(target_Valid_Reg3, valid_predictions_LR_Reg3)\n",
    "\n",
    "# Расчет среднего запаса предсказанного сырья для 3 регионов\n",
    "pred_mean_LR_Reg1 = valid_predictions_LR_Reg1.mean()\n",
    "pred_mean_LR_Reg2 = valid_predictions_LR_Reg2.mean()\n",
    "pred_mean_LR_Reg3 = valid_predictions_LR_Reg3.mean()\n",
    "\n",
    "print(\"Предсказание модели (сред.) для 1 региона: \", pred_mean_LR_Reg1)\n",
    "print(\"Предсказание модели (сред.) для 2 региона: \", pred_mean_LR_Reg2)\n",
    "print(\"Предсказание модели (сред.) для 3 региона: \", pred_mean_LR_Reg3)"
   ]
  },
  {
   "cell_type": "code",
   "execution_count": 27,
   "metadata": {},
   "outputs": [
    {
     "name": "stdout",
     "output_type": "stream",
     "text": [
      "Фактические запасы (сред.) для 1 региона:  92.55801454305207\n",
      "Фактические запасы (сред.) для 2 региона:  68.85820641759086\n",
      "Фактические запасы (сред.) для 3 региона:  94.9496669760935\n"
     ]
    }
   ],
   "source": [
    "# Расчет среднего запаса фактического сырья для 3 регионов\n",
    "fact_mean_LR_Reg1 = target_Train_Reg1.mean()\n",
    "fact_mean_LR_Reg2 = target_Train_Reg2.mean()\n",
    "fact_mean_LR_Reg3 = target_Train_Reg3.mean()\n",
    "\n",
    "print(\"Фактические запасы (сред.) для 1 региона: \", fact_mean_LR_Reg1)\n",
    "print(\"Фактические запасы (сред.) для 2 региона: \", fact_mean_LR_Reg2)\n",
    "print(\"Фактические запасы (сред.) для 3 региона: \", fact_mean_LR_Reg3)"
   ]
  },
  {
   "cell_type": "code",
   "execution_count": 28,
   "metadata": {},
   "outputs": [
    {
     "name": "stdout",
     "output_type": "stream",
     "text": [
      "RMSE 1 региона: 37.75660035026169\n",
      "RMSE 2 региона: 0.8902801001028833\n",
      "RMSE 3 региона: 40.14587231134218\n"
     ]
    }
   ],
   "source": [
    "# Расчет RMSE модели каждого региона\n",
    "rmse_LR_Reg1 = mse_LR_Reg1 ** 0.5\n",
    "rmse_LR_Reg2 = mse_LR_Reg2 ** 0.5\n",
    "rmse_LR_Reg3 = mse_LR_Reg3 ** 0.5\n",
    "print(\"RMSE 1 региона:\", rmse_LR_Reg1)\n",
    "print(\"RMSE 2 региона:\", rmse_LR_Reg2)\n",
    "print(\"RMSE 3 региона:\", rmse_LR_Reg3)"
   ]
  },
  {
   "cell_type": "code",
   "execution_count": 29,
   "metadata": {},
   "outputs": [
    {
     "data": {
      "text/html": [
       "<div>\n",
       "<style scoped>\n",
       "    .dataframe tbody tr th:only-of-type {\n",
       "        vertical-align: middle;\n",
       "    }\n",
       "\n",
       "    .dataframe tbody tr th {\n",
       "        vertical-align: top;\n",
       "    }\n",
       "\n",
       "    .dataframe thead th {\n",
       "        text-align: right;\n",
       "    }\n",
       "</style>\n",
       "<table border=\"1\" class=\"dataframe\">\n",
       "  <thead>\n",
       "    <tr style=\"text-align: right;\">\n",
       "      <th></th>\n",
       "      <th>model</th>\n",
       "      <th>Предсказанные запасы</th>\n",
       "      <th>Фактические запасы</th>\n",
       "      <th>RMSE</th>\n",
       "    </tr>\n",
       "  </thead>\n",
       "  <tbody>\n",
       "    <tr>\n",
       "      <td>0</td>\n",
       "      <td>LinearRegression</td>\n",
       "      <td>92.3988</td>\n",
       "      <td>92.558015</td>\n",
       "      <td>37.7566</td>\n",
       "    </tr>\n",
       "  </tbody>\n",
       "</table>\n",
       "</div>"
      ],
      "text/plain": [
       "              model  Предсказанные запасы  Фактические запасы     RMSE\n",
       "0  LinearRegression               92.3988           92.558015  37.7566"
      ]
     },
     "execution_count": 29,
     "metadata": {},
     "output_type": "execute_result"
    }
   ],
   "source": [
    "# Оформим результаты 1 региона в таблицу\n",
    "models_Reg1 = pd.DataFrame({'model':['LinearRegression'],\n",
    "                          'Предсказанные запасы':[pred_mean_LR_Reg1], \n",
    "                          'Фактические запасы':[fact_mean_LR_Reg1],\n",
    "                         'RMSE':[rmse_LR_Reg1]}) \n",
    "models_Reg1"
   ]
  },
  {
   "cell_type": "code",
   "execution_count": 30,
   "metadata": {},
   "outputs": [
    {
     "data": {
      "text/html": [
       "<div>\n",
       "<style scoped>\n",
       "    .dataframe tbody tr th:only-of-type {\n",
       "        vertical-align: middle;\n",
       "    }\n",
       "\n",
       "    .dataframe tbody tr th {\n",
       "        vertical-align: top;\n",
       "    }\n",
       "\n",
       "    .dataframe thead th {\n",
       "        text-align: right;\n",
       "    }\n",
       "</style>\n",
       "<table border=\"1\" class=\"dataframe\">\n",
       "  <thead>\n",
       "    <tr style=\"text-align: right;\">\n",
       "      <th></th>\n",
       "      <th>model</th>\n",
       "      <th>Предсказанные запасы</th>\n",
       "      <th>Фактические запасы</th>\n",
       "      <th>RMSE</th>\n",
       "    </tr>\n",
       "  </thead>\n",
       "  <tbody>\n",
       "    <tr>\n",
       "      <td>0</td>\n",
       "      <td>LinearRegression</td>\n",
       "      <td>68.712878</td>\n",
       "      <td>68.858206</td>\n",
       "      <td>0.89028</td>\n",
       "    </tr>\n",
       "  </tbody>\n",
       "</table>\n",
       "</div>"
      ],
      "text/plain": [
       "              model  Предсказанные запасы  Фактические запасы     RMSE\n",
       "0  LinearRegression             68.712878           68.858206  0.89028"
      ]
     },
     "execution_count": 30,
     "metadata": {},
     "output_type": "execute_result"
    }
   ],
   "source": [
    "# Оформим результаты 2 региона в таблицу\n",
    "models_Reg2 = pd.DataFrame({'model':['LinearRegression'],\n",
    "                          'Предсказанные запасы':[pred_mean_LR_Reg2], \n",
    "                          'Фактические запасы':[fact_mean_LR_Reg2],\n",
    "                         'RMSE':[rmse_LR_Reg2]}) \n",
    "models_Reg2"
   ]
  },
  {
   "cell_type": "code",
   "execution_count": 31,
   "metadata": {},
   "outputs": [
    {
     "data": {
      "text/html": [
       "<div>\n",
       "<style scoped>\n",
       "    .dataframe tbody tr th:only-of-type {\n",
       "        vertical-align: middle;\n",
       "    }\n",
       "\n",
       "    .dataframe tbody tr th {\n",
       "        vertical-align: top;\n",
       "    }\n",
       "\n",
       "    .dataframe thead th {\n",
       "        text-align: right;\n",
       "    }\n",
       "</style>\n",
       "<table border=\"1\" class=\"dataframe\">\n",
       "  <thead>\n",
       "    <tr style=\"text-align: right;\">\n",
       "      <th></th>\n",
       "      <th>model</th>\n",
       "      <th>Предсказанные запасы</th>\n",
       "      <th>Фактические запасы</th>\n",
       "      <th>RMSE</th>\n",
       "    </tr>\n",
       "  </thead>\n",
       "  <tbody>\n",
       "    <tr>\n",
       "      <td>0</td>\n",
       "      <td>LinearRegression</td>\n",
       "      <td>94.771024</td>\n",
       "      <td>94.949667</td>\n",
       "      <td>40.145872</td>\n",
       "    </tr>\n",
       "  </tbody>\n",
       "</table>\n",
       "</div>"
      ],
      "text/plain": [
       "              model  Предсказанные запасы  Фактические запасы       RMSE\n",
       "0  LinearRegression             94.771024           94.949667  40.145872"
      ]
     },
     "execution_count": 31,
     "metadata": {},
     "output_type": "execute_result"
    }
   ],
   "source": [
    "# Оформим результаты 3 региона в таблицу\n",
    "models_Reg3 = pd.DataFrame({'model':['LinearRegression'],\n",
    "                          'Предсказанные запасы':[pred_mean_LR_Reg3], \n",
    "                          'Фактические запасы':[fact_mean_LR_Reg3],\n",
    "                         'RMSE':[rmse_LR_Reg3]}) \n",
    "models_Reg3"
   ]
  },
  {
   "cell_type": "markdown",
   "metadata": {},
   "source": [
    "#### Вывод \n",
    "1. Для модели \"Линейная регрессия\" предсказание модели средних значений совпадает с фактическими средними запасами.\n",
    "2. Больше всего предсказанных и фактических запасов во третьем регионе (предсказанные и фактические)\n",
    "3. Значение RMSE во втором регионе, по сравнению с первым и третьим регионом, минимально и равно 0,89. "
   ]
  },
  {
   "cell_type": "markdown",
   "metadata": {},
   "source": [
    "# 3. Подготовка к расчёту прибыли"
   ]
  },
  {
   "cell_type": "code",
   "execution_count": 32,
   "metadata": {},
   "outputs": [],
   "source": [
    "#Себестоимость разработки 1 скважины в каждом регионе = 10 млрд / 200 точек.\n",
    "cost_price = 10000000000/200"
   ]
  },
  {
   "cell_type": "code",
   "execution_count": 33,
   "metadata": {},
   "outputs": [
    {
     "name": "stdout",
     "output_type": "stream",
     "text": [
      "111.11111111111111\n"
     ]
    }
   ],
   "source": [
    "# Расчет достаточного объема сырья для безубыточной разработки новой скважины\n",
    "sufficient_volume = cost_price/450000\n",
    "print(sufficient_volume)"
   ]
  },
  {
   "cell_type": "code",
   "execution_count": 34,
   "metadata": {},
   "outputs": [
    {
     "name": "stdout",
     "output_type": "stream",
     "text": [
      "92.50000000000001\n",
      "68.82500000000002\n",
      "95.00000000000004\n"
     ]
    }
   ],
   "source": [
    "# Расчет средних запасов сырья в каждом из трех регионов\n",
    "print(data_region1['product'].mean())\n",
    "print(data_region2['product'].mean())\n",
    "print(data_region3['product'].mean())"
   ]
  },
  {
   "cell_type": "markdown",
   "metadata": {},
   "source": [
    "#### Вывод\n",
    "1. Себестоимость разработки 1 скважины - 50 млн. рублей.\n",
    "2. Наибольшее среднее количество сырья в 3 регионе.\n",
    "3. Достаточный объем сырья для безубыточной разработки новой скважины - 111,11 тыс. баррелей "
   ]
  },
  {
   "cell_type": "markdown",
   "metadata": {},
   "source": [
    "# 4. Расчёт прибыли и рисков "
   ]
  },
  {
   "cell_type": "code",
   "execution_count": 35,
   "metadata": {},
   "outputs": [],
   "source": [
    "# расчет функции для расчета прибыли \n",
    "# target — реальные значения;\n",
    "# probabilities - предсказанные значения;\n",
    "# count - количество скважин\n",
    "# 450000 - стоимость одной единицы продукта.\n",
    "def revenue(target, probabilities, count):\n",
    "    probs_sorted = probabilities.sort_values(ascending=False)\n",
    "    selected = target[probs_sorted.index][:count]\n",
    "    return (450000 * selected.sum() - cost_price*200)"
   ]
  },
  {
   "cell_type": "code",
   "execution_count": 36,
   "metadata": {},
   "outputs": [],
   "source": [
    "# Создание объекта RandomState() из модуля numpy.random\n",
    "from numpy.random import RandomState\n",
    "state = np.random.RandomState(12345)"
   ]
  },
  {
   "cell_type": "code",
   "execution_count": null,
   "metadata": {},
   "outputs": [],
   "source": [
    "# Расчет прибыли, доверительного интервала и рисков для региона\n",
    "def revenue_region(reg, target_Valid_Reg, valid_predictions_LR_Reg):\n",
    "    values = []\n",
    "    count_negative = 0\n",
    "\n",
    "    index_reg = target_Valid_Reg.index\n",
    "    valid_predictions_LR_Reg_series = pd.Series(valid_predictions_LR_Reg,index = index_reg)\n",
    "    for i in range(1000):\n",
    "        target_subsample = target_Valid_Reg.sample(n=500, replace=True, random_state=state)\n",
    "        probs_subsample = valid_predictions_LR_Reg_series[target_subsample.index]\n",
    "    \n",
    "        revenue_rez = revenue(target_subsample,probs_subsample,200)\n",
    "        values.append(revenue_rez)\n",
    "        if revenue_rez<0:\n",
    "            count_negative = count_negative + 1\n",
    "\n",
    "    values = pd.Series(values)\n",
    "    lower = values.quantile(0.025)\n",
    "    upper = values.quantile(0.975)\n",
    "\n",
    "    mean = values.mean()\n",
    "    print(\"Данные по региону:\", reg)\n",
    "    print(\"Средняя выручка:\", mean)\n",
    "    print(\"Начало доверительного интервала:\", lower)\n",
    "    print(\"Окончание доверительного интервала:\", upper)\n",
    "    print(\"Доля отрицательных:\", (count_negative/1000)*100)\n",
    "    print(\" \")\n",
    "    return \n",
    "\n",
    "revenue_region(1, target_Valid_Reg1, valid_predictions_LR_Reg1)\n",
    "revenue_region(2, target_Valid_Reg2, valid_predictions_LR_Reg2)\n",
    "revenue_region(3, target_Valid_Reg3, valid_predictions_LR_Reg3)"
   ]
  },
  {
   "cell_type": "markdown",
   "metadata": {},
   "source": [
    "#### Вывод\n",
    "1. В 1 и 3 регионах доля убытков составляет более 2,5%:\n",
    "    + 6,1%  в 1 регионе;\n",
    "    + 7% в 3 регионе.\n",
    "2. Во втором регионе доля убытков составила 1%. \n",
    "3. Средняя выручка в регионах составила:\n",
    "    + 435,9 млн. руб;\n",
    "    + 498,6 млн. руб;\n",
    "    + 412,7 млн. руб.\n",
    "---"
   ]
  }
 ],
 "metadata": {
  "kernelspec": {
   "display_name": "Python 3",
   "language": "python",
   "name": "python3"
  },
  "language_info": {
   "codemirror_mode": {
    "name": "ipython",
    "version": 3
   },
   "file_extension": ".py",
   "mimetype": "text/x-python",
   "name": "python",
   "nbconvert_exporter": "python",
   "pygments_lexer": "ipython3",
   "version": "3.7.6"
  }
 },
 "nbformat": 4,
 "nbformat_minor": 2
}
