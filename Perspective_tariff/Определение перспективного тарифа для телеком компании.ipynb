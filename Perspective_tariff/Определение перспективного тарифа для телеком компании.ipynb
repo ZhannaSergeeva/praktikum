{
 "cells": [
  {
   "cell_type": "markdown",
   "metadata": {},
   "source": [
    "### Изучение общей информации"
   ]
  },
  {
   "cell_type": "code",
   "execution_count": 1,
   "metadata": {},
   "outputs": [],
   "source": [
    "#вызов библиотеки Pandas\n",
    "import pandas as pd"
   ]
  },
  {
   "cell_type": "code",
   "execution_count": 2,
   "metadata": {},
   "outputs": [
    {
     "data": {
      "text/html": [
       "<div>\n",
       "<style scoped>\n",
       "    .dataframe tbody tr th:only-of-type {\n",
       "        vertical-align: middle;\n",
       "    }\n",
       "\n",
       "    .dataframe tbody tr th {\n",
       "        vertical-align: top;\n",
       "    }\n",
       "\n",
       "    .dataframe thead th {\n",
       "        text-align: right;\n",
       "    }\n",
       "</style>\n",
       "<table border=\"1\" class=\"dataframe\">\n",
       "  <thead>\n",
       "    <tr style=\"text-align: right;\">\n",
       "      <th></th>\n",
       "      <th>user_id</th>\n",
       "      <th>age</th>\n",
       "      <th>churn_date</th>\n",
       "      <th>city</th>\n",
       "      <th>first_name</th>\n",
       "      <th>last_name</th>\n",
       "      <th>reg_date</th>\n",
       "      <th>tariff</th>\n",
       "    </tr>\n",
       "  </thead>\n",
       "  <tbody>\n",
       "    <tr>\n",
       "      <td>0</td>\n",
       "      <td>1000</td>\n",
       "      <td>52</td>\n",
       "      <td>NaN</td>\n",
       "      <td>Краснодар</td>\n",
       "      <td>Рафаил</td>\n",
       "      <td>Верещагин</td>\n",
       "      <td>2018-05-25</td>\n",
       "      <td>ultra</td>\n",
       "    </tr>\n",
       "    <tr>\n",
       "      <td>1</td>\n",
       "      <td>1001</td>\n",
       "      <td>41</td>\n",
       "      <td>NaN</td>\n",
       "      <td>Москва</td>\n",
       "      <td>Иван</td>\n",
       "      <td>Ежов</td>\n",
       "      <td>2018-11-01</td>\n",
       "      <td>smart</td>\n",
       "    </tr>\n",
       "    <tr>\n",
       "      <td>2</td>\n",
       "      <td>1002</td>\n",
       "      <td>59</td>\n",
       "      <td>NaN</td>\n",
       "      <td>Стерлитамак</td>\n",
       "      <td>Евгений</td>\n",
       "      <td>Абрамович</td>\n",
       "      <td>2018-06-17</td>\n",
       "      <td>smart</td>\n",
       "    </tr>\n",
       "    <tr>\n",
       "      <td>3</td>\n",
       "      <td>1003</td>\n",
       "      <td>23</td>\n",
       "      <td>NaN</td>\n",
       "      <td>Москва</td>\n",
       "      <td>Белла</td>\n",
       "      <td>Белякова</td>\n",
       "      <td>2018-08-17</td>\n",
       "      <td>ultra</td>\n",
       "    </tr>\n",
       "    <tr>\n",
       "      <td>4</td>\n",
       "      <td>1004</td>\n",
       "      <td>68</td>\n",
       "      <td>NaN</td>\n",
       "      <td>Новокузнецк</td>\n",
       "      <td>Татьяна</td>\n",
       "      <td>Авдеенко</td>\n",
       "      <td>2018-05-14</td>\n",
       "      <td>ultra</td>\n",
       "    </tr>\n",
       "  </tbody>\n",
       "</table>\n",
       "</div>"
      ],
      "text/plain": [
       "   user_id  age churn_date         city first_name  last_name    reg_date  \\\n",
       "0     1000   52        NaN    Краснодар     Рафаил  Верещагин  2018-05-25   \n",
       "1     1001   41        NaN       Москва       Иван       Ежов  2018-11-01   \n",
       "2     1002   59        NaN  Стерлитамак    Евгений  Абрамович  2018-06-17   \n",
       "3     1003   23        NaN       Москва      Белла   Белякова  2018-08-17   \n",
       "4     1004   68        NaN  Новокузнецк    Татьяна   Авдеенко  2018-05-14   \n",
       "\n",
       "  tariff  \n",
       "0  ultra  \n",
       "1  smart  \n",
       "2  smart  \n",
       "3  ultra  \n",
       "4  ultra  "
      ]
     },
     "execution_count": 2,
     "metadata": {},
     "output_type": "execute_result"
    }
   ],
   "source": [
    "#исследование информации о пользователях\n",
    "users = pd.read_csv('/datasets/users.csv', sep=',')\n",
    "users.head(5)"
   ]
  },
  {
   "cell_type": "code",
   "execution_count": 3,
   "metadata": {},
   "outputs": [
    {
     "name": "stdout",
     "output_type": "stream",
     "text": [
      "<class 'pandas.core.frame.DataFrame'>\n",
      "RangeIndex: 500 entries, 0 to 499\n",
      "Data columns (total 8 columns):\n",
      "user_id       500 non-null int64\n",
      "age           500 non-null int64\n",
      "churn_date    38 non-null object\n",
      "city          500 non-null object\n",
      "first_name    500 non-null object\n",
      "last_name     500 non-null object\n",
      "reg_date      500 non-null object\n",
      "tariff        500 non-null object\n",
      "dtypes: int64(2), object(6)\n",
      "memory usage: 31.4+ KB\n",
      "None\n"
     ]
    }
   ],
   "source": [
    "#просмотр сводной информации о наборе данных в таблице с информацией о пользователей\n",
    "print(users.info())"
   ]
  },
  {
   "cell_type": "code",
   "execution_count": 4,
   "metadata": {},
   "outputs": [
    {
     "data": {
      "text/html": [
       "<div>\n",
       "<style scoped>\n",
       "    .dataframe tbody tr th:only-of-type {\n",
       "        vertical-align: middle;\n",
       "    }\n",
       "\n",
       "    .dataframe tbody tr th {\n",
       "        vertical-align: top;\n",
       "    }\n",
       "\n",
       "    .dataframe thead th {\n",
       "        text-align: right;\n",
       "    }\n",
       "</style>\n",
       "<table border=\"1\" class=\"dataframe\">\n",
       "  <thead>\n",
       "    <tr style=\"text-align: right;\">\n",
       "      <th></th>\n",
       "      <th>id</th>\n",
       "      <th>call_date</th>\n",
       "      <th>duration</th>\n",
       "      <th>user_id</th>\n",
       "    </tr>\n",
       "  </thead>\n",
       "  <tbody>\n",
       "    <tr>\n",
       "      <td>0</td>\n",
       "      <td>1000_0</td>\n",
       "      <td>2018-07-25</td>\n",
       "      <td>0.00</td>\n",
       "      <td>1000</td>\n",
       "    </tr>\n",
       "    <tr>\n",
       "      <td>1</td>\n",
       "      <td>1000_1</td>\n",
       "      <td>2018-08-17</td>\n",
       "      <td>0.00</td>\n",
       "      <td>1000</td>\n",
       "    </tr>\n",
       "    <tr>\n",
       "      <td>2</td>\n",
       "      <td>1000_2</td>\n",
       "      <td>2018-06-11</td>\n",
       "      <td>2.85</td>\n",
       "      <td>1000</td>\n",
       "    </tr>\n",
       "    <tr>\n",
       "      <td>3</td>\n",
       "      <td>1000_3</td>\n",
       "      <td>2018-09-21</td>\n",
       "      <td>13.80</td>\n",
       "      <td>1000</td>\n",
       "    </tr>\n",
       "    <tr>\n",
       "      <td>4</td>\n",
       "      <td>1000_4</td>\n",
       "      <td>2018-12-15</td>\n",
       "      <td>5.18</td>\n",
       "      <td>1000</td>\n",
       "    </tr>\n",
       "    <tr>\n",
       "      <td>...</td>\n",
       "      <td>...</td>\n",
       "      <td>...</td>\n",
       "      <td>...</td>\n",
       "      <td>...</td>\n",
       "    </tr>\n",
       "    <tr>\n",
       "      <td>95</td>\n",
       "      <td>1000_95</td>\n",
       "      <td>2018-10-15</td>\n",
       "      <td>9.88</td>\n",
       "      <td>1000</td>\n",
       "    </tr>\n",
       "    <tr>\n",
       "      <td>96</td>\n",
       "      <td>1000_96</td>\n",
       "      <td>2018-07-03</td>\n",
       "      <td>9.22</td>\n",
       "      <td>1000</td>\n",
       "    </tr>\n",
       "    <tr>\n",
       "      <td>97</td>\n",
       "      <td>1000_97</td>\n",
       "      <td>2018-10-26</td>\n",
       "      <td>0.33</td>\n",
       "      <td>1000</td>\n",
       "    </tr>\n",
       "    <tr>\n",
       "      <td>98</td>\n",
       "      <td>1000_98</td>\n",
       "      <td>2018-11-18</td>\n",
       "      <td>7.68</td>\n",
       "      <td>1000</td>\n",
       "    </tr>\n",
       "    <tr>\n",
       "      <td>99</td>\n",
       "      <td>1000_99</td>\n",
       "      <td>2018-07-30</td>\n",
       "      <td>14.01</td>\n",
       "      <td>1000</td>\n",
       "    </tr>\n",
       "  </tbody>\n",
       "</table>\n",
       "<p>100 rows × 4 columns</p>\n",
       "</div>"
      ],
      "text/plain": [
       "         id   call_date  duration  user_id\n",
       "0    1000_0  2018-07-25      0.00     1000\n",
       "1    1000_1  2018-08-17      0.00     1000\n",
       "2    1000_2  2018-06-11      2.85     1000\n",
       "3    1000_3  2018-09-21     13.80     1000\n",
       "4    1000_4  2018-12-15      5.18     1000\n",
       "..      ...         ...       ...      ...\n",
       "95  1000_95  2018-10-15      9.88     1000\n",
       "96  1000_96  2018-07-03      9.22     1000\n",
       "97  1000_97  2018-10-26      0.33     1000\n",
       "98  1000_98  2018-11-18      7.68     1000\n",
       "99  1000_99  2018-07-30     14.01     1000\n",
       "\n",
       "[100 rows x 4 columns]"
      ]
     },
     "execution_count": 4,
     "metadata": {},
     "output_type": "execute_result"
    }
   ],
   "source": [
    "#исследование информации о звонках\n",
    "calls = pd.read_csv('/datasets/calls.csv', sep=',')\n",
    "calls.head(100)"
   ]
  },
  {
   "cell_type": "code",
   "execution_count": 5,
   "metadata": {},
   "outputs": [
    {
     "name": "stdout",
     "output_type": "stream",
     "text": [
      "<class 'pandas.core.frame.DataFrame'>\n",
      "RangeIndex: 202607 entries, 0 to 202606\n",
      "Data columns (total 4 columns):\n",
      "id           202607 non-null object\n",
      "call_date    202607 non-null object\n",
      "duration     202607 non-null float64\n",
      "user_id      202607 non-null int64\n",
      "dtypes: float64(1), int64(1), object(2)\n",
      "memory usage: 6.2+ MB\n",
      "None\n"
     ]
    }
   ],
   "source": [
    "#просмотр сводной информации о наборе данных в таблице с информацией о звонках\n",
    "print(calls.info())"
   ]
  },
  {
   "cell_type": "code",
   "execution_count": 6,
   "metadata": {},
   "outputs": [
    {
     "data": {
      "text/html": [
       "<div>\n",
       "<style scoped>\n",
       "    .dataframe tbody tr th:only-of-type {\n",
       "        vertical-align: middle;\n",
       "    }\n",
       "\n",
       "    .dataframe tbody tr th {\n",
       "        vertical-align: top;\n",
       "    }\n",
       "\n",
       "    .dataframe thead th {\n",
       "        text-align: right;\n",
       "    }\n",
       "</style>\n",
       "<table border=\"1\" class=\"dataframe\">\n",
       "  <thead>\n",
       "    <tr style=\"text-align: right;\">\n",
       "      <th></th>\n",
       "      <th>id</th>\n",
       "      <th>message_date</th>\n",
       "      <th>user_id</th>\n",
       "    </tr>\n",
       "  </thead>\n",
       "  <tbody>\n",
       "    <tr>\n",
       "      <td>0</td>\n",
       "      <td>1000_0</td>\n",
       "      <td>2018-06-27</td>\n",
       "      <td>1000</td>\n",
       "    </tr>\n",
       "    <tr>\n",
       "      <td>1</td>\n",
       "      <td>1000_1</td>\n",
       "      <td>2018-10-08</td>\n",
       "      <td>1000</td>\n",
       "    </tr>\n",
       "    <tr>\n",
       "      <td>2</td>\n",
       "      <td>1000_2</td>\n",
       "      <td>2018-08-04</td>\n",
       "      <td>1000</td>\n",
       "    </tr>\n",
       "    <tr>\n",
       "      <td>3</td>\n",
       "      <td>1000_3</td>\n",
       "      <td>2018-06-16</td>\n",
       "      <td>1000</td>\n",
       "    </tr>\n",
       "    <tr>\n",
       "      <td>4</td>\n",
       "      <td>1000_4</td>\n",
       "      <td>2018-12-05</td>\n",
       "      <td>1000</td>\n",
       "    </tr>\n",
       "    <tr>\n",
       "      <td>...</td>\n",
       "      <td>...</td>\n",
       "      <td>...</td>\n",
       "      <td>...</td>\n",
       "    </tr>\n",
       "    <tr>\n",
       "      <td>95</td>\n",
       "      <td>1000_95</td>\n",
       "      <td>2018-08-17</td>\n",
       "      <td>1000</td>\n",
       "    </tr>\n",
       "    <tr>\n",
       "      <td>96</td>\n",
       "      <td>1000_96</td>\n",
       "      <td>2018-05-30</td>\n",
       "      <td>1000</td>\n",
       "    </tr>\n",
       "    <tr>\n",
       "      <td>97</td>\n",
       "      <td>1000_97</td>\n",
       "      <td>2018-07-30</td>\n",
       "      <td>1000</td>\n",
       "    </tr>\n",
       "    <tr>\n",
       "      <td>98</td>\n",
       "      <td>1000_98</td>\n",
       "      <td>2018-06-22</td>\n",
       "      <td>1000</td>\n",
       "    </tr>\n",
       "    <tr>\n",
       "      <td>99</td>\n",
       "      <td>1000_99</td>\n",
       "      <td>2018-09-29</td>\n",
       "      <td>1000</td>\n",
       "    </tr>\n",
       "  </tbody>\n",
       "</table>\n",
       "<p>100 rows × 3 columns</p>\n",
       "</div>"
      ],
      "text/plain": [
       "         id message_date  user_id\n",
       "0    1000_0   2018-06-27     1000\n",
       "1    1000_1   2018-10-08     1000\n",
       "2    1000_2   2018-08-04     1000\n",
       "3    1000_3   2018-06-16     1000\n",
       "4    1000_4   2018-12-05     1000\n",
       "..      ...          ...      ...\n",
       "95  1000_95   2018-08-17     1000\n",
       "96  1000_96   2018-05-30     1000\n",
       "97  1000_97   2018-07-30     1000\n",
       "98  1000_98   2018-06-22     1000\n",
       "99  1000_99   2018-09-29     1000\n",
       "\n",
       "[100 rows x 3 columns]"
      ]
     },
     "execution_count": 6,
     "metadata": {},
     "output_type": "execute_result"
    }
   ],
   "source": [
    "#исследование информации о сообщениях\n",
    "messages = pd.read_csv('/datasets/messages.csv', sep=',')\n",
    "messages.head(100)"
   ]
  },
  {
   "cell_type": "code",
   "execution_count": 7,
   "metadata": {},
   "outputs": [
    {
     "name": "stdout",
     "output_type": "stream",
     "text": [
      "<class 'pandas.core.frame.DataFrame'>\n",
      "RangeIndex: 123036 entries, 0 to 123035\n",
      "Data columns (total 3 columns):\n",
      "id              123036 non-null object\n",
      "message_date    123036 non-null object\n",
      "user_id         123036 non-null int64\n",
      "dtypes: int64(1), object(2)\n",
      "memory usage: 2.8+ MB\n",
      "None\n"
     ]
    }
   ],
   "source": [
    "#просмотр сводной информации о наборе данных в таблице с информацией о сообщениях\n",
    "print(messages.info())"
   ]
  },
  {
   "cell_type": "code",
   "execution_count": 8,
   "metadata": {},
   "outputs": [
    {
     "data": {
      "text/html": [
       "<div>\n",
       "<style scoped>\n",
       "    .dataframe tbody tr th:only-of-type {\n",
       "        vertical-align: middle;\n",
       "    }\n",
       "\n",
       "    .dataframe tbody tr th {\n",
       "        vertical-align: top;\n",
       "    }\n",
       "\n",
       "    .dataframe thead th {\n",
       "        text-align: right;\n",
       "    }\n",
       "</style>\n",
       "<table border=\"1\" class=\"dataframe\">\n",
       "  <thead>\n",
       "    <tr style=\"text-align: right;\">\n",
       "      <th></th>\n",
       "      <th>Unnamed: 0</th>\n",
       "      <th>id</th>\n",
       "      <th>mb_used</th>\n",
       "      <th>session_date</th>\n",
       "      <th>user_id</th>\n",
       "    </tr>\n",
       "  </thead>\n",
       "  <tbody>\n",
       "    <tr>\n",
       "      <td>0</td>\n",
       "      <td>0</td>\n",
       "      <td>1000_0</td>\n",
       "      <td>112.95</td>\n",
       "      <td>2018-11-25</td>\n",
       "      <td>1000</td>\n",
       "    </tr>\n",
       "    <tr>\n",
       "      <td>1</td>\n",
       "      <td>1</td>\n",
       "      <td>1000_1</td>\n",
       "      <td>1052.81</td>\n",
       "      <td>2018-09-07</td>\n",
       "      <td>1000</td>\n",
       "    </tr>\n",
       "    <tr>\n",
       "      <td>2</td>\n",
       "      <td>2</td>\n",
       "      <td>1000_2</td>\n",
       "      <td>1197.26</td>\n",
       "      <td>2018-06-25</td>\n",
       "      <td>1000</td>\n",
       "    </tr>\n",
       "    <tr>\n",
       "      <td>3</td>\n",
       "      <td>3</td>\n",
       "      <td>1000_3</td>\n",
       "      <td>550.27</td>\n",
       "      <td>2018-08-22</td>\n",
       "      <td>1000</td>\n",
       "    </tr>\n",
       "    <tr>\n",
       "      <td>4</td>\n",
       "      <td>4</td>\n",
       "      <td>1000_4</td>\n",
       "      <td>302.56</td>\n",
       "      <td>2018-09-24</td>\n",
       "      <td>1000</td>\n",
       "    </tr>\n",
       "  </tbody>\n",
       "</table>\n",
       "</div>"
      ],
      "text/plain": [
       "   Unnamed: 0      id  mb_used session_date  user_id\n",
       "0           0  1000_0   112.95   2018-11-25     1000\n",
       "1           1  1000_1  1052.81   2018-09-07     1000\n",
       "2           2  1000_2  1197.26   2018-06-25     1000\n",
       "3           3  1000_3   550.27   2018-08-22     1000\n",
       "4           4  1000_4   302.56   2018-09-24     1000"
      ]
     },
     "execution_count": 8,
     "metadata": {},
     "output_type": "execute_result"
    }
   ],
   "source": [
    "#исследование информации об интернет-сессиях\n",
    "internet = pd.read_csv('/datasets/internet.csv', sep=',')\n",
    "internet.head(5)"
   ]
  },
  {
   "cell_type": "code",
   "execution_count": 9,
   "metadata": {},
   "outputs": [
    {
     "name": "stdout",
     "output_type": "stream",
     "text": [
      "<class 'pandas.core.frame.DataFrame'>\n",
      "RangeIndex: 149396 entries, 0 to 149395\n",
      "Data columns (total 5 columns):\n",
      "Unnamed: 0      149396 non-null int64\n",
      "id              149396 non-null object\n",
      "mb_used         149396 non-null float64\n",
      "session_date    149396 non-null object\n",
      "user_id         149396 non-null int64\n",
      "dtypes: float64(1), int64(2), object(2)\n",
      "memory usage: 5.7+ MB\n",
      "None\n"
     ]
    }
   ],
   "source": [
    "#просмотр сводной информации о наборе данных в таблице с информацией об интернет-сессиях\n",
    "print(internet.info())"
   ]
  },
  {
   "cell_type": "code",
   "execution_count": 10,
   "metadata": {},
   "outputs": [
    {
     "data": {
      "text/html": [
       "<div>\n",
       "<style scoped>\n",
       "    .dataframe tbody tr th:only-of-type {\n",
       "        vertical-align: middle;\n",
       "    }\n",
       "\n",
       "    .dataframe tbody tr th {\n",
       "        vertical-align: top;\n",
       "    }\n",
       "\n",
       "    .dataframe thead th {\n",
       "        text-align: right;\n",
       "    }\n",
       "</style>\n",
       "<table border=\"1\" class=\"dataframe\">\n",
       "  <thead>\n",
       "    <tr style=\"text-align: right;\">\n",
       "      <th></th>\n",
       "      <th>messages_included</th>\n",
       "      <th>mb_per_month_included</th>\n",
       "      <th>minutes_included</th>\n",
       "      <th>rub_monthly_fee</th>\n",
       "      <th>rub_per_gb</th>\n",
       "      <th>rub_per_message</th>\n",
       "      <th>rub_per_minute</th>\n",
       "      <th>tariff_name</th>\n",
       "    </tr>\n",
       "  </thead>\n",
       "  <tbody>\n",
       "    <tr>\n",
       "      <td>0</td>\n",
       "      <td>50</td>\n",
       "      <td>15360</td>\n",
       "      <td>500</td>\n",
       "      <td>550</td>\n",
       "      <td>200</td>\n",
       "      <td>3</td>\n",
       "      <td>3</td>\n",
       "      <td>smart</td>\n",
       "    </tr>\n",
       "    <tr>\n",
       "      <td>1</td>\n",
       "      <td>1000</td>\n",
       "      <td>30720</td>\n",
       "      <td>3000</td>\n",
       "      <td>1950</td>\n",
       "      <td>150</td>\n",
       "      <td>1</td>\n",
       "      <td>1</td>\n",
       "      <td>ultra</td>\n",
       "    </tr>\n",
       "  </tbody>\n",
       "</table>\n",
       "</div>"
      ],
      "text/plain": [
       "   messages_included  mb_per_month_included  minutes_included  \\\n",
       "0                 50                  15360               500   \n",
       "1               1000                  30720              3000   \n",
       "\n",
       "   rub_monthly_fee  rub_per_gb  rub_per_message  rub_per_minute tariff_name  \n",
       "0              550         200                3               3       smart  \n",
       "1             1950         150                1               1       ultra  "
      ]
     },
     "execution_count": 10,
     "metadata": {},
     "output_type": "execute_result"
    }
   ],
   "source": [
    "#исследование информации о тарифах\n",
    "tariffs = pd.read_csv('/datasets/tariffs.csv', sep=',')\n",
    "tariffs.head(5)"
   ]
  },
  {
   "cell_type": "code",
   "execution_count": 11,
   "metadata": {},
   "outputs": [
    {
     "name": "stdout",
     "output_type": "stream",
     "text": [
      "<class 'pandas.core.frame.DataFrame'>\n",
      "RangeIndex: 2 entries, 0 to 1\n",
      "Data columns (total 8 columns):\n",
      "messages_included        2 non-null int64\n",
      "mb_per_month_included    2 non-null int64\n",
      "minutes_included         2 non-null int64\n",
      "rub_monthly_fee          2 non-null int64\n",
      "rub_per_gb               2 non-null int64\n",
      "rub_per_message          2 non-null int64\n",
      "rub_per_minute           2 non-null int64\n",
      "tariff_name              2 non-null object\n",
      "dtypes: int64(7), object(1)\n",
      "memory usage: 256.0+ bytes\n",
      "None\n"
     ]
    }
   ],
   "source": [
    "#просмотр сводной информации о наборе данных в таблице с информацией о тарифах\n",
    "print(tariffs.info())"
   ]
  },
  {
   "cell_type": "markdown",
   "metadata": {},
   "source": [
    "### Вывод:\n",
    "\n",
    "#### Таблица \"Информация о пользователях\"\n",
    "1. Содержит полную информацию о пользователях (500 строк-пользователей и 8 колонок).\n",
    "2. Не содержит пропущенных значений за исключением значений колонки \"Дата прекращения пользования тарифом\".\n",
    "3. Колонки \"Дата прекращения пользования тарифом\" (churn_date) и \"Дата подключения тарифа\" (reg_date) имеют тип данных - object. Для дальнейших операций со значениями указанных колонок, необходимо преобразовать тип данных колонок в формат даты - datetime.\n",
    "4. В колонке \"Дата прекращения пользования тарифом\" почти все значения Nan. Будем считать, что если значение пропущено, то тариф действовал на момент выгрузки данных. Дата выгрузки данных нам не известна, предположим, что это текущая дата.\n",
    "5. Колонка \"Название тарифного плана\" (tariff) содержит значениня, по которым можно связать текущую таблицу с таблицей \"Информация о тарифах\". Названия колонок в обоих таблицах отличаются. В текущей таблицей \"Информация о пользователях\" необходимо переименовать название колонки, указав значение однозначно определяющее ее содержание. Необходимо заменить системное название на значение - \"tariff_name\".\n",
    "\n",
    "#### Таблица \"Информация о звонках\"\n",
    "1. Содержит полную информацию о звонках пользователей (202607 строк и 4 колонки).\n",
    "2. Не содержит пропущенных значений.\n",
    "3. Колонка \"Дата звонка\" (call_date) имет тип данных - object. Для дальнейших операций со значениями колонки, необходимо преобразовать тип данных в формат даты - datetime.\n",
    "4. Колонка \"Идентификатор пользователя, сделавшего звонок\" (user_id) содержит значения, по которым необходимо связать две таблицы: текущею (\"Информация о звонках\") и таблицу \"Информация о пользователях\".\n",
    "5. Колонка \"Длительность звонка в минутах\" содержит аномальные значения \"0\". Необходимо заменить значения по правилам оператора сотовой связи.\n",
    "6. По правилам оператора сотовой связи требуется округлить значения в большую сторону в колонке \"Длительность звонка в минутах\".\n",
    "\n",
    "#### Таблица \"Информация о сообщениях\"\n",
    "1. Содержит полную информацию о сообщениях пользователей (123036 строк и 3 колонки).\n",
    "2. Не содержит пропущенных значений.\n",
    "3. Колонка \"Дата сообщения\" (message_date) имет тип данных - object. Для дальнейших операций со значениями колонки, необходимо преобразовать тип данных в формат даты - datetime.\n",
    "4. Колонка \"Идентификатор пользователя, отправившего сообщение\"сообщениях\" (user_id) содержит значения, по которым необходимо связать две таблицы: текущею (\"Информация о сообщениях\") и таблицу \"Информация о пользователях\".\n",
    "\n",
    "#### Таблица \"Информация об интернет-сессиях\"\n",
    "1. Содержит полную информацию об интернет-сессиях пользователей (149396 строк и 5 колонок).\n",
    "2. Не содержит пропущенных значений.\n",
    "3. Колонка \"Дата интернет сессии\" (session_date) имет тип данных - object. Для дальнейших операций со значениями колонки, необходимо преобразовать тип данных в формат даты - datetime.\n",
    "4. Колонка \"Идентификатор пользователя\" (user_id) содержит значения, по которым необходимо связать две таблицы: текущею (\"Информация об интернет-сессиях\") и таблицу \"Информация о пользователях\".\n",
    "5. Значения колонки \"Объем потраченного за сессию интернет-трафика\" (mb_used) представлены в единицах измерения - мегабайты. Необходимо преобразовать значения в единицы измерения - гигабайты (1 гигабайт = 1024 мегабайтам).\n",
    "6. Таблица содержит неинформативную колонку - Unnamed: 0. Необходимо удалить ее.\n",
    "7. Колонка \"Объем потраченного за сессию интернет-траффика\" содержит аномальные значения \"0\". Необходимо заменить значения по правилам оператора сотовой связи.\n",
    "8. По правилам оператора сотовой связи требуется округлить значения в большую сторону в колонке \"Объем потраченного за сессию интернет-траффика\".\n",
    "\n",
    "#### Таблица \"Информация о тарифах\"\n",
    "1. Содержит полные сведения о тарифах.\n",
    "2. Не содержит пропущенных значений.\n",
    "3. Колонка \"Название тарифного плана\" (tariff_name) содержит значения, по которым необходимо связать две таблицы: текущюю (\"Информация о тарифах\") и таблицу \"Информация о пользователях\".\n",
    "\n",
    "### Итог:\n",
    "1. В таблице \"Информация о пользователях\" переименовать системное наименование колонки. Заменить \"tariff\" на \"tariff_name\".\n",
    "2. В таблице \"Информация об интернет-сессиях\" удалить колонку \"Unnamed: 0\".\n",
    "3. На следующем этапе \"Подготовка данных\" необходимо связать все таблицы в 1 по следующим правилам:\n",
    "    + Таблицы \"Информация о звонках\", \"Информация о сообщениях\", \"Информация об интернет-сессиях\" связываются с таблицей \"Информация о пользователях\" по уникальным значениям ключа \"Индентификатор пользователя\" (user_id);\n",
    "    + Таблицы \"Информация о пользователях\" и \"Информация о тарифах\" связываются между собой по уникальным значениям ключа \"Название тарифного плана\" (tariff_name).\n",
    "4. Пустые значения колонки \"Дата прекращения пользования тарифом\" (churn_date) необходимо заполнить значениями текущей даты.\n",
    "5. Тип данных колонок: \n",
    "    + \"Дата прекращения пользования тарифом\" (churn_date);\n",
    "    + \"Дата подключения тарифа\" (reg_date);\n",
    "    + \"Дата звонка\" (call_date);\n",
    "    + \"Дата сообщения\" (message_date);\n",
    "    + \"Дата интернет сессии\" (session_date),\n",
    "    необходимо преобразовать в формат формат даты - datetime.\n",
    "6. Для анализа данных по месяца, необходимо преобразовать значения всех полей с датами всех представленных таблиц (далее в сводной таблице) в значение формата месяца.\n",
    "7. Значения колонки \"Объем потраченного за сессию интернет-трафика\" (mb_used) необходимо преобразовать в единицу измерения - гигабайты (1 гигабайт = 1024 мегабайтам).\n",
    "8. Аномальные значения \"0\" в колонках \"Длительность звонка в минутах\" (таблица \"Информация о звонках\") и \"Объем потраченного за сессию интернет-трафика\" (таблица \"Информция об интернет-сессиях\") необходимо заменить на значение 1 по правилам округления оператора сотовой связи.\n",
    "9. В колонках \"Длительность звонка в минутах\" (таблица \"Информация о звонках\") и \"Объем потраченного за сессию интернет-трафика\" (таблица \"Информция об интернет-сессиях\") по правилам оператора сотовой связи необходимо округлить значения в большую сторону.\n",
    "После выполнения последних действий пунктов 7-8 выдвину предположение, что **округление значений в большую сторону приведет к ежемесячной переплате пользователями по каждому тарифу!**"
   ]
  },
  {
   "cell_type": "markdown",
   "metadata": {},
   "source": [
    "### Подготовка данных"
   ]
  },
  {
   "cell_type": "code",
   "execution_count": 12,
   "metadata": {},
   "outputs": [],
   "source": [
    "# Импорт библиотеки Numpy\n",
    "import numpy as np\n",
    "\n",
    "# Импорт библиотеки Seaborn для построения графиков\n",
    "import seaborn as sns"
   ]
  },
  {
   "cell_type": "code",
   "execution_count": 13,
   "metadata": {},
   "outputs": [
    {
     "name": "stdout",
     "output_type": "stream",
     "text": [
      "<class 'pandas.core.frame.DataFrame'>\n",
      "RangeIndex: 500 entries, 0 to 499\n",
      "Data columns (total 8 columns):\n",
      "user_id       500 non-null int64\n",
      "age           500 non-null int64\n",
      "churn_date    500 non-null object\n",
      "city          500 non-null object\n",
      "first_name    500 non-null object\n",
      "last_name     500 non-null object\n",
      "reg_date      500 non-null object\n",
      "tariff        500 non-null object\n",
      "dtypes: int64(2), object(6)\n",
      "memory usage: 31.4+ KB\n"
     ]
    }
   ],
   "source": [
    "# Замена пустых значений в колонке \"Дата прекращения пользования тарифом\" (churn_date)\n",
    "# таблицы \"Информация о пользователях\" на текущую дату - 4 апреля 2020 года.\n",
    "users['churn_date'] = users['churn_date'].fillna('2020-04-04 00:00:00')\n",
    "users.info()"
   ]
  },
  {
   "cell_type": "code",
   "execution_count": 14,
   "metadata": {},
   "outputs": [],
   "source": [
    "#Замена типов данных в \n",
    "# колонке \"Дата прекращения пользования тарифа\" таблицы \"Информация о пользователях\" \n",
    "# с преобразованием к виду ГГГГ.ММ.ДД\n",
    "users['churn_date']= pd.to_datetime(users['churn_date'], format='%Y.%m.%d')\n",
    "\n",
    "# колонке \"Дата подключения тарифа\" таблицы \"Информация о пользователях\" \n",
    "# с преобразованием к виду ГГГГ.ММ.ДД\n",
    "users['reg_date']= pd.to_datetime(users['reg_date'], format='%Y.%m.%d')\n",
    "\n",
    "# колонке \"Дата звонка\" таблицы \"Информация о звонках\" с преобразованием к виду ГГГГ.ММ.ДД\n",
    "calls['call_date']= pd.to_datetime(calls['call_date'], format='%Y.%m.%d')\n",
    "\n",
    "# колонке \"Дата сообщения\" таблицы \"Информация о сообщениях\" с преобразованием к виду ГГГГ.ММ.ДД\n",
    "messages['message_date']= pd.to_datetime(messages['message_date'], format='%Y.%m.%d')\n",
    "\n",
    "# колонке \"Дата интернет-сессии\" таблицы \"Информация об интернет-сессиях\" с преобразованием к виду ГГГГ.ММ.ДД\n",
    "internet['session_date']= pd.to_datetime(internet['session_date'], format='%Y.%m.%d')"
   ]
  },
  {
   "cell_type": "code",
   "execution_count": 15,
   "metadata": {},
   "outputs": [
    {
     "name": "stdout",
     "output_type": "stream",
     "text": [
      "2018-12-31 00:00:00\n",
      "2018-01-01 00:00:00\n",
      "2018-12-31 00:00:00\n",
      "2018-01-01 00:00:00\n",
      "2018-12-31 00:00:00\n",
      "2018-01-02 00:00:00\n",
      "2018-12-31 00:00:00\n",
      "2018-12-31 00:00:00\n"
     ]
    }
   ],
   "source": [
    "# Для преобразования всех дат формата ГГГГ-ММ-ДД в формат - ММ, \n",
    "# проанализируем максимальную и минимальную даты других колонок и таблиц\n",
    "\n",
    "# Расчет максимальной и минимальной даты в колонке \"Дата подключения тарифа\" таблицы \"Информация о пользователях\"\n",
    "print(users['reg_date'].max())\n",
    "print(users['reg_date'].min())\n",
    "\n",
    "# Расчет максимальной и минимальной даты в колонке \"Дата звонка\" таблицы \"Информация о звонках\"\n",
    "print(calls['call_date'].max())\n",
    "print(calls['call_date'].min())\n",
    "\n",
    "# Расчет максимальной и минимальной даты в колонке \"Дата сообщения\" таблицы \"Информация о сообщениях\"\n",
    "print(messages['message_date'].max())\n",
    "print(messages['message_date'].min())\n",
    "\n",
    "# Расчет максимальной и минимальной даты в колонке \"Дата интернет-сессии\" таблицы \"Информация об интернет-сессиях\"\n",
    "print(internet['session_date'].max())\n",
    "print(internet['session_date'].max())"
   ]
  },
  {
   "cell_type": "code",
   "execution_count": 16,
   "metadata": {},
   "outputs": [],
   "source": [
    "#Расчет месяца подключения тарифа и сохранение в отдельной колонке \"Месяц\" (month) \n",
    "# таблицы \"Информации о пользователях\"\n",
    "users['month'] = users['reg_date'].dt.month\n",
    "\n",
    "#Расчет месяца и сохранение в отдельной колонке \"Месяц\" (month) таблицы \"Информации о звонках\"\n",
    "calls['month'] = calls['call_date'].dt.month\n",
    "\n",
    "#Расчет месяца и сохранение в отдельной колонке \"Месяц\" (month) таблицы \"Информация о сообщениях\"\n",
    "messages['month'] = messages['message_date'].dt.month\n",
    "\n",
    "#Расчет месяца и сохранение в отдельной колонке \"Месяц\" (month) таблицы \"Информация об интернет-сессиях\"\n",
    "internet['month'] = internet['session_date'].dt.month"
   ]
  },
  {
   "cell_type": "code",
   "execution_count": 17,
   "metadata": {},
   "outputs": [],
   "source": [
    "# в таблице \"Информация об интернет-сессиях\" удалим колонку \"Unnamed: 0\"\n",
    "internet.drop(['Unnamed: 0'], axis='columns', inplace=True)"
   ]
  },
  {
   "cell_type": "code",
   "execution_count": 18,
   "metadata": {},
   "outputs": [],
   "source": [
    "# В таблице с информацией о пользователях переименуем системное имя колонки \"Название тарифного плана\"\n",
    "# с \"tariff\" в \"tariff_name\" для дальнейшего объединения с таблицей \"Информация о тарифах\"\n",
    "users.set_axis(['user_id',\n",
    "                'age',\n",
    "                'churn_date',\n",
    "                'city',\n",
    "                'first_name',\n",
    "                'last_name',\n",
    "                'reg_date',\n",
    "                'tariff_name',\n",
    "                'month'], axis = 'columns',inplace=True)"
   ]
  },
  {
   "cell_type": "code",
   "execution_count": 19,
   "metadata": {},
   "outputs": [],
   "source": [
    "# Заменяем в колонке \"Длительность звонка в минутах\" таблицы \"Информация о звонках\" \n",
    "# значение \"0\" на значение \"1\" по правилам оператора сотовой связи\n",
    "calls = calls.replace(0.00, 1.00)"
   ]
  },
  {
   "cell_type": "code",
   "execution_count": 20,
   "metadata": {},
   "outputs": [],
   "source": [
    "# Округление значений в колонке \"Длительность звонка в минутах\" таблицы \"Информация о звонках\" \n",
    "calls['duration'] = np.ceil(calls['duration'])"
   ]
  },
  {
   "cell_type": "code",
   "execution_count": 21,
   "metadata": {},
   "outputs": [],
   "source": [
    "# Заменяем в колонке \"Объем потраченного за сессию интернет-траффика\" таблицы \"Информация об \n",
    "# интернет-сессиях\" значение \"0\" на значение \"1\" по правилам оператора сотовой связи\n",
    "internet = internet.replace(0.00, 1.00)"
   ]
  },
  {
   "cell_type": "code",
   "execution_count": 22,
   "metadata": {},
   "outputs": [],
   "source": [
    "# Округление в колонке \"Объем потраченного за сессию интернет-траффика\" таблицы \"Информация об \n",
    "# интернет-сессиях\"\n",
    "internet['mb_used'] = np.ceil(internet['mb_used'])"
   ]
  },
  {
   "cell_type": "code",
   "execution_count": 23,
   "metadata": {},
   "outputs": [
    {
     "data": {
      "text/html": [
       "<div>\n",
       "<style scoped>\n",
       "    .dataframe tbody tr th:only-of-type {\n",
       "        vertical-align: middle;\n",
       "    }\n",
       "\n",
       "    .dataframe tbody tr th {\n",
       "        vertical-align: top;\n",
       "    }\n",
       "\n",
       "    .dataframe thead th {\n",
       "        text-align: right;\n",
       "    }\n",
       "</style>\n",
       "<table border=\"1\" class=\"dataframe\">\n",
       "  <thead>\n",
       "    <tr style=\"text-align: right;\">\n",
       "      <th></th>\n",
       "      <th>month</th>\n",
       "      <th>id</th>\n",
       "    </tr>\n",
       "    <tr>\n",
       "      <th>user_id</th>\n",
       "      <th></th>\n",
       "      <th></th>\n",
       "    </tr>\n",
       "  </thead>\n",
       "  <tbody>\n",
       "    <tr>\n",
       "      <td>1000</td>\n",
       "      <td>5</td>\n",
       "      <td>22</td>\n",
       "    </tr>\n",
       "    <tr>\n",
       "      <td>1000</td>\n",
       "      <td>6</td>\n",
       "      <td>60</td>\n",
       "    </tr>\n",
       "    <tr>\n",
       "      <td>1000</td>\n",
       "      <td>7</td>\n",
       "      <td>75</td>\n",
       "    </tr>\n",
       "    <tr>\n",
       "      <td>1000</td>\n",
       "      <td>8</td>\n",
       "      <td>81</td>\n",
       "    </tr>\n",
       "    <tr>\n",
       "      <td>1000</td>\n",
       "      <td>9</td>\n",
       "      <td>57</td>\n",
       "    </tr>\n",
       "  </tbody>\n",
       "</table>\n",
       "</div>"
      ],
      "text/plain": [
       "         month  id\n",
       "user_id           \n",
       "1000         5  22\n",
       "1000         6  60\n",
       "1000         7  75\n",
       "1000         8  81\n",
       "1000         9  57"
      ]
     },
     "execution_count": 23,
     "metadata": {},
     "output_type": "execute_result"
    }
   ],
   "source": [
    "# Группируем данных в таблице \"Информация о сообщениях\" по пользователям и месяцу сообщения\n",
    "messages_group = messages.groupby(['user_id', 'month'])['id'].count()\n",
    "messages_group = messages_group.reset_index(level = 'month')\n",
    "messages_group.head()"
   ]
  },
  {
   "cell_type": "code",
   "execution_count": 24,
   "metadata": {},
   "outputs": [
    {
     "data": {
      "text/plain": [
       "<matplotlib.axes._subplots.AxesSubplot at 0x7f31bc137fd0>"
      ]
     },
     "execution_count": 24,
     "metadata": {},
     "output_type": "execute_result"
    },
    {
     "data": {
      "image/png": "[encoded data removed]",
      "text/plain": [
       "<Figure size 432x288 with 1 Axes>"
      ]
     },
     "metadata": {
      "needs_background": "light"
     },
     "output_type": "display_data"
    }
   ],
   "source": [
    "# Строим график \"Информация о сообщениях\" по пользователям и месяцу сообщения\n",
    "sns.lineplot(x=\"month\", y=\"id\",\n",
    "             data=messages_group)"
   ]
  },
  {
   "cell_type": "code",
   "execution_count": 25,
   "metadata": {},
   "outputs": [
    {
     "data": {
      "text/html": [
       "<div>\n",
       "<style scoped>\n",
       "    .dataframe tbody tr th:only-of-type {\n",
       "        vertical-align: middle;\n",
       "    }\n",
       "\n",
       "    .dataframe tbody tr th {\n",
       "        vertical-align: top;\n",
       "    }\n",
       "\n",
       "    .dataframe thead th {\n",
       "        text-align: right;\n",
       "    }\n",
       "</style>\n",
       "<table border=\"1\" class=\"dataframe\">\n",
       "  <thead>\n",
       "    <tr style=\"text-align: right;\">\n",
       "      <th></th>\n",
       "      <th>user_id</th>\n",
       "      <th>month</th>\n",
       "      <th>duration_count</th>\n",
       "      <th>duration</th>\n",
       "    </tr>\n",
       "  </thead>\n",
       "  <tbody>\n",
       "    <tr>\n",
       "      <td>0</td>\n",
       "      <td>1000</td>\n",
       "      <td>5</td>\n",
       "      <td>22</td>\n",
       "      <td>164.0</td>\n",
       "    </tr>\n",
       "    <tr>\n",
       "      <td>1</td>\n",
       "      <td>1000</td>\n",
       "      <td>6</td>\n",
       "      <td>43</td>\n",
       "      <td>187.0</td>\n",
       "    </tr>\n",
       "    <tr>\n",
       "      <td>2</td>\n",
       "      <td>1000</td>\n",
       "      <td>7</td>\n",
       "      <td>47</td>\n",
       "      <td>346.0</td>\n",
       "    </tr>\n",
       "    <tr>\n",
       "      <td>3</td>\n",
       "      <td>1000</td>\n",
       "      <td>8</td>\n",
       "      <td>52</td>\n",
       "      <td>418.0</td>\n",
       "    </tr>\n",
       "    <tr>\n",
       "      <td>4</td>\n",
       "      <td>1000</td>\n",
       "      <td>9</td>\n",
       "      <td>58</td>\n",
       "      <td>478.0</td>\n",
       "    </tr>\n",
       "  </tbody>\n",
       "</table>\n",
       "</div>"
      ],
      "text/plain": [
       "   user_id  month  duration_count  duration\n",
       "0     1000      5              22     164.0\n",
       "1     1000      6              43     187.0\n",
       "2     1000      7              47     346.0\n",
       "3     1000      8              52     418.0\n",
       "4     1000      9              58     478.0"
      ]
     },
     "execution_count": 25,
     "metadata": {},
     "output_type": "execute_result"
    }
   ],
   "source": [
    "# Расчет количества сделанных звонков и израсходованных минут группировки пользователь и месяц звонка\n",
    "count_calls = calls.pivot_table(index=['user_id','month'], \n",
    "                                      values = 'duration', \n",
    "                                      aggfunc = ['count','sum']).stack().reset_index()\n",
    "count_calls.set_axis(['user_id',\n",
    "                'month',\n",
    "                'delete',\n",
    "                'duration_count',\n",
    "                'duration'], axis = 'columns',inplace=True)\n",
    "count_calls = count_calls.loc[:, ['user_id','month','duration_count','duration']]\n",
    "count_calls.head()"
   ]
  },
  {
   "cell_type": "code",
   "execution_count": 26,
   "metadata": {},
   "outputs": [
    {
     "data": {
      "text/plain": [
       "<matplotlib.axes._subplots.AxesSubplot at 0x7f31b8a3cf10>"
      ]
     },
     "execution_count": 26,
     "metadata": {},
     "output_type": "execute_result"
    },
    {
     "data": {
      "image/png": "[encoded data removed]",
      "text/plain": [
       "<Figure size 432x288 with 1 Axes>"
      ]
     },
     "metadata": {
      "needs_background": "light"
     },
     "output_type": "display_data"
    }
   ],
   "source": [
    "# Строим график израсходованных минут разговора по месяцам\n",
    "sns.lineplot(x=\"month\", y=\"duration\",\n",
    "             data=count_calls)"
   ]
  },
  {
   "cell_type": "code",
   "execution_count": 27,
   "metadata": {},
   "outputs": [
    {
     "data": {
      "text/plain": [
       "<matplotlib.axes._subplots.AxesSubplot at 0x7f31db492290>"
      ]
     },
     "execution_count": 27,
     "metadata": {},
     "output_type": "execute_result"
    },
    {
     "data": {
      "image/png": "[encoded data removed]",
      "text/plain": [
       "<Figure size 432x288 with 1 Axes>"
      ]
     },
     "metadata": {
      "needs_background": "light"
     },
     "output_type": "display_data"
    }
   ],
   "source": [
    "# Строим график количества сделанных звонков по месяцам\n",
    "sns.lineplot(x=\"month\", y=\"duration_count\",\n",
    "             data=count_calls)"
   ]
  },
  {
   "cell_type": "code",
   "execution_count": 28,
   "metadata": {},
   "outputs": [
    {
     "data": {
      "text/html": [
       "<div>\n",
       "<style scoped>\n",
       "    .dataframe tbody tr th:only-of-type {\n",
       "        vertical-align: middle;\n",
       "    }\n",
       "\n",
       "    .dataframe tbody tr th {\n",
       "        vertical-align: top;\n",
       "    }\n",
       "\n",
       "    .dataframe thead th {\n",
       "        text-align: right;\n",
       "    }\n",
       "</style>\n",
       "<table border=\"1\" class=\"dataframe\">\n",
       "  <thead>\n",
       "    <tr style=\"text-align: right;\">\n",
       "      <th></th>\n",
       "      <th>user_id</th>\n",
       "      <th>month</th>\n",
       "      <th>mb_used_sum</th>\n",
       "    </tr>\n",
       "  </thead>\n",
       "  <tbody>\n",
       "    <tr>\n",
       "      <td>0</td>\n",
       "      <td>1000</td>\n",
       "      <td>5</td>\n",
       "      <td>2257.0</td>\n",
       "    </tr>\n",
       "    <tr>\n",
       "      <td>1</td>\n",
       "      <td>1000</td>\n",
       "      <td>6</td>\n",
       "      <td>23262.0</td>\n",
       "    </tr>\n",
       "    <tr>\n",
       "      <td>2</td>\n",
       "      <td>1000</td>\n",
       "      <td>7</td>\n",
       "      <td>14017.0</td>\n",
       "    </tr>\n",
       "    <tr>\n",
       "      <td>3</td>\n",
       "      <td>1000</td>\n",
       "      <td>8</td>\n",
       "      <td>14072.0</td>\n",
       "    </tr>\n",
       "    <tr>\n",
       "      <td>4</td>\n",
       "      <td>1000</td>\n",
       "      <td>9</td>\n",
       "      <td>14583.0</td>\n",
       "    </tr>\n",
       "  </tbody>\n",
       "</table>\n",
       "</div>"
      ],
      "text/plain": [
       "   user_id  month  mb_used_sum\n",
       "0     1000      5       2257.0\n",
       "1     1000      6      23262.0\n",
       "2     1000      7      14017.0\n",
       "3     1000      8      14072.0\n",
       "4     1000      9      14583.0"
      ]
     },
     "execution_count": 28,
     "metadata": {},
     "output_type": "execute_result"
    }
   ],
   "source": [
    "# Расчет количества объема израсходованного интернет-траффика по месяцам\n",
    "count_internet = internet.pivot_table(index=['user_id','month'], \n",
    "                                      values = 'mb_used', \n",
    "                                      aggfunc = ['sum']).stack().reset_index()\n",
    "count_internet.set_axis(['user_id',\n",
    "                'month',\n",
    "                'delete',\n",
    "                'mb_used_sum'], axis = 'columns',inplace=True)\n",
    "count_internet = count_internet.loc[:, ['user_id','month','mb_used_sum']]\n",
    "count_internet.head()"
   ]
  },
  {
   "cell_type": "code",
   "execution_count": 29,
   "metadata": {},
   "outputs": [
    {
     "data": {
      "text/plain": [
       "<matplotlib.axes._subplots.AxesSubplot at 0x7f31b8286850>"
      ]
     },
     "execution_count": 29,
     "metadata": {},
     "output_type": "execute_result"
    },
    {
     "data": {
      "image/png": "[encoded data removed]",
      "text/plain": [
       "<Figure size 432x288 with 1 Axes>"
      ]
     },
     "metadata": {
      "needs_background": "light"
     },
     "output_type": "display_data"
    }
   ],
   "source": [
    "# Строим график объема израсходованного интернет-траффика по месяцам\n",
    "sns.lineplot(x=\"month\", y=\"mb_used_sum\",\n",
    "             data=count_internet)"
   ]
  },
  {
   "cell_type": "code",
   "execution_count": 30,
   "metadata": {},
   "outputs": [
    {
     "data": {
      "text/html": [
       "<div>\n",
       "<style scoped>\n",
       "    .dataframe tbody tr th:only-of-type {\n",
       "        vertical-align: middle;\n",
       "    }\n",
       "\n",
       "    .dataframe tbody tr th {\n",
       "        vertical-align: top;\n",
       "    }\n",
       "\n",
       "    .dataframe thead th {\n",
       "        text-align: right;\n",
       "    }\n",
       "</style>\n",
       "<table border=\"1\" class=\"dataframe\">\n",
       "  <thead>\n",
       "    <tr style=\"text-align: right;\">\n",
       "      <th></th>\n",
       "      <th>user_id</th>\n",
       "      <th>month</th>\n",
       "      <th>mb_used_sum</th>\n",
       "      <th>duration_count</th>\n",
       "      <th>duration</th>\n",
       "    </tr>\n",
       "  </thead>\n",
       "  <tbody>\n",
       "    <tr>\n",
       "      <td>0</td>\n",
       "      <td>1000</td>\n",
       "      <td>5</td>\n",
       "      <td>2257.0</td>\n",
       "      <td>22.0</td>\n",
       "      <td>164.0</td>\n",
       "    </tr>\n",
       "    <tr>\n",
       "      <td>1</td>\n",
       "      <td>1000</td>\n",
       "      <td>6</td>\n",
       "      <td>23262.0</td>\n",
       "      <td>43.0</td>\n",
       "      <td>187.0</td>\n",
       "    </tr>\n",
       "    <tr>\n",
       "      <td>2</td>\n",
       "      <td>1000</td>\n",
       "      <td>7</td>\n",
       "      <td>14017.0</td>\n",
       "      <td>47.0</td>\n",
       "      <td>346.0</td>\n",
       "    </tr>\n",
       "    <tr>\n",
       "      <td>3</td>\n",
       "      <td>1000</td>\n",
       "      <td>8</td>\n",
       "      <td>14072.0</td>\n",
       "      <td>52.0</td>\n",
       "      <td>418.0</td>\n",
       "    </tr>\n",
       "    <tr>\n",
       "      <td>4</td>\n",
       "      <td>1000</td>\n",
       "      <td>9</td>\n",
       "      <td>14583.0</td>\n",
       "      <td>58.0</td>\n",
       "      <td>478.0</td>\n",
       "    </tr>\n",
       "  </tbody>\n",
       "</table>\n",
       "</div>"
      ],
      "text/plain": [
       "   user_id  month  mb_used_sum  duration_count  duration\n",
       "0     1000      5       2257.0            22.0     164.0\n",
       "1     1000      6      23262.0            43.0     187.0\n",
       "2     1000      7      14017.0            47.0     346.0\n",
       "3     1000      8      14072.0            52.0     418.0\n",
       "4     1000      9      14583.0            58.0     478.0"
      ]
     },
     "execution_count": 30,
     "metadata": {},
     "output_type": "execute_result"
    }
   ],
   "source": [
    "# Объединяем таблицы \"Информация о звонках\" и \"Информация об интернет-сессиях\"\n",
    "internet_calls = count_internet.merge(count_calls,on=['user_id','month'],how='left')\n",
    "internet_calls.head(5)"
   ]
  },
  {
   "cell_type": "code",
   "execution_count": 31,
   "metadata": {},
   "outputs": [
    {
     "data": {
      "text/html": [
       "<div>\n",
       "<style scoped>\n",
       "    .dataframe tbody tr th:only-of-type {\n",
       "        vertical-align: middle;\n",
       "    }\n",
       "\n",
       "    .dataframe tbody tr th {\n",
       "        vertical-align: top;\n",
       "    }\n",
       "\n",
       "    .dataframe thead th {\n",
       "        text-align: right;\n",
       "    }\n",
       "</style>\n",
       "<table border=\"1\" class=\"dataframe\">\n",
       "  <thead>\n",
       "    <tr style=\"text-align: right;\">\n",
       "      <th></th>\n",
       "      <th>user_id</th>\n",
       "      <th>month</th>\n",
       "      <th>mb_used_sum</th>\n",
       "      <th>duration_count</th>\n",
       "      <th>duration</th>\n",
       "      <th>id</th>\n",
       "    </tr>\n",
       "  </thead>\n",
       "  <tbody>\n",
       "    <tr>\n",
       "      <td>0</td>\n",
       "      <td>1000</td>\n",
       "      <td>5</td>\n",
       "      <td>2257.0</td>\n",
       "      <td>22.0</td>\n",
       "      <td>164.0</td>\n",
       "      <td>22.0</td>\n",
       "    </tr>\n",
       "    <tr>\n",
       "      <td>1</td>\n",
       "      <td>1000</td>\n",
       "      <td>6</td>\n",
       "      <td>23262.0</td>\n",
       "      <td>43.0</td>\n",
       "      <td>187.0</td>\n",
       "      <td>60.0</td>\n",
       "    </tr>\n",
       "    <tr>\n",
       "      <td>2</td>\n",
       "      <td>1000</td>\n",
       "      <td>7</td>\n",
       "      <td>14017.0</td>\n",
       "      <td>47.0</td>\n",
       "      <td>346.0</td>\n",
       "      <td>75.0</td>\n",
       "    </tr>\n",
       "    <tr>\n",
       "      <td>3</td>\n",
       "      <td>1000</td>\n",
       "      <td>8</td>\n",
       "      <td>14072.0</td>\n",
       "      <td>52.0</td>\n",
       "      <td>418.0</td>\n",
       "      <td>81.0</td>\n",
       "    </tr>\n",
       "    <tr>\n",
       "      <td>4</td>\n",
       "      <td>1000</td>\n",
       "      <td>9</td>\n",
       "      <td>14583.0</td>\n",
       "      <td>58.0</td>\n",
       "      <td>478.0</td>\n",
       "      <td>57.0</td>\n",
       "    </tr>\n",
       "  </tbody>\n",
       "</table>\n",
       "</div>"
      ],
      "text/plain": [
       "   user_id  month  mb_used_sum  duration_count  duration    id\n",
       "0     1000      5       2257.0            22.0     164.0  22.0\n",
       "1     1000      6      23262.0            43.0     187.0  60.0\n",
       "2     1000      7      14017.0            47.0     346.0  75.0\n",
       "3     1000      8      14072.0            52.0     418.0  81.0\n",
       "4     1000      9      14583.0            58.0     478.0  57.0"
      ]
     },
     "execution_count": 31,
     "metadata": {},
     "output_type": "execute_result"
    }
   ],
   "source": [
    "# Объединяем таблицу \"Информация о звонках/ Информация об интернет-сессиях\" и сгруппированную\n",
    "# по месяцу и пользователю таблицу \"Информация о сообщениях\"\n",
    "internet_calls_messages = internet_calls.merge(messages_group,on=['user_id','month'],how='left')\n",
    "internet_calls_messages.head(5)"
   ]
  },
  {
   "cell_type": "code",
   "execution_count": 32,
   "metadata": {},
   "outputs": [],
   "source": [
    "# Создаем новую таблицу с определенными колонками из таблицы \"Информация о пользователях\"\n",
    "users_id_tarif_city = users.loc[:, ['user_id','tariff_name','city']]"
   ]
  },
  {
   "cell_type": "code",
   "execution_count": 33,
   "metadata": {},
   "outputs": [
    {
     "data": {
      "text/html": [
       "<div>\n",
       "<style scoped>\n",
       "    .dataframe tbody tr th:only-of-type {\n",
       "        vertical-align: middle;\n",
       "    }\n",
       "\n",
       "    .dataframe tbody tr th {\n",
       "        vertical-align: top;\n",
       "    }\n",
       "\n",
       "    .dataframe thead th {\n",
       "        text-align: right;\n",
       "    }\n",
       "</style>\n",
       "<table border=\"1\" class=\"dataframe\">\n",
       "  <thead>\n",
       "    <tr style=\"text-align: right;\">\n",
       "      <th></th>\n",
       "      <th>user_id</th>\n",
       "      <th>tariff_name</th>\n",
       "      <th>city</th>\n",
       "      <th>messages_included</th>\n",
       "      <th>mb_per_month_included</th>\n",
       "      <th>minutes_included</th>\n",
       "      <th>rub_monthly_fee</th>\n",
       "      <th>rub_per_gb</th>\n",
       "      <th>rub_per_message</th>\n",
       "      <th>rub_per_minute</th>\n",
       "    </tr>\n",
       "  </thead>\n",
       "  <tbody>\n",
       "    <tr>\n",
       "      <td>0</td>\n",
       "      <td>1000</td>\n",
       "      <td>ultra</td>\n",
       "      <td>Краснодар</td>\n",
       "      <td>1000</td>\n",
       "      <td>30720</td>\n",
       "      <td>3000</td>\n",
       "      <td>1950</td>\n",
       "      <td>150</td>\n",
       "      <td>1</td>\n",
       "      <td>1</td>\n",
       "    </tr>\n",
       "    <tr>\n",
       "      <td>1</td>\n",
       "      <td>1003</td>\n",
       "      <td>ultra</td>\n",
       "      <td>Москва</td>\n",
       "      <td>1000</td>\n",
       "      <td>30720</td>\n",
       "      <td>3000</td>\n",
       "      <td>1950</td>\n",
       "      <td>150</td>\n",
       "      <td>1</td>\n",
       "      <td>1</td>\n",
       "    </tr>\n",
       "    <tr>\n",
       "      <td>2</td>\n",
       "      <td>1004</td>\n",
       "      <td>ultra</td>\n",
       "      <td>Новокузнецк</td>\n",
       "      <td>1000</td>\n",
       "      <td>30720</td>\n",
       "      <td>3000</td>\n",
       "      <td>1950</td>\n",
       "      <td>150</td>\n",
       "      <td>1</td>\n",
       "      <td>1</td>\n",
       "    </tr>\n",
       "    <tr>\n",
       "      <td>3</td>\n",
       "      <td>1013</td>\n",
       "      <td>ultra</td>\n",
       "      <td>Иваново</td>\n",
       "      <td>1000</td>\n",
       "      <td>30720</td>\n",
       "      <td>3000</td>\n",
       "      <td>1950</td>\n",
       "      <td>150</td>\n",
       "      <td>1</td>\n",
       "      <td>1</td>\n",
       "    </tr>\n",
       "    <tr>\n",
       "      <td>4</td>\n",
       "      <td>1016</td>\n",
       "      <td>ultra</td>\n",
       "      <td>Омск</td>\n",
       "      <td>1000</td>\n",
       "      <td>30720</td>\n",
       "      <td>3000</td>\n",
       "      <td>1950</td>\n",
       "      <td>150</td>\n",
       "      <td>1</td>\n",
       "      <td>1</td>\n",
       "    </tr>\n",
       "  </tbody>\n",
       "</table>\n",
       "</div>"
      ],
      "text/plain": [
       "   user_id tariff_name         city  messages_included  mb_per_month_included  \\\n",
       "0     1000       ultra    Краснодар               1000                  30720   \n",
       "1     1003       ultra       Москва               1000                  30720   \n",
       "2     1004       ultra  Новокузнецк               1000                  30720   \n",
       "3     1013       ultra      Иваново               1000                  30720   \n",
       "4     1016       ultra         Омск               1000                  30720   \n",
       "\n",
       "   minutes_included  rub_monthly_fee  rub_per_gb  rub_per_message  \\\n",
       "0              3000             1950         150                1   \n",
       "1              3000             1950         150                1   \n",
       "2              3000             1950         150                1   \n",
       "3              3000             1950         150                1   \n",
       "4              3000             1950         150                1   \n",
       "\n",
       "   rub_per_minute  \n",
       "0               1  \n",
       "1               1  \n",
       "2               1  \n",
       "3               1  \n",
       "4               1  "
      ]
     },
     "execution_count": 33,
     "metadata": {},
     "output_type": "execute_result"
    }
   ],
   "source": [
    "# Объединяем таблицы \"Информация о тарифах\" с ранее созданной таблицей с \n",
    "# определенной информацией о пользователях\n",
    "users_tariffs = users_id_tarif_city.merge(tariffs,on='tariff_name')\n",
    "users_tariffs.head(5)"
   ]
  },
  {
   "cell_type": "code",
   "execution_count": 34,
   "metadata": {},
   "outputs": [
    {
     "data": {
      "text/html": [
       "<div>\n",
       "<style scoped>\n",
       "    .dataframe tbody tr th:only-of-type {\n",
       "        vertical-align: middle;\n",
       "    }\n",
       "\n",
       "    .dataframe tbody tr th {\n",
       "        vertical-align: top;\n",
       "    }\n",
       "\n",
       "    .dataframe thead th {\n",
       "        text-align: right;\n",
       "    }\n",
       "</style>\n",
       "<table border=\"1\" class=\"dataframe\">\n",
       "  <thead>\n",
       "    <tr style=\"text-align: right;\">\n",
       "      <th></th>\n",
       "      <th>user_id</th>\n",
       "      <th>month</th>\n",
       "      <th>mb_used_sum</th>\n",
       "      <th>duration_count</th>\n",
       "      <th>duration</th>\n",
       "      <th>id</th>\n",
       "      <th>tariff_name</th>\n",
       "      <th>city</th>\n",
       "      <th>messages_included</th>\n",
       "      <th>mb_per_month_included</th>\n",
       "      <th>minutes_included</th>\n",
       "      <th>rub_monthly_fee</th>\n",
       "      <th>rub_per_gb</th>\n",
       "      <th>rub_per_message</th>\n",
       "      <th>rub_per_minute</th>\n",
       "    </tr>\n",
       "  </thead>\n",
       "  <tbody>\n",
       "    <tr>\n",
       "      <td>0</td>\n",
       "      <td>1000</td>\n",
       "      <td>5</td>\n",
       "      <td>2257.0</td>\n",
       "      <td>22.0</td>\n",
       "      <td>164.0</td>\n",
       "      <td>22.0</td>\n",
       "      <td>ultra</td>\n",
       "      <td>Краснодар</td>\n",
       "      <td>1000</td>\n",
       "      <td>30720</td>\n",
       "      <td>3000</td>\n",
       "      <td>1950</td>\n",
       "      <td>150</td>\n",
       "      <td>1</td>\n",
       "      <td>1</td>\n",
       "    </tr>\n",
       "    <tr>\n",
       "      <td>1</td>\n",
       "      <td>1000</td>\n",
       "      <td>6</td>\n",
       "      <td>23262.0</td>\n",
       "      <td>43.0</td>\n",
       "      <td>187.0</td>\n",
       "      <td>60.0</td>\n",
       "      <td>ultra</td>\n",
       "      <td>Краснодар</td>\n",
       "      <td>1000</td>\n",
       "      <td>30720</td>\n",
       "      <td>3000</td>\n",
       "      <td>1950</td>\n",
       "      <td>150</td>\n",
       "      <td>1</td>\n",
       "      <td>1</td>\n",
       "    </tr>\n",
       "    <tr>\n",
       "      <td>2</td>\n",
       "      <td>1000</td>\n",
       "      <td>7</td>\n",
       "      <td>14017.0</td>\n",
       "      <td>47.0</td>\n",
       "      <td>346.0</td>\n",
       "      <td>75.0</td>\n",
       "      <td>ultra</td>\n",
       "      <td>Краснодар</td>\n",
       "      <td>1000</td>\n",
       "      <td>30720</td>\n",
       "      <td>3000</td>\n",
       "      <td>1950</td>\n",
       "      <td>150</td>\n",
       "      <td>1</td>\n",
       "      <td>1</td>\n",
       "    </tr>\n",
       "    <tr>\n",
       "      <td>3</td>\n",
       "      <td>1000</td>\n",
       "      <td>8</td>\n",
       "      <td>14072.0</td>\n",
       "      <td>52.0</td>\n",
       "      <td>418.0</td>\n",
       "      <td>81.0</td>\n",
       "      <td>ultra</td>\n",
       "      <td>Краснодар</td>\n",
       "      <td>1000</td>\n",
       "      <td>30720</td>\n",
       "      <td>3000</td>\n",
       "      <td>1950</td>\n",
       "      <td>150</td>\n",
       "      <td>1</td>\n",
       "      <td>1</td>\n",
       "    </tr>\n",
       "    <tr>\n",
       "      <td>4</td>\n",
       "      <td>1000</td>\n",
       "      <td>9</td>\n",
       "      <td>14583.0</td>\n",
       "      <td>58.0</td>\n",
       "      <td>478.0</td>\n",
       "      <td>57.0</td>\n",
       "      <td>ultra</td>\n",
       "      <td>Краснодар</td>\n",
       "      <td>1000</td>\n",
       "      <td>30720</td>\n",
       "      <td>3000</td>\n",
       "      <td>1950</td>\n",
       "      <td>150</td>\n",
       "      <td>1</td>\n",
       "      <td>1</td>\n",
       "    </tr>\n",
       "  </tbody>\n",
       "</table>\n",
       "</div>"
      ],
      "text/plain": [
       "   user_id  month  mb_used_sum  duration_count  duration    id tariff_name  \\\n",
       "0     1000      5       2257.0            22.0     164.0  22.0       ultra   \n",
       "1     1000      6      23262.0            43.0     187.0  60.0       ultra   \n",
       "2     1000      7      14017.0            47.0     346.0  75.0       ultra   \n",
       "3     1000      8      14072.0            52.0     418.0  81.0       ultra   \n",
       "4     1000      9      14583.0            58.0     478.0  57.0       ultra   \n",
       "\n",
       "        city  messages_included  mb_per_month_included  minutes_included  \\\n",
       "0  Краснодар               1000                  30720              3000   \n",
       "1  Краснодар               1000                  30720              3000   \n",
       "2  Краснодар               1000                  30720              3000   \n",
       "3  Краснодар               1000                  30720              3000   \n",
       "4  Краснодар               1000                  30720              3000   \n",
       "\n",
       "   rub_monthly_fee  rub_per_gb  rub_per_message  rub_per_minute  \n",
       "0             1950         150                1               1  \n",
       "1             1950         150                1               1  \n",
       "2             1950         150                1               1  \n",
       "3             1950         150                1               1  \n",
       "4             1950         150                1               1  "
      ]
     },
     "execution_count": 34,
     "metadata": {},
     "output_type": "execute_result"
    }
   ],
   "source": [
    "# Объединяем все ранее созданные и сгруппированные таблицы в одну сводную\n",
    "all_info = internet_calls_messages.merge(users_tariffs,on=['user_id'],how='inner')\n",
    "all_info.head(5)"
   ]
  },
  {
   "cell_type": "code",
   "execution_count": 35,
   "metadata": {},
   "outputs": [
    {
     "data": {
      "text/html": [
       "<div>\n",
       "<style scoped>\n",
       "    .dataframe tbody tr th:only-of-type {\n",
       "        vertical-align: middle;\n",
       "    }\n",
       "\n",
       "    .dataframe tbody tr th {\n",
       "        vertical-align: top;\n",
       "    }\n",
       "\n",
       "    .dataframe thead th {\n",
       "        text-align: right;\n",
       "    }\n",
       "</style>\n",
       "<table border=\"1\" class=\"dataframe\">\n",
       "  <thead>\n",
       "    <tr style=\"text-align: right;\">\n",
       "      <th></th>\n",
       "      <th>user_id</th>\n",
       "      <th>month</th>\n",
       "      <th>mb_used_sum</th>\n",
       "      <th>duration_count</th>\n",
       "      <th>duration</th>\n",
       "      <th>id</th>\n",
       "      <th>tariff_name</th>\n",
       "      <th>city</th>\n",
       "      <th>messages_included</th>\n",
       "      <th>mb_per_month_included</th>\n",
       "      <th>minutes_included</th>\n",
       "      <th>rub_monthly_fee</th>\n",
       "      <th>rub_per_gb</th>\n",
       "      <th>rub_per_message</th>\n",
       "      <th>rub_per_minute</th>\n",
       "      <th>gb_used</th>\n",
       "      <th>gb_per_month_included</th>\n",
       "    </tr>\n",
       "  </thead>\n",
       "  <tbody>\n",
       "    <tr>\n",
       "      <td>0</td>\n",
       "      <td>1000</td>\n",
       "      <td>5</td>\n",
       "      <td>2257.0</td>\n",
       "      <td>22.0</td>\n",
       "      <td>164.0</td>\n",
       "      <td>22.0</td>\n",
       "      <td>ultra</td>\n",
       "      <td>Краснодар</td>\n",
       "      <td>1000</td>\n",
       "      <td>30720</td>\n",
       "      <td>3000</td>\n",
       "      <td>1950</td>\n",
       "      <td>150</td>\n",
       "      <td>1</td>\n",
       "      <td>1</td>\n",
       "      <td>2.204102</td>\n",
       "      <td>30.0</td>\n",
       "    </tr>\n",
       "    <tr>\n",
       "      <td>1</td>\n",
       "      <td>1000</td>\n",
       "      <td>6</td>\n",
       "      <td>23262.0</td>\n",
       "      <td>43.0</td>\n",
       "      <td>187.0</td>\n",
       "      <td>60.0</td>\n",
       "      <td>ultra</td>\n",
       "      <td>Краснодар</td>\n",
       "      <td>1000</td>\n",
       "      <td>30720</td>\n",
       "      <td>3000</td>\n",
       "      <td>1950</td>\n",
       "      <td>150</td>\n",
       "      <td>1</td>\n",
       "      <td>1</td>\n",
       "      <td>22.716797</td>\n",
       "      <td>30.0</td>\n",
       "    </tr>\n",
       "    <tr>\n",
       "      <td>2</td>\n",
       "      <td>1000</td>\n",
       "      <td>7</td>\n",
       "      <td>14017.0</td>\n",
       "      <td>47.0</td>\n",
       "      <td>346.0</td>\n",
       "      <td>75.0</td>\n",
       "      <td>ultra</td>\n",
       "      <td>Краснодар</td>\n",
       "      <td>1000</td>\n",
       "      <td>30720</td>\n",
       "      <td>3000</td>\n",
       "      <td>1950</td>\n",
       "      <td>150</td>\n",
       "      <td>1</td>\n",
       "      <td>1</td>\n",
       "      <td>13.688477</td>\n",
       "      <td>30.0</td>\n",
       "    </tr>\n",
       "    <tr>\n",
       "      <td>3</td>\n",
       "      <td>1000</td>\n",
       "      <td>8</td>\n",
       "      <td>14072.0</td>\n",
       "      <td>52.0</td>\n",
       "      <td>418.0</td>\n",
       "      <td>81.0</td>\n",
       "      <td>ultra</td>\n",
       "      <td>Краснодар</td>\n",
       "      <td>1000</td>\n",
       "      <td>30720</td>\n",
       "      <td>3000</td>\n",
       "      <td>1950</td>\n",
       "      <td>150</td>\n",
       "      <td>1</td>\n",
       "      <td>1</td>\n",
       "      <td>13.742188</td>\n",
       "      <td>30.0</td>\n",
       "    </tr>\n",
       "    <tr>\n",
       "      <td>4</td>\n",
       "      <td>1000</td>\n",
       "      <td>9</td>\n",
       "      <td>14583.0</td>\n",
       "      <td>58.0</td>\n",
       "      <td>478.0</td>\n",
       "      <td>57.0</td>\n",
       "      <td>ultra</td>\n",
       "      <td>Краснодар</td>\n",
       "      <td>1000</td>\n",
       "      <td>30720</td>\n",
       "      <td>3000</td>\n",
       "      <td>1950</td>\n",
       "      <td>150</td>\n",
       "      <td>1</td>\n",
       "      <td>1</td>\n",
       "      <td>14.241211</td>\n",
       "      <td>30.0</td>\n",
       "    </tr>\n",
       "  </tbody>\n",
       "</table>\n",
       "</div>"
      ],
      "text/plain": [
       "   user_id  month  mb_used_sum  duration_count  duration    id tariff_name  \\\n",
       "0     1000      5       2257.0            22.0     164.0  22.0       ultra   \n",
       "1     1000      6      23262.0            43.0     187.0  60.0       ultra   \n",
       "2     1000      7      14017.0            47.0     346.0  75.0       ultra   \n",
       "3     1000      8      14072.0            52.0     418.0  81.0       ultra   \n",
       "4     1000      9      14583.0            58.0     478.0  57.0       ultra   \n",
       "\n",
       "        city  messages_included  mb_per_month_included  minutes_included  \\\n",
       "0  Краснодар               1000                  30720              3000   \n",
       "1  Краснодар               1000                  30720              3000   \n",
       "2  Краснодар               1000                  30720              3000   \n",
       "3  Краснодар               1000                  30720              3000   \n",
       "4  Краснодар               1000                  30720              3000   \n",
       "\n",
       "   rub_monthly_fee  rub_per_gb  rub_per_message  rub_per_minute    gb_used  \\\n",
       "0             1950         150                1               1   2.204102   \n",
       "1             1950         150                1               1  22.716797   \n",
       "2             1950         150                1               1  13.688477   \n",
       "3             1950         150                1               1  13.742188   \n",
       "4             1950         150                1               1  14.241211   \n",
       "\n",
       "   gb_per_month_included  \n",
       "0                   30.0  \n",
       "1                   30.0  \n",
       "2                   30.0  \n",
       "3                   30.0  \n",
       "4                   30.0  "
      ]
     },
     "execution_count": 35,
     "metadata": {},
     "output_type": "execute_result"
    }
   ],
   "source": [
    "# Перевод значений колонки \"Объем потраченного за интернет сессию интернет-траффика\"\n",
    "# из единицы измерения - Мб, в единицу измерения - Гб. Преобразование сохранием в отдельной колонке\n",
    "all_info['gb_used'] = all_info['mb_used_sum'] / 1024\n",
    "all_info['gb_per_month_included'] =all_info['mb_per_month_included'] / 1024\n",
    "all_info.head(5)"
   ]
  },
  {
   "cell_type": "code",
   "execution_count": 36,
   "metadata": {},
   "outputs": [
    {
     "data": {
      "text/html": [
       "<div>\n",
       "<style scoped>\n",
       "    .dataframe tbody tr th:only-of-type {\n",
       "        vertical-align: middle;\n",
       "    }\n",
       "\n",
       "    .dataframe tbody tr th {\n",
       "        vertical-align: top;\n",
       "    }\n",
       "\n",
       "    .dataframe thead th {\n",
       "        text-align: right;\n",
       "    }\n",
       "</style>\n",
       "<table border=\"1\" class=\"dataframe\">\n",
       "  <thead>\n",
       "    <tr style=\"text-align: right;\">\n",
       "      <th></th>\n",
       "      <th>user_id</th>\n",
       "      <th>month</th>\n",
       "      <th>level_2</th>\n",
       "      <th>sum</th>\n",
       "    </tr>\n",
       "  </thead>\n",
       "  <tbody>\n",
       "    <tr>\n",
       "      <td>0</td>\n",
       "      <td>1000</td>\n",
       "      <td>5</td>\n",
       "      <td>revenue</td>\n",
       "      <td>1950.0</td>\n",
       "    </tr>\n",
       "    <tr>\n",
       "      <td>1</td>\n",
       "      <td>1000</td>\n",
       "      <td>6</td>\n",
       "      <td>revenue</td>\n",
       "      <td>1950.0</td>\n",
       "    </tr>\n",
       "    <tr>\n",
       "      <td>2</td>\n",
       "      <td>1000</td>\n",
       "      <td>7</td>\n",
       "      <td>revenue</td>\n",
       "      <td>1950.0</td>\n",
       "    </tr>\n",
       "    <tr>\n",
       "      <td>3</td>\n",
       "      <td>1000</td>\n",
       "      <td>8</td>\n",
       "      <td>revenue</td>\n",
       "      <td>1950.0</td>\n",
       "    </tr>\n",
       "    <tr>\n",
       "      <td>4</td>\n",
       "      <td>1000</td>\n",
       "      <td>9</td>\n",
       "      <td>revenue</td>\n",
       "      <td>1950.0</td>\n",
       "    </tr>\n",
       "  </tbody>\n",
       "</table>\n",
       "</div>"
      ],
      "text/plain": [
       "   user_id  month  level_2     sum\n",
       "0     1000      5  revenue  1950.0\n",
       "1     1000      6  revenue  1950.0\n",
       "2     1000      7  revenue  1950.0\n",
       "3     1000      8  revenue  1950.0\n",
       "4     1000      9  revenue  1950.0"
      ]
     },
     "execution_count": 36,
     "metadata": {},
     "output_type": "execute_result"
    }
   ],
   "source": [
    "# Расчет разницы между суммарным количеством звонков и бесплатным лимитом звонков\n",
    "all_info['diff_calls'] = all_info['duration'] - all_info['minutes_included']\n",
    "\n",
    "# Расчет разницы между суммарным количеством сообщений и бесплатным лимитом сообщений\n",
    "all_info['diff_message'] = all_info['id'] - all_info['messages_included']\n",
    "\n",
    "# Расчет разницы между суммарным количеством интернет-траффика и бесплатным лимитом интернет-траффика\n",
    "all_info['diff_internet'] = all_info['gb_used'] - all_info['gb_per_month_included']\n",
    "\n",
    "# Расчет общей выручки\n",
    "all_info['revenue'] = all_info['rub_monthly_fee'] \\\n",
    "    + np.where(all_info['diff_calls'] > 0, all_info['diff_calls'], 0) *all_info['rub_per_minute'] \\\n",
    "    + np.where(all_info['diff_message'] >0,all_info['diff_message'],0)*all_info['rub_per_message'] \\\n",
    "    + np.where(all_info['diff_internet']>0,all_info['diff_internet'],0)*all_info['rub_per_gb']\n",
    "\n",
    "# Расчет выручки группировки пользователь и месяц\n",
    "revenue_monts = all_info.pivot_table(index=['user_id','month'], \n",
    "                                      values = 'revenue', \n",
    "                                      aggfunc = ['sum']).stack().reset_index()\n",
    "\n",
    "revenue_monts.head(5)"
   ]
  },
  {
   "cell_type": "code",
   "execution_count": 37,
   "metadata": {},
   "outputs": [
    {
     "data": {
      "text/html": [
       "<div>\n",
       "<style scoped>\n",
       "    .dataframe tbody tr th:only-of-type {\n",
       "        vertical-align: middle;\n",
       "    }\n",
       "\n",
       "    .dataframe tbody tr th {\n",
       "        vertical-align: top;\n",
       "    }\n",
       "\n",
       "    .dataframe thead th {\n",
       "        text-align: right;\n",
       "    }\n",
       "</style>\n",
       "<table border=\"1\" class=\"dataframe\">\n",
       "  <thead>\n",
       "    <tr style=\"text-align: right;\">\n",
       "      <th></th>\n",
       "      <th>user_id</th>\n",
       "      <th>month</th>\n",
       "      <th>mb_used_sum</th>\n",
       "      <th>duration_count</th>\n",
       "      <th>duration</th>\n",
       "      <th>id</th>\n",
       "      <th>tariff_name</th>\n",
       "      <th>city</th>\n",
       "      <th>messages_included</th>\n",
       "      <th>mb_per_month_included</th>\n",
       "      <th>...</th>\n",
       "      <th>rub_monthly_fee</th>\n",
       "      <th>rub_per_gb</th>\n",
       "      <th>rub_per_message</th>\n",
       "      <th>rub_per_minute</th>\n",
       "      <th>gb_used</th>\n",
       "      <th>gb_per_month_included</th>\n",
       "      <th>diff_calls</th>\n",
       "      <th>diff_message</th>\n",
       "      <th>diff_internet</th>\n",
       "      <th>revenue</th>\n",
       "    </tr>\n",
       "  </thead>\n",
       "  <tbody>\n",
       "    <tr>\n",
       "      <td>0</td>\n",
       "      <td>1000</td>\n",
       "      <td>5</td>\n",
       "      <td>2257.0</td>\n",
       "      <td>22.0</td>\n",
       "      <td>164.0</td>\n",
       "      <td>22.0</td>\n",
       "      <td>ultra</td>\n",
       "      <td>Краснодар</td>\n",
       "      <td>1000</td>\n",
       "      <td>30720</td>\n",
       "      <td>...</td>\n",
       "      <td>1950</td>\n",
       "      <td>150</td>\n",
       "      <td>1</td>\n",
       "      <td>1</td>\n",
       "      <td>2.204102</td>\n",
       "      <td>30.0</td>\n",
       "      <td>-2836.0</td>\n",
       "      <td>-978.0</td>\n",
       "      <td>-27.795898</td>\n",
       "      <td>1950.000000</td>\n",
       "    </tr>\n",
       "    <tr>\n",
       "      <td>1</td>\n",
       "      <td>1000</td>\n",
       "      <td>6</td>\n",
       "      <td>23262.0</td>\n",
       "      <td>43.0</td>\n",
       "      <td>187.0</td>\n",
       "      <td>60.0</td>\n",
       "      <td>ultra</td>\n",
       "      <td>Краснодар</td>\n",
       "      <td>1000</td>\n",
       "      <td>30720</td>\n",
       "      <td>...</td>\n",
       "      <td>1950</td>\n",
       "      <td>150</td>\n",
       "      <td>1</td>\n",
       "      <td>1</td>\n",
       "      <td>22.716797</td>\n",
       "      <td>30.0</td>\n",
       "      <td>-2813.0</td>\n",
       "      <td>-940.0</td>\n",
       "      <td>-7.283203</td>\n",
       "      <td>1950.000000</td>\n",
       "    </tr>\n",
       "    <tr>\n",
       "      <td>2</td>\n",
       "      <td>1000</td>\n",
       "      <td>7</td>\n",
       "      <td>14017.0</td>\n",
       "      <td>47.0</td>\n",
       "      <td>346.0</td>\n",
       "      <td>75.0</td>\n",
       "      <td>ultra</td>\n",
       "      <td>Краснодар</td>\n",
       "      <td>1000</td>\n",
       "      <td>30720</td>\n",
       "      <td>...</td>\n",
       "      <td>1950</td>\n",
       "      <td>150</td>\n",
       "      <td>1</td>\n",
       "      <td>1</td>\n",
       "      <td>13.688477</td>\n",
       "      <td>30.0</td>\n",
       "      <td>-2654.0</td>\n",
       "      <td>-925.0</td>\n",
       "      <td>-16.311523</td>\n",
       "      <td>1950.000000</td>\n",
       "    </tr>\n",
       "    <tr>\n",
       "      <td>3</td>\n",
       "      <td>1000</td>\n",
       "      <td>8</td>\n",
       "      <td>14072.0</td>\n",
       "      <td>52.0</td>\n",
       "      <td>418.0</td>\n",
       "      <td>81.0</td>\n",
       "      <td>ultra</td>\n",
       "      <td>Краснодар</td>\n",
       "      <td>1000</td>\n",
       "      <td>30720</td>\n",
       "      <td>...</td>\n",
       "      <td>1950</td>\n",
       "      <td>150</td>\n",
       "      <td>1</td>\n",
       "      <td>1</td>\n",
       "      <td>13.742188</td>\n",
       "      <td>30.0</td>\n",
       "      <td>-2582.0</td>\n",
       "      <td>-919.0</td>\n",
       "      <td>-16.257812</td>\n",
       "      <td>1950.000000</td>\n",
       "    </tr>\n",
       "    <tr>\n",
       "      <td>4</td>\n",
       "      <td>1000</td>\n",
       "      <td>9</td>\n",
       "      <td>14583.0</td>\n",
       "      <td>58.0</td>\n",
       "      <td>478.0</td>\n",
       "      <td>57.0</td>\n",
       "      <td>ultra</td>\n",
       "      <td>Краснодар</td>\n",
       "      <td>1000</td>\n",
       "      <td>30720</td>\n",
       "      <td>...</td>\n",
       "      <td>1950</td>\n",
       "      <td>150</td>\n",
       "      <td>1</td>\n",
       "      <td>1</td>\n",
       "      <td>14.241211</td>\n",
       "      <td>30.0</td>\n",
       "      <td>-2522.0</td>\n",
       "      <td>-943.0</td>\n",
       "      <td>-15.758789</td>\n",
       "      <td>1950.000000</td>\n",
       "    </tr>\n",
       "    <tr>\n",
       "      <td>...</td>\n",
       "      <td>...</td>\n",
       "      <td>...</td>\n",
       "      <td>...</td>\n",
       "      <td>...</td>\n",
       "      <td>...</td>\n",
       "      <td>...</td>\n",
       "      <td>...</td>\n",
       "      <td>...</td>\n",
       "      <td>...</td>\n",
       "      <td>...</td>\n",
       "      <td>...</td>\n",
       "      <td>...</td>\n",
       "      <td>...</td>\n",
       "      <td>...</td>\n",
       "      <td>...</td>\n",
       "      <td>...</td>\n",
       "      <td>...</td>\n",
       "      <td>...</td>\n",
       "      <td>...</td>\n",
       "      <td>...</td>\n",
       "      <td>...</td>\n",
       "    </tr>\n",
       "    <tr>\n",
       "      <td>3198</td>\n",
       "      <td>1498</td>\n",
       "      <td>10</td>\n",
       "      <td>20614.0</td>\n",
       "      <td>41.0</td>\n",
       "      <td>258.0</td>\n",
       "      <td>42.0</td>\n",
       "      <td>smart</td>\n",
       "      <td>Владикавказ</td>\n",
       "      <td>50</td>\n",
       "      <td>15360</td>\n",
       "      <td>...</td>\n",
       "      <td>550</td>\n",
       "      <td>200</td>\n",
       "      <td>3</td>\n",
       "      <td>3</td>\n",
       "      <td>20.130859</td>\n",
       "      <td>15.0</td>\n",
       "      <td>-242.0</td>\n",
       "      <td>-8.0</td>\n",
       "      <td>5.130859</td>\n",
       "      <td>1576.171875</td>\n",
       "    </tr>\n",
       "    <tr>\n",
       "      <td>3199</td>\n",
       "      <td>1499</td>\n",
       "      <td>9</td>\n",
       "      <td>1849.0</td>\n",
       "      <td>9.0</td>\n",
       "      <td>71.0</td>\n",
       "      <td>11.0</td>\n",
       "      <td>smart</td>\n",
       "      <td>Пермь</td>\n",
       "      <td>50</td>\n",
       "      <td>15360</td>\n",
       "      <td>...</td>\n",
       "      <td>550</td>\n",
       "      <td>200</td>\n",
       "      <td>3</td>\n",
       "      <td>3</td>\n",
       "      <td>1.805664</td>\n",
       "      <td>15.0</td>\n",
       "      <td>-429.0</td>\n",
       "      <td>-39.0</td>\n",
       "      <td>-13.194336</td>\n",
       "      <td>550.000000</td>\n",
       "    </tr>\n",
       "    <tr>\n",
       "      <td>3200</td>\n",
       "      <td>1499</td>\n",
       "      <td>10</td>\n",
       "      <td>17824.0</td>\n",
       "      <td>68.0</td>\n",
       "      <td>473.0</td>\n",
       "      <td>48.0</td>\n",
       "      <td>smart</td>\n",
       "      <td>Пермь</td>\n",
       "      <td>50</td>\n",
       "      <td>15360</td>\n",
       "      <td>...</td>\n",
       "      <td>550</td>\n",
       "      <td>200</td>\n",
       "      <td>3</td>\n",
       "      <td>3</td>\n",
       "      <td>17.406250</td>\n",
       "      <td>15.0</td>\n",
       "      <td>-27.0</td>\n",
       "      <td>-2.0</td>\n",
       "      <td>2.406250</td>\n",
       "      <td>1031.250000</td>\n",
       "    </tr>\n",
       "    <tr>\n",
       "      <td>3201</td>\n",
       "      <td>1499</td>\n",
       "      <td>11</td>\n",
       "      <td>17994.0</td>\n",
       "      <td>74.0</td>\n",
       "      <td>624.0</td>\n",
       "      <td>59.0</td>\n",
       "      <td>smart</td>\n",
       "      <td>Пермь</td>\n",
       "      <td>50</td>\n",
       "      <td>15360</td>\n",
       "      <td>...</td>\n",
       "      <td>550</td>\n",
       "      <td>200</td>\n",
       "      <td>3</td>\n",
       "      <td>3</td>\n",
       "      <td>17.572266</td>\n",
       "      <td>15.0</td>\n",
       "      <td>124.0</td>\n",
       "      <td>9.0</td>\n",
       "      <td>2.572266</td>\n",
       "      <td>1463.453125</td>\n",
       "    </tr>\n",
       "    <tr>\n",
       "      <td>3202</td>\n",
       "      <td>1499</td>\n",
       "      <td>12</td>\n",
       "      <td>13082.0</td>\n",
       "      <td>69.0</td>\n",
       "      <td>505.0</td>\n",
       "      <td>66.0</td>\n",
       "      <td>smart</td>\n",
       "      <td>Пермь</td>\n",
       "      <td>50</td>\n",
       "      <td>15360</td>\n",
       "      <td>...</td>\n",
       "      <td>550</td>\n",
       "      <td>200</td>\n",
       "      <td>3</td>\n",
       "      <td>3</td>\n",
       "      <td>12.775391</td>\n",
       "      <td>15.0</td>\n",
       "      <td>5.0</td>\n",
       "      <td>16.0</td>\n",
       "      <td>-2.224609</td>\n",
       "      <td>613.000000</td>\n",
       "    </tr>\n",
       "  </tbody>\n",
       "</table>\n",
       "<p>3203 rows × 21 columns</p>\n",
       "</div>"
      ],
      "text/plain": [
       "      user_id  month  mb_used_sum  duration_count  duration    id tariff_name  \\\n",
       "0        1000      5       2257.0            22.0     164.0  22.0       ultra   \n",
       "1        1000      6      23262.0            43.0     187.0  60.0       ultra   \n",
       "2        1000      7      14017.0            47.0     346.0  75.0       ultra   \n",
       "3        1000      8      14072.0            52.0     418.0  81.0       ultra   \n",
       "4        1000      9      14583.0            58.0     478.0  57.0       ultra   \n",
       "...       ...    ...          ...             ...       ...   ...         ...   \n",
       "3198     1498     10      20614.0            41.0     258.0  42.0       smart   \n",
       "3199     1499      9       1849.0             9.0      71.0  11.0       smart   \n",
       "3200     1499     10      17824.0            68.0     473.0  48.0       smart   \n",
       "3201     1499     11      17994.0            74.0     624.0  59.0       smart   \n",
       "3202     1499     12      13082.0            69.0     505.0  66.0       smart   \n",
       "\n",
       "             city  messages_included  mb_per_month_included  ...  \\\n",
       "0       Краснодар               1000                  30720  ...   \n",
       "1       Краснодар               1000                  30720  ...   \n",
       "2       Краснодар               1000                  30720  ...   \n",
       "3       Краснодар               1000                  30720  ...   \n",
       "4       Краснодар               1000                  30720  ...   \n",
       "...           ...                ...                    ...  ...   \n",
       "3198  Владикавказ                 50                  15360  ...   \n",
       "3199        Пермь                 50                  15360  ...   \n",
       "3200        Пермь                 50                  15360  ...   \n",
       "3201        Пермь                 50                  15360  ...   \n",
       "3202        Пермь                 50                  15360  ...   \n",
       "\n",
       "      rub_monthly_fee  rub_per_gb  rub_per_message  rub_per_minute    gb_used  \\\n",
       "0                1950         150                1               1   2.204102   \n",
       "1                1950         150                1               1  22.716797   \n",
       "2                1950         150                1               1  13.688477   \n",
       "3                1950         150                1               1  13.742188   \n",
       "4                1950         150                1               1  14.241211   \n",
       "...               ...         ...              ...             ...        ...   \n",
       "3198              550         200                3               3  20.130859   \n",
       "3199              550         200                3               3   1.805664   \n",
       "3200              550         200                3               3  17.406250   \n",
       "3201              550         200                3               3  17.572266   \n",
       "3202              550         200                3               3  12.775391   \n",
       "\n",
       "      gb_per_month_included  diff_calls  diff_message  diff_internet  \\\n",
       "0                      30.0     -2836.0        -978.0     -27.795898   \n",
       "1                      30.0     -2813.0        -940.0      -7.283203   \n",
       "2                      30.0     -2654.0        -925.0     -16.311523   \n",
       "3                      30.0     -2582.0        -919.0     -16.257812   \n",
       "4                      30.0     -2522.0        -943.0     -15.758789   \n",
       "...                     ...         ...           ...            ...   \n",
       "3198                   15.0      -242.0          -8.0       5.130859   \n",
       "3199                   15.0      -429.0         -39.0     -13.194336   \n",
       "3200                   15.0       -27.0          -2.0       2.406250   \n",
       "3201                   15.0       124.0           9.0       2.572266   \n",
       "3202                   15.0         5.0          16.0      -2.224609   \n",
       "\n",
       "          revenue  \n",
       "0     1950.000000  \n",
       "1     1950.000000  \n",
       "2     1950.000000  \n",
       "3     1950.000000  \n",
       "4     1950.000000  \n",
       "...           ...  \n",
       "3198  1576.171875  \n",
       "3199   550.000000  \n",
       "3200  1031.250000  \n",
       "3201  1463.453125  \n",
       "3202   613.000000  \n",
       "\n",
       "[3203 rows x 21 columns]"
      ]
     },
     "execution_count": 37,
     "metadata": {},
     "output_type": "execute_result"
    }
   ],
   "source": [
    "# Просмотр общей таблицы\n",
    "all_info"
   ]
  },
  {
   "cell_type": "code",
   "execution_count": 40,
   "metadata": {},
   "outputs": [
    {
     "data": {
      "text/html": [
       "<div>\n",
       "<style scoped>\n",
       "    .dataframe tbody tr th:only-of-type {\n",
       "        vertical-align: middle;\n",
       "    }\n",
       "\n",
       "    .dataframe tbody tr th {\n",
       "        vertical-align: top;\n",
       "    }\n",
       "\n",
       "    .dataframe thead th {\n",
       "        text-align: right;\n",
       "    }\n",
       "</style>\n",
       "<table border=\"1\" class=\"dataframe\">\n",
       "  <thead>\n",
       "    <tr style=\"text-align: right;\">\n",
       "      <th></th>\n",
       "      <th>user_id</th>\n",
       "      <th>tariff_name</th>\n",
       "      <th>level_2</th>\n",
       "      <th>sum</th>\n",
       "    </tr>\n",
       "  </thead>\n",
       "  <tbody>\n",
       "    <tr>\n",
       "      <td>0</td>\n",
       "      <td>1000</td>\n",
       "      <td>ultra</td>\n",
       "      <td>revenue</td>\n",
       "      <td>15600.00000</td>\n",
       "    </tr>\n",
       "    <tr>\n",
       "      <td>1</td>\n",
       "      <td>1001</td>\n",
       "      <td>smart</td>\n",
       "      <td>revenue</td>\n",
       "      <td>1705.46875</td>\n",
       "    </tr>\n",
       "    <tr>\n",
       "      <td>2</td>\n",
       "      <td>1002</td>\n",
       "      <td>smart</td>\n",
       "      <td>revenue</td>\n",
       "      <td>6714.06250</td>\n",
       "    </tr>\n",
       "    <tr>\n",
       "      <td>3</td>\n",
       "      <td>1003</td>\n",
       "      <td>ultra</td>\n",
       "      <td>revenue</td>\n",
       "      <td>9750.00000</td>\n",
       "    </tr>\n",
       "    <tr>\n",
       "      <td>4</td>\n",
       "      <td>1004</td>\n",
       "      <td>ultra</td>\n",
       "      <td>revenue</td>\n",
       "      <td>15600.00000</td>\n",
       "    </tr>\n",
       "  </tbody>\n",
       "</table>\n",
       "</div>"
      ],
      "text/plain": [
       "   user_id tariff_name  level_2          sum\n",
       "0     1000       ultra  revenue  15600.00000\n",
       "1     1001       smart  revenue   1705.46875\n",
       "2     1002       smart  revenue   6714.06250\n",
       "3     1003       ultra  revenue   9750.00000\n",
       "4     1004       ultra  revenue  15600.00000"
      ]
     },
     "execution_count": 40,
     "metadata": {},
     "output_type": "execute_result"
    }
   ],
   "source": [
    "# Расчет выручки группировки пользователю и тарифу за исследуемый год\n",
    "revenue_year = all_info.pivot_table(index=['user_id','tariff_name'], \n",
    "                                      values = 'revenue', \n",
    "                                     aggfunc = ['sum']).stack().reset_index()\n",
    "revenue_year.head(5)"
   ]
  },
  {
   "cell_type": "code",
   "execution_count": 41,
   "metadata": {},
   "outputs": [
    {
     "data": {
      "text/plain": [
       "<matplotlib.axes._subplots.AxesSubplot at 0x7f31b8272d90>"
      ]
     },
     "execution_count": 41,
     "metadata": {},
     "output_type": "execute_result"
    },
    {
     "data": {
      "image/png": "[encoded data removed]",
      "text/plain": [
       "<Figure size 432x288 with 1 Axes>"
      ]
     },
     "metadata": {
      "needs_background": "light"
     },
     "output_type": "display_data"
    }
   ],
   "source": [
    "# Строим график полученной выручки по тарифам за исследуемый год\n",
    "sns.lineplot(x=\"tariff_name\", y=\"sum\",\n",
    "             data=revenue_year)"
   ]
  },
  {
   "cell_type": "code",
   "execution_count": 42,
   "metadata": {},
   "outputs": [
    {
     "name": "stdout",
     "output_type": "stream",
     "text": [
      "            sum\n",
      "1   1705.468750\n",
      "2   6714.062500\n",
      "5  10344.000000\n",
      "6   9623.828125\n",
      "7   7973.125000\n",
      "        sum\n",
      "0   15600.0\n",
      "3    9750.0\n",
      "4   15600.0\n",
      "13   3900.0\n",
      "16   3900.0\n"
     ]
    }
   ],
   "source": [
    "# Расчет выручки по каждому тарифу. Вывод в отдельные таблицы\n",
    "revenue_smart = revenue_year[revenue_year['tariff_name'] == 'smart'].loc[:, ['sum']]\n",
    "revenue_ultra = revenue_year[revenue_year['tariff_name'] == 'ultra'].loc[:, ['sum']]\n",
    "print(revenue_smart.head())\n",
    "print(revenue_ultra.head())"
   ]
  },
  {
   "cell_type": "code",
   "execution_count": 43,
   "metadata": {},
   "outputs": [],
   "source": [
    "# Группировка значений колонки \"Город\". Группировка значений на 2 типа: \"Москва\" и \"Другой город\". \n",
    "# Запись выделенных значений в отдельную колонку \"capital\"\n",
    "def find_Moscow (city1):\n",
    "    if city1 == 'Москва':\n",
    "        return 'Москва'\n",
    "    else:\n",
    "        return 'Другой город'\n",
    "\n",
    "\n",
    "all_info['capital'] = all_info['city'].apply(find_Moscow)"
   ]
  },
  {
   "cell_type": "code",
   "execution_count": 44,
   "metadata": {},
   "outputs": [
    {
     "data": {
      "text/html": [
       "<div>\n",
       "<style scoped>\n",
       "    .dataframe tbody tr th:only-of-type {\n",
       "        vertical-align: middle;\n",
       "    }\n",
       "\n",
       "    .dataframe tbody tr th {\n",
       "        vertical-align: top;\n",
       "    }\n",
       "\n",
       "    .dataframe thead th {\n",
       "        text-align: right;\n",
       "    }\n",
       "</style>\n",
       "<table border=\"1\" class=\"dataframe\">\n",
       "  <thead>\n",
       "    <tr style=\"text-align: right;\">\n",
       "      <th></th>\n",
       "      <th>user_id</th>\n",
       "      <th>capital</th>\n",
       "      <th>level_2</th>\n",
       "      <th>sum</th>\n",
       "    </tr>\n",
       "  </thead>\n",
       "  <tbody>\n",
       "    <tr>\n",
       "      <td>0</td>\n",
       "      <td>1000</td>\n",
       "      <td>Другой город</td>\n",
       "      <td>revenue</td>\n",
       "      <td>15600.00000</td>\n",
       "    </tr>\n",
       "    <tr>\n",
       "      <td>1</td>\n",
       "      <td>1001</td>\n",
       "      <td>Москва</td>\n",
       "      <td>revenue</td>\n",
       "      <td>1705.46875</td>\n",
       "    </tr>\n",
       "    <tr>\n",
       "      <td>2</td>\n",
       "      <td>1002</td>\n",
       "      <td>Другой город</td>\n",
       "      <td>revenue</td>\n",
       "      <td>6714.06250</td>\n",
       "    </tr>\n",
       "    <tr>\n",
       "      <td>3</td>\n",
       "      <td>1003</td>\n",
       "      <td>Москва</td>\n",
       "      <td>revenue</td>\n",
       "      <td>9750.00000</td>\n",
       "    </tr>\n",
       "    <tr>\n",
       "      <td>4</td>\n",
       "      <td>1004</td>\n",
       "      <td>Другой город</td>\n",
       "      <td>revenue</td>\n",
       "      <td>15600.00000</td>\n",
       "    </tr>\n",
       "  </tbody>\n",
       "</table>\n",
       "</div>"
      ],
      "text/plain": [
       "   user_id       capital  level_2          sum\n",
       "0     1000  Другой город  revenue  15600.00000\n",
       "1     1001        Москва  revenue   1705.46875\n",
       "2     1002  Другой город  revenue   6714.06250\n",
       "3     1003        Москва  revenue   9750.00000\n",
       "4     1004  Другой город  revenue  15600.00000"
      ]
     },
     "execution_count": 44,
     "metadata": {},
     "output_type": "execute_result"
    }
   ],
   "source": [
    "# Расчет выручки группировки пользователю и тарифу за исследуемый год\n",
    "revenue_city = all_info.pivot_table(index=['user_id','capital'], \n",
    "                                      values = 'revenue', \n",
    "                                      aggfunc = ['sum']).stack().reset_index()\n",
    "revenue_city.head(5)"
   ]
  },
  {
   "cell_type": "code",
   "execution_count": 45,
   "metadata": {},
   "outputs": [
    {
     "name": "stdout",
     "output_type": "stream",
     "text": [
      "             sum\n",
      "1    1705.468750\n",
      "3    9750.000000\n",
      "7    7973.125000\n",
      "31   1880.000000\n",
      "33  10949.039062\n",
      "            sum\n",
      "0  15600.000000\n",
      "2   6714.062500\n",
      "4  15600.000000\n",
      "5  10344.000000\n",
      "6   9623.828125\n"
     ]
    }
   ],
   "source": [
    "# Расчет выручки по Москве и другим городам. Вывод в отдельные таблицы\n",
    "revenue_capital = revenue_city[revenue_city['capital'] == 'Москва'].loc[:, ['sum']]\n",
    "revenue_region = revenue_city[revenue_city['capital'] == 'Другой город'].loc[:, ['sum']]\n",
    "print(revenue_capital.head())\n",
    "print(revenue_region.head())"
   ]
  },
  {
   "cell_type": "code",
   "execution_count": 46,
   "metadata": {},
   "outputs": [
    {
     "data": {
      "image/png": "[encoded data removed]",
      "text/plain": [
       "<Figure size 432x432 with 1 Axes>"
      ]
     },
     "metadata": {
      "needs_background": "light"
     },
     "output_type": "display_data"
    }
   ],
   "source": [
    "#Средняя выручка от тарифного плана\n",
    "revenue_tariff_name = all_info.pivot_table(index=['tariff_name'], \n",
    "                                      values = 'revenue', \n",
    "                                      aggfunc = ['mean']).stack().reset_index()\n",
    "plot_revenue_tariff_name = revenue_tariff_name.loc[:, ['mean','tariff_name']]\n",
    "g = sns.catplot(x=\"tariff_name\", y=\"mean\", data=plot_revenue_tariff_name,\n",
    "                height=6, kind=\"bar\", palette=\"muted\")"
   ]
  },
  {
   "cell_type": "code",
   "execution_count": 47,
   "metadata": {},
   "outputs": [
    {
     "data": {
      "image/png": "[encoded data removed]",
      "text/plain": [
       "<Figure size 1403.25x432 with 1 Axes>"
      ]
     },
     "metadata": {
      "needs_background": "light"
     },
     "output_type": "display_data"
    }
   ],
   "source": [
    "# Строим график средней выручки в разрезе городов\n",
    "revenue_city_mean = all_info.pivot_table(index=['city','capital'], \n",
    "                                      values = 'revenue', \n",
    "                                      aggfunc = ['mean']).stack().reset_index()\n",
    "g = sns.catplot(x=\"city\", y=\"mean\", hue=\"capital\", data=revenue_city_mean,\n",
    "                height=6, kind=\"bar\", palette=\"muted\", aspect=3)"
   ]
  },
  {
   "cell_type": "code",
   "execution_count": 48,
   "metadata": {},
   "outputs": [
    {
     "data": {
      "text/plain": [
       "<seaborn.axisgrid.FacetGrid at 0x7f31b80f4dd0>"
      ]
     },
     "execution_count": 48,
     "metadata": {},
     "output_type": "execute_result"
    },
    {
     "data": {
      "image/png": "[encoded data removed]",
      "text/plain": [
       "<Figure size 1080x216 with 1 Axes>"
      ]
     },
     "metadata": {
      "needs_background": "light"
     },
     "output_type": "display_data"
    }
   ],
   "source": [
    "# Строим график средней выручки в разрезе месяцев\n",
    "sns.catplot(x=\"month\", y=\"sum\", data=revenue_monts, height=3, aspect=5)"
   ]
  },
  {
   "cell_type": "code",
   "execution_count": 49,
   "metadata": {},
   "outputs": [
    {
     "data": {
      "text/plain": [
       "<seaborn.axisgrid.FacetGrid at 0x7f31b810fa50>"
      ]
     },
     "execution_count": 49,
     "metadata": {},
     "output_type": "execute_result"
    },
    {
     "data": {
      "image/png": "[encoded data removed]",
      "text/plain": [
       "<Figure size 1080x216 with 1 Axes>"
      ]
     },
     "metadata": {
      "needs_background": "light"
     },
     "output_type": "display_data"
    }
   ],
   "source": [
    "# Строим график1 выручки по пользователям\n",
    "sns.catplot(x=\"user_id\", y=\"sum\", data=revenue_monts, height=3, aspect=5)"
   ]
  },
  {
   "cell_type": "code",
   "execution_count": 50,
   "metadata": {},
   "outputs": [
    {
     "data": {
      "text/plain": [
       "<matplotlib.axes._subplots.AxesSubplot at 0x7f31b6fa1f10>"
      ]
     },
     "execution_count": 50,
     "metadata": {},
     "output_type": "execute_result"
    },
    {
     "data": {
      "image/png": "[encoded data removed]",
      "text/plain": [
       "<Figure size 432x288 with 1 Axes>"
      ]
     },
     "metadata": {
      "needs_background": "light"
     },
     "output_type": "display_data"
    }
   ],
   "source": [
    "# Строим график2 выручки по пользователям\n",
    "sns.lineplot(x=\"user_id\", y=\"sum\",data=revenue_monts)"
   ]
  },
  {
   "cell_type": "markdown",
   "metadata": {},
   "source": [
    "### Вывод\n",
    "1. Даты во всех колонках соответствуют одному календарному году. Выборка была произведена по данным 2018 года.\n",
    "2. Наибольшее количество звонков, сообщений и объема израсходованного интернет-траффика замечено в декабре.\n",
    "3. Наименьшее количество звонков, сообщений и объема израсходованного интернет-траффика замечено в январе.\n",
    "4. В течении исследуемого года количество звонков, сообщений и объема израсходованного интернет-траффика постепенно растет. Всплески наблюдаются в марте и мае.\n",
    "4. Наибольшая выручка отмечена в декабре.\n",
    "5. Наименьшая выручка отмечена в январе.\n",
    "6. Годовая и средняя выручка тарифа \"Ультра\" больше аналогичной выручки тарифа \"Смарт\":\n",
    "    + средняя выручка тарифа \"Ультра\" примерно составляет 2100 рублей в месяц;\n",
    "    + средняя выручка тарифа \"Смарт\" примерно составляет 1250 рублей в месяц.\n",
    "7. Средняя выручка пользователей из Москвы не превышает средней выручки пользователей из других городов.\n",
    "8. Отмечены отдельные пользователи, по которым зарегистрирована наибольшая выручка компании сотового оператора, но по основной массе пользователей обоих тарифов средняя выручка примерно одинакова.\n",
    "#### Итог:\n",
    "Пользователи обоих тарифов активно пользуются тарифами в декабре (вероятно это связано с поиском и покупкой подарков к Новому году) и наименее активно в январе. В течении исследуемого года количество звонков, сообщений и объема израсходованного интернет-траффика плавно возрастает. Отдельные всплески увеличени отмечены в марте и мае (вероятно это также связано с праздничными и выходными днями данных месяцев)."
   ]
  },
  {
   "cell_type": "markdown",
   "metadata": {},
   "source": [
    "### Анализ данных"
   ]
  },
  {
   "cell_type": "code",
   "execution_count": 51,
   "metadata": {
    "scrolled": true
   },
   "outputs": [
    {
     "data": {
      "text/html": [
       "<div>\n",
       "<style scoped>\n",
       "    .dataframe tbody tr th:only-of-type {\n",
       "        vertical-align: middle;\n",
       "    }\n",
       "\n",
       "    .dataframe tbody tr th {\n",
       "        vertical-align: top;\n",
       "    }\n",
       "\n",
       "    .dataframe thead th {\n",
       "        text-align: right;\n",
       "    }\n",
       "</style>\n",
       "<table border=\"1\" class=\"dataframe\">\n",
       "  <thead>\n",
       "    <tr style=\"text-align: right;\">\n",
       "      <th></th>\n",
       "      <th>tariff_name</th>\n",
       "      <th>month</th>\n",
       "      <th>sum</th>\n",
       "    </tr>\n",
       "  </thead>\n",
       "  <tbody>\n",
       "    <tr>\n",
       "      <td>23</td>\n",
       "      <td>ultra</td>\n",
       "      <td>12</td>\n",
       "      <td>84406.0</td>\n",
       "    </tr>\n",
       "    <tr>\n",
       "      <td>22</td>\n",
       "      <td>ultra</td>\n",
       "      <td>11</td>\n",
       "      <td>74192.0</td>\n",
       "    </tr>\n",
       "    <tr>\n",
       "      <td>21</td>\n",
       "      <td>ultra</td>\n",
       "      <td>10</td>\n",
       "      <td>70138.0</td>\n",
       "    </tr>\n",
       "    <tr>\n",
       "      <td>20</td>\n",
       "      <td>ultra</td>\n",
       "      <td>9</td>\n",
       "      <td>63441.0</td>\n",
       "    </tr>\n",
       "    <tr>\n",
       "      <td>19</td>\n",
       "      <td>ultra</td>\n",
       "      <td>8</td>\n",
       "      <td>55862.0</td>\n",
       "    </tr>\n",
       "  </tbody>\n",
       "</table>\n",
       "</div>"
      ],
      "text/plain": [
       "   tariff_name  month      sum\n",
       "23       ultra     12  84406.0\n",
       "22       ultra     11  74192.0\n",
       "21       ultra     10  70138.0\n",
       "20       ultra      9  63441.0\n",
       "19       ultra      8  55862.0"
      ]
     },
     "execution_count": 51,
     "metadata": {},
     "output_type": "execute_result"
    }
   ],
   "source": [
    "# Расчет минут разговора по каждому тарифу в месяц\n",
    "tariff_minutes = all_info.pivot_table(index = ['tariff_name'], \n",
    "                            columns = 'month',\n",
    "                            values='duration', \n",
    "                            aggfunc=['sum']\n",
    "                              ).stack().reset_index()\n",
    "tariff_minutes = tariff_minutes.sort_values(by=['tariff_name','sum'], ascending = False)\n",
    "tariff_minutes.head(5)"
   ]
  },
  {
   "cell_type": "code",
   "execution_count": 52,
   "metadata": {},
   "outputs": [
    {
     "data": {
      "text/plain": [
       "<matplotlib.axes._subplots.AxesSubplot at 0x7f31b6f3ead0>"
      ]
     },
     "execution_count": 52,
     "metadata": {},
     "output_type": "execute_result"
    },
    {
     "data": {
      "image/png": "[encoded data removed]",
      "text/plain": [
       "<Figure size 432x288 with 1 Axes>"
      ]
     },
     "metadata": {
      "needs_background": "light"
     },
     "output_type": "display_data"
    }
   ],
   "source": [
    "# Строим график израсходованных минут разговора в разрезе месяцев по каждому тарифу\n",
    "sns.lineplot(x=\"month\", y=\"sum\",\n",
    "             hue=\"tariff_name\",\n",
    "             data=tariff_minutes)"
   ]
  },
  {
   "cell_type": "code",
   "execution_count": 53,
   "metadata": {},
   "outputs": [
    {
     "data": {
      "text/plain": [
       "<seaborn.axisgrid.FacetGrid at 0x7f31b6f25dd0>"
      ]
     },
     "execution_count": 53,
     "metadata": {},
     "output_type": "execute_result"
    },
    {
     "data": {
      "image/png": "[encoded data removed]",
      "text/plain": [
       "<Figure size 648x216 with 1 Axes>"
      ]
     },
     "metadata": {
      "needs_background": "light"
     },
     "output_type": "display_data"
    }
   ],
   "source": [
    "# Строим график израсходованных минут в зависимости от тарифного плана\n",
    "sns.relplot(x=\"tariff_name\", y=\"sum\", kind=\"line\", data=tariff_minutes, height=3, aspect=3)"
   ]
  },
  {
   "cell_type": "code",
   "execution_count": 54,
   "metadata": {},
   "outputs": [
    {
     "data": {
      "text/plain": [
       "<seaborn.axisgrid.FacetGrid at 0x7f31b5635fd0>"
      ]
     },
     "execution_count": 54,
     "metadata": {},
     "output_type": "execute_result"
    },
    {
     "data": {
      "image/png": "[encoded data removed]",
      "text/plain": [
       "<Figure size 648x216 with 1 Axes>"
      ]
     },
     "metadata": {
      "needs_background": "light"
     },
     "output_type": "display_data"
    }
   ],
   "source": [
    "# Строим график израсходованных минут по месяцам\n",
    "sns.relplot(x=\"month\", y=\"sum\", kind=\"line\", data=tariff_minutes, height=3, aspect=3)"
   ]
  },
  {
   "cell_type": "code",
   "execution_count": 55,
   "metadata": {
    "scrolled": false
   },
   "outputs": [
    {
     "data": {
      "text/html": [
       "<div>\n",
       "<style scoped>\n",
       "    .dataframe tbody tr th:only-of-type {\n",
       "        vertical-align: middle;\n",
       "    }\n",
       "\n",
       "    .dataframe tbody tr th {\n",
       "        vertical-align: top;\n",
       "    }\n",
       "\n",
       "    .dataframe thead th {\n",
       "        text-align: right;\n",
       "    }\n",
       "</style>\n",
       "<table border=\"1\" class=\"dataframe\">\n",
       "  <thead>\n",
       "    <tr style=\"text-align: right;\">\n",
       "      <th></th>\n",
       "      <th>month</th>\n",
       "      <th>sum</th>\n",
       "    </tr>\n",
       "  </thead>\n",
       "  <tbody>\n",
       "    <tr>\n",
       "      <td>count</td>\n",
       "      <td>12.000000</td>\n",
       "      <td>12.000000</td>\n",
       "    </tr>\n",
       "    <tr>\n",
       "      <td>mean</td>\n",
       "      <td>6.500000</td>\n",
       "      <td>79766.333333</td>\n",
       "    </tr>\n",
       "    <tr>\n",
       "      <td>std</td>\n",
       "      <td>3.605551</td>\n",
       "      <td>51291.389797</td>\n",
       "    </tr>\n",
       "    <tr>\n",
       "      <td>min</td>\n",
       "      <td>1.000000</td>\n",
       "      <td>7128.000000</td>\n",
       "    </tr>\n",
       "    <tr>\n",
       "      <td>25%</td>\n",
       "      <td>3.750000</td>\n",
       "      <td>39378.250000</td>\n",
       "    </tr>\n",
       "    <tr>\n",
       "      <td>50%</td>\n",
       "      <td>6.500000</td>\n",
       "      <td>75488.000000</td>\n",
       "    </tr>\n",
       "    <tr>\n",
       "      <td>75%</td>\n",
       "      <td>9.250000</td>\n",
       "      <td>118030.500000</td>\n",
       "    </tr>\n",
       "    <tr>\n",
       "      <td>max</td>\n",
       "      <td>12.000000</td>\n",
       "      <td>165608.000000</td>\n",
       "    </tr>\n",
       "  </tbody>\n",
       "</table>\n",
       "</div>"
      ],
      "text/plain": [
       "           month            sum\n",
       "count  12.000000      12.000000\n",
       "mean    6.500000   79766.333333\n",
       "std     3.605551   51291.389797\n",
       "min     1.000000    7128.000000\n",
       "25%     3.750000   39378.250000\n",
       "50%     6.500000   75488.000000\n",
       "75%     9.250000  118030.500000\n",
       "max    12.000000  165608.000000"
      ]
     },
     "execution_count": 55,
     "metadata": {},
     "output_type": "execute_result"
    }
   ],
   "source": [
    "# Основные показатели по тарифу 'smart' израсходованных минут\n",
    "tariff_minutes[tariff_minutes['tariff_name']=='smart'].describe()"
   ]
  },
  {
   "cell_type": "code",
   "execution_count": 56,
   "metadata": {},
   "outputs": [
    {
     "data": {
      "text/html": [
       "<div>\n",
       "<style scoped>\n",
       "    .dataframe tbody tr th:only-of-type {\n",
       "        vertical-align: middle;\n",
       "    }\n",
       "\n",
       "    .dataframe tbody tr th {\n",
       "        vertical-align: top;\n",
       "    }\n",
       "\n",
       "    .dataframe thead th {\n",
       "        text-align: right;\n",
       "    }\n",
       "</style>\n",
       "<table border=\"1\" class=\"dataframe\">\n",
       "  <thead>\n",
       "    <tr style=\"text-align: right;\">\n",
       "      <th></th>\n",
       "      <th>month</th>\n",
       "      <th>sum</th>\n",
       "    </tr>\n",
       "  </thead>\n",
       "  <tbody>\n",
       "    <tr>\n",
       "      <td>count</td>\n",
       "      <td>12.000000</td>\n",
       "      <td>12.000000</td>\n",
       "    </tr>\n",
       "    <tr>\n",
       "      <td>mean</td>\n",
       "      <td>6.500000</td>\n",
       "      <td>44197.916667</td>\n",
       "    </tr>\n",
       "    <tr>\n",
       "      <td>std</td>\n",
       "      <td>3.605551</td>\n",
       "      <td>26659.018612</td>\n",
       "    </tr>\n",
       "    <tr>\n",
       "      <td>min</td>\n",
       "      <td>1.000000</td>\n",
       "      <td>3968.000000</td>\n",
       "    </tr>\n",
       "    <tr>\n",
       "      <td>25%</td>\n",
       "      <td>3.750000</td>\n",
       "      <td>24044.000000</td>\n",
       "    </tr>\n",
       "    <tr>\n",
       "      <td>50%</td>\n",
       "      <td>6.500000</td>\n",
       "      <td>45921.000000</td>\n",
       "    </tr>\n",
       "    <tr>\n",
       "      <td>75%</td>\n",
       "      <td>9.250000</td>\n",
       "      <td>65115.250000</td>\n",
       "    </tr>\n",
       "    <tr>\n",
       "      <td>max</td>\n",
       "      <td>12.000000</td>\n",
       "      <td>84406.000000</td>\n",
       "    </tr>\n",
       "  </tbody>\n",
       "</table>\n",
       "</div>"
      ],
      "text/plain": [
       "           month           sum\n",
       "count  12.000000     12.000000\n",
       "mean    6.500000  44197.916667\n",
       "std     3.605551  26659.018612\n",
       "min     1.000000   3968.000000\n",
       "25%     3.750000  24044.000000\n",
       "50%     6.500000  45921.000000\n",
       "75%     9.250000  65115.250000\n",
       "max    12.000000  84406.000000"
      ]
     },
     "execution_count": 56,
     "metadata": {},
     "output_type": "execute_result"
    }
   ],
   "source": [
    "# Основные показатели по тарифу 'ultra' израсходованных минут\n",
    "tariff_minutes[tariff_minutes['tariff_name']=='ultra'].describe()"
   ]
  },
  {
   "cell_type": "code",
   "execution_count": 57,
   "metadata": {},
   "outputs": [
    {
     "name": "stdout",
     "output_type": "stream",
     "text": [
      "2411572778.388889\n"
     ]
    }
   ],
   "source": [
    "# Дисперсия минут разговора по тарифу \"Смарт\" \n",
    "print(np.var(tariff_minutes[tariff_minutes['tariff_name']=='smart']['sum']))"
   ]
  },
  {
   "cell_type": "code",
   "execution_count": 58,
   "metadata": {},
   "outputs": [
    {
     "name": "stdout",
     "output_type": "stream",
     "text": [
      "651478000.5763888\n"
     ]
    }
   ],
   "source": [
    "# Дисперсия минут разговора по тарифу \"Ультра\"\n",
    "print(np.var(tariff_minutes[tariff_minutes['tariff_name']=='ultra']['sum']))"
   ]
  },
  {
   "cell_type": "code",
   "execution_count": 59,
   "metadata": {},
   "outputs": [
    {
     "data": {
      "text/html": [
       "<div>\n",
       "<style scoped>\n",
       "    .dataframe tbody tr th:only-of-type {\n",
       "        vertical-align: middle;\n",
       "    }\n",
       "\n",
       "    .dataframe tbody tr th {\n",
       "        vertical-align: top;\n",
       "    }\n",
       "\n",
       "    .dataframe thead th {\n",
       "        text-align: right;\n",
       "    }\n",
       "</style>\n",
       "<table border=\"1\" class=\"dataframe\">\n",
       "  <thead>\n",
       "    <tr style=\"text-align: right;\">\n",
       "      <th></th>\n",
       "      <th>tariff_name</th>\n",
       "      <th>month</th>\n",
       "      <th>level_2</th>\n",
       "      <th>count</th>\n",
       "    </tr>\n",
       "  </thead>\n",
       "  <tbody>\n",
       "    <tr>\n",
       "      <td>23</td>\n",
       "      <td>ultra</td>\n",
       "      <td>12</td>\n",
       "      <td>messages_included</td>\n",
       "      <td>138</td>\n",
       "    </tr>\n",
       "    <tr>\n",
       "      <td>22</td>\n",
       "      <td>ultra</td>\n",
       "      <td>11</td>\n",
       "      <td>messages_included</td>\n",
       "      <td>133</td>\n",
       "    </tr>\n",
       "    <tr>\n",
       "      <td>21</td>\n",
       "      <td>ultra</td>\n",
       "      <td>10</td>\n",
       "      <td>messages_included</td>\n",
       "      <td>122</td>\n",
       "    </tr>\n",
       "    <tr>\n",
       "      <td>20</td>\n",
       "      <td>ultra</td>\n",
       "      <td>9</td>\n",
       "      <td>messages_included</td>\n",
       "      <td>114</td>\n",
       "    </tr>\n",
       "    <tr>\n",
       "      <td>19</td>\n",
       "      <td>ultra</td>\n",
       "      <td>8</td>\n",
       "      <td>messages_included</td>\n",
       "      <td>106</td>\n",
       "    </tr>\n",
       "  </tbody>\n",
       "</table>\n",
       "</div>"
      ],
      "text/plain": [
       "   tariff_name  month            level_2  count\n",
       "23       ultra     12  messages_included    138\n",
       "22       ultra     11  messages_included    133\n",
       "21       ultra     10  messages_included    122\n",
       "20       ultra      9  messages_included    114\n",
       "19       ultra      8  messages_included    106"
      ]
     },
     "execution_count": 59,
     "metadata": {},
     "output_type": "execute_result"
    }
   ],
   "source": [
    "# Расчет количество сообщений по каждому тарифу в месяц\n",
    "tariff_messages = all_info.pivot_table(index = ['tariff_name','month'], \n",
    "                            values='messages_included', \n",
    "                            aggfunc=['count']\n",
    "                              ).stack().reset_index()\n",
    "tariff_messages = tariff_messages.sort_values(by=['tariff_name','count'], ascending = False)\n",
    "tariff_messages.head(5)"
   ]
  },
  {
   "cell_type": "code",
   "execution_count": 60,
   "metadata": {},
   "outputs": [
    {
     "data": {
      "text/plain": [
       "<matplotlib.axes._subplots.AxesSubplot at 0x7f31b55b4550>"
      ]
     },
     "execution_count": 60,
     "metadata": {},
     "output_type": "execute_result"
    },
    {
     "data": {
      "image/png": "[encoded data removed]",
      "text/plain": [
       "<Figure size 432x288 with 1 Axes>"
      ]
     },
     "metadata": {
      "needs_background": "light"
     },
     "output_type": "display_data"
    }
   ],
   "source": [
    "# Строим график количества сообщений в разрезе месяцев по каждому тарифу\n",
    "sns.lineplot(x=\"month\", y=\"count\",\n",
    "             hue=\"tariff_name\",\n",
    "             data=tariff_messages)"
   ]
  },
  {
   "cell_type": "code",
   "execution_count": 61,
   "metadata": {},
   "outputs": [
    {
     "data": {
      "text/plain": [
       "<seaborn.axisgrid.FacetGrid at 0x7f31b55ed790>"
      ]
     },
     "execution_count": 61,
     "metadata": {},
     "output_type": "execute_result"
    },
    {
     "data": {
      "image/png": "[encoded data removed]",
      "text/plain": [
       "<Figure size 648x216 with 1 Axes>"
      ]
     },
     "metadata": {
      "needs_background": "light"
     },
     "output_type": "display_data"
    }
   ],
   "source": [
    "# Строим график количества сообщений в зависимости от тарифного плана\n",
    "sns.relplot(x=\"tariff_name\", y=\"count\", kind=\"line\", data=tariff_messages, height=3, aspect=3)"
   ]
  },
  {
   "cell_type": "code",
   "execution_count": 62,
   "metadata": {},
   "outputs": [
    {
     "data": {
      "text/html": [
       "<div>\n",
       "<style scoped>\n",
       "    .dataframe tbody tr th:only-of-type {\n",
       "        vertical-align: middle;\n",
       "    }\n",
       "\n",
       "    .dataframe tbody tr th {\n",
       "        vertical-align: top;\n",
       "    }\n",
       "\n",
       "    .dataframe thead th {\n",
       "        text-align: right;\n",
       "    }\n",
       "</style>\n",
       "<table border=\"1\" class=\"dataframe\">\n",
       "  <thead>\n",
       "    <tr style=\"text-align: right;\">\n",
       "      <th></th>\n",
       "      <th>month</th>\n",
       "      <th>count</th>\n",
       "    </tr>\n",
       "  </thead>\n",
       "  <tbody>\n",
       "    <tr>\n",
       "      <td>count</td>\n",
       "      <td>12.000000</td>\n",
       "      <td>12.000000</td>\n",
       "    </tr>\n",
       "    <tr>\n",
       "      <td>mean</td>\n",
       "      <td>6.500000</td>\n",
       "      <td>185.666667</td>\n",
       "    </tr>\n",
       "    <tr>\n",
       "      <td>std</td>\n",
       "      <td>3.605551</td>\n",
       "      <td>103.889218</td>\n",
       "    </tr>\n",
       "    <tr>\n",
       "      <td>min</td>\n",
       "      <td>1.000000</td>\n",
       "      <td>34.000000</td>\n",
       "    </tr>\n",
       "    <tr>\n",
       "      <td>25%</td>\n",
       "      <td>3.750000</td>\n",
       "      <td>103.250000</td>\n",
       "    </tr>\n",
       "    <tr>\n",
       "      <td>50%</td>\n",
       "      <td>6.500000</td>\n",
       "      <td>182.500000</td>\n",
       "    </tr>\n",
       "    <tr>\n",
       "      <td>75%</td>\n",
       "      <td>9.250000</td>\n",
       "      <td>268.500000</td>\n",
       "    </tr>\n",
       "    <tr>\n",
       "      <td>max</td>\n",
       "      <td>12.000000</td>\n",
       "      <td>337.000000</td>\n",
       "    </tr>\n",
       "  </tbody>\n",
       "</table>\n",
       "</div>"
      ],
      "text/plain": [
       "           month       count\n",
       "count  12.000000   12.000000\n",
       "mean    6.500000  185.666667\n",
       "std     3.605551  103.889218\n",
       "min     1.000000   34.000000\n",
       "25%     3.750000  103.250000\n",
       "50%     6.500000  182.500000\n",
       "75%     9.250000  268.500000\n",
       "max    12.000000  337.000000"
      ]
     },
     "execution_count": 62,
     "metadata": {},
     "output_type": "execute_result"
    }
   ],
   "source": [
    "# Основные показатели по тарифу 'smart' количества отправленных сообщений\n",
    "tariff_messages[tariff_messages['tariff_name']=='smart'].describe()"
   ]
  },
  {
   "cell_type": "code",
   "execution_count": 63,
   "metadata": {},
   "outputs": [
    {
     "data": {
      "text/html": [
       "<div>\n",
       "<style scoped>\n",
       "    .dataframe tbody tr th:only-of-type {\n",
       "        vertical-align: middle;\n",
       "    }\n",
       "\n",
       "    .dataframe tbody tr th {\n",
       "        vertical-align: top;\n",
       "    }\n",
       "\n",
       "    .dataframe thead th {\n",
       "        text-align: right;\n",
       "    }\n",
       "</style>\n",
       "<table border=\"1\" class=\"dataframe\">\n",
       "  <thead>\n",
       "    <tr style=\"text-align: right;\">\n",
       "      <th></th>\n",
       "      <th>month</th>\n",
       "      <th>count</th>\n",
       "    </tr>\n",
       "  </thead>\n",
       "  <tbody>\n",
       "    <tr>\n",
       "      <td>count</td>\n",
       "      <td>12.000000</td>\n",
       "      <td>12.000000</td>\n",
       "    </tr>\n",
       "    <tr>\n",
       "      <td>mean</td>\n",
       "      <td>6.500000</td>\n",
       "      <td>81.250000</td>\n",
       "    </tr>\n",
       "    <tr>\n",
       "      <td>std</td>\n",
       "      <td>3.605551</td>\n",
       "      <td>43.624691</td>\n",
       "    </tr>\n",
       "    <tr>\n",
       "      <td>min</td>\n",
       "      <td>1.000000</td>\n",
       "      <td>9.000000</td>\n",
       "    </tr>\n",
       "    <tr>\n",
       "      <td>25%</td>\n",
       "      <td>3.750000</td>\n",
       "      <td>50.500000</td>\n",
       "    </tr>\n",
       "    <tr>\n",
       "      <td>50%</td>\n",
       "      <td>6.500000</td>\n",
       "      <td>86.500000</td>\n",
       "    </tr>\n",
       "    <tr>\n",
       "      <td>75%</td>\n",
       "      <td>9.250000</td>\n",
       "      <td>116.000000</td>\n",
       "    </tr>\n",
       "    <tr>\n",
       "      <td>max</td>\n",
       "      <td>12.000000</td>\n",
       "      <td>138.000000</td>\n",
       "    </tr>\n",
       "  </tbody>\n",
       "</table>\n",
       "</div>"
      ],
      "text/plain": [
       "           month       count\n",
       "count  12.000000   12.000000\n",
       "mean    6.500000   81.250000\n",
       "std     3.605551   43.624691\n",
       "min     1.000000    9.000000\n",
       "25%     3.750000   50.500000\n",
       "50%     6.500000   86.500000\n",
       "75%     9.250000  116.000000\n",
       "max    12.000000  138.000000"
      ]
     },
     "execution_count": 63,
     "metadata": {},
     "output_type": "execute_result"
    }
   ],
   "source": [
    "# Основные показатели по тарифу 'ultra' количества отправленных сообщений\n",
    "tariff_messages[tariff_messages['tariff_name']=='ultra'].describe()"
   ]
  },
  {
   "cell_type": "code",
   "execution_count": 64,
   "metadata": {},
   "outputs": [
    {
     "name": "stdout",
     "output_type": "stream",
     "text": [
      "9893.555555555557\n"
     ]
    }
   ],
   "source": [
    "# Дисперсия количества сообщений по тарифу \"Смарт\" \n",
    "print(np.var(tariff_messages[tariff_messages['tariff_name']=='smart']['count']))"
   ]
  },
  {
   "cell_type": "code",
   "execution_count": 65,
   "metadata": {},
   "outputs": [
    {
     "name": "stdout",
     "output_type": "stream",
     "text": [
      "1744.5208333333333\n"
     ]
    }
   ],
   "source": [
    "# Дисперсия количества сообщений по тарифу \"Ультра\"\n",
    "print(np.var(tariff_messages[tariff_messages['tariff_name']=='ultra']['count']))"
   ]
  },
  {
   "cell_type": "code",
   "execution_count": 66,
   "metadata": {},
   "outputs": [
    {
     "data": {
      "text/html": [
       "<div>\n",
       "<style scoped>\n",
       "    .dataframe tbody tr th:only-of-type {\n",
       "        vertical-align: middle;\n",
       "    }\n",
       "\n",
       "    .dataframe tbody tr th {\n",
       "        vertical-align: top;\n",
       "    }\n",
       "\n",
       "    .dataframe thead th {\n",
       "        text-align: right;\n",
       "    }\n",
       "</style>\n",
       "<table border=\"1\" class=\"dataframe\">\n",
       "  <thead>\n",
       "    <tr style=\"text-align: right;\">\n",
       "      <th></th>\n",
       "      <th>tariff_name</th>\n",
       "      <th>month</th>\n",
       "      <th>level_2</th>\n",
       "      <th>sum</th>\n",
       "    </tr>\n",
       "  </thead>\n",
       "  <tbody>\n",
       "    <tr>\n",
       "      <td>23</td>\n",
       "      <td>ultra</td>\n",
       "      <td>12</td>\n",
       "      <td>gb_used</td>\n",
       "      <td>2961.308594</td>\n",
       "    </tr>\n",
       "    <tr>\n",
       "      <td>22</td>\n",
       "      <td>ultra</td>\n",
       "      <td>11</td>\n",
       "      <td>gb_used</td>\n",
       "      <td>2591.948242</td>\n",
       "    </tr>\n",
       "    <tr>\n",
       "      <td>21</td>\n",
       "      <td>ultra</td>\n",
       "      <td>10</td>\n",
       "      <td>gb_used</td>\n",
       "      <td>2410.215820</td>\n",
       "    </tr>\n",
       "    <tr>\n",
       "      <td>20</td>\n",
       "      <td>ultra</td>\n",
       "      <td>9</td>\n",
       "      <td>gb_used</td>\n",
       "      <td>2158.950195</td>\n",
       "    </tr>\n",
       "    <tr>\n",
       "      <td>19</td>\n",
       "      <td>ultra</td>\n",
       "      <td>8</td>\n",
       "      <td>gb_used</td>\n",
       "      <td>2047.616211</td>\n",
       "    </tr>\n",
       "  </tbody>\n",
       "</table>\n",
       "</div>"
      ],
      "text/plain": [
       "   tariff_name  month  level_2          sum\n",
       "23       ultra     12  gb_used  2961.308594\n",
       "22       ultra     11  gb_used  2591.948242\n",
       "21       ultra     10  gb_used  2410.215820\n",
       "20       ultra      9  gb_used  2158.950195\n",
       "19       ultra      8  gb_used  2047.616211"
      ]
     },
     "execution_count": 66,
     "metadata": {},
     "output_type": "execute_result"
    }
   ],
   "source": [
    "# Объем израсходованного интернет-траффика по каждому тарифу в месяц\n",
    "tariff_internet = all_info.pivot_table(index = ['tariff_name','month'], \n",
    "                            values='gb_used', \n",
    "                            aggfunc=['sum']\n",
    "                              ).stack().reset_index()\n",
    "tariff_internet = tariff_internet.sort_values(by=['tariff_name','sum'], ascending = False)\n",
    "tariff_internet.head(5)"
   ]
  },
  {
   "cell_type": "code",
   "execution_count": 67,
   "metadata": {},
   "outputs": [
    {
     "data": {
      "text/plain": [
       "<matplotlib.axes._subplots.AxesSubplot at 0x7f31b5697750>"
      ]
     },
     "execution_count": 67,
     "metadata": {},
     "output_type": "execute_result"
    },
    {
     "data": {
      "image/png": "[encoded data removed]",
      "text/plain": [
       "<Figure size 432x288 with 1 Axes>"
      ]
     },
     "metadata": {
      "needs_background": "light"
     },
     "output_type": "display_data"
    }
   ],
   "source": [
    "# Строим график объема израсходованного интернет-траффика в разрезе месяцев по каждому тарифу\n",
    "sns.lineplot(x=\"month\", y=\"sum\",\n",
    "             hue=\"tariff_name\",\n",
    "             data=tariff_internet)"
   ]
  },
  {
   "cell_type": "code",
   "execution_count": 68,
   "metadata": {},
   "outputs": [
    {
     "data": {
      "text/plain": [
       "<seaborn.axisgrid.FacetGrid at 0x7f31b544ca90>"
      ]
     },
     "execution_count": 68,
     "metadata": {},
     "output_type": "execute_result"
    },
    {
     "data": {
      "image/png": "[encoded data removed]",
      "text/plain": [
       "<Figure size 648x216 with 1 Axes>"
      ]
     },
     "metadata": {
      "needs_background": "light"
     },
     "output_type": "display_data"
    }
   ],
   "source": [
    "# Строим график объема израсходованного интернет-траффикав зависимости от тарифного плана\n",
    "sns.relplot(x=\"tariff_name\", y=\"sum\", kind=\"line\", data=tariff_internet, height=3, aspect=3)"
   ]
  },
  {
   "cell_type": "code",
   "execution_count": 69,
   "metadata": {},
   "outputs": [
    {
     "data": {
      "text/html": [
       "<div>\n",
       "<style scoped>\n",
       "    .dataframe tbody tr th:only-of-type {\n",
       "        vertical-align: middle;\n",
       "    }\n",
       "\n",
       "    .dataframe tbody tr th {\n",
       "        vertical-align: top;\n",
       "    }\n",
       "\n",
       "    .dataframe thead th {\n",
       "        text-align: right;\n",
       "    }\n",
       "</style>\n",
       "<table border=\"1\" class=\"dataframe\">\n",
       "  <thead>\n",
       "    <tr style=\"text-align: right;\">\n",
       "      <th></th>\n",
       "      <th>month</th>\n",
       "      <th>sum</th>\n",
       "    </tr>\n",
       "  </thead>\n",
       "  <tbody>\n",
       "    <tr>\n",
       "      <td>count</td>\n",
       "      <td>12.000000</td>\n",
       "      <td>12.000000</td>\n",
       "    </tr>\n",
       "    <tr>\n",
       "      <td>mean</td>\n",
       "      <td>6.500000</td>\n",
       "      <td>2945.368164</td>\n",
       "    </tr>\n",
       "    <tr>\n",
       "      <td>std</td>\n",
       "      <td>3.605551</td>\n",
       "      <td>1873.103253</td>\n",
       "    </tr>\n",
       "    <tr>\n",
       "      <td>min</td>\n",
       "      <td>1.000000</td>\n",
       "      <td>283.175781</td>\n",
       "    </tr>\n",
       "    <tr>\n",
       "      <td>25%</td>\n",
       "      <td>3.750000</td>\n",
       "      <td>1390.729004</td>\n",
       "    </tr>\n",
       "    <tr>\n",
       "      <td>50%</td>\n",
       "      <td>6.500000</td>\n",
       "      <td>2814.908203</td>\n",
       "    </tr>\n",
       "    <tr>\n",
       "      <td>75%</td>\n",
       "      <td>9.250000</td>\n",
       "      <td>4315.130615</td>\n",
       "    </tr>\n",
       "    <tr>\n",
       "      <td>max</td>\n",
       "      <td>12.000000</td>\n",
       "      <td>5971.819336</td>\n",
       "    </tr>\n",
       "  </tbody>\n",
       "</table>\n",
       "</div>"
      ],
      "text/plain": [
       "           month          sum\n",
       "count  12.000000    12.000000\n",
       "mean    6.500000  2945.368164\n",
       "std     3.605551  1873.103253\n",
       "min     1.000000   283.175781\n",
       "25%     3.750000  1390.729004\n",
       "50%     6.500000  2814.908203\n",
       "75%     9.250000  4315.130615\n",
       "max    12.000000  5971.819336"
      ]
     },
     "execution_count": 69,
     "metadata": {},
     "output_type": "execute_result"
    }
   ],
   "source": [
    "# Основные показатели по тарифу 'smart' объем израсходованного интернет-траффика\n",
    "tariff_internet[tariff_internet['tariff_name']=='smart'].describe()"
   ]
  },
  {
   "cell_type": "code",
   "execution_count": 70,
   "metadata": {},
   "outputs": [
    {
     "data": {
      "text/html": [
       "<div>\n",
       "<style scoped>\n",
       "    .dataframe tbody tr th:only-of-type {\n",
       "        vertical-align: middle;\n",
       "    }\n",
       "\n",
       "    .dataframe tbody tr th {\n",
       "        vertical-align: top;\n",
       "    }\n",
       "\n",
       "    .dataframe thead th {\n",
       "        text-align: right;\n",
       "    }\n",
       "</style>\n",
       "<table border=\"1\" class=\"dataframe\">\n",
       "  <thead>\n",
       "    <tr style=\"text-align: right;\">\n",
       "      <th></th>\n",
       "      <th>month</th>\n",
       "      <th>sum</th>\n",
       "    </tr>\n",
       "  </thead>\n",
       "  <tbody>\n",
       "    <tr>\n",
       "      <td>count</td>\n",
       "      <td>12.000000</td>\n",
       "      <td>12.000000</td>\n",
       "    </tr>\n",
       "    <tr>\n",
       "      <td>mean</td>\n",
       "      <td>6.500000</td>\n",
       "      <td>1562.204834</td>\n",
       "    </tr>\n",
       "    <tr>\n",
       "      <td>std</td>\n",
       "      <td>3.605551</td>\n",
       "      <td>930.436837</td>\n",
       "    </tr>\n",
       "    <tr>\n",
       "      <td>min</td>\n",
       "      <td>1.000000</td>\n",
       "      <td>115.617188</td>\n",
       "    </tr>\n",
       "    <tr>\n",
       "      <td>25%</td>\n",
       "      <td>3.750000</td>\n",
       "      <td>837.145264</td>\n",
       "    </tr>\n",
       "    <tr>\n",
       "      <td>50%</td>\n",
       "      <td>6.500000</td>\n",
       "      <td>1688.622070</td>\n",
       "    </tr>\n",
       "    <tr>\n",
       "      <td>75%</td>\n",
       "      <td>9.250000</td>\n",
       "      <td>2221.766602</td>\n",
       "    </tr>\n",
       "    <tr>\n",
       "      <td>max</td>\n",
       "      <td>12.000000</td>\n",
       "      <td>2961.308594</td>\n",
       "    </tr>\n",
       "  </tbody>\n",
       "</table>\n",
       "</div>"
      ],
      "text/plain": [
       "           month          sum\n",
       "count  12.000000    12.000000\n",
       "mean    6.500000  1562.204834\n",
       "std     3.605551   930.436837\n",
       "min     1.000000   115.617188\n",
       "25%     3.750000   837.145264\n",
       "50%     6.500000  1688.622070\n",
       "75%     9.250000  2221.766602\n",
       "max    12.000000  2961.308594"
      ]
     },
     "execution_count": 70,
     "metadata": {},
     "output_type": "execute_result"
    }
   ],
   "source": [
    "# Основные показатели по тарифу 'ultra' объем израсходованного интернет-траффика\n",
    "tariff_internet[tariff_internet['tariff_name']=='ultra'].describe()"
   ]
  },
  {
   "cell_type": "code",
   "execution_count": 71,
   "metadata": {},
   "outputs": [
    {
     "name": "stdout",
     "output_type": "stream",
     "text": [
      "3216139.480463505\n"
     ]
    }
   ],
   "source": [
    "# Дисперсия объема израсходованного интернет-траффика по тарифу \"Смарт\" \n",
    "print(np.var(tariff_internet[tariff_internet['tariff_name']=='smart']['sum']))"
   ]
  },
  {
   "cell_type": "code",
   "execution_count": 72,
   "metadata": {},
   "outputs": [
    {
     "name": "stdout",
     "output_type": "stream",
     "text": [
      "793569.981671671\n"
     ]
    }
   ],
   "source": [
    "# Дисперсия объема израсходованного интернет-траффика по тарифу \"Ультра\"\n",
    "print(np.var(tariff_internet[tariff_internet['tariff_name']=='ultra']['sum']))"
   ]
  },
  {
   "cell_type": "code",
   "execution_count": 73,
   "metadata": {},
   "outputs": [
    {
     "data": {
      "text/html": [
       "<div>\n",
       "<style scoped>\n",
       "    .dataframe tbody tr th:only-of-type {\n",
       "        vertical-align: middle;\n",
       "    }\n",
       "\n",
       "    .dataframe tbody tr th {\n",
       "        vertical-align: top;\n",
       "    }\n",
       "\n",
       "    .dataframe thead th {\n",
       "        text-align: right;\n",
       "    }\n",
       "</style>\n",
       "<table border=\"1\" class=\"dataframe\">\n",
       "  <thead>\n",
       "    <tr style=\"text-align: right;\">\n",
       "      <th></th>\n",
       "      <th>tariff_name</th>\n",
       "      <th>user_id_all</th>\n",
       "      <th>user_id_count</th>\n",
       "    </tr>\n",
       "  </thead>\n",
       "  <tbody>\n",
       "    <tr>\n",
       "      <td>0</td>\n",
       "      <td>smart</td>\n",
       "      <td>user_id</td>\n",
       "      <td>351</td>\n",
       "    </tr>\n",
       "    <tr>\n",
       "      <td>1</td>\n",
       "      <td>ultra</td>\n",
       "      <td>user_id</td>\n",
       "      <td>149</td>\n",
       "    </tr>\n",
       "  </tbody>\n",
       "</table>\n",
       "</div>"
      ],
      "text/plain": [
       "  tariff_name user_id_all  user_id_count\n",
       "0       smart     user_id            351\n",
       "1       ultra     user_id            149"
      ]
     },
     "execution_count": 73,
     "metadata": {},
     "output_type": "execute_result"
    }
   ],
   "source": [
    "# Расчет количества пользователей в разрезе каждого тарифного плана\n",
    "user_def = users.pivot_table(index = ['tariff_name'], \n",
    "                            values='user_id', \n",
    "                            aggfunc=['count']\n",
    "                              ).stack().reset_index()\n",
    "user_def.set_axis(['tariff_name',\n",
    "                'user_id_all',\n",
    "                'user_id_count'], axis = 'columns',inplace=True)\n",
    "user_def.head(5)"
   ]
  },
  {
   "cell_type": "code",
   "execution_count": 74,
   "metadata": {},
   "outputs": [
    {
     "data": {
      "text/html": [
       "<div>\n",
       "<style scoped>\n",
       "    .dataframe tbody tr th:only-of-type {\n",
       "        vertical-align: middle;\n",
       "    }\n",
       "\n",
       "    .dataframe tbody tr th {\n",
       "        vertical-align: top;\n",
       "    }\n",
       "\n",
       "    .dataframe thead th {\n",
       "        text-align: right;\n",
       "    }\n",
       "</style>\n",
       "<table border=\"1\" class=\"dataframe\">\n",
       "  <thead>\n",
       "    <tr style=\"text-align: right;\">\n",
       "      <th></th>\n",
       "      <th>messages_included</th>\n",
       "      <th>mb_per_month_included</th>\n",
       "      <th>minutes_included</th>\n",
       "      <th>rub_monthly_fee</th>\n",
       "      <th>rub_per_gb</th>\n",
       "      <th>rub_per_message</th>\n",
       "      <th>rub_per_minute</th>\n",
       "      <th>tariff_name</th>\n",
       "      <th>user_id_all</th>\n",
       "      <th>user_id_count</th>\n",
       "    </tr>\n",
       "  </thead>\n",
       "  <tbody>\n",
       "    <tr>\n",
       "      <td>0</td>\n",
       "      <td>50</td>\n",
       "      <td>15360</td>\n",
       "      <td>500</td>\n",
       "      <td>550</td>\n",
       "      <td>200</td>\n",
       "      <td>3</td>\n",
       "      <td>3</td>\n",
       "      <td>smart</td>\n",
       "      <td>user_id</td>\n",
       "      <td>351</td>\n",
       "    </tr>\n",
       "    <tr>\n",
       "      <td>1</td>\n",
       "      <td>1000</td>\n",
       "      <td>30720</td>\n",
       "      <td>3000</td>\n",
       "      <td>1950</td>\n",
       "      <td>150</td>\n",
       "      <td>1</td>\n",
       "      <td>1</td>\n",
       "      <td>ultra</td>\n",
       "      <td>user_id</td>\n",
       "      <td>149</td>\n",
       "    </tr>\n",
       "  </tbody>\n",
       "</table>\n",
       "</div>"
      ],
      "text/plain": [
       "   messages_included  mb_per_month_included  minutes_included  \\\n",
       "0                 50                  15360               500   \n",
       "1               1000                  30720              3000   \n",
       "\n",
       "   rub_monthly_fee  rub_per_gb  rub_per_message  rub_per_minute tariff_name  \\\n",
       "0              550         200                3               3       smart   \n",
       "1             1950         150                1               1       ultra   \n",
       "\n",
       "  user_id_all  user_id_count  \n",
       "0     user_id            351  \n",
       "1     user_id            149  "
      ]
     },
     "execution_count": 74,
     "metadata": {},
     "output_type": "execute_result"
    }
   ],
   "source": [
    "# Создадим новую таблицу, в которой будем отображать расхождения между базовыми значениями и \n",
    "# рассчитанными средними по каждому показателю в разрезе тарифов\n",
    "tariffs_different = tariffs.merge(user_def,on=['tariff_name'])\n",
    "tariffs_different.head(5)"
   ]
  },
  {
   "cell_type": "code",
   "execution_count": 75,
   "metadata": {},
   "outputs": [
    {
     "data": {
      "text/html": [
       "<div>\n",
       "<style scoped>\n",
       "    .dataframe tbody tr th:only-of-type {\n",
       "        vertical-align: middle;\n",
       "    }\n",
       "\n",
       "    .dataframe tbody tr th {\n",
       "        vertical-align: top;\n",
       "    }\n",
       "\n",
       "    .dataframe thead th {\n",
       "        text-align: right;\n",
       "    }\n",
       "</style>\n",
       "<table border=\"1\" class=\"dataframe\">\n",
       "  <thead>\n",
       "    <tr style=\"text-align: right;\">\n",
       "      <th></th>\n",
       "      <th>tariff_name</th>\n",
       "      <th>calls_all</th>\n",
       "      <th>calls_means</th>\n",
       "    </tr>\n",
       "  </thead>\n",
       "  <tbody>\n",
       "    <tr>\n",
       "      <td>0</td>\n",
       "      <td>smart</td>\n",
       "      <td>sum</td>\n",
       "      <td>79766.333333</td>\n",
       "    </tr>\n",
       "    <tr>\n",
       "      <td>1</td>\n",
       "      <td>ultra</td>\n",
       "      <td>sum</td>\n",
       "      <td>44197.916667</td>\n",
       "    </tr>\n",
       "  </tbody>\n",
       "</table>\n",
       "</div>"
      ],
      "text/plain": [
       "  tariff_name calls_all   calls_means\n",
       "0       smart       sum  79766.333333\n",
       "1       ultra       sum  44197.916667"
      ]
     },
     "execution_count": 75,
     "metadata": {},
     "output_type": "execute_result"
    }
   ],
   "source": [
    "# Расчитываем среднее значение израсходованных минут разговоров в разрезе каждого тарифа\n",
    "tariff_minutes_def = tariff_minutes.pivot_table(index = ['tariff_name'], \n",
    "                            values='sum', \n",
    "                            aggfunc=['mean']\n",
    "                              ).stack().reset_index()\n",
    "tariff_minutes_def.set_axis(['tariff_name',\n",
    "                'calls_all',\n",
    "                'calls_means'], axis = 'columns',inplace=True)\n",
    "tariff_minutes_def.head(5)"
   ]
  },
  {
   "cell_type": "code",
   "execution_count": 76,
   "metadata": {},
   "outputs": [
    {
     "data": {
      "text/html": [
       "<div>\n",
       "<style scoped>\n",
       "    .dataframe tbody tr th:only-of-type {\n",
       "        vertical-align: middle;\n",
       "    }\n",
       "\n",
       "    .dataframe tbody tr th {\n",
       "        vertical-align: top;\n",
       "    }\n",
       "\n",
       "    .dataframe thead th {\n",
       "        text-align: right;\n",
       "    }\n",
       "</style>\n",
       "<table border=\"1\" class=\"dataframe\">\n",
       "  <thead>\n",
       "    <tr style=\"text-align: right;\">\n",
       "      <th></th>\n",
       "      <th>tariff_name</th>\n",
       "      <th>message_all</th>\n",
       "      <th>message_mean</th>\n",
       "    </tr>\n",
       "  </thead>\n",
       "  <tbody>\n",
       "    <tr>\n",
       "      <td>0</td>\n",
       "      <td>smart</td>\n",
       "      <td>count</td>\n",
       "      <td>185.666667</td>\n",
       "    </tr>\n",
       "    <tr>\n",
       "      <td>1</td>\n",
       "      <td>ultra</td>\n",
       "      <td>count</td>\n",
       "      <td>81.250000</td>\n",
       "    </tr>\n",
       "  </tbody>\n",
       "</table>\n",
       "</div>"
      ],
      "text/plain": [
       "  tariff_name message_all  message_mean\n",
       "0       smart       count    185.666667\n",
       "1       ultra       count     81.250000"
      ]
     },
     "execution_count": 76,
     "metadata": {},
     "output_type": "execute_result"
    }
   ],
   "source": [
    "# Расчитываем среднее количество отправленных сообщений в разрезе каждого тарифа\n",
    "tariff_messages_def = tariff_messages.pivot_table(index = ['tariff_name'], \n",
    "                            values='count', \n",
    "                            aggfunc=['mean']\n",
    "                              ).stack().reset_index()\n",
    "tariff_messages_def.set_axis(['tariff_name',\n",
    "                'message_all',\n",
    "                'message_mean'], axis = 'columns',inplace=True)\n",
    "tariff_messages_def.head(5)"
   ]
  },
  {
   "cell_type": "code",
   "execution_count": 77,
   "metadata": {},
   "outputs": [
    {
     "data": {
      "text/html": [
       "<div>\n",
       "<style scoped>\n",
       "    .dataframe tbody tr th:only-of-type {\n",
       "        vertical-align: middle;\n",
       "    }\n",
       "\n",
       "    .dataframe tbody tr th {\n",
       "        vertical-align: top;\n",
       "    }\n",
       "\n",
       "    .dataframe thead th {\n",
       "        text-align: right;\n",
       "    }\n",
       "</style>\n",
       "<table border=\"1\" class=\"dataframe\">\n",
       "  <thead>\n",
       "    <tr style=\"text-align: right;\">\n",
       "      <th></th>\n",
       "      <th>tariff_name</th>\n",
       "      <th>internet_all</th>\n",
       "      <th>internet_mean</th>\n",
       "    </tr>\n",
       "  </thead>\n",
       "  <tbody>\n",
       "    <tr>\n",
       "      <td>0</td>\n",
       "      <td>smart</td>\n",
       "      <td>sum</td>\n",
       "      <td>2945.368164</td>\n",
       "    </tr>\n",
       "    <tr>\n",
       "      <td>1</td>\n",
       "      <td>ultra</td>\n",
       "      <td>sum</td>\n",
       "      <td>1562.204834</td>\n",
       "    </tr>\n",
       "  </tbody>\n",
       "</table>\n",
       "</div>"
      ],
      "text/plain": [
       "  tariff_name internet_all  internet_mean\n",
       "0       smart          sum    2945.368164\n",
       "1       ultra          sum    1562.204834"
      ]
     },
     "execution_count": 77,
     "metadata": {},
     "output_type": "execute_result"
    }
   ],
   "source": [
    "# Расчитываем средний объем израсходованного интернет-траффика в разрезе каждого тарифа\n",
    "tariff_internet_def = tariff_internet.pivot_table(index = ['tariff_name'], \n",
    "                            values='sum', \n",
    "                            aggfunc=['mean']\n",
    "                              ).stack().reset_index()\n",
    "tariff_internet_def.set_axis(['tariff_name',\n",
    "                'internet_all',\n",
    "                'internet_mean'], axis = 'columns',inplace=True)\n",
    "tariff_internet_def.head(5)"
   ]
  },
  {
   "cell_type": "code",
   "execution_count": 78,
   "metadata": {},
   "outputs": [
    {
     "data": {
      "text/html": [
       "<div>\n",
       "<style scoped>\n",
       "    .dataframe tbody tr th:only-of-type {\n",
       "        vertical-align: middle;\n",
       "    }\n",
       "\n",
       "    .dataframe tbody tr th {\n",
       "        vertical-align: top;\n",
       "    }\n",
       "\n",
       "    .dataframe thead th {\n",
       "        text-align: right;\n",
       "    }\n",
       "</style>\n",
       "<table border=\"1\" class=\"dataframe\">\n",
       "  <thead>\n",
       "    <tr style=\"text-align: right;\">\n",
       "      <th></th>\n",
       "      <th>messages_included</th>\n",
       "      <th>mb_per_month_included</th>\n",
       "      <th>minutes_included</th>\n",
       "      <th>rub_monthly_fee</th>\n",
       "      <th>rub_per_gb</th>\n",
       "      <th>rub_per_message</th>\n",
       "      <th>rub_per_minute</th>\n",
       "      <th>tariff_name</th>\n",
       "      <th>user_id_all</th>\n",
       "      <th>user_id_count</th>\n",
       "      <th>calls_all</th>\n",
       "      <th>calls_means</th>\n",
       "      <th>message_all</th>\n",
       "      <th>message_mean</th>\n",
       "      <th>internet_all</th>\n",
       "      <th>internet_mean</th>\n",
       "    </tr>\n",
       "  </thead>\n",
       "  <tbody>\n",
       "    <tr>\n",
       "      <td>0</td>\n",
       "      <td>50</td>\n",
       "      <td>15360</td>\n",
       "      <td>500</td>\n",
       "      <td>550</td>\n",
       "      <td>200</td>\n",
       "      <td>3</td>\n",
       "      <td>3</td>\n",
       "      <td>smart</td>\n",
       "      <td>user_id</td>\n",
       "      <td>351</td>\n",
       "      <td>sum</td>\n",
       "      <td>79766.333333</td>\n",
       "      <td>count</td>\n",
       "      <td>185.666667</td>\n",
       "      <td>sum</td>\n",
       "      <td>2945.368164</td>\n",
       "    </tr>\n",
       "    <tr>\n",
       "      <td>1</td>\n",
       "      <td>1000</td>\n",
       "      <td>30720</td>\n",
       "      <td>3000</td>\n",
       "      <td>1950</td>\n",
       "      <td>150</td>\n",
       "      <td>1</td>\n",
       "      <td>1</td>\n",
       "      <td>ultra</td>\n",
       "      <td>user_id</td>\n",
       "      <td>149</td>\n",
       "      <td>sum</td>\n",
       "      <td>44197.916667</td>\n",
       "      <td>count</td>\n",
       "      <td>81.250000</td>\n",
       "      <td>sum</td>\n",
       "      <td>1562.204834</td>\n",
       "    </tr>\n",
       "  </tbody>\n",
       "</table>\n",
       "</div>"
      ],
      "text/plain": [
       "   messages_included  mb_per_month_included  minutes_included  \\\n",
       "0                 50                  15360               500   \n",
       "1               1000                  30720              3000   \n",
       "\n",
       "   rub_monthly_fee  rub_per_gb  rub_per_message  rub_per_minute tariff_name  \\\n",
       "0              550         200                3               3       smart   \n",
       "1             1950         150                1               1       ultra   \n",
       "\n",
       "  user_id_all  user_id_count calls_all   calls_means message_all  \\\n",
       "0     user_id            351       sum  79766.333333       count   \n",
       "1     user_id            149       sum  44197.916667       count   \n",
       "\n",
       "   message_mean internet_all  internet_mean  \n",
       "0    185.666667          sum    2945.368164  \n",
       "1     81.250000          sum    1562.204834  "
      ]
     },
     "execution_count": 78,
     "metadata": {},
     "output_type": "execute_result"
    }
   ],
   "source": [
    "# Добавляем в таблицу ранее расчитанные средние значения показателей в разрезе каждого тарифа\n",
    "tariffs_different = tariffs_different.merge(tariff_minutes_def,on=['tariff_name'])\n",
    "tariffs_different = tariffs_different.merge(tariff_messages_def,on=['tariff_name'])\n",
    "tariffs_different = tariffs_different.merge(tariff_internet_def,on=['tariff_name'])\n",
    "tariffs_different.head(5)"
   ]
  },
  {
   "cell_type": "code",
   "execution_count": 79,
   "metadata": {},
   "outputs": [],
   "source": [
    "# Расчет общего (базового) значение по каждому показателю по всем пользователям каждого тарифного плана\n",
    "tariffs_different['minutes_all_users'] = tariffs_different['minutes_included']*tariffs_different['user_id_count']\n",
    "tariffs_different['messages_all_users'] = tariffs_different['messages_included']*tariffs_different['user_id_count']\n",
    "tariffs_different['internet_all_users'] = (tariffs_different['mb_per_month_included']/1024)*tariffs_different['user_id_count']"
   ]
  },
  {
   "cell_type": "code",
   "execution_count": 80,
   "metadata": {},
   "outputs": [
    {
     "data": {
      "text/html": [
       "<div>\n",
       "<style scoped>\n",
       "    .dataframe tbody tr th:only-of-type {\n",
       "        vertical-align: middle;\n",
       "    }\n",
       "\n",
       "    .dataframe tbody tr th {\n",
       "        vertical-align: top;\n",
       "    }\n",
       "\n",
       "    .dataframe thead th {\n",
       "        text-align: right;\n",
       "    }\n",
       "</style>\n",
       "<table border=\"1\" class=\"dataframe\">\n",
       "  <thead>\n",
       "    <tr style=\"text-align: right;\">\n",
       "      <th></th>\n",
       "      <th>messages_included</th>\n",
       "      <th>mb_per_month_included</th>\n",
       "      <th>minutes_included</th>\n",
       "      <th>rub_monthly_fee</th>\n",
       "      <th>rub_per_gb</th>\n",
       "      <th>rub_per_message</th>\n",
       "      <th>rub_per_minute</th>\n",
       "      <th>tariff_name</th>\n",
       "      <th>user_id_all</th>\n",
       "      <th>user_id_count</th>\n",
       "      <th>...</th>\n",
       "      <th>message_all</th>\n",
       "      <th>message_mean</th>\n",
       "      <th>internet_all</th>\n",
       "      <th>internet_mean</th>\n",
       "      <th>minutes_all_users</th>\n",
       "      <th>messages_all_users</th>\n",
       "      <th>internet_all_users</th>\n",
       "      <th>calls_diferent</th>\n",
       "      <th>message_diferent</th>\n",
       "      <th>internet_diferent</th>\n",
       "    </tr>\n",
       "  </thead>\n",
       "  <tbody>\n",
       "    <tr>\n",
       "      <td>0</td>\n",
       "      <td>50</td>\n",
       "      <td>15360</td>\n",
       "      <td>500</td>\n",
       "      <td>550</td>\n",
       "      <td>200</td>\n",
       "      <td>3</td>\n",
       "      <td>3</td>\n",
       "      <td>smart</td>\n",
       "      <td>user_id</td>\n",
       "      <td>351</td>\n",
       "      <td>...</td>\n",
       "      <td>count</td>\n",
       "      <td>185.666667</td>\n",
       "      <td>sum</td>\n",
       "      <td>2945.368164</td>\n",
       "      <td>175500</td>\n",
       "      <td>17550</td>\n",
       "      <td>5265.0</td>\n",
       "      <td>-95733.666667</td>\n",
       "      <td>-17364.333333</td>\n",
       "      <td>-2319.631836</td>\n",
       "    </tr>\n",
       "    <tr>\n",
       "      <td>1</td>\n",
       "      <td>1000</td>\n",
       "      <td>30720</td>\n",
       "      <td>3000</td>\n",
       "      <td>1950</td>\n",
       "      <td>150</td>\n",
       "      <td>1</td>\n",
       "      <td>1</td>\n",
       "      <td>ultra</td>\n",
       "      <td>user_id</td>\n",
       "      <td>149</td>\n",
       "      <td>...</td>\n",
       "      <td>count</td>\n",
       "      <td>81.250000</td>\n",
       "      <td>sum</td>\n",
       "      <td>1562.204834</td>\n",
       "      <td>447000</td>\n",
       "      <td>149000</td>\n",
       "      <td>4470.0</td>\n",
       "      <td>-402802.083333</td>\n",
       "      <td>-148918.750000</td>\n",
       "      <td>-2907.795166</td>\n",
       "    </tr>\n",
       "  </tbody>\n",
       "</table>\n",
       "<p>2 rows × 22 columns</p>\n",
       "</div>"
      ],
      "text/plain": [
       "   messages_included  mb_per_month_included  minutes_included  \\\n",
       "0                 50                  15360               500   \n",
       "1               1000                  30720              3000   \n",
       "\n",
       "   rub_monthly_fee  rub_per_gb  rub_per_message  rub_per_minute tariff_name  \\\n",
       "0              550         200                3               3       smart   \n",
       "1             1950         150                1               1       ultra   \n",
       "\n",
       "  user_id_all  user_id_count  ... message_all  message_mean internet_all  \\\n",
       "0     user_id            351  ...       count    185.666667          sum   \n",
       "1     user_id            149  ...       count     81.250000          sum   \n",
       "\n",
       "   internet_mean minutes_all_users  messages_all_users  internet_all_users  \\\n",
       "0    2945.368164            175500               17550              5265.0   \n",
       "1    1562.204834            447000              149000              4470.0   \n",
       "\n",
       "   calls_diferent  message_diferent  internet_diferent  \n",
       "0   -95733.666667     -17364.333333       -2319.631836  \n",
       "1  -402802.083333    -148918.750000       -2907.795166  \n",
       "\n",
       "[2 rows x 22 columns]"
      ]
     },
     "execution_count": 80,
     "metadata": {},
     "output_type": "execute_result"
    }
   ],
   "source": [
    "# Расчет разницы между средним и общим значением каждого показателя по всем пользователям каждого тарифного плана\n",
    "tariffs_different['calls_diferent'] = tariffs_different['calls_means'] - tariffs_different['minutes_all_users']\n",
    "tariffs_different['message_diferent'] = tariffs_different['message_mean'] - tariffs_different['messages_all_users']\n",
    "tariffs_different['internet_diferent'] = tariffs_different['internet_mean'] - tariffs_different['internet_all_users']\n",
    "tariffs_different.head(5)"
   ]
  },
  {
   "cell_type": "code",
   "execution_count": 81,
   "metadata": {},
   "outputs": [
    {
     "data": {
      "text/html": [
       "<div>\n",
       "<style scoped>\n",
       "    .dataframe tbody tr th:only-of-type {\n",
       "        vertical-align: middle;\n",
       "    }\n",
       "\n",
       "    .dataframe tbody tr th {\n",
       "        vertical-align: top;\n",
       "    }\n",
       "\n",
       "    .dataframe thead th {\n",
       "        text-align: right;\n",
       "    }\n",
       "</style>\n",
       "<table border=\"1\" class=\"dataframe\">\n",
       "  <thead>\n",
       "    <tr style=\"text-align: right;\">\n",
       "      <th></th>\n",
       "      <th>messages_included</th>\n",
       "      <th>mb_per_month_included</th>\n",
       "      <th>minutes_included</th>\n",
       "      <th>rub_monthly_fee</th>\n",
       "      <th>rub_per_gb</th>\n",
       "      <th>rub_per_message</th>\n",
       "      <th>rub_per_minute</th>\n",
       "      <th>tariff_name</th>\n",
       "      <th>user_id_all</th>\n",
       "      <th>user_id_count</th>\n",
       "      <th>...</th>\n",
       "      <th>internet_mean</th>\n",
       "      <th>minutes_all_users</th>\n",
       "      <th>messages_all_users</th>\n",
       "      <th>internet_all_users</th>\n",
       "      <th>calls_diferent</th>\n",
       "      <th>message_diferent</th>\n",
       "      <th>internet_diferent</th>\n",
       "      <th>calls_per</th>\n",
       "      <th>message_per</th>\n",
       "      <th>internet_per</th>\n",
       "    </tr>\n",
       "  </thead>\n",
       "  <tbody>\n",
       "    <tr>\n",
       "      <td>0</td>\n",
       "      <td>50</td>\n",
       "      <td>15360</td>\n",
       "      <td>500</td>\n",
       "      <td>550</td>\n",
       "      <td>200</td>\n",
       "      <td>3</td>\n",
       "      <td>3</td>\n",
       "      <td>smart</td>\n",
       "      <td>user_id</td>\n",
       "      <td>351</td>\n",
       "      <td>...</td>\n",
       "      <td>2945.368164</td>\n",
       "      <td>175500</td>\n",
       "      <td>17550</td>\n",
       "      <td>5265.0</td>\n",
       "      <td>-95733.666667</td>\n",
       "      <td>-17364.333333</td>\n",
       "      <td>-2319.631836</td>\n",
       "      <td>-287201.000000</td>\n",
       "      <td>-52093.00</td>\n",
       "      <td>-463926.367188</td>\n",
       "    </tr>\n",
       "    <tr>\n",
       "      <td>1</td>\n",
       "      <td>1000</td>\n",
       "      <td>30720</td>\n",
       "      <td>3000</td>\n",
       "      <td>1950</td>\n",
       "      <td>150</td>\n",
       "      <td>1</td>\n",
       "      <td>1</td>\n",
       "      <td>ultra</td>\n",
       "      <td>user_id</td>\n",
       "      <td>149</td>\n",
       "      <td>...</td>\n",
       "      <td>1562.204834</td>\n",
       "      <td>447000</td>\n",
       "      <td>149000</td>\n",
       "      <td>4470.0</td>\n",
       "      <td>-402802.083333</td>\n",
       "      <td>-148918.750000</td>\n",
       "      <td>-2907.795166</td>\n",
       "      <td>-402802.083333</td>\n",
       "      <td>-148918.75</td>\n",
       "      <td>-436169.274902</td>\n",
       "    </tr>\n",
       "  </tbody>\n",
       "</table>\n",
       "<p>2 rows × 25 columns</p>\n",
       "</div>"
      ],
      "text/plain": [
       "   messages_included  mb_per_month_included  minutes_included  \\\n",
       "0                 50                  15360               500   \n",
       "1               1000                  30720              3000   \n",
       "\n",
       "   rub_monthly_fee  rub_per_gb  rub_per_message  rub_per_minute tariff_name  \\\n",
       "0              550         200                3               3       smart   \n",
       "1             1950         150                1               1       ultra   \n",
       "\n",
       "  user_id_all  user_id_count  ... internet_mean  minutes_all_users  \\\n",
       "0     user_id            351  ...   2945.368164             175500   \n",
       "1     user_id            149  ...   1562.204834             447000   \n",
       "\n",
       "  messages_all_users  internet_all_users calls_diferent  message_diferent  \\\n",
       "0              17550              5265.0  -95733.666667     -17364.333333   \n",
       "1             149000              4470.0 -402802.083333    -148918.750000   \n",
       "\n",
       "   internet_diferent      calls_per  message_per   internet_per  \n",
       "0       -2319.631836 -287201.000000    -52093.00 -463926.367188  \n",
       "1       -2907.795166 -402802.083333   -148918.75 -436169.274902  \n",
       "\n",
       "[2 rows x 25 columns]"
      ]
     },
     "execution_count": 81,
     "metadata": {},
     "output_type": "execute_result"
    }
   ],
   "source": [
    "# Расчет оплаты сверх тарифного плата по каждому показтелю каждого тарифного плана\n",
    "tariffs_different['calls_per'] = tariffs_different['calls_diferent'] * tariffs_different['rub_per_minute']\n",
    "tariffs_different['message_per'] = tariffs_different['message_diferent'] * tariffs_different['rub_per_message']\n",
    "tariffs_different['internet_per'] = tariffs_different['internet_diferent'] * tariffs_different['rub_per_gb']\n",
    "tariffs_different.head(5)"
   ]
  },
  {
   "cell_type": "code",
   "execution_count": 82,
   "metadata": {},
   "outputs": [
    {
     "data": {
      "text/plain": [
       "<matplotlib.axes._subplots.AxesSubplot at 0x7f31b5408e10>"
      ]
     },
     "execution_count": 82,
     "metadata": {},
     "output_type": "execute_result"
    },
    {
     "data": {
      "image/png": "[encoded data removed]",
      "text/plain": [
       "<Figure size 432x288 with 1 Axes>"
      ]
     },
     "metadata": {
      "needs_background": "light"
     },
     "output_type": "display_data"
    }
   ],
   "source": [
    "# Построим гистограмму показателя \"Израсходованные минуты разговоров\" по базовым и расчитанным \n",
    "# значениям каждого тарифа\n",
    "plot_calls = tariffs_different.loc[:, ['minutes_all_users','calls_means']]\n",
    "plot_calls.plot(kind='bar')"
   ]
  },
  {
   "cell_type": "code",
   "execution_count": 83,
   "metadata": {},
   "outputs": [
    {
     "data": {
      "text/plain": [
       "<matplotlib.axes._subplots.AxesSubplot at 0x7f31b53a23d0>"
      ]
     },
     "execution_count": 83,
     "metadata": {},
     "output_type": "execute_result"
    },
    {
     "data": {
      "image/png": "[encoded data removed]",
      "text/plain": [
       "<Figure size 432x288 with 1 Axes>"
      ]
     },
     "metadata": {
      "needs_background": "light"
     },
     "output_type": "display_data"
    }
   ],
   "source": [
    "# Построим гистограмму показателя \"Количество отправленных сообщений\" по базовым и расчитанным \n",
    "# значениям каждого тарифа \n",
    "plot_messages = tariffs_different.loc[:, ['messages_all_users','message_mean']]\n",
    "plot_messages.plot(kind='bar')"
   ]
  },
  {
   "cell_type": "code",
   "execution_count": 84,
   "metadata": {},
   "outputs": [
    {
     "data": {
      "text/plain": [
       "<matplotlib.axes._subplots.AxesSubplot at 0x7f31b5315310>"
      ]
     },
     "execution_count": 84,
     "metadata": {},
     "output_type": "execute_result"
    },
    {
     "data": {
      "image/png": "[encoded data removed]",
      "text/plain": [
       "<Figure size 432x288 with 1 Axes>"
      ]
     },
     "metadata": {
      "needs_background": "light"
     },
     "output_type": "display_data"
    }
   ],
   "source": [
    "# Построим гистограмму показателя \"Объем израсходованного интернет-траффика\" по базовым и расчитанным \n",
    "# значениям каждого тарифа \n",
    "plot_internet = tariffs_different.loc[:, ['internet_all_users','internet_mean']]\n",
    "plot_internet.plot(kind='bar')"
   ]
  },
  {
   "cell_type": "markdown",
   "metadata": {},
   "source": [
    "### Вывод\n",
    "##### Количество пользователей:\n",
    "1. тарифного плана \"Смарт\" - 351 человек.\n",
    "2. тарифного плана \"Ультра\" - 149 человек.\n",
    "##### Пользователи тарифа \"Смарт\":\n",
    "1. Совершают больше звонков, больше отправляют сообщения и больше расходуют интернет-траффик:\n",
    "    + в среднем потратили 80 тыс. минут разговоров за все месяцы исследования (расчетное среднее значение 79,8 тыс минут);\n",
    "    + в среднем потратили 178 сообщений за все месяцы исследования (расчетное среднее значение 185.67 сообщений);\n",
    "    + в среднем потратили 2,9 тыс. Гб интернет-траффика за все месяцы исследования (расчетное среднее значение 2,95 тыс. Гб интернет-траффика).\n",
    "##### Пользователи тарифа \"Ультра\"\n",
    "1. По сравнению с пользователями тарифа \"Смарт\", совершают меньше звонков, меньше отправляют сообщения и меньше расходуют интернет-траффик:\n",
    "    + в среднем потратили 45 тыс. минут разговоров за все месяцы исследования (расчетное среднее значение 45,2 тыс. минут);\n",
    "    + в среднем потратили 77 сообщений за все месяцы исследования (расчетное среднее значение 81.25 сообщений); \n",
    "    + в среднем потратили 1,6 тыс. Гб интернет-траффика за все месяцы исследования (расчетное среднее значение 1,56 тыс. Гб интернет-траффика).\n",
    "##### Тарифный план \"Смарт\":\n",
    "1. Бесплатно (ежемесячная плата - 550 рублей):\n",
    "    + 500 минут разговоров в месяц (6000 минут в год);\n",
    "    + 50 сообщений в месяц (600 сообщений в год);\n",
    "    + 15 Гб интернет-траффика в месяц (180 Гб интернет-траффика в год).\n",
    "2. Порог, сверх тарифного плана:\n",
    "    + 175500 минут;\n",
    "    + 17550 сообщений;\n",
    "    + 5265.0 Гб.\n",
    "3. Среднее потраченное пользователями значение:\n",
    "    + 79766.33 минут;\n",
    "    + 185.67 сообщений;\n",
    "    + 2945.37 Гб.\n",
    "   \n",
    "##### Тарифный план \"Ультра\":\n",
    "1. Бесплатно (ежемесячная плата - 1950):\n",
    "    + 3000 минут разговоров в месяц (36 тыс. минут в год);\n",
    "    + 1000 сообщений в месяц (12 тыс. сообщений в год);\n",
    "    + 30 Гб интернет-траффика в месяц (360 Гб интернет-траффика в год).\n",
    "2. Порог, сверх тарифного плана:    \n",
    "    + 447000 минут;\n",
    "    + 149000 сообщений;\n",
    "    + 4470.0 Гб.\n",
    "3. Среднее потраченное пользователями значение:\n",
    "    + 44197.92 минут;\n",
    "    + 81.25 сообщений;\n",
    "    + 1562.21 Гб.     \n",
    "##### Результат анализа данных:\n",
    "1. Пользователи обоих тарифных планов \"Смарт\" и \"Ультра\" не превышают установленный каждым тарифом лимит количества минут звонков, сообщений и объема интернет-траффика.\n",
    "2. Пользователи обоизх тарифных планов \"Смарт\" и \"Ультра\" практически не пользуются смс-сообщениями, количество которых установлены каждым тарифным планом.\n",
    "3. Пользователи тарифа \"Смарт\" не выговаривают примерно в 2 раза установленные тарифом минуты разговора.\n",
    "4. Пользователи тарифа \"Ультра\" не выговаривают примерно в 10 раз установленные тарифом минуты разговора.\n",
    "5. Пользователи тарифа \"Смарт\" не превышают установленный тарифом объем израсходованного интернет-траффика примерно в 2 раза.\n",
    "6. Пользователи тарифа \"Ультра\" не превышают установленный тарифом объем израсходованного интернет-траффика примерно в 3 раза.\n",
    "7. В течении года количество минут разговора по каждому тарифу плавно возрастает. При этом количество звонков тарифа \"Смарт\" превышает количество звонков тарифа \"Ультра\".\n",
    "8. В течении года количество сообщений по каждому тарифу плавно возрастает. При этом количество сообщений тарифа \"Смарт\" превышает количество сообщений тарифа \"Ультра\".\n",
    "9. В течении года объема израсходованного интернет-траффика по каждому тарифу плавно возрастает. При этом объема израсходованного интернет-траффика тарифа \"Смарт\" превышает объем израсходованного интернет-траффика тарифа \"Ультра\".\n",
    "#### Итог:\n",
    "1. Тарифный план \"Смарт\" привлекателем для пользователей не высокой абонентской платой. Пользователи не переплачивают за звонки, практически не пользуются смс-сообщениями и не превышают, установленный тарифным планом лимит по объему интернет-траффика.\n",
    "2. Тарифный план \"Ультра\" не оправдано завышен абонентской платой. Пользователи невыговаривают, установленным тарифным планом лимит по звонкам, практически не пользуются смс-сообщениям и не превышают, установленный тарифным планом лимит по объему интернет-траффика."
   ]
  },
  {
   "cell_type": "markdown",
   "metadata": {},
   "source": [
    "### Проверка гипотезы"
   ]
  },
  {
   "cell_type": "code",
   "execution_count": 85,
   "metadata": {},
   "outputs": [],
   "source": [
    "# Импорт библиотеки scipy\n",
    "from scipy import stats as st"
   ]
  },
  {
   "cell_type": "markdown",
   "metadata": {},
   "source": [
    "#### Гипотеза 1\n",
    "1. H0 - нулевая гипотеза \"Средняя выручка пользователей обоих тарифов \"Ультра\" и \"Смарт\" равна\". \n",
    "2. H1 - альтернативная гипотеза: \"Средняя выручка пользователей тарифов \"Ультра\" и \"Смарт\" отличаются\"."
   ]
  },
  {
   "cell_type": "code",
   "execution_count": 86,
   "metadata": {},
   "outputs": [
    {
     "name": "stdout",
     "output_type": "stream",
     "text": [
      "p-значение:  [6.5322836e-22]\n",
      "Отвергаем нулевую гипотезу\n"
     ]
    }
   ],
   "source": [
    "# Проверка гипотезы 1\n",
    "# Уровень значимости\n",
    "alpha = 0.05 # критический уровень статистической значимости\n",
    "            # если p-value окажется меньше него - отвергнем гипотезу\n",
    "\n",
    "# Проверим нулевую гипотезу 1 t-тестом о равенстве среднего двух генеральных \n",
    "# совокупностей по взятым из них выборкам\n",
    "results  = st.ttest_ind(revenue_smart, revenue_ultra)\n",
    "print('p-значение: ', results.pvalue)\n",
    "    \n",
    "if (results.pvalue < alpha):\n",
    "    print(\"Отвергаем нулевую гипотезу\")\n",
    "else:\n",
    "    print(\"Не получилось отвергнуть нулевую гипотезу\")"
   ]
  },
  {
   "cell_type": "markdown",
   "metadata": {},
   "source": [
    "#### Гипотеза 2\n",
    "1. H0 - нулевая гипотеза: \"Средняя выручка пользователей из Москвы равна выручке пользователей других регионов\"\n",
    "2. H1 - альтернативная гипотеза: \"Средняя выручка пользователей из Москвы отличается от выручки пользователей других регионов\"."
   ]
  },
  {
   "cell_type": "code",
   "execution_count": 87,
   "metadata": {},
   "outputs": [
    {
     "name": "stdout",
     "output_type": "stream",
     "text": [
      "p-значение:  [0.61122868]\n",
      "Не получилось отвергнуть нулевую гипотезу\n"
     ]
    }
   ],
   "source": [
    "# Проверка гипотезы 2\n",
    "# Уровень значимости\n",
    "alpha = 0.05 # критический уровень статистической значимости\n",
    "            # если p-value окажется меньше него - отвергнем гипотезу\n",
    "\n",
    "# Проверим гипотезу 2 t-тестом о равенстве среднего двух генеральных \n",
    "# совокупностей по взятым из них выборкам\n",
    "results  = st.ttest_ind(revenue_capital, revenue_region)\n",
    "print('p-значение: ', results.pvalue)\n",
    "    \n",
    "if (results.pvalue < alpha):\n",
    "    print(\"Отвергаем нулевую гипотезу\")\n",
    "else:\n",
    "    print(\"Не получилось отвергнуть нулевую гипотезу\")"
   ]
  },
  {
   "cell_type": "markdown",
   "metadata": {},
   "source": [
    "### Вывод\n",
    "1. Гипотеза 1 \"Средняя выручка пользователей тарифов \"Ультра\" и \"Смарт\" равна\"  - отвергнута.\n",
    "2. Гипотеза 2 \"Средняя выручка пользователей из Москвы равна выручке пользователей других регионов\" - не отвергнута.\n",
    "#### Итог:\n",
    "Средняя выручка тарифов \"Ультра\" и \"Смарт\" отличается.\n",
    "Средняя выручка пользователей Москвы равна средней выручке пользователей других городов."
   ]
  },
  {
   "cell_type": "markdown",
   "metadata": {},
   "source": [
    "### Общий вывод"
   ]
  },
  {
   "cell_type": "markdown",
   "metadata": {},
   "source": [
    "##### Анализ предобработанных данных выявил:\n",
    "1. Количество пользователей тарифного плана \"Смарт\" - 351 человек.\n",
    "2. Количество пользователей тарифного плана \"Ультра\" - 149 человек.\n",
    "3. Наибольшее количество звонков, сообщений и объема израсходованного интернет-траффика замечено в декабре.\n",
    "4. Наименьшее количество звонков, сообщений и объема израсходованного интернет-траффика замечено в январе.\n",
    "5. В течении исследуемого года количество звонков, сообщений и объема израсходованного интернет-траффика постепенно растет. Всплески наблюдаются в марте и мае. **Сделаем предположение, что это связано с праздничными и выходными днями данных месяцев**.\n",
    "6. Наибольшая выручка отмечена в декабре. **Сделаем предположение, что это связано с поиском и покупкой подарков к Новому году**.\n",
    "7. Наименьшая выручка отмечена в январе.\n",
    "8. Выручка тарифа \"Ультра\" больше выручки тарифа \"Смарт\":\n",
    "    + **средняя выручка тарифа \"Ультра\" примерно составляет 2100 рублей в месяц (ежемесячная абонентская плата 1950)**;\n",
    "    + **средняя выручка тарифа \"Смарт\" примерно составляет 1250 рублей в месяц (ежемесячная абонентская плата 550 рублей)**.\n",
    "9. Средняя выручка пользователей из Москвы не превышает средней выручки пользователей из других городов.\n",
    "10. **Пользователи обоих тарифных планов \"Смарт\" и \"Ультра\" не превышают установленный каждым тарифом лимит количества минут звонков, сообщений и объема интернет-траффика**.\n",
    "11. Пользователи обоих тарифных планов \"Смарт\" и \"Ультра\" практически не пользуются смс-сообщениями, количество которых установлены каждым тарифным планом.\n",
    "12. Пользователи тарифа \"Смарт\" совершают больше звонков, больше отправляют сообщения и больше расходуют интернет-траффик.\n",
    "13. Пользователи тарифа \"Ультра\", по сравнению с пользователями тарифа \"Смарт\", совершают меньше звонков, меньше отправляют сообщения и меньше расходуют интернет-траффик.\n",
    "#### Итог:\n",
    "1. С точки зрения пользователей (в том числе городов, отличных от Москвы), привлекателен тариф \"Смарт\". Не большая абонентская плата. \n",
    "2. С точки зрения сотовой компании \"Мегалайн\" наиболее выгоден тариф \"Ультра\". Высокая абонентская плата и выручка больше, чем выручка тарифа \"Смарт\". \n",
    "3. Не смотря на то, что пользователи обоих тарифов \"Смарт\" и \"Ультра\" не превышают установленный тарифным планом лимит по каждому показателю (звонки, сообщения, интернет-траффик), ежемесячная выручка сотового оператора говорит о том, что пользователи ежемесячно переплачивают сверх абонентской платы (причем по бюджетному тарифу \"Смарт\" переплата примерно в 3,5 раза больше чем составляет абонетская плата!) и связано это с округлением вверх начений минут и мегабайтов! **Наше первоначальное предположение \"округление значений в большую сторону приведет к ежемесячной переплате пользователями по каждому тарифу\" подтвердилось!**"
   ]
  }
 ],
 "metadata": {
  "kernelspec": {
   "display_name": "Python 3",
   "language": "python",
   "name": "python3"
  },
  "language_info": {
   "codemirror_mode": {
    "name": "ipython",
    "version": 3
   },
   "file_extension": ".py",
   "mimetype": "text/x-python",
   "name": "python",
   "nbconvert_exporter": "python",
   "pygments_lexer": "ipython3",
   "version": "3.7.6"
  }
 },
 "nbformat": 4,
 "nbformat_minor": 2
}
