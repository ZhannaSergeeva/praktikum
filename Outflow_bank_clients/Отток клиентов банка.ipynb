{
 "cells": [
  {
   "cell_type": "markdown",
   "metadata": {},
   "source": [
    "# 1. Подготовка данных"
   ]
  },
  {
   "cell_type": "code",
   "execution_count": 1,
   "metadata": {},
   "outputs": [],
   "source": [
    "#вызов библиотеки Pandas\n",
    "import pandas as pd\n",
    "# вызов функции деления выборки\n",
    "from sklearn.model_selection import train_test_split\n",
    "# вызов функции порядкового кодирования\n",
    "from sklearn.preprocessing import OrdinalEncoder\n",
    "# Вызов библиотеки для создания графиков\n",
    "import matplotlib.pyplot as plt"
   ]
  },
  {
   "cell_type": "code",
   "execution_count": 2,
   "metadata": {},
   "outputs": [],
   "source": [
    "# исследование данных\n",
    "data_churn = pd.read_csv('/datasets/Churn.csv')"
   ]
  },
  {
   "cell_type": "code",
   "execution_count": 3,
   "metadata": {},
   "outputs": [
    {
     "data": {
      "text/html": [
       "<div>\n",
       "<style scoped>\n",
       "    .dataframe tbody tr th:only-of-type {\n",
       "        vertical-align: middle;\n",
       "    }\n",
       "\n",
       "    .dataframe tbody tr th {\n",
       "        vertical-align: top;\n",
       "    }\n",
       "\n",
       "    .dataframe thead th {\n",
       "        text-align: right;\n",
       "    }\n",
       "</style>\n",
       "<table border=\"1\" class=\"dataframe\">\n",
       "  <thead>\n",
       "    <tr style=\"text-align: right;\">\n",
       "      <th></th>\n",
       "      <th>RowNumber</th>\n",
       "      <th>CustomerId</th>\n",
       "      <th>Surname</th>\n",
       "      <th>CreditScore</th>\n",
       "      <th>Geography</th>\n",
       "      <th>Gender</th>\n",
       "      <th>Age</th>\n",
       "      <th>Tenure</th>\n",
       "      <th>Balance</th>\n",
       "      <th>NumOfProducts</th>\n",
       "      <th>HasCrCard</th>\n",
       "      <th>IsActiveMember</th>\n",
       "      <th>EstimatedSalary</th>\n",
       "      <th>Exited</th>\n",
       "    </tr>\n",
       "  </thead>\n",
       "  <tbody>\n",
       "    <tr>\n",
       "      <td>0</td>\n",
       "      <td>1</td>\n",
       "      <td>15634602</td>\n",
       "      <td>Hargrave</td>\n",
       "      <td>619</td>\n",
       "      <td>France</td>\n",
       "      <td>Female</td>\n",
       "      <td>42</td>\n",
       "      <td>2.0</td>\n",
       "      <td>0.00</td>\n",
       "      <td>1</td>\n",
       "      <td>1</td>\n",
       "      <td>1</td>\n",
       "      <td>101348.88</td>\n",
       "      <td>1</td>\n",
       "    </tr>\n",
       "    <tr>\n",
       "      <td>1</td>\n",
       "      <td>2</td>\n",
       "      <td>15647311</td>\n",
       "      <td>Hill</td>\n",
       "      <td>608</td>\n",
       "      <td>Spain</td>\n",
       "      <td>Female</td>\n",
       "      <td>41</td>\n",
       "      <td>1.0</td>\n",
       "      <td>83807.86</td>\n",
       "      <td>1</td>\n",
       "      <td>0</td>\n",
       "      <td>1</td>\n",
       "      <td>112542.58</td>\n",
       "      <td>0</td>\n",
       "    </tr>\n",
       "    <tr>\n",
       "      <td>2</td>\n",
       "      <td>3</td>\n",
       "      <td>15619304</td>\n",
       "      <td>Onio</td>\n",
       "      <td>502</td>\n",
       "      <td>France</td>\n",
       "      <td>Female</td>\n",
       "      <td>42</td>\n",
       "      <td>8.0</td>\n",
       "      <td>159660.80</td>\n",
       "      <td>3</td>\n",
       "      <td>1</td>\n",
       "      <td>0</td>\n",
       "      <td>113931.57</td>\n",
       "      <td>1</td>\n",
       "    </tr>\n",
       "    <tr>\n",
       "      <td>3</td>\n",
       "      <td>4</td>\n",
       "      <td>15701354</td>\n",
       "      <td>Boni</td>\n",
       "      <td>699</td>\n",
       "      <td>France</td>\n",
       "      <td>Female</td>\n",
       "      <td>39</td>\n",
       "      <td>1.0</td>\n",
       "      <td>0.00</td>\n",
       "      <td>2</td>\n",
       "      <td>0</td>\n",
       "      <td>0</td>\n",
       "      <td>93826.63</td>\n",
       "      <td>0</td>\n",
       "    </tr>\n",
       "    <tr>\n",
       "      <td>4</td>\n",
       "      <td>5</td>\n",
       "      <td>15737888</td>\n",
       "      <td>Mitchell</td>\n",
       "      <td>850</td>\n",
       "      <td>Spain</td>\n",
       "      <td>Female</td>\n",
       "      <td>43</td>\n",
       "      <td>2.0</td>\n",
       "      <td>125510.82</td>\n",
       "      <td>1</td>\n",
       "      <td>1</td>\n",
       "      <td>1</td>\n",
       "      <td>79084.10</td>\n",
       "      <td>0</td>\n",
       "    </tr>\n",
       "  </tbody>\n",
       "</table>\n",
       "</div>"
      ],
      "text/plain": [
       "   RowNumber  CustomerId   Surname  CreditScore Geography  Gender  Age  \\\n",
       "0          1    15634602  Hargrave          619    France  Female   42   \n",
       "1          2    15647311      Hill          608     Spain  Female   41   \n",
       "2          3    15619304      Onio          502    France  Female   42   \n",
       "3          4    15701354      Boni          699    France  Female   39   \n",
       "4          5    15737888  Mitchell          850     Spain  Female   43   \n",
       "\n",
       "   Tenure    Balance  NumOfProducts  HasCrCard  IsActiveMember  \\\n",
       "0     2.0       0.00              1          1               1   \n",
       "1     1.0   83807.86              1          0               1   \n",
       "2     8.0  159660.80              3          1               0   \n",
       "3     1.0       0.00              2          0               0   \n",
       "4     2.0  125510.82              1          1               1   \n",
       "\n",
       "   EstimatedSalary  Exited  \n",
       "0        101348.88       1  \n",
       "1        112542.58       0  \n",
       "2        113931.57       1  \n",
       "3         93826.63       0  \n",
       "4         79084.10       0  "
      ]
     },
     "execution_count": 3,
     "metadata": {},
     "output_type": "execute_result"
    }
   ],
   "source": [
    "# Просмотр данных таблицы data_churn\n",
    "data_churn.head(5)"
   ]
  },
  {
   "cell_type": "code",
   "execution_count": 4,
   "metadata": {},
   "outputs": [
    {
     "name": "stdout",
     "output_type": "stream",
     "text": [
      "<class 'pandas.core.frame.DataFrame'>\n",
      "RangeIndex: 10000 entries, 0 to 9999\n",
      "Data columns (total 14 columns):\n",
      "RowNumber          10000 non-null int64\n",
      "CustomerId         10000 non-null int64\n",
      "Surname            10000 non-null object\n",
      "CreditScore        10000 non-null int64\n",
      "Geography          10000 non-null object\n",
      "Gender             10000 non-null object\n",
      "Age                10000 non-null int64\n",
      "Tenure             9091 non-null float64\n",
      "Balance            10000 non-null float64\n",
      "NumOfProducts      10000 non-null int64\n",
      "HasCrCard          10000 non-null int64\n",
      "IsActiveMember     10000 non-null int64\n",
      "EstimatedSalary    10000 non-null float64\n",
      "Exited             10000 non-null int64\n",
      "dtypes: float64(3), int64(8), object(3)\n",
      "memory usage: 1.1+ MB\n"
     ]
    }
   ],
   "source": [
    "# Исследование обзей информации таблицы data_churn\n",
    "data_churn.info()"
   ]
  },
  {
   "cell_type": "markdown",
   "metadata": {},
   "source": [
    "##### Вывод\n",
    "1. Таблица data_churn состоит из 14 колонок-признаков.\n",
    "2. Таблица data_churn состоит из 10000 строк-объектов.\n",
    "3. Целевой признак модели:\n",
    "    + Exited \"факт ухода клиента\"\n",
    "4. Признаками модели являются:\n",
    "    + RowNumber \"индекс строки в данных\";\n",
    "    + CustomerId \"уникальный идентификатор клиента\";\n",
    "    + Surname \"фамилия\";\n",
    "    + CreditScore \"кредитный рейтинг\";\n",
    "    + Geography \"страна проживания\";\n",
    "    + Gender \"пол\";\n",
    "    + Age \"возраст\";\n",
    "    + Tenure \"количество недвижимости у клиента\";\n",
    "    + Balance \"баланс на счёте\";\n",
    "    + NumOfProducts \"количество продуктов банка, используемых клиентом\";\n",
    "    + HasCrCard \"наличие кредитной карты\";\n",
    "    + IsActiveMember \"активность клиента\";\n",
    "    + EstimatedSalary \"предполагаемая зарплата\"."
   ]
  },
  {
   "cell_type": "code",
   "execution_count": 5,
   "metadata": {},
   "outputs": [],
   "source": [
    "# Удаление из таблицы неинформативных признаков\n",
    "# Фамилия\n",
    "data_churn = data_churn.drop(['Surname'], axis = 1)\n",
    "# Индекс строки в данных\n",
    "data_churn = data_churn.drop(['RowNumber'], axis = 1)\n",
    "# Уникальный идентификатор клиента\n",
    "data_churn = data_churn.drop(['CustomerId'], axis = 1)"
   ]
  },
  {
   "cell_type": "markdown",
   "metadata": {},
   "source": [
    "##### Вывод\n",
    "Из таблицы с исходными данными удалены следующие неинфорамционные признаки:\n",
    "1. RowNumber \"индекс строки в данных\". Так как это неинформативный показатель - просто индекс признака или его порядковые номер.\n",
    "2. CustomerId \"уникальный идентификатор клиента\". Так как это не информативный показатель - индекс клиента или его порядковый номер.\n",
    "3. Surname \"фамилия\". Не информативный показатель для прогнозирования."
   ]
  },
  {
   "cell_type": "code",
   "execution_count": 6,
   "metadata": {},
   "outputs": [
    {
     "name": "stdout",
     "output_type": "stream",
     "text": [
      "count    9091.000000\n",
      "mean        4.997690\n",
      "std         2.894723\n",
      "min         0.000000\n",
      "25%         2.000000\n",
      "50%         5.000000\n",
      "75%         7.000000\n",
      "max        10.000000\n",
      "Name: Tenure, dtype: float64\n"
     ]
    },
    {
     "data": {
      "image/png": "[encoded data removed]",
      "text/plain": [
       "<Figure size 432x288 with 1 Axes>"
      ]
     },
     "metadata": {
      "needs_background": "light"
     },
     "output_type": "display_data"
    }
   ],
   "source": [
    "# Построим диаграмму размаха по значениям колонки \"количество недвижимости у клиента\"\n",
    "data_churn.boxplot('Tenure')\n",
    "plt.ylim(-0.5, 12)\n",
    "print(data_churn['Tenure'].describe())"
   ]
  },
  {
   "cell_type": "code",
   "execution_count": 7,
   "metadata": {},
   "outputs": [
    {
     "name": "stdout",
     "output_type": "stream",
     "text": [
      "0        2.0\n",
      "1        1.0\n",
      "2        8.0\n",
      "3        1.0\n",
      "4        2.0\n",
      "        ... \n",
      "9995     5.0\n",
      "9996    10.0\n",
      "9997     7.0\n",
      "9998     3.0\n",
      "9999     5.0\n",
      "Name: Tenure, Length: 10000, dtype: float64\n"
     ]
    }
   ],
   "source": [
    "median_Tenure = data_churn['Tenure'].median()\n",
    "data_churn['Tenure'] = data_churn['Tenure'].fillna(median_Tenure)\n",
    "print(data_churn['Tenure'])"
   ]
  },
  {
   "cell_type": "code",
   "execution_count": 8,
   "metadata": {},
   "outputs": [
    {
     "data": {
      "text/html": [
       "<div>\n",
       "<style scoped>\n",
       "    .dataframe tbody tr th:only-of-type {\n",
       "        vertical-align: middle;\n",
       "    }\n",
       "\n",
       "    .dataframe tbody tr th {\n",
       "        vertical-align: top;\n",
       "    }\n",
       "\n",
       "    .dataframe thead th {\n",
       "        text-align: right;\n",
       "    }\n",
       "</style>\n",
       "<table border=\"1\" class=\"dataframe\">\n",
       "  <thead>\n",
       "    <tr style=\"text-align: right;\">\n",
       "      <th></th>\n",
       "      <th>CreditScore</th>\n",
       "      <th>Geography</th>\n",
       "      <th>Gender</th>\n",
       "      <th>Age</th>\n",
       "      <th>Tenure</th>\n",
       "      <th>Balance</th>\n",
       "      <th>NumOfProducts</th>\n",
       "      <th>HasCrCard</th>\n",
       "      <th>IsActiveMember</th>\n",
       "      <th>EstimatedSalary</th>\n",
       "      <th>Exited</th>\n",
       "    </tr>\n",
       "  </thead>\n",
       "  <tbody>\n",
       "    <tr>\n",
       "      <td>0</td>\n",
       "      <td>619</td>\n",
       "      <td>France</td>\n",
       "      <td>Female</td>\n",
       "      <td>42</td>\n",
       "      <td>2.0</td>\n",
       "      <td>0.00</td>\n",
       "      <td>1</td>\n",
       "      <td>1</td>\n",
       "      <td>1</td>\n",
       "      <td>101348.88</td>\n",
       "      <td>1</td>\n",
       "    </tr>\n",
       "    <tr>\n",
       "      <td>1</td>\n",
       "      <td>608</td>\n",
       "      <td>Spain</td>\n",
       "      <td>Female</td>\n",
       "      <td>41</td>\n",
       "      <td>1.0</td>\n",
       "      <td>83807.86</td>\n",
       "      <td>1</td>\n",
       "      <td>0</td>\n",
       "      <td>1</td>\n",
       "      <td>112542.58</td>\n",
       "      <td>0</td>\n",
       "    </tr>\n",
       "    <tr>\n",
       "      <td>2</td>\n",
       "      <td>502</td>\n",
       "      <td>France</td>\n",
       "      <td>Female</td>\n",
       "      <td>42</td>\n",
       "      <td>8.0</td>\n",
       "      <td>159660.80</td>\n",
       "      <td>3</td>\n",
       "      <td>1</td>\n",
       "      <td>0</td>\n",
       "      <td>113931.57</td>\n",
       "      <td>1</td>\n",
       "    </tr>\n",
       "    <tr>\n",
       "      <td>3</td>\n",
       "      <td>699</td>\n",
       "      <td>France</td>\n",
       "      <td>Female</td>\n",
       "      <td>39</td>\n",
       "      <td>1.0</td>\n",
       "      <td>0.00</td>\n",
       "      <td>2</td>\n",
       "      <td>0</td>\n",
       "      <td>0</td>\n",
       "      <td>93826.63</td>\n",
       "      <td>0</td>\n",
       "    </tr>\n",
       "    <tr>\n",
       "      <td>4</td>\n",
       "      <td>850</td>\n",
       "      <td>Spain</td>\n",
       "      <td>Female</td>\n",
       "      <td>43</td>\n",
       "      <td>2.0</td>\n",
       "      <td>125510.82</td>\n",
       "      <td>1</td>\n",
       "      <td>1</td>\n",
       "      <td>1</td>\n",
       "      <td>79084.10</td>\n",
       "      <td>0</td>\n",
       "    </tr>\n",
       "  </tbody>\n",
       "</table>\n",
       "</div>"
      ],
      "text/plain": [
       "   CreditScore Geography  Gender  Age  Tenure    Balance  NumOfProducts  \\\n",
       "0          619    France  Female   42     2.0       0.00              1   \n",
       "1          608     Spain  Female   41     1.0   83807.86              1   \n",
       "2          502    France  Female   42     8.0  159660.80              3   \n",
       "3          699    France  Female   39     1.0       0.00              2   \n",
       "4          850     Spain  Female   43     2.0  125510.82              1   \n",
       "\n",
       "   HasCrCard  IsActiveMember  EstimatedSalary  Exited  \n",
       "0          1               1        101348.88       1  \n",
       "1          0               1        112542.58       0  \n",
       "2          1               0        113931.57       1  \n",
       "3          0               0         93826.63       0  \n",
       "4          1               1         79084.10       0  "
      ]
     },
     "execution_count": 8,
     "metadata": {},
     "output_type": "execute_result"
    }
   ],
   "source": [
    "data_churn.head(5)"
   ]
  },
  {
   "cell_type": "markdown",
   "metadata": {},
   "source": [
    "##### Вывод\n",
    "Признак Tenure \"количество недвижимости у клиента\" содержит пропуски. Вероятно пропуски связаны с отсутствием данных. Вычислим медиану и заполним пропуски медианой. "
   ]
  },
  {
   "cell_type": "code",
   "execution_count": 9,
   "metadata": {},
   "outputs": [
    {
     "data": {
      "text/html": [
       "<div>\n",
       "<style scoped>\n",
       "    .dataframe tbody tr th:only-of-type {\n",
       "        vertical-align: middle;\n",
       "    }\n",
       "\n",
       "    .dataframe tbody tr th {\n",
       "        vertical-align: top;\n",
       "    }\n",
       "\n",
       "    .dataframe thead th {\n",
       "        text-align: right;\n",
       "    }\n",
       "</style>\n",
       "<table border=\"1\" class=\"dataframe\">\n",
       "  <thead>\n",
       "    <tr style=\"text-align: right;\">\n",
       "      <th></th>\n",
       "      <th>CreditScore</th>\n",
       "      <th>Age</th>\n",
       "      <th>Tenure</th>\n",
       "      <th>Balance</th>\n",
       "      <th>NumOfProducts</th>\n",
       "      <th>HasCrCard</th>\n",
       "      <th>IsActiveMember</th>\n",
       "      <th>EstimatedSalary</th>\n",
       "      <th>Exited</th>\n",
       "      <th>Geography_Germany</th>\n",
       "      <th>Geography_Spain</th>\n",
       "      <th>Gender_Male</th>\n",
       "    </tr>\n",
       "  </thead>\n",
       "  <tbody>\n",
       "    <tr>\n",
       "      <td>0</td>\n",
       "      <td>619</td>\n",
       "      <td>42</td>\n",
       "      <td>2.0</td>\n",
       "      <td>0.00</td>\n",
       "      <td>1</td>\n",
       "      <td>1</td>\n",
       "      <td>1</td>\n",
       "      <td>101348.88</td>\n",
       "      <td>1</td>\n",
       "      <td>0</td>\n",
       "      <td>0</td>\n",
       "      <td>0</td>\n",
       "    </tr>\n",
       "    <tr>\n",
       "      <td>1</td>\n",
       "      <td>608</td>\n",
       "      <td>41</td>\n",
       "      <td>1.0</td>\n",
       "      <td>83807.86</td>\n",
       "      <td>1</td>\n",
       "      <td>0</td>\n",
       "      <td>1</td>\n",
       "      <td>112542.58</td>\n",
       "      <td>0</td>\n",
       "      <td>0</td>\n",
       "      <td>1</td>\n",
       "      <td>0</td>\n",
       "    </tr>\n",
       "    <tr>\n",
       "      <td>2</td>\n",
       "      <td>502</td>\n",
       "      <td>42</td>\n",
       "      <td>8.0</td>\n",
       "      <td>159660.80</td>\n",
       "      <td>3</td>\n",
       "      <td>1</td>\n",
       "      <td>0</td>\n",
       "      <td>113931.57</td>\n",
       "      <td>1</td>\n",
       "      <td>0</td>\n",
       "      <td>0</td>\n",
       "      <td>0</td>\n",
       "    </tr>\n",
       "    <tr>\n",
       "      <td>3</td>\n",
       "      <td>699</td>\n",
       "      <td>39</td>\n",
       "      <td>1.0</td>\n",
       "      <td>0.00</td>\n",
       "      <td>2</td>\n",
       "      <td>0</td>\n",
       "      <td>0</td>\n",
       "      <td>93826.63</td>\n",
       "      <td>0</td>\n",
       "      <td>0</td>\n",
       "      <td>0</td>\n",
       "      <td>0</td>\n",
       "    </tr>\n",
       "    <tr>\n",
       "      <td>4</td>\n",
       "      <td>850</td>\n",
       "      <td>43</td>\n",
       "      <td>2.0</td>\n",
       "      <td>125510.82</td>\n",
       "      <td>1</td>\n",
       "      <td>1</td>\n",
       "      <td>1</td>\n",
       "      <td>79084.10</td>\n",
       "      <td>0</td>\n",
       "      <td>0</td>\n",
       "      <td>1</td>\n",
       "      <td>0</td>\n",
       "    </tr>\n",
       "  </tbody>\n",
       "</table>\n",
       "</div>"
      ],
      "text/plain": [
       "   CreditScore  Age  Tenure    Balance  NumOfProducts  HasCrCard  \\\n",
       "0          619   42     2.0       0.00              1          1   \n",
       "1          608   41     1.0   83807.86              1          0   \n",
       "2          502   42     8.0  159660.80              3          1   \n",
       "3          699   39     1.0       0.00              2          0   \n",
       "4          850   43     2.0  125510.82              1          1   \n",
       "\n",
       "   IsActiveMember  EstimatedSalary  Exited  Geography_Germany  \\\n",
       "0               1        101348.88       1                  0   \n",
       "1               1        112542.58       0                  0   \n",
       "2               0        113931.57       1                  0   \n",
       "3               0         93826.63       0                  0   \n",
       "4               1         79084.10       0                  0   \n",
       "\n",
       "   Geography_Spain  Gender_Male  \n",
       "0                0            0  \n",
       "1                1            0  \n",
       "2                0            0  \n",
       "3                0            0  \n",
       "4                1            0  "
      ]
     },
     "execution_count": 9,
     "metadata": {},
     "output_type": "execute_result"
    }
   ],
   "source": [
    "# прямое кодирование ко всему датафрейму data_churn c обходом дамми-ловушки\n",
    "data_ohe = pd.get_dummies(data_churn, drop_first=True)\n",
    "data_ohe.head(5)"
   ]
  },
  {
   "cell_type": "code",
   "execution_count": 10,
   "metadata": {},
   "outputs": [],
   "source": [
    "# разделим выборки на обучающе-валидационную и тестовую\n",
    "dc_TrainValid, dc_Test = train_test_split(data_ohe, test_size=0.20, random_state=2020)"
   ]
  },
  {
   "cell_type": "code",
   "execution_count": 11,
   "metadata": {},
   "outputs": [
    {
     "data": {
      "text/html": [
       "<div>\n",
       "<style scoped>\n",
       "    .dataframe tbody tr th:only-of-type {\n",
       "        vertical-align: middle;\n",
       "    }\n",
       "\n",
       "    .dataframe tbody tr th {\n",
       "        vertical-align: top;\n",
       "    }\n",
       "\n",
       "    .dataframe thead th {\n",
       "        text-align: right;\n",
       "    }\n",
       "</style>\n",
       "<table border=\"1\" class=\"dataframe\">\n",
       "  <thead>\n",
       "    <tr style=\"text-align: right;\">\n",
       "      <th></th>\n",
       "      <th>CreditScore</th>\n",
       "      <th>Age</th>\n",
       "      <th>Tenure</th>\n",
       "      <th>Balance</th>\n",
       "      <th>NumOfProducts</th>\n",
       "      <th>HasCrCard</th>\n",
       "      <th>IsActiveMember</th>\n",
       "      <th>EstimatedSalary</th>\n",
       "      <th>Exited</th>\n",
       "      <th>Geography_Germany</th>\n",
       "      <th>Geography_Spain</th>\n",
       "      <th>Gender_Male</th>\n",
       "    </tr>\n",
       "  </thead>\n",
       "  <tbody>\n",
       "    <tr>\n",
       "      <td>5540</td>\n",
       "      <td>737</td>\n",
       "      <td>43</td>\n",
       "      <td>0.0</td>\n",
       "      <td>80090.93</td>\n",
       "      <td>1</td>\n",
       "      <td>1</td>\n",
       "      <td>0</td>\n",
       "      <td>39920.00</td>\n",
       "      <td>1</td>\n",
       "      <td>0</td>\n",
       "      <td>0</td>\n",
       "      <td>1</td>\n",
       "    </tr>\n",
       "    <tr>\n",
       "      <td>9880</td>\n",
       "      <td>584</td>\n",
       "      <td>42</td>\n",
       "      <td>3.0</td>\n",
       "      <td>137479.13</td>\n",
       "      <td>1</td>\n",
       "      <td>1</td>\n",
       "      <td>0</td>\n",
       "      <td>25669.10</td>\n",
       "      <td>0</td>\n",
       "      <td>1</td>\n",
       "      <td>0</td>\n",
       "      <td>1</td>\n",
       "    </tr>\n",
       "    <tr>\n",
       "      <td>3112</td>\n",
       "      <td>698</td>\n",
       "      <td>40</td>\n",
       "      <td>7.0</td>\n",
       "      <td>105061.74</td>\n",
       "      <td>3</td>\n",
       "      <td>1</td>\n",
       "      <td>0</td>\n",
       "      <td>107815.31</td>\n",
       "      <td>1</td>\n",
       "      <td>0</td>\n",
       "      <td>0</td>\n",
       "      <td>0</td>\n",
       "    </tr>\n",
       "    <tr>\n",
       "      <td>4117</td>\n",
       "      <td>561</td>\n",
       "      <td>37</td>\n",
       "      <td>5.0</td>\n",
       "      <td>0.00</td>\n",
       "      <td>2</td>\n",
       "      <td>1</td>\n",
       "      <td>0</td>\n",
       "      <td>83093.25</td>\n",
       "      <td>0</td>\n",
       "      <td>0</td>\n",
       "      <td>0</td>\n",
       "      <td>1</td>\n",
       "    </tr>\n",
       "    <tr>\n",
       "      <td>2732</td>\n",
       "      <td>623</td>\n",
       "      <td>48</td>\n",
       "      <td>1.0</td>\n",
       "      <td>108076.33</td>\n",
       "      <td>1</td>\n",
       "      <td>1</td>\n",
       "      <td>0</td>\n",
       "      <td>118855.26</td>\n",
       "      <td>1</td>\n",
       "      <td>1</td>\n",
       "      <td>0</td>\n",
       "      <td>0</td>\n",
       "    </tr>\n",
       "  </tbody>\n",
       "</table>\n",
       "</div>"
      ],
      "text/plain": [
       "      CreditScore  Age  Tenure    Balance  NumOfProducts  HasCrCard  \\\n",
       "5540          737   43     0.0   80090.93              1          1   \n",
       "9880          584   42     3.0  137479.13              1          1   \n",
       "3112          698   40     7.0  105061.74              3          1   \n",
       "4117          561   37     5.0       0.00              2          1   \n",
       "2732          623   48     1.0  108076.33              1          1   \n",
       "\n",
       "      IsActiveMember  EstimatedSalary  Exited  Geography_Germany  \\\n",
       "5540               0         39920.00       1                  0   \n",
       "9880               0         25669.10       0                  1   \n",
       "3112               0        107815.31       1                  0   \n",
       "4117               0         83093.25       0                  0   \n",
       "2732               0        118855.26       1                  1   \n",
       "\n",
       "      Geography_Spain  Gender_Male  \n",
       "5540                0            1  \n",
       "9880                0            1  \n",
       "3112                0            0  \n",
       "4117                0            1  \n",
       "2732                0            0  "
      ]
     },
     "execution_count": 11,
     "metadata": {},
     "output_type": "execute_result"
    }
   ],
   "source": [
    "# Просмотр данных обучающе-валидационной выборки\n",
    "dc_TrainValid.head(5)"
   ]
  },
  {
   "cell_type": "code",
   "execution_count": 12,
   "metadata": {},
   "outputs": [
    {
     "data": {
      "text/html": [
       "<div>\n",
       "<style scoped>\n",
       "    .dataframe tbody tr th:only-of-type {\n",
       "        vertical-align: middle;\n",
       "    }\n",
       "\n",
       "    .dataframe tbody tr th {\n",
       "        vertical-align: top;\n",
       "    }\n",
       "\n",
       "    .dataframe thead th {\n",
       "        text-align: right;\n",
       "    }\n",
       "</style>\n",
       "<table border=\"1\" class=\"dataframe\">\n",
       "  <thead>\n",
       "    <tr style=\"text-align: right;\">\n",
       "      <th></th>\n",
       "      <th>CreditScore</th>\n",
       "      <th>Age</th>\n",
       "      <th>Tenure</th>\n",
       "      <th>Balance</th>\n",
       "      <th>NumOfProducts</th>\n",
       "      <th>HasCrCard</th>\n",
       "      <th>IsActiveMember</th>\n",
       "      <th>EstimatedSalary</th>\n",
       "      <th>Exited</th>\n",
       "      <th>Geography_Germany</th>\n",
       "      <th>Geography_Spain</th>\n",
       "      <th>Gender_Male</th>\n",
       "    </tr>\n",
       "  </thead>\n",
       "  <tbody>\n",
       "    <tr>\n",
       "      <td>4436</td>\n",
       "      <td>508</td>\n",
       "      <td>26</td>\n",
       "      <td>7.0</td>\n",
       "      <td>205962.00</td>\n",
       "      <td>1</td>\n",
       "      <td>1</td>\n",
       "      <td>0</td>\n",
       "      <td>156424.40</td>\n",
       "      <td>0</td>\n",
       "      <td>0</td>\n",
       "      <td>0</td>\n",
       "      <td>1</td>\n",
       "    </tr>\n",
       "    <tr>\n",
       "      <td>3829</td>\n",
       "      <td>587</td>\n",
       "      <td>36</td>\n",
       "      <td>1.0</td>\n",
       "      <td>70784.27</td>\n",
       "      <td>1</td>\n",
       "      <td>1</td>\n",
       "      <td>0</td>\n",
       "      <td>30579.82</td>\n",
       "      <td>0</td>\n",
       "      <td>0</td>\n",
       "      <td>0</td>\n",
       "      <td>0</td>\n",
       "    </tr>\n",
       "    <tr>\n",
       "      <td>2434</td>\n",
       "      <td>774</td>\n",
       "      <td>52</td>\n",
       "      <td>2.0</td>\n",
       "      <td>56580.93</td>\n",
       "      <td>1</td>\n",
       "      <td>1</td>\n",
       "      <td>0</td>\n",
       "      <td>113266.28</td>\n",
       "      <td>1</td>\n",
       "      <td>0</td>\n",
       "      <td>0</td>\n",
       "      <td>0</td>\n",
       "    </tr>\n",
       "    <tr>\n",
       "      <td>4449</td>\n",
       "      <td>666</td>\n",
       "      <td>36</td>\n",
       "      <td>3.0</td>\n",
       "      <td>0.00</td>\n",
       "      <td>2</td>\n",
       "      <td>1</td>\n",
       "      <td>0</td>\n",
       "      <td>35156.54</td>\n",
       "      <td>0</td>\n",
       "      <td>0</td>\n",
       "      <td>0</td>\n",
       "      <td>1</td>\n",
       "    </tr>\n",
       "    <tr>\n",
       "      <td>43</td>\n",
       "      <td>834</td>\n",
       "      <td>49</td>\n",
       "      <td>2.0</td>\n",
       "      <td>131394.56</td>\n",
       "      <td>1</td>\n",
       "      <td>0</td>\n",
       "      <td>0</td>\n",
       "      <td>194365.76</td>\n",
       "      <td>1</td>\n",
       "      <td>0</td>\n",
       "      <td>0</td>\n",
       "      <td>0</td>\n",
       "    </tr>\n",
       "  </tbody>\n",
       "</table>\n",
       "</div>"
      ],
      "text/plain": [
       "      CreditScore  Age  Tenure    Balance  NumOfProducts  HasCrCard  \\\n",
       "4436          508   26     7.0  205962.00              1          1   \n",
       "3829          587   36     1.0   70784.27              1          1   \n",
       "2434          774   52     2.0   56580.93              1          1   \n",
       "4449          666   36     3.0       0.00              2          1   \n",
       "43            834   49     2.0  131394.56              1          0   \n",
       "\n",
       "      IsActiveMember  EstimatedSalary  Exited  Geography_Germany  \\\n",
       "4436               0        156424.40       0                  0   \n",
       "3829               0         30579.82       0                  0   \n",
       "2434               0        113266.28       1                  0   \n",
       "4449               0         35156.54       0                  0   \n",
       "43                 0        194365.76       1                  0   \n",
       "\n",
       "      Geography_Spain  Gender_Male  \n",
       "4436                0            1  \n",
       "3829                0            0  \n",
       "2434                0            0  \n",
       "4449                0            1  \n",
       "43                  0            0  "
      ]
     },
     "execution_count": 12,
     "metadata": {},
     "output_type": "execute_result"
    }
   ],
   "source": [
    "# Просмотр данных тестовой выборки\n",
    "dc_Test.head(5)"
   ]
  },
  {
   "cell_type": "code",
   "execution_count": 13,
   "metadata": {},
   "outputs": [],
   "source": [
    "# разделим обучающе-валидационную выборку отдельные выборки: обучающая и валидационная\n",
    "dc_Train, dc_Valid = train_test_split(dc_TrainValid, test_size=0.25, random_state=2020)"
   ]
  },
  {
   "cell_type": "code",
   "execution_count": 14,
   "metadata": {},
   "outputs": [
    {
     "name": "stdout",
     "output_type": "stream",
     "text": [
      "Обучающая выборка:  60.0\n",
      "Валидационная выборка:  20.0\n",
      "Тестовая выборка:  20.0\n"
     ]
    }
   ],
   "source": [
    "size_data_ordinal = len(data_ohe.index)\n",
    "size_dc_Train = len(dc_Train.index)\n",
    "size_dc_Valid = len(dc_Valid.index)\n",
    "size_dc_Test = len(dc_Test.index)\n",
    "print(\"Обучающая выборка: \", size_dc_Train*100/size_data_ordinal)\n",
    "print(\"Валидационная выборка: \", size_dc_Valid*100/size_data_ordinal)\n",
    "print(\"Тестовая выборка: \", size_dc_Test*100/size_data_ordinal)"
   ]
  },
  {
   "cell_type": "code",
   "execution_count": 15,
   "metadata": {},
   "outputs": [
    {
     "data": {
      "text/html": [
       "<div>\n",
       "<style scoped>\n",
       "    .dataframe tbody tr th:only-of-type {\n",
       "        vertical-align: middle;\n",
       "    }\n",
       "\n",
       "    .dataframe tbody tr th {\n",
       "        vertical-align: top;\n",
       "    }\n",
       "\n",
       "    .dataframe thead th {\n",
       "        text-align: right;\n",
       "    }\n",
       "</style>\n",
       "<table border=\"1\" class=\"dataframe\">\n",
       "  <thead>\n",
       "    <tr style=\"text-align: right;\">\n",
       "      <th></th>\n",
       "      <th>CreditScore</th>\n",
       "      <th>Age</th>\n",
       "      <th>Tenure</th>\n",
       "      <th>Balance</th>\n",
       "      <th>NumOfProducts</th>\n",
       "      <th>HasCrCard</th>\n",
       "      <th>IsActiveMember</th>\n",
       "      <th>EstimatedSalary</th>\n",
       "      <th>Exited</th>\n",
       "      <th>Geography_Germany</th>\n",
       "      <th>Geography_Spain</th>\n",
       "      <th>Gender_Male</th>\n",
       "    </tr>\n",
       "  </thead>\n",
       "  <tbody>\n",
       "    <tr>\n",
       "      <td>9982</td>\n",
       "      <td>655</td>\n",
       "      <td>46</td>\n",
       "      <td>7.0</td>\n",
       "      <td>137145.12</td>\n",
       "      <td>1</td>\n",
       "      <td>1</td>\n",
       "      <td>0</td>\n",
       "      <td>115146.40</td>\n",
       "      <td>1</td>\n",
       "      <td>1</td>\n",
       "      <td>0</td>\n",
       "      <td>0</td>\n",
       "    </tr>\n",
       "    <tr>\n",
       "      <td>1864</td>\n",
       "      <td>607</td>\n",
       "      <td>45</td>\n",
       "      <td>7.0</td>\n",
       "      <td>123859.60</td>\n",
       "      <td>1</td>\n",
       "      <td>0</td>\n",
       "      <td>1</td>\n",
       "      <td>113051.57</td>\n",
       "      <td>0</td>\n",
       "      <td>0</td>\n",
       "      <td>0</td>\n",
       "      <td>1</td>\n",
       "    </tr>\n",
       "    <tr>\n",
       "      <td>5766</td>\n",
       "      <td>556</td>\n",
       "      <td>40</td>\n",
       "      <td>5.0</td>\n",
       "      <td>125909.85</td>\n",
       "      <td>1</td>\n",
       "      <td>1</td>\n",
       "      <td>1</td>\n",
       "      <td>95124.40</td>\n",
       "      <td>0</td>\n",
       "      <td>0</td>\n",
       "      <td>0</td>\n",
       "      <td>1</td>\n",
       "    </tr>\n",
       "    <tr>\n",
       "      <td>8632</td>\n",
       "      <td>751</td>\n",
       "      <td>42</td>\n",
       "      <td>4.0</td>\n",
       "      <td>0.00</td>\n",
       "      <td>2</td>\n",
       "      <td>1</td>\n",
       "      <td>1</td>\n",
       "      <td>81442.60</td>\n",
       "      <td>0</td>\n",
       "      <td>0</td>\n",
       "      <td>0</td>\n",
       "      <td>1</td>\n",
       "    </tr>\n",
       "    <tr>\n",
       "      <td>9854</td>\n",
       "      <td>681</td>\n",
       "      <td>37</td>\n",
       "      <td>6.0</td>\n",
       "      <td>121231.39</td>\n",
       "      <td>1</td>\n",
       "      <td>1</td>\n",
       "      <td>1</td>\n",
       "      <td>146366.08</td>\n",
       "      <td>0</td>\n",
       "      <td>0</td>\n",
       "      <td>1</td>\n",
       "      <td>0</td>\n",
       "    </tr>\n",
       "  </tbody>\n",
       "</table>\n",
       "</div>"
      ],
      "text/plain": [
       "      CreditScore  Age  Tenure    Balance  NumOfProducts  HasCrCard  \\\n",
       "9982          655   46     7.0  137145.12              1          1   \n",
       "1864          607   45     7.0  123859.60              1          0   \n",
       "5766          556   40     5.0  125909.85              1          1   \n",
       "8632          751   42     4.0       0.00              2          1   \n",
       "9854          681   37     6.0  121231.39              1          1   \n",
       "\n",
       "      IsActiveMember  EstimatedSalary  Exited  Geography_Germany  \\\n",
       "9982               0        115146.40       1                  1   \n",
       "1864               1        113051.57       0                  0   \n",
       "5766               1         95124.40       0                  0   \n",
       "8632               1         81442.60       0                  0   \n",
       "9854               1        146366.08       0                  0   \n",
       "\n",
       "      Geography_Spain  Gender_Male  \n",
       "9982                0            0  \n",
       "1864                0            1  \n",
       "5766                0            1  \n",
       "8632                0            1  \n",
       "9854                1            0  "
      ]
     },
     "execution_count": 15,
     "metadata": {},
     "output_type": "execute_result"
    }
   ],
   "source": [
    "# Просмотр данных обучающей выборки\n",
    "dc_Train.head(5)"
   ]
  },
  {
   "cell_type": "code",
   "execution_count": 16,
   "metadata": {},
   "outputs": [
    {
     "data": {
      "text/html": [
       "<div>\n",
       "<style scoped>\n",
       "    .dataframe tbody tr th:only-of-type {\n",
       "        vertical-align: middle;\n",
       "    }\n",
       "\n",
       "    .dataframe tbody tr th {\n",
       "        vertical-align: top;\n",
       "    }\n",
       "\n",
       "    .dataframe thead th {\n",
       "        text-align: right;\n",
       "    }\n",
       "</style>\n",
       "<table border=\"1\" class=\"dataframe\">\n",
       "  <thead>\n",
       "    <tr style=\"text-align: right;\">\n",
       "      <th></th>\n",
       "      <th>CreditScore</th>\n",
       "      <th>Age</th>\n",
       "      <th>Tenure</th>\n",
       "      <th>Balance</th>\n",
       "      <th>NumOfProducts</th>\n",
       "      <th>HasCrCard</th>\n",
       "      <th>IsActiveMember</th>\n",
       "      <th>EstimatedSalary</th>\n",
       "      <th>Exited</th>\n",
       "      <th>Geography_Germany</th>\n",
       "      <th>Geography_Spain</th>\n",
       "      <th>Gender_Male</th>\n",
       "    </tr>\n",
       "  </thead>\n",
       "  <tbody>\n",
       "    <tr>\n",
       "      <td>2577</td>\n",
       "      <td>616</td>\n",
       "      <td>29</td>\n",
       "      <td>5.0</td>\n",
       "      <td>149318.55</td>\n",
       "      <td>1</td>\n",
       "      <td>1</td>\n",
       "      <td>0</td>\n",
       "      <td>140746.13</td>\n",
       "      <td>0</td>\n",
       "      <td>1</td>\n",
       "      <td>0</td>\n",
       "      <td>1</td>\n",
       "    </tr>\n",
       "    <tr>\n",
       "      <td>5034</td>\n",
       "      <td>631</td>\n",
       "      <td>29</td>\n",
       "      <td>5.0</td>\n",
       "      <td>96863.52</td>\n",
       "      <td>2</td>\n",
       "      <td>1</td>\n",
       "      <td>1</td>\n",
       "      <td>31613.35</td>\n",
       "      <td>0</td>\n",
       "      <td>1</td>\n",
       "      <td>0</td>\n",
       "      <td>0</td>\n",
       "    </tr>\n",
       "    <tr>\n",
       "      <td>3691</td>\n",
       "      <td>590</td>\n",
       "      <td>76</td>\n",
       "      <td>5.0</td>\n",
       "      <td>160979.68</td>\n",
       "      <td>1</td>\n",
       "      <td>0</td>\n",
       "      <td>1</td>\n",
       "      <td>13848.58</td>\n",
       "      <td>0</td>\n",
       "      <td>0</td>\n",
       "      <td>0</td>\n",
       "      <td>0</td>\n",
       "    </tr>\n",
       "    <tr>\n",
       "      <td>8176</td>\n",
       "      <td>702</td>\n",
       "      <td>40</td>\n",
       "      <td>3.0</td>\n",
       "      <td>148556.74</td>\n",
       "      <td>1</td>\n",
       "      <td>0</td>\n",
       "      <td>1</td>\n",
       "      <td>146056.29</td>\n",
       "      <td>0</td>\n",
       "      <td>0</td>\n",
       "      <td>0</td>\n",
       "      <td>1</td>\n",
       "    </tr>\n",
       "    <tr>\n",
       "      <td>1850</td>\n",
       "      <td>785</td>\n",
       "      <td>33</td>\n",
       "      <td>5.0</td>\n",
       "      <td>136624.60</td>\n",
       "      <td>2</td>\n",
       "      <td>1</td>\n",
       "      <td>1</td>\n",
       "      <td>169117.74</td>\n",
       "      <td>0</td>\n",
       "      <td>1</td>\n",
       "      <td>0</td>\n",
       "      <td>0</td>\n",
       "    </tr>\n",
       "  </tbody>\n",
       "</table>\n",
       "</div>"
      ],
      "text/plain": [
       "      CreditScore  Age  Tenure    Balance  NumOfProducts  HasCrCard  \\\n",
       "2577          616   29     5.0  149318.55              1          1   \n",
       "5034          631   29     5.0   96863.52              2          1   \n",
       "3691          590   76     5.0  160979.68              1          0   \n",
       "8176          702   40     3.0  148556.74              1          0   \n",
       "1850          785   33     5.0  136624.60              2          1   \n",
       "\n",
       "      IsActiveMember  EstimatedSalary  Exited  Geography_Germany  \\\n",
       "2577               0        140746.13       0                  1   \n",
       "5034               1         31613.35       0                  1   \n",
       "3691               1         13848.58       0                  0   \n",
       "8176               1        146056.29       0                  0   \n",
       "1850               1        169117.74       0                  1   \n",
       "\n",
       "      Geography_Spain  Gender_Male  \n",
       "2577                0            1  \n",
       "5034                0            0  \n",
       "3691                0            0  \n",
       "8176                0            1  \n",
       "1850                0            0  "
      ]
     },
     "execution_count": 16,
     "metadata": {},
     "output_type": "execute_result"
    }
   ],
   "source": [
    "# Просмотр данных валидационной выборки\n",
    "dc_Valid.head(5)"
   ]
  },
  {
   "cell_type": "code",
   "execution_count": 17,
   "metadata": {},
   "outputs": [
    {
     "name": "stdout",
     "output_type": "stream",
     "text": [
      "(6000, 11)\n",
      "(6000,)\n"
     ]
    }
   ],
   "source": [
    "# Признаки обучающей выборки\n",
    "features_Train = dc_Train.drop(['Exited'], axis = 1)\n",
    "# Целевой признак обучающей выборки\n",
    "target_Train = dc_Train['Exited']\n",
    "print(features_Train.shape)\n",
    "print(target_Train.shape)"
   ]
  },
  {
   "cell_type": "code",
   "execution_count": 18,
   "metadata": {},
   "outputs": [
    {
     "name": "stdout",
     "output_type": "stream",
     "text": [
      "(2000, 11)\n",
      "(2000,)\n"
     ]
    }
   ],
   "source": [
    "# Признаки валидационной выборки\n",
    "features_Valid = dc_Valid.drop(['Exited'], axis = 1)\n",
    "# Целевой признак валидационной выборки\n",
    "target_Valid = dc_Valid['Exited']\n",
    "print(features_Valid.shape)\n",
    "print(target_Valid.shape)"
   ]
  },
  {
   "cell_type": "code",
   "execution_count": 19,
   "metadata": {},
   "outputs": [
    {
     "name": "stdout",
     "output_type": "stream",
     "text": [
      "(2000, 11)\n",
      "(2000,)\n"
     ]
    }
   ],
   "source": [
    "# Признаки тестовой выборки\n",
    "features_Test = dc_Test.drop(['Exited'], axis = 1)\n",
    "# Целевой признак тетовой выборки\n",
    "target_Test = dc_Test['Exited']\n",
    "print(features_Test.shape)\n",
    "print(target_Test.shape)"
   ]
  },
  {
   "cell_type": "markdown",
   "metadata": {},
   "source": [
    "#### Вывод\n",
    "1. Таблица data_churn состоит из 14 колонок-признаков.\n",
    "2. Таблица data_churn состоит из 10000 строк-объектов.\n",
    "3. Целевой признак модели:\n",
    "    + Exited \"факт ухода клиента\"\n",
    "4. Признаками модели являются:\n",
    "    + RowNumber \"индекс строки в данных\";\n",
    "    + CustomerId \"уникальный идентификатор клиента\";\n",
    "    + Surname \"фамилия\";\n",
    "    + CreditScore \"кредитный рейтинг\";\n",
    "    + Geography \"страна проживания\";\n",
    "    + Gender \"пол\";\n",
    "    + Age \"возраст\";\n",
    "    + Tenure \"количество недвижимости у клиента\";\n",
    "    + Balance \"баланс на счёте\";\n",
    "    + NumOfProducts \"количество продуктов банка, используемых клиентом\";\n",
    "    + HasCrCard \"наличие кредитной карты\";\n",
    "    + IsActiveMember \"активность клиента\";\n",
    "    + EstimatedSalary \"предполагаемая зарплата\".\n",
    " \n",
    "5. Из вышеуказанных признаков модели необходимо удалить следующие: \n",
    "    + RowNumber \"индекс строки в данных\". Так как это неинформативный показатель - просто индекс признака или его порядковые номер;\n",
    "    + CustomerId \"уникальный идентификатор клиента\". Так как это не информативный показатель - индекс клиента или его порядковый номер;\n",
    "    + Surname \"фамилия\".  \n",
    "6. Из вышеуказанных признаков модели, числовыми (подлежащие дальнейшиму масштабированию) являются:\n",
    "    + CreditScore \"кредитный рейтинг\";\n",
    "    + Age \"возраст\";\n",
    "    + Tenure \"количество недвижимости у клиента\";\n",
    "    + Balance \"баланс на счёте\";\n",
    "    + NumOfProducts \"количество продуктов банка, используемых клиентом\";\n",
    "    + HasCrCard \"наличие кредитной карты\";\n",
    "    + IsActiveMember \"активность клиента\";\n",
    "    + EstimatedSalary \"предполагаемая зарплата\".   \n",
    "6. Признак Tenure \"количество недвижимости у клиента\" содержит пропуски. Вероятно пропуски связаны с отсутствием данных. Вычислим медиану и заполним пропуски медианой.  \n",
    "7. Исходные данные разбиты на 3 выборки:\n",
    "    + Обучающая выборка (dc_Train) содержит 6000 строк, что составляет примерно 60% от исходных данных.\n",
    "    + Валидационная выборка (dc_Valid) содержит 2000 строк, что составляет 20% от исходных данных.\n",
    "    + Тестовая выборка (dc_Test) содержит 2000 строк, что составляется примерно 20% от исходных данных.\n",
    "8. Определен целевой признак для каждой выборки \"Exited\":\n",
    "    + target_Train (целевой признак обучающей выборки);\n",
    "    + target_Valid (целевой признак валидационной выборки);\n",
    "    + target_Test (целевой признак тестовой выборки).\n",
    "9. Для обучающей выборки определены признаки features_Train.\n",
    "10. Для валидационной выборки определены признаки features_Valid.\n",
    "11. Для тестовой выборки определены признаки features_Test."
   ]
  },
  {
   "cell_type": "markdown",
   "metadata": {},
   "source": [
    "# 2. Исследование задачи"
   ]
  },
  {
   "cell_type": "code",
   "execution_count": 20,
   "metadata": {},
   "outputs": [],
   "source": [
    "# импорт библиотеки numpy\n",
    "import numpy as np\n",
    "# импорт структуры для стандартизации данных\n",
    "from sklearn.preprocessing import StandardScaler\n",
    "# импорт функции оценки правильности\n",
    "from sklearn.metrics import accuracy_score\n",
    "# импорт функции матрицы ошибок\n",
    "from sklearn.metrics import confusion_matrix\n",
    "# импорт функции вычисления Полноты\n",
    "from sklearn.metrics import recall_score\n",
    "# импорт функции вычисления Точности\n",
    "from sklearn.metrics import precision_score\n",
    "# импорт функции вычисления F1 меры\n",
    "from sklearn.metrics import f1_score\n",
    "# импорт функции прямого кодирования\n",
    "from sklearn.preprocessing import OrdinalEncoder\n",
    "# импорт функции AUC-ROC\n",
    "from sklearn.metrics import roc_auc_score"
   ]
  },
  {
   "cell_type": "code",
   "execution_count": 21,
   "metadata": {},
   "outputs": [
    {
     "data": {
      "text/html": [
       "<div>\n",
       "<style scoped>\n",
       "    .dataframe tbody tr th:only-of-type {\n",
       "        vertical-align: middle;\n",
       "    }\n",
       "\n",
       "    .dataframe tbody tr th {\n",
       "        vertical-align: top;\n",
       "    }\n",
       "\n",
       "    .dataframe thead th {\n",
       "        text-align: right;\n",
       "    }\n",
       "</style>\n",
       "<table border=\"1\" class=\"dataframe\">\n",
       "  <thead>\n",
       "    <tr style=\"text-align: right;\">\n",
       "      <th></th>\n",
       "      <th>CreditScore</th>\n",
       "      <th>Age</th>\n",
       "      <th>Tenure</th>\n",
       "      <th>Balance</th>\n",
       "      <th>NumOfProducts</th>\n",
       "      <th>HasCrCard</th>\n",
       "      <th>IsActiveMember</th>\n",
       "      <th>EstimatedSalary</th>\n",
       "      <th>Geography_Germany</th>\n",
       "      <th>Geography_Spain</th>\n",
       "      <th>Gender_Male</th>\n",
       "    </tr>\n",
       "  </thead>\n",
       "  <tbody>\n",
       "    <tr>\n",
       "      <td>9982</td>\n",
       "      <td>655</td>\n",
       "      <td>46</td>\n",
       "      <td>7.0</td>\n",
       "      <td>137145.12</td>\n",
       "      <td>1</td>\n",
       "      <td>1</td>\n",
       "      <td>0</td>\n",
       "      <td>115146.40</td>\n",
       "      <td>1</td>\n",
       "      <td>0</td>\n",
       "      <td>0</td>\n",
       "    </tr>\n",
       "    <tr>\n",
       "      <td>1864</td>\n",
       "      <td>607</td>\n",
       "      <td>45</td>\n",
       "      <td>7.0</td>\n",
       "      <td>123859.60</td>\n",
       "      <td>1</td>\n",
       "      <td>0</td>\n",
       "      <td>1</td>\n",
       "      <td>113051.57</td>\n",
       "      <td>0</td>\n",
       "      <td>0</td>\n",
       "      <td>1</td>\n",
       "    </tr>\n",
       "    <tr>\n",
       "      <td>5766</td>\n",
       "      <td>556</td>\n",
       "      <td>40</td>\n",
       "      <td>5.0</td>\n",
       "      <td>125909.85</td>\n",
       "      <td>1</td>\n",
       "      <td>1</td>\n",
       "      <td>1</td>\n",
       "      <td>95124.40</td>\n",
       "      <td>0</td>\n",
       "      <td>0</td>\n",
       "      <td>1</td>\n",
       "    </tr>\n",
       "    <tr>\n",
       "      <td>8632</td>\n",
       "      <td>751</td>\n",
       "      <td>42</td>\n",
       "      <td>4.0</td>\n",
       "      <td>0.00</td>\n",
       "      <td>2</td>\n",
       "      <td>1</td>\n",
       "      <td>1</td>\n",
       "      <td>81442.60</td>\n",
       "      <td>0</td>\n",
       "      <td>0</td>\n",
       "      <td>1</td>\n",
       "    </tr>\n",
       "    <tr>\n",
       "      <td>9854</td>\n",
       "      <td>681</td>\n",
       "      <td>37</td>\n",
       "      <td>6.0</td>\n",
       "      <td>121231.39</td>\n",
       "      <td>1</td>\n",
       "      <td>1</td>\n",
       "      <td>1</td>\n",
       "      <td>146366.08</td>\n",
       "      <td>0</td>\n",
       "      <td>1</td>\n",
       "      <td>0</td>\n",
       "    </tr>\n",
       "  </tbody>\n",
       "</table>\n",
       "</div>"
      ],
      "text/plain": [
       "      CreditScore  Age  Tenure    Balance  NumOfProducts  HasCrCard  \\\n",
       "9982          655   46     7.0  137145.12              1          1   \n",
       "1864          607   45     7.0  123859.60              1          0   \n",
       "5766          556   40     5.0  125909.85              1          1   \n",
       "8632          751   42     4.0       0.00              2          1   \n",
       "9854          681   37     6.0  121231.39              1          1   \n",
       "\n",
       "      IsActiveMember  EstimatedSalary  Geography_Germany  Geography_Spain  \\\n",
       "9982               0        115146.40                  1                0   \n",
       "1864               1        113051.57                  0                0   \n",
       "5766               1         95124.40                  0                0   \n",
       "8632               1         81442.60                  0                0   \n",
       "9854               1        146366.08                  0                1   \n",
       "\n",
       "      Gender_Male  \n",
       "9982            0  \n",
       "1864            1  \n",
       "5766            1  \n",
       "8632            1  \n",
       "9854            0  "
      ]
     },
     "execution_count": 21,
     "metadata": {},
     "output_type": "execute_result"
    }
   ],
   "source": [
    "features_Train.head(5)"
   ]
  },
  {
   "cell_type": "code",
   "execution_count": 22,
   "metadata": {},
   "outputs": [
    {
     "name": "stdout",
     "output_type": "stream",
     "text": [
      "      CreditScore       Age    Tenure   Balance  NumOfProducts  HasCrCard  \\\n",
      "9982     0.058885  0.677113  0.730445  0.966933      -0.922538   0.640654   \n",
      "1864    -0.436191  0.580942  0.730445  0.755134      -0.922538  -1.560906   \n",
      "5766    -0.962209  0.100083  0.006216  0.787819      -0.922538   0.640654   \n",
      "8632     1.049036  0.292426 -0.355898 -1.219447       0.786393   0.640654   \n",
      "9854     0.327051 -0.188433  0.368331  0.713235      -0.922538   0.640654   \n",
      "\n",
      "      IsActiveMember  EstimatedSalary  Geography_Germany  Geography_Spain  \\\n",
      "9982       -1.029090         0.255379                  1                0   \n",
      "1864        0.971733         0.218846                  0                0   \n",
      "5766        0.971733        -0.093799                  0                0   \n",
      "8632        0.971733        -0.332406                  0                0   \n",
      "9854        0.971733         0.799842                  0                1   \n",
      "\n",
      "      Gender_Male  \n",
      "9982            0  \n",
      "1864            1  \n",
      "5766            1  \n",
      "8632            1  \n",
      "9854            0  \n",
      "      CreditScore       Age    Tenure   Balance  NumOfProducts  HasCrCard  \\\n",
      "2577    -0.343364 -0.957807  0.006216  1.161003      -0.922538   0.640654   \n",
      "5034    -0.188653 -0.957807  0.006216  0.324760       0.786393   0.640654   \n",
      "3691    -0.611530  3.562267  0.006216  1.346905      -0.922538  -1.560906   \n",
      "8176     0.543646  0.100083 -0.718012  1.148858      -0.922538  -1.560906   \n",
      "1850     1.399715 -0.573120  0.006216  0.958634       0.786393   0.640654   \n",
      "\n",
      "      IsActiveMember  EstimatedSalary  Geography_Germany  Geography_Spain  \\\n",
      "2577       -1.029090         0.701831                  1                0   \n",
      "5034        0.971733        -1.201415                  1                0   \n",
      "3691        0.971733        -1.511228                  0                0   \n",
      "8176        0.971733         0.794439                  0                0   \n",
      "1850        0.971733         1.196624                  1                0   \n",
      "\n",
      "      Gender_Male  \n",
      "2577            1  \n",
      "5034            0  \n",
      "3691            0  \n",
      "8176            1  \n",
      "1850            0  \n",
      "      CreditScore       Age    Tenure   Balance  NumOfProducts  HasCrCard  \\\n",
      "4436    -1.457285 -1.246322  0.730445  2.064018      -0.922538   0.640654   \n",
      "3829    -0.642472 -0.284604 -1.442241 -0.090998      -0.922538   0.640654   \n",
      "2434     1.286260  1.254144 -1.080127 -0.317429      -0.922538   0.640654   \n",
      "4449     0.172340 -0.284604 -0.718012 -1.219447       0.786393   0.640654   \n",
      "43       1.905105  0.965629 -1.080127  0.875257      -0.922538  -1.560906   \n",
      "\n",
      "      IsActiveMember  EstimatedSalary  Geography_Germany  Geography_Spain  \\\n",
      "4436        -1.02909         0.975256                  0                0   \n",
      "3829        -1.02909        -1.219439                  0                0   \n",
      "2434        -1.02909         0.222590                  0                0   \n",
      "4449        -1.02909        -1.139623                  0                0   \n",
      "43          -1.02909         1.636943                  0                0   \n",
      "\n",
      "      Gender_Male  \n",
      "4436            1  \n",
      "3829            0  \n",
      "2434            0  \n",
      "4449            1  \n",
      "43              0  \n"
     ]
    }
   ],
   "source": [
    "# масштабирование признаков\n",
    "numeric = ['CreditScore',\n",
    "           'Age',\n",
    "           'Tenure',\n",
    "           'Balance',\n",
    "           'NumOfProducts',\n",
    "           'HasCrCard',\n",
    "           'IsActiveMember',\n",
    "           'EstimatedSalary'\n",
    "          ]\n",
    "\n",
    "scaler = StandardScaler()\n",
    "scaler.fit(features_Train[numeric])\n",
    "\n",
    "features_Train[numeric] = scaler.transform(features_Train[numeric])\n",
    "features_Valid[numeric] = scaler.transform(features_Valid[numeric])\n",
    "features_Test[numeric] = scaler.transform(features_Test[numeric])\n",
    "\n",
    "print(features_Train.head())\n",
    "print(features_Valid.head())\n",
    "print(features_Test.head())"
   ]
  },
  {
   "cell_type": "markdown",
   "metadata": {},
   "source": [
    "##### Вывод\n",
    "1. Из признаков модели, числовыми (подлежащие дальнейшиму масштабированию) являются:\n",
    "    + CreditScore \"кредитный рейтинг\";\n",
    "    + Age \"возраст\";\n",
    "    + Tenure \"количество недвижимости у клиента\";\n",
    "    + Balance \"баланс на счёте\";\n",
    "    + NumOfProducts \"количество продуктов банка, используемых клиентом\";\n",
    "    + HasCrCard \"наличие кредитной карты\";\n",
    "    + IsActiveMember \"активность клиента\";\n",
    "    + EstimatedSalary \"предполагаемая зарплата\".\n",
    "2. Масштабирование проведено на выборках:\n",
    "    + Обучающая выборка;\n",
    "    + Валидационная выборка;\n",
    "    + Тестовая выборка."
   ]
  },
  {
   "cell_type": "markdown",
   "metadata": {},
   "source": [
    "Для решения задачи классификации далее рассмотрим обучение модели следующими методами:\n",
    "1. \"Дерево решений\";\n",
    "2. \"Случайный лес\";\n",
    "3. \"Логистическая регрессия\"."
   ]
  },
  {
   "cell_type": "markdown",
   "metadata": {},
   "source": [
    "#### Исследование модели \"Решающее дерево\""
   ]
  },
  {
   "cell_type": "code",
   "execution_count": 23,
   "metadata": {},
   "outputs": [],
   "source": [
    "# импорт из библиотеки sklearn структуры данных модели \"Решающее дерево\"\n",
    "from sklearn.tree import DecisionTreeClassifier"
   ]
  },
  {
   "cell_type": "code",
   "execution_count": 24,
   "metadata": {},
   "outputs": [],
   "source": [
    "# создание модели методом \"Решающее дерево\"\n",
    "model_DTC = DecisionTreeClassifier(random_state=54321, max_depth=8)\n",
    "\n",
    "# обучение модели\n",
    "model_DTC.fit(features_Train, target_Train)\n",
    "\n",
    "# предсказание модели на обучающей выборке\n",
    "train_predictions_DTC = model_DTC.predict(features_Train)"
   ]
  },
  {
   "cell_type": "code",
   "execution_count": 25,
   "metadata": {},
   "outputs": [
    {
     "name": "stdout",
     "output_type": "stream",
     "text": [
      "accuracy_train: 0.8832\n",
      "0    0.863\n",
      "1    0.137\n",
      "dtype: float64\n",
      "accuracy_valid: 0.8605\n"
     ]
    },
    {
     "data": {
      "image/png": "[encoded data removed]",
      "text/plain": [
       "<Figure size 432x288 with 1 Axes>"
      ]
     },
     "metadata": {
      "needs_background": "light"
     },
     "output_type": "display_data"
    }
   ],
   "source": [
    "# проверка правильности модели обучающей выборки\n",
    "accuracy_train_DTC = accuracy_score(target_Train, train_predictions_DTC)\n",
    "print(\"accuracy_train: {:.4f}\".format(accuracy_train_DTC))\n",
    "\n",
    "# предсказание модели валидной выборки    \n",
    "valid_predictions_DTC = pd.Series(model_DTC.predict(features_Valid))\n",
    "class_frequency = valid_predictions_DTC.value_counts(normalize=True)\n",
    "print(class_frequency)\n",
    "class_frequency.plot(kind='bar')\n",
    "\n",
    "# проверка правильности модели валидной выборки с учетом значений гиперпараметра\n",
    "accuracy_valid_DTC = accuracy_score(target_Valid, valid_predictions_DTC)\n",
    "print(\"accuracy_valid: {:.4f}\".format(accuracy_valid_DTC))"
   ]
  },
  {
   "cell_type": "code",
   "execution_count": 26,
   "metadata": {},
   "outputs": [
    {
     "name": "stdout",
     "output_type": "stream",
     "text": [
      "[[1524   77]\n",
      " [ 202  197]]\n"
     ]
    }
   ],
   "source": [
    "# построим матрицу ошибок\n",
    "print(confusion_matrix(target_Valid, valid_predictions_DTC))"
   ]
  },
  {
   "cell_type": "code",
   "execution_count": 27,
   "metadata": {},
   "outputs": [
    {
     "name": "stdout",
     "output_type": "stream",
     "text": [
      "Полнота: 0.49373433583959897\n",
      "Точность: 0.718978102189781\n",
      "F1-мера: 0.5854383358098069\n",
      "AUC-ROC: 0.8163569448292811\n"
     ]
    }
   ],
   "source": [
    "# полнота\n",
    "recall_DTC = recall_score(target_Valid, valid_predictions_DTC)\n",
    "print(\"Полнота:\", recall_DTC)\n",
    "\n",
    "# точность\n",
    "precision_DTC = precision_score(target_Valid, valid_predictions_DTC)\n",
    "print(\"Точность:\", precision_DTC)\n",
    "\n",
    "# расчет f1 меры\n",
    "f1_DTC = f1_score(target_Valid, valid_predictions_DTC)\n",
    "print(\"F1-мера:\", f1_DTC)\n",
    "\n",
    "# расчитаем AUC-ROC для модели \"Решающее дерево\"\n",
    "probabilities_valid_DTC = model_DTC.predict_proba(features_Valid)\n",
    "probabilities_one_valid_DTC = probabilities_valid_DTC[:, 1]\n",
    "auc_roc_DTC = roc_auc_score(target_Valid, probabilities_one_valid_DTC)\n",
    "print(\"AUC-ROC:\", auc_roc_DTC)"
   ]
  },
  {
   "cell_type": "code",
   "execution_count": 28,
   "metadata": {},
   "outputs": [
    {
     "data": {
      "text/html": [
       "<div>\n",
       "<style scoped>\n",
       "    .dataframe tbody tr th:only-of-type {\n",
       "        vertical-align: middle;\n",
       "    }\n",
       "\n",
       "    .dataframe tbody tr th {\n",
       "        vertical-align: top;\n",
       "    }\n",
       "\n",
       "    .dataframe thead th {\n",
       "        text-align: right;\n",
       "    }\n",
       "</style>\n",
       "<table border=\"1\" class=\"dataframe\">\n",
       "  <thead>\n",
       "    <tr style=\"text-align: right;\">\n",
       "      <th></th>\n",
       "      <th>model</th>\n",
       "      <th>f1</th>\n",
       "      <th>AUCROC</th>\n",
       "    </tr>\n",
       "  </thead>\n",
       "  <tbody>\n",
       "    <tr>\n",
       "      <td>0</td>\n",
       "      <td>DecisionTreeClassifier</td>\n",
       "      <td>0.585438</td>\n",
       "      <td>0.816357</td>\n",
       "    </tr>\n",
       "  </tbody>\n",
       "</table>\n",
       "</div>"
      ],
      "text/plain": [
       "                    model        f1    AUCROC\n",
       "0  DecisionTreeClassifier  0.585438  0.816357"
      ]
     },
     "execution_count": 28,
     "metadata": {},
     "output_type": "execute_result"
    }
   ],
   "source": [
    "# Оформим результаты в таблицу\n",
    "df_models = pd.DataFrame({'model':['DecisionTreeClassifier'],'f1':[f1_DTC], 'AUCROC':[auc_roc_DTC]}) \n",
    "df_models"
   ]
  },
  {
   "cell_type": "markdown",
   "metadata": {},
   "source": [
    "##### Вывод\n",
    "1. При исследовании модели \"Решающее дерево\" удалось достичь значени F1=0.585."
   ]
  },
  {
   "cell_type": "markdown",
   "metadata": {},
   "source": [
    "#### Исследование модели \"Случайный лес\""
   ]
  },
  {
   "cell_type": "code",
   "execution_count": 29,
   "metadata": {},
   "outputs": [],
   "source": [
    "# импорт из библиотеки sklearn структуры данных модели \"Случайный лес\"\n",
    "from sklearn.ensemble import RandomForestClassifier"
   ]
  },
  {
   "cell_type": "code",
   "execution_count": 30,
   "metadata": {},
   "outputs": [],
   "source": [
    "# создание модели методом \"Случайный лес\"\n",
    "model_RFC = RandomForestClassifier(random_state=54321, max_depth=8, n_estimators=300)\n",
    "\n",
    "# обучение модели\n",
    "model_RFC.fit(features_Train, target_Train)\n",
    "    \n",
    "# предсказание модели на обучающей выборке\n",
    "train_predictions_RFC = model_RFC.predict(features_Train)"
   ]
  },
  {
   "cell_type": "code",
   "execution_count": 31,
   "metadata": {},
   "outputs": [
    {
     "name": "stdout",
     "output_type": "stream",
     "text": [
      "accuracy_train: 0.8835\n",
      "0    0.892\n",
      "1    0.108\n",
      "dtype: float64\n",
      "accuracy_valid: 0.8595\n"
     ]
    },
    {
     "data": {
      "image/png": "[encoded data removed]",
      "text/plain": [
       "<Figure size 432x288 with 1 Axes>"
      ]
     },
     "metadata": {
      "needs_background": "light"
     },
     "output_type": "display_data"
    }
   ],
   "source": [
    "# проверка правильности модели обучающей выборки\n",
    "accuracy_train_RFC = accuracy_score(target_Train, train_predictions_RFC)\n",
    "print(\"accuracy_train: {:.4f}\".format(accuracy_train_RFC))\n",
    "    \n",
    "# предсказание модели валидной выборки\n",
    "valid_predictions_RFC = pd.Series(model_RFC.predict(features_Valid))\n",
    "class_frequency = valid_predictions_RFC.value_counts(normalize=True)\n",
    "print(class_frequency)\n",
    "class_frequency.plot(kind='bar')\n",
    "      \n",
    "# проверка правильности модели валидной выборки\n",
    "accuracy_valid_RFC = accuracy_score(target_Valid, valid_predictions_RFC)\n",
    "print(\"accuracy_valid: {:.4f}\".format(accuracy_valid_RFC))"
   ]
  },
  {
   "cell_type": "code",
   "execution_count": 32,
   "metadata": {},
   "outputs": [
    {
     "name": "stdout",
     "output_type": "stream",
     "text": [
      "[[1552   49]\n",
      " [ 232  167]]\n"
     ]
    }
   ],
   "source": [
    "# построим матрицу ошибок\n",
    "print(confusion_matrix(target_Valid, valid_predictions_RFC))"
   ]
  },
  {
   "cell_type": "code",
   "execution_count": 33,
   "metadata": {},
   "outputs": [
    {
     "name": "stdout",
     "output_type": "stream",
     "text": [
      "Полнота: 0.41854636591478694\n",
      "Точность: 0.7731481481481481\n",
      "F1-мера: 0.5430894308943088\n",
      "AUC-ROC: 0.8617092387433293\n"
     ]
    }
   ],
   "source": [
    "# полнота\n",
    "recall_RFC = recall_score(target_Valid, valid_predictions_RFC)\n",
    "print(\"Полнота:\", recall_RFC)\n",
    "\n",
    "# точность\n",
    "precision_RFC = precision_score(target_Valid, valid_predictions_RFC)\n",
    "print(\"Точность:\", precision_RFC)\n",
    "\n",
    "# расчет f1 меры\n",
    "f1_RFC = f1_score(target_Valid, valid_predictions_RFC)\n",
    "print(\"F1-мера:\", f1_RFC)\n",
    "\n",
    "# расчитаем AUC-ROC для модели \"Случайный лес\"\n",
    "probabilities_valid_RFC = model_RFC.predict_proba(features_Valid)\n",
    "probabilities_one_valid_RFC = probabilities_valid_RFC[:, 1]\n",
    "auc_roc_RFC = roc_auc_score(target_Valid, probabilities_one_valid_RFC)\n",
    "print(\"AUC-ROC:\", auc_roc_RFC)"
   ]
  },
  {
   "cell_type": "code",
   "execution_count": 34,
   "metadata": {},
   "outputs": [
    {
     "data": {
      "text/html": [
       "<div>\n",
       "<style scoped>\n",
       "    .dataframe tbody tr th:only-of-type {\n",
       "        vertical-align: middle;\n",
       "    }\n",
       "\n",
       "    .dataframe tbody tr th {\n",
       "        vertical-align: top;\n",
       "    }\n",
       "\n",
       "    .dataframe thead th {\n",
       "        text-align: right;\n",
       "    }\n",
       "</style>\n",
       "<table border=\"1\" class=\"dataframe\">\n",
       "  <thead>\n",
       "    <tr style=\"text-align: right;\">\n",
       "      <th></th>\n",
       "      <th>model</th>\n",
       "      <th>f1</th>\n",
       "      <th>AUCROC</th>\n",
       "    </tr>\n",
       "  </thead>\n",
       "  <tbody>\n",
       "    <tr>\n",
       "      <td>0</td>\n",
       "      <td>DecisionTreeClassifier</td>\n",
       "      <td>0.585438</td>\n",
       "      <td>0.816357</td>\n",
       "    </tr>\n",
       "    <tr>\n",
       "      <td>1</td>\n",
       "      <td>RandomForestClassifier</td>\n",
       "      <td>0.543089</td>\n",
       "      <td>0.861709</td>\n",
       "    </tr>\n",
       "  </tbody>\n",
       "</table>\n",
       "</div>"
      ],
      "text/plain": [
       "                    model        f1    AUCROC\n",
       "0  DecisionTreeClassifier  0.585438  0.816357\n",
       "1  RandomForestClassifier  0.543089  0.861709"
      ]
     },
     "execution_count": 34,
     "metadata": {},
     "output_type": "execute_result"
    }
   ],
   "source": [
    "# Оформим результаты в таблицу\n",
    "df_models.loc[1] = ['RandomForestClassifier', f1_RFC, auc_roc_RFC]\n",
    "df_models"
   ]
  },
  {
   "cell_type": "markdown",
   "metadata": {},
   "source": [
    "#### Вывод\n",
    "1. При исследовании модели \"Случайный лес\" удалось достичь значени F1=0.543."
   ]
  },
  {
   "cell_type": "markdown",
   "metadata": {},
   "source": [
    "#### Исследование модели \"Логистическая регрессия\""
   ]
  },
  {
   "cell_type": "code",
   "execution_count": 35,
   "metadata": {},
   "outputs": [
    {
     "name": "stdout",
     "output_type": "stream",
     "text": [
      "0    0.927\n",
      "1    0.073\n",
      "dtype: float64\n"
     ]
    },
    {
     "data": {
      "text/plain": [
       "<matplotlib.axes._subplots.AxesSubplot at 0x7f7221aee5d0>"
      ]
     },
     "execution_count": 35,
     "metadata": {},
     "output_type": "execute_result"
    },
    {
     "data": {
      "image/png": "[encoded data removed]",
      "text/plain": [
       "<Figure size 432x288 with 1 Axes>"
      ]
     },
     "metadata": {
      "needs_background": "light"
     },
     "output_type": "display_data"
    }
   ],
   "source": [
    "# импорт из библиотеки sklearn структуры данных модели \"Логистическая регрессия\"\n",
    "from sklearn.linear_model import LogisticRegression\n",
    "# создание модели метода \"Логистическая регрессия\"\n",
    "model_LR = LogisticRegression(random_state=54321, solver='liblinear')\n",
    "\n",
    "# обучение модели\n",
    "model_LR.fit(features_Train, target_Train)\n",
    "\n",
    "# Проверка адекватности модели\n",
    "valid_predictions_LR = pd.Series(model_LR.predict(features_Valid))\n",
    "\n",
    "# Анализ частот классов в результатах предсказаний\n",
    "class_frequency = valid_predictions_LR.value_counts(normalize=True)\n",
    "print(class_frequency)\n",
    "class_frequency.plot(kind='bar')"
   ]
  },
  {
   "cell_type": "code",
   "execution_count": 36,
   "metadata": {},
   "outputs": [
    {
     "name": "stdout",
     "output_type": "stream",
     "text": [
      "[[1538   63]\n",
      " [ 316   83]]\n"
     ]
    }
   ],
   "source": [
    "# построим матрицу ошибок для Логистической регрессии\n",
    "print(confusion_matrix(target_Valid, valid_predictions_LR))"
   ]
  },
  {
   "cell_type": "code",
   "execution_count": 37,
   "metadata": {},
   "outputs": [
    {
     "name": "stdout",
     "output_type": "stream",
     "text": [
      "Полнота: 0.20802005012531327\n",
      "Точность: 0.5684931506849316\n",
      "F1-мера: 0.3045871559633027\n",
      "AUC-ROC: 0.743592272373626\n"
     ]
    }
   ],
   "source": [
    "# полнота\n",
    "recall_LR = recall_score(target_Valid, valid_predictions_LR)\n",
    "print(\"Полнота:\", recall_LR)\n",
    "\n",
    "# точность\n",
    "precision_LR = precision_score(target_Valid, valid_predictions_LR)\n",
    "print(\"Точность:\", precision_LR)\n",
    "\n",
    "# расчет f1 меры\n",
    "f1_LR = f1_score(target_Valid, valid_predictions_LR)\n",
    "print(\"F1-мера:\", f1_LR)\n",
    "\n",
    "# расчитаем AUC-ROC для модели \"Логистическая регрессия\"\n",
    "probabilities_valid_LR = model_LR.predict_proba(features_Valid)\n",
    "probabilities_one_valid_LR = probabilities_valid_LR[:, 1]\n",
    "auc_roc_LR = roc_auc_score(target_Valid, probabilities_one_valid_LR)\n",
    "print(\"AUC-ROC:\", auc_roc_LR)"
   ]
  },
  {
   "cell_type": "code",
   "execution_count": 38,
   "metadata": {},
   "outputs": [
    {
     "data": {
      "text/html": [
       "<div>\n",
       "<style scoped>\n",
       "    .dataframe tbody tr th:only-of-type {\n",
       "        vertical-align: middle;\n",
       "    }\n",
       "\n",
       "    .dataframe tbody tr th {\n",
       "        vertical-align: top;\n",
       "    }\n",
       "\n",
       "    .dataframe thead th {\n",
       "        text-align: right;\n",
       "    }\n",
       "</style>\n",
       "<table border=\"1\" class=\"dataframe\">\n",
       "  <thead>\n",
       "    <tr style=\"text-align: right;\">\n",
       "      <th></th>\n",
       "      <th>model</th>\n",
       "      <th>f1</th>\n",
       "      <th>AUCROC</th>\n",
       "    </tr>\n",
       "  </thead>\n",
       "  <tbody>\n",
       "    <tr>\n",
       "      <td>0</td>\n",
       "      <td>DecisionTreeClassifier</td>\n",
       "      <td>0.585438</td>\n",
       "      <td>0.816357</td>\n",
       "    </tr>\n",
       "    <tr>\n",
       "      <td>1</td>\n",
       "      <td>RandomForestClassifier</td>\n",
       "      <td>0.543089</td>\n",
       "      <td>0.861709</td>\n",
       "    </tr>\n",
       "    <tr>\n",
       "      <td>2</td>\n",
       "      <td>LogisticRegression</td>\n",
       "      <td>0.304587</td>\n",
       "      <td>0.743592</td>\n",
       "    </tr>\n",
       "  </tbody>\n",
       "</table>\n",
       "</div>"
      ],
      "text/plain": [
       "                    model        f1    AUCROC\n",
       "0  DecisionTreeClassifier  0.585438  0.816357\n",
       "1  RandomForestClassifier  0.543089  0.861709\n",
       "2      LogisticRegression  0.304587  0.743592"
      ]
     },
     "execution_count": 38,
     "metadata": {},
     "output_type": "execute_result"
    }
   ],
   "source": [
    "# Оформим результаты в таблицу\n",
    "df_models.loc[2] = ['LogisticRegression', f1_LR, auc_roc_LR]\n",
    "df_models"
   ]
  },
  {
   "cell_type": "markdown",
   "metadata": {},
   "source": [
    "##### Вывод\n",
    "1. При исследовании модели \"Логистическая регрессия\" удалось достичь значени F1=0.305."
   ]
  },
  {
   "cell_type": "markdown",
   "metadata": {},
   "source": [
    "### Вывод\n",
    "1. При исследовании модели \"Решающее дерево\" удалось достичь значени F1=0.585.\n",
    "2. При исследовании модели \"Случайный лес\" удалось достичь значени F1=0.543.\n",
    "3. При исследовании модели \"Логистическая регрессия\" удалось достичь значени F1=0.305.\n",
    "4. Модели \"Случайный лес\" и \"Логистическая регрессия\" не смогли достичь близкого результата F1=0.59. Далее посмотрим, возможно борьба с дисбалансом помежет исправить результат."
   ]
  },
  {
   "cell_type": "markdown",
   "metadata": {},
   "source": [
    "# 3. Борьба с дисбалансом"
   ]
  },
  {
   "cell_type": "code",
   "execution_count": 39,
   "metadata": {},
   "outputs": [],
   "source": [
    "# импорт функции перетасовки данных\n",
    "from sklearn.utils import shuffle\n",
    "# импорт функции PR-кривой\n",
    "from sklearn.metrics import precision_recall_curve\n",
    "# Вызов библиотеки для создания графиков\n",
    "import matplotlib.pyplot as plt\n",
    "# импорт функции roc_curve()\n",
    "from sklearn.metrics import roc_curve\n",
    "# импорт функции classification_report()\n",
    "from sklearn.metrics import classification_report"
   ]
  },
  {
   "cell_type": "code",
   "execution_count": 40,
   "metadata": {},
   "outputs": [
    {
     "name": "stdout",
     "output_type": "stream",
     "text": [
      "Количество объектов в классе 0:  4781\n",
      "Количество объектов в классе 1:  1219\n"
     ]
    }
   ],
   "source": [
    "# разделим обучающую выборку на положительные и отрицательные объекты\n",
    "# расчитаем количество объектов в каждом классе\n",
    "features_Zeros = features_Train[target_Train == 0]\n",
    "features_Ones = features_Train[target_Train == 1]\n",
    "target_Zeros = target_Train[target_Train == 0]\n",
    "target_Ones = target_Train[target_Train == 1]\n",
    "print(\"Количество объектов в классе 0: \",len(features_Zeros.index))\n",
    "print(\"Количество объектов в классе 1: \",len(features_Ones.index))"
   ]
  },
  {
   "cell_type": "markdown",
   "metadata": {},
   "source": [
    "#### Вывод\n",
    "1. В классе 1 количество объектов: 4781.\n",
    "2. В классе 0 количество объектов: 1219\n",
    "3. Количество объектов в классе 0 в 4 раза меньше чем количество объектов класса 1.\n",
    "4. Классы не сбалансированы"
   ]
  },
  {
   "cell_type": "markdown",
   "metadata": {},
   "source": [
    "#### Борьба с дисбалансом с помощью увеличения выборки"
   ]
  },
  {
   "cell_type": "code",
   "execution_count": 41,
   "metadata": {},
   "outputs": [
    {
     "name": "stdout",
     "output_type": "stream",
     "text": [
      "(9657, 11)\n",
      "(9657,)\n"
     ]
    }
   ],
   "source": [
    "# Объединим объекты положительного и отрицательного классов в новые признаки\n",
    "# Количество повторений котрые необходимы, чтобы число объектов в классах 0 и 1 примерно сравнялись\n",
    "repeat = round(len(features_Zeros.index)/len(features_Ones.index)) # 4\n",
    "    \n",
    "# увеличение выборки\n",
    "# Функция upsample(features, target, repeat) увеличивает число объектов класса 1 в «repeat» раз\n",
    "def upsample(features, target, repeat):\n",
    "    features_zeros = features[target == 0]\n",
    "    features_ones = features[target == 1]\n",
    "    target_zeros = target[target == 0]\n",
    "    target_ones = target[target == 1]\n",
    "\n",
    "    features_upsampled = pd.concat([features_zeros] + [features_ones] * repeat)\n",
    "    target_upsampled = pd.concat([target_zeros] + [target_ones] * repeat)\n",
    "    \n",
    "    features_upsampled, target_upsampled = shuffle(features_upsampled, target_upsampled, random_state=12345)\n",
    "\n",
    "    return features_upsampled, target_upsampled\n",
    "\n",
    "features_upsampled, target_upsampled = upsample(features_Train, target_Train, repeat)\n",
    "\n",
    "print(features_upsampled.shape)\n",
    "print(target_upsampled.shape)"
   ]
  },
  {
   "cell_type": "code",
   "execution_count": 42,
   "metadata": {},
   "outputs": [
    {
     "name": "stdout",
     "output_type": "stream",
     "text": [
      "Количество объектов в классе 0:  4781\n",
      "Количество объектов в классе 1:  4876\n"
     ]
    },
    {
     "name": "stderr",
     "output_type": "stream",
     "text": [
      "/opt/conda/lib/python3.7/site-packages/ipykernel_launcher.py:1: UserWarning: Boolean Series key will be reindexed to match DataFrame index.\n",
      "  \"\"\"Entry point for launching an IPython kernel.\n",
      "/opt/conda/lib/python3.7/site-packages/ipykernel_launcher.py:2: UserWarning: Boolean Series key will be reindexed to match DataFrame index.\n",
      "  \n"
     ]
    }
   ],
   "source": [
    "print(\"Количество объектов в классе 0: \",len(features_upsampled[target_Train == 0].index))\n",
    "print(\"Количество объектов в классе 1: \",len(features_upsampled[target_Train == 1].index))"
   ]
  },
  {
   "cell_type": "markdown",
   "metadata": {},
   "source": [
    "#### Вывод\n",
    "1. Классы 0 и 1 по количеству объектов примерно сбалансированы"
   ]
  },
  {
   "cell_type": "code",
   "execution_count": 43,
   "metadata": {},
   "outputs": [],
   "source": [
    "# создание модели \"Решающее дерево\"\n",
    "model_DTC1 = DecisionTreeClassifier(random_state=54321,\n",
    "                                   class_weight = 'balanced',\n",
    "                                   max_depth=8,\n",
    "                                   min_samples_leaf=2,\n",
    "                                   min_samples_split=2\n",
    "                                   )\n",
    "# обучение модели\n",
    "model_DTC1.fit(features_upsampled, target_upsampled)\n",
    "predicted_Valid11 = model_DTC1.predict(features_Valid)"
   ]
  },
  {
   "cell_type": "code",
   "execution_count": 44,
   "metadata": {},
   "outputs": [
    {
     "name": "stdout",
     "output_type": "stream",
     "text": [
      "Полнота: 0.7218045112781954\n",
      "Точность: 0.43373493975903615\n",
      "F1-мера: 0.541862652869238\n",
      "AUC-ROC: 0.8082010147166793\n"
     ]
    }
   ],
   "source": [
    "# полнота\n",
    "recall_DTC1 = recall_score(target_Valid, predicted_Valid11)\n",
    "print(\"Полнота:\", recall_DTC1)\n",
    "\n",
    "# точность\n",
    "precision_DTC1 = precision_score(target_Valid, predicted_Valid11)\n",
    "print(\"Точность:\", precision_DTC1)\n",
    "\n",
    "# расчет f1 меры\n",
    "f1_DTC1 = f1_score(target_Valid, predicted_Valid11)\n",
    "print(\"F1-мера:\", f1_DTC1)\n",
    "\n",
    "# расчитаем AUC-ROC для модели \"Решающее дерево\"\n",
    "probabilities_valid_DTC1 = model_DTC1.predict_proba(features_Valid)\n",
    "probabilities_one_valid_DTC1 = probabilities_valid_DTC1[:, 1]\n",
    "auc_roc_DTC1 = roc_auc_score(target_Valid, probabilities_one_valid_DTC1)\n",
    "print(\"AUC-ROC:\", auc_roc_DTC1)"
   ]
  },
  {
   "cell_type": "code",
   "execution_count": 45,
   "metadata": {},
   "outputs": [
    {
     "data": {
      "text/html": [
       "<div>\n",
       "<style scoped>\n",
       "    .dataframe tbody tr th:only-of-type {\n",
       "        vertical-align: middle;\n",
       "    }\n",
       "\n",
       "    .dataframe tbody tr th {\n",
       "        vertical-align: top;\n",
       "    }\n",
       "\n",
       "    .dataframe thead th {\n",
       "        text-align: right;\n",
       "    }\n",
       "</style>\n",
       "<table border=\"1\" class=\"dataframe\">\n",
       "  <thead>\n",
       "    <tr style=\"text-align: right;\">\n",
       "      <th></th>\n",
       "      <th>model</th>\n",
       "      <th>f1_upsampled</th>\n",
       "      <th>AUCROC_upsampled</th>\n",
       "    </tr>\n",
       "  </thead>\n",
       "  <tbody>\n",
       "    <tr>\n",
       "      <td>0</td>\n",
       "      <td>DecisionTreeClassifier</td>\n",
       "      <td>0.541863</td>\n",
       "      <td>0.808201</td>\n",
       "    </tr>\n",
       "  </tbody>\n",
       "</table>\n",
       "</div>"
      ],
      "text/plain": [
       "                    model  f1_upsampled  AUCROC_upsampled\n",
       "0  DecisionTreeClassifier      0.541863          0.808201"
      ]
     },
     "execution_count": 45,
     "metadata": {},
     "output_type": "execute_result"
    }
   ],
   "source": [
    "# Оформим результаты в таблицу\n",
    "df_models1 = pd.DataFrame({'model':['DecisionTreeClassifier'],'f1_upsampled':[f1_DTC1], 'AUCROC_upsampled':[auc_roc_DTC1]}) \n",
    "df_models1"
   ]
  },
  {
   "cell_type": "markdown",
   "metadata": {},
   "source": [
    "#### Вывод\n",
    "1. При исследовании модели \"Решающее дерево\" удалось достичь значени F1=0.542."
   ]
  },
  {
   "cell_type": "code",
   "execution_count": 46,
   "metadata": {},
   "outputs": [],
   "source": [
    "# создание модели \"Случайный лес\"\n",
    "model_RFC1 = RandomForestClassifier(random_state=54321,\n",
    "                                   max_depth=8,\n",
    "                                   class_weight = 'balanced',\n",
    "                                   n_estimators=300)\n",
    "# обучение модели\n",
    "model_RFC1.fit(features_upsampled, target_upsampled)\n",
    "predicted_Valid12 = model_RFC1.predict(features_Valid)"
   ]
  },
  {
   "cell_type": "code",
   "execution_count": 47,
   "metadata": {},
   "outputs": [
    {
     "name": "stdout",
     "output_type": "stream",
     "text": [
      "Полнота: 0.6992481203007519\n",
      "Точность: 0.5284090909090909\n",
      "F1-мера: 0.6019417475728156\n",
      "AUC-ROC: 0.8570849359501188\n"
     ]
    }
   ],
   "source": [
    "# полнота\n",
    "recall_RFC1 = recall_score(target_Valid, predicted_Valid12)\n",
    "print(\"Полнота:\", recall_RFC1)\n",
    "\n",
    "# точность\n",
    "precision_RFC1 = precision_score(target_Valid, predicted_Valid12)\n",
    "print(\"Точность:\", precision_RFC1)\n",
    "\n",
    "# расчет f1 меры\n",
    "f1_RFC1 = f1_score(target_Valid, predicted_Valid12)\n",
    "print(\"F1-мера:\", f1_RFC1)\n",
    "\n",
    "# расчитаем AUC-ROC для модели \"Случайный лес\"\n",
    "probabilities_valid_RFC1 = model_RFC1.predict_proba(features_Valid)\n",
    "probabilities_one_valid_RFC1 = probabilities_valid_RFC1[:, 1]\n",
    "auc_roc_RFC1 = roc_auc_score(target_Valid, probabilities_one_valid_RFC1)\n",
    "print(\"AUC-ROC:\", auc_roc_RFC1)"
   ]
  },
  {
   "cell_type": "code",
   "execution_count": 48,
   "metadata": {},
   "outputs": [
    {
     "data": {
      "text/html": [
       "<div>\n",
       "<style scoped>\n",
       "    .dataframe tbody tr th:only-of-type {\n",
       "        vertical-align: middle;\n",
       "    }\n",
       "\n",
       "    .dataframe tbody tr th {\n",
       "        vertical-align: top;\n",
       "    }\n",
       "\n",
       "    .dataframe thead th {\n",
       "        text-align: right;\n",
       "    }\n",
       "</style>\n",
       "<table border=\"1\" class=\"dataframe\">\n",
       "  <thead>\n",
       "    <tr style=\"text-align: right;\">\n",
       "      <th></th>\n",
       "      <th>model</th>\n",
       "      <th>f1_upsampled</th>\n",
       "      <th>AUCROC_upsampled</th>\n",
       "    </tr>\n",
       "  </thead>\n",
       "  <tbody>\n",
       "    <tr>\n",
       "      <td>0</td>\n",
       "      <td>DecisionTreeClassifier</td>\n",
       "      <td>0.541863</td>\n",
       "      <td>0.808201</td>\n",
       "    </tr>\n",
       "    <tr>\n",
       "      <td>1</td>\n",
       "      <td>RandomForestClassifier</td>\n",
       "      <td>0.601942</td>\n",
       "      <td>0.857085</td>\n",
       "    </tr>\n",
       "  </tbody>\n",
       "</table>\n",
       "</div>"
      ],
      "text/plain": [
       "                    model  f1_upsampled  AUCROC_upsampled\n",
       "0  DecisionTreeClassifier      0.541863          0.808201\n",
       "1  RandomForestClassifier      0.601942          0.857085"
      ]
     },
     "execution_count": 48,
     "metadata": {},
     "output_type": "execute_result"
    }
   ],
   "source": [
    "# Оформим результаты в таблицу\n",
    "df_models1.loc[1] = ['RandomForestClassifier', f1_RFC1, auc_roc_RFC1]\n",
    "df_models1"
   ]
  },
  {
   "cell_type": "markdown",
   "metadata": {},
   "source": [
    "#### Вывод\n",
    "1. При исследовании модели \"Случайный лес\" удалось достичь значени F1=0.602."
   ]
  },
  {
   "cell_type": "code",
   "execution_count": 49,
   "metadata": {},
   "outputs": [],
   "source": [
    "# создание модели \"Логистическая регрессия\"\n",
    "model_LR1 = LogisticRegression(random_state=54321, \n",
    "                               solver='liblinear',\n",
    "                               class_weight='balanced')\n",
    "# обучение модели\n",
    "model_LR1.fit(features_upsampled,target_upsampled)\n",
    "predicted_Valid13 = model_LR1.predict(features_Valid)"
   ]
  },
  {
   "cell_type": "code",
   "execution_count": 50,
   "metadata": {},
   "outputs": [
    {
     "name": "stdout",
     "output_type": "stream",
     "text": [
      "Полнота: 0.6641604010025063\n",
      "Точность: 0.37011173184357543\n",
      "F1-мера: 0.47533632286995514\n",
      "AUC-ROC: 0.7464178873166676\n"
     ]
    }
   ],
   "source": [
    "# полнота\n",
    "recall_LR1 = recall_score(target_Valid, predicted_Valid13)\n",
    "print(\"Полнота:\", recall_LR1)\n",
    "\n",
    "# точность\n",
    "precision_LR1 = precision_score(target_Valid, predicted_Valid13)\n",
    "print(\"Точность:\", precision_LR1)\n",
    "\n",
    "# расчет f1 меры\n",
    "f1_LR1 = f1_score(target_Valid, predicted_Valid13)\n",
    "print(\"F1-мера:\", f1_LR1)\n",
    "\n",
    "# расчитаем AUC-ROC для модели \"Логистическая регрессия\"\n",
    "probabilities_valid_LR1 = model_LR1.predict_proba(features_Valid)\n",
    "probabilities_one_valid_LR1 = probabilities_valid_LR1[:, 1]\n",
    "auc_roc_LR1 = roc_auc_score(target_Valid, probabilities_one_valid_LR1)\n",
    "print(\"AUC-ROC:\", auc_roc_LR1)"
   ]
  },
  {
   "cell_type": "code",
   "execution_count": 51,
   "metadata": {},
   "outputs": [
    {
     "data": {
      "text/html": [
       "<div>\n",
       "<style scoped>\n",
       "    .dataframe tbody tr th:only-of-type {\n",
       "        vertical-align: middle;\n",
       "    }\n",
       "\n",
       "    .dataframe tbody tr th {\n",
       "        vertical-align: top;\n",
       "    }\n",
       "\n",
       "    .dataframe thead th {\n",
       "        text-align: right;\n",
       "    }\n",
       "</style>\n",
       "<table border=\"1\" class=\"dataframe\">\n",
       "  <thead>\n",
       "    <tr style=\"text-align: right;\">\n",
       "      <th></th>\n",
       "      <th>model</th>\n",
       "      <th>f1_upsampled</th>\n",
       "      <th>AUCROC_upsampled</th>\n",
       "    </tr>\n",
       "  </thead>\n",
       "  <tbody>\n",
       "    <tr>\n",
       "      <td>0</td>\n",
       "      <td>DecisionTreeClassifier</td>\n",
       "      <td>0.541863</td>\n",
       "      <td>0.808201</td>\n",
       "    </tr>\n",
       "    <tr>\n",
       "      <td>1</td>\n",
       "      <td>RandomForestClassifier</td>\n",
       "      <td>0.601942</td>\n",
       "      <td>0.857085</td>\n",
       "    </tr>\n",
       "    <tr>\n",
       "      <td>2</td>\n",
       "      <td>LogisticRegression</td>\n",
       "      <td>0.475336</td>\n",
       "      <td>0.746418</td>\n",
       "    </tr>\n",
       "  </tbody>\n",
       "</table>\n",
       "</div>"
      ],
      "text/plain": [
       "                    model  f1_upsampled  AUCROC_upsampled\n",
       "0  DecisionTreeClassifier      0.541863          0.808201\n",
       "1  RandomForestClassifier      0.601942          0.857085\n",
       "2      LogisticRegression      0.475336          0.746418"
      ]
     },
     "execution_count": 51,
     "metadata": {},
     "output_type": "execute_result"
    }
   ],
   "source": [
    "# Оформим результаты в таблицу\n",
    "df_models1.loc[2] = ['LogisticRegression', f1_LR1, auc_roc_LR1]\n",
    "df_models1"
   ]
  },
  {
   "cell_type": "markdown",
   "metadata": {},
   "source": [
    "#### Вывод\n",
    "1. При исследовании модели \"Логистическая регрессия\" удалось достичь значени F1=0.475."
   ]
  },
  {
   "cell_type": "markdown",
   "metadata": {},
   "source": [
    "#### Вывод\n",
    "1. Модель \"Решающее дерево\":\n",
    "    + было: 0.5854383358098069\n",
    "    + стало: 0.541862652869238\n",
    "2. Модель \"Случаный лес\":\n",
    "    + было: 0.5430894308943088\n",
    "    + стало: 0.6019417475728156\n",
    "3. Модель \"Логистическая регрессия\":\n",
    "    + было: 0.3045871559633027\n",
    "    + стало: 0.47533632286995514\n",
    "4. Для модели \"Решающее дерево\" борьба с дисбалансом и увеличение выборки привело к уменьшению f1 меры.\n",
    "5. Для модели \"Случайный лес\" борьба с дисбалансом и увеличение выборки привело к значительному увеличению f1 меры.\n",
    "6. Для модели \"Логистическая регрессия\" борьба с дисбалансом и увеличение выборки привело к уменьшению f1 меры"
   ]
  },
  {
   "cell_type": "markdown",
   "metadata": {},
   "source": [
    "#### Борьба с дисбалансом с помощью уменьшения выборки"
   ]
  },
  {
   "cell_type": "code",
   "execution_count": 52,
   "metadata": {},
   "outputs": [
    {
     "name": "stdout",
     "output_type": "stream",
     "text": [
      "(2438, 11)\n",
      "(2438,)\n"
     ]
    }
   ],
   "source": [
    "# Доля отрицательных объектов, которые нужно сохранить\n",
    "fraction = len(features_Ones.index)/len(features_Zeros.index) \n",
    "\n",
    "# уменьшение выборки\n",
    "# Функция downsample(features, target, repeat) уменьшает число объектов класса 1 в «fraction» раз\n",
    "def downsample(features, target, fraction):\n",
    "    features_zeros = features[target == 0]\n",
    "    features_ones = features[target == 1]\n",
    "    target_zeros = target[target == 0]\n",
    "    target_ones = target[target == 1]\n",
    "\n",
    "    # Объединим объекты положительного и отрицательного классов в новые признаки\n",
    "    features_downsampled = pd.concat([features_zeros.sample(frac=fraction, random_state=12345)] + [features_ones])\n",
    "    target_downsampled = pd.concat([target_zeros.sample(frac=fraction, random_state=12345)] + [target_ones])\n",
    "\n",
    "    features_downsampled, target_downsampled = shuffle(\n",
    "        features_downsampled, target_downsampled, random_state=12345)\n",
    "    \n",
    "    return features_downsampled, target_downsampled\n",
    "\n",
    "features_downsampled, target_downsampled = downsample(features_Train, target_Train, fraction)\n",
    "\n",
    "print(features_downsampled.shape)\n",
    "print(target_downsampled.shape)"
   ]
  },
  {
   "cell_type": "code",
   "execution_count": 53,
   "metadata": {},
   "outputs": [
    {
     "name": "stdout",
     "output_type": "stream",
     "text": [
      "Количество объектов в классе 0:  1219\n",
      "Количество объектов в классе 1:  1219\n"
     ]
    },
    {
     "name": "stderr",
     "output_type": "stream",
     "text": [
      "/opt/conda/lib/python3.7/site-packages/ipykernel_launcher.py:1: UserWarning: Boolean Series key will be reindexed to match DataFrame index.\n",
      "  \"\"\"Entry point for launching an IPython kernel.\n",
      "/opt/conda/lib/python3.7/site-packages/ipykernel_launcher.py:2: UserWarning: Boolean Series key will be reindexed to match DataFrame index.\n",
      "  \n"
     ]
    }
   ],
   "source": [
    "print(\"Количество объектов в классе 0: \",len(features_downsampled[target_Train == 0].index))\n",
    "print(\"Количество объектов в классе 1: \",len(features_downsampled[target_Train == 1].index))"
   ]
  },
  {
   "cell_type": "markdown",
   "metadata": {},
   "source": [
    "#### Вывод\n",
    "1. Классы 0 и 1 по количеству объектов сбалансированы."
   ]
  },
  {
   "cell_type": "code",
   "execution_count": 54,
   "metadata": {},
   "outputs": [],
   "source": [
    "# создание модели методом \"Решающее дерево\"\n",
    "model_DTC2 = DecisionTreeClassifier(random_state=54321,\n",
    "                                   class_weight = 'balanced',\n",
    "                                   max_depth=8,\n",
    "                                   min_samples_leaf=2,\n",
    "                                   min_samples_split=2\n",
    "                                   )\n",
    "# обучим модель\n",
    "model_DTC2.fit(features_downsampled,target_downsampled)\n",
    "predicted_Valid21 = model_DTC2.predict(features_Valid)"
   ]
  },
  {
   "cell_type": "code",
   "execution_count": 55,
   "metadata": {},
   "outputs": [
    {
     "name": "stdout",
     "output_type": "stream",
     "text": [
      "Полнота: 0.7218045112781954\n",
      "Точность: 0.4311377245508982\n",
      "F1-мера: 0.5398313027179007\n",
      "AUC-ROC: 0.7918304505799163\n"
     ]
    }
   ],
   "source": [
    "# полнота\n",
    "recall_DTC2 = recall_score(target_Valid, predicted_Valid21)\n",
    "print(\"Полнота:\", recall_DTC2)\n",
    "\n",
    "# точность\n",
    "precision_DTC2 = precision_score(target_Valid, predicted_Valid21)\n",
    "print(\"Точность:\", precision_DTC2)\n",
    "\n",
    "# расчет f1 меры\n",
    "f1_DTC2 = f1_score(target_Valid, predicted_Valid21)\n",
    "print(\"F1-мера:\", f1_DTC2)\n",
    "\n",
    "# расчитаем AUC-ROC для модели \"Решающее дерево\"\n",
    "probabilities_valid_DTC2 = model_DTC2.predict_proba(features_Valid)\n",
    "probabilities_one_valid_DTC2 = probabilities_valid_DTC2[:, 1]\n",
    "auc_roc_DTC2 = roc_auc_score(target_Valid, probabilities_one_valid_DTC2)\n",
    "print(\"AUC-ROC:\", auc_roc_DTC2)"
   ]
  },
  {
   "cell_type": "code",
   "execution_count": 56,
   "metadata": {},
   "outputs": [
    {
     "data": {
      "text/html": [
       "<div>\n",
       "<style scoped>\n",
       "    .dataframe tbody tr th:only-of-type {\n",
       "        vertical-align: middle;\n",
       "    }\n",
       "\n",
       "    .dataframe tbody tr th {\n",
       "        vertical-align: top;\n",
       "    }\n",
       "\n",
       "    .dataframe thead th {\n",
       "        text-align: right;\n",
       "    }\n",
       "</style>\n",
       "<table border=\"1\" class=\"dataframe\">\n",
       "  <thead>\n",
       "    <tr style=\"text-align: right;\">\n",
       "      <th></th>\n",
       "      <th>model</th>\n",
       "      <th>f1_downsampled</th>\n",
       "      <th>AUCROC_downsampled</th>\n",
       "    </tr>\n",
       "  </thead>\n",
       "  <tbody>\n",
       "    <tr>\n",
       "      <td>0</td>\n",
       "      <td>DecisionTreeClassifier</td>\n",
       "      <td>0.539831</td>\n",
       "      <td>0.79183</td>\n",
       "    </tr>\n",
       "  </tbody>\n",
       "</table>\n",
       "</div>"
      ],
      "text/plain": [
       "                    model  f1_downsampled  AUCROC_downsampled\n",
       "0  DecisionTreeClassifier        0.539831             0.79183"
      ]
     },
     "execution_count": 56,
     "metadata": {},
     "output_type": "execute_result"
    }
   ],
   "source": [
    "# Оформим результаты в таблицу\n",
    "df_models2 = pd.DataFrame({'model':['DecisionTreeClassifier'],'f1_downsampled':[f1_DTC2], 'AUCROC_downsampled':[auc_roc_DTC2]}) \n",
    "df_models2"
   ]
  },
  {
   "cell_type": "code",
   "execution_count": 57,
   "metadata": {},
   "outputs": [],
   "source": [
    "# создание модели методом \"Случайный лес\"\n",
    "model_RFC2 = RandomForestClassifier(random_state=54321,\n",
    "                                   max_depth=8,\n",
    "                                   class_weight = 'balanced',\n",
    "                                   n_estimators=300)\n",
    "# Обучим модель\n",
    "model_RFC2.fit(features_downsampled,target_downsampled)\n",
    "predicted_Valid22 = model_RFC2.predict(features_Valid)"
   ]
  },
  {
   "cell_type": "code",
   "execution_count": 58,
   "metadata": {},
   "outputs": [
    {
     "name": "stdout",
     "output_type": "stream",
     "text": [
      "Полнота: 0.731829573934837\n",
      "Точность: 0.49158249158249157\n",
      "F1-мера: 0.5881168177240684\n",
      "AUC-ROC: 0.8550717831430543\n"
     ]
    }
   ],
   "source": [
    "# полнота\n",
    "recall_RFC2 = recall_score(target_Valid, predicted_Valid22)\n",
    "print(\"Полнота:\", recall_RFC2)\n",
    "\n",
    "# точность\n",
    "precision_RFC2 = precision_score(target_Valid, predicted_Valid22)\n",
    "print(\"Точность:\", precision_RFC2)\n",
    "\n",
    "# расчет f1 меры\n",
    "f1_RFC2 = f1_score(target_Valid, predicted_Valid22)\n",
    "print(\"F1-мера:\", f1_RFC2)\n",
    "\n",
    "# расчитаем AUC-ROC для модели \"Случайный лес\"\n",
    "probabilities_valid_RFC2 = model_RFC2.predict_proba(features_Valid)\n",
    "probabilities_one_valid_RFC2 = probabilities_valid_RFC2[:, 1]\n",
    "auc_roc_RFC2 = roc_auc_score(target_Valid, probabilities_one_valid_RFC2)\n",
    "print(\"AUC-ROC:\", auc_roc_RFC2)"
   ]
  },
  {
   "cell_type": "code",
   "execution_count": 59,
   "metadata": {},
   "outputs": [
    {
     "data": {
      "text/html": [
       "<div>\n",
       "<style scoped>\n",
       "    .dataframe tbody tr th:only-of-type {\n",
       "        vertical-align: middle;\n",
       "    }\n",
       "\n",
       "    .dataframe tbody tr th {\n",
       "        vertical-align: top;\n",
       "    }\n",
       "\n",
       "    .dataframe thead th {\n",
       "        text-align: right;\n",
       "    }\n",
       "</style>\n",
       "<table border=\"1\" class=\"dataframe\">\n",
       "  <thead>\n",
       "    <tr style=\"text-align: right;\">\n",
       "      <th></th>\n",
       "      <th>model</th>\n",
       "      <th>f1_downsampled</th>\n",
       "      <th>AUCROC_downsampled</th>\n",
       "    </tr>\n",
       "  </thead>\n",
       "  <tbody>\n",
       "    <tr>\n",
       "      <td>0</td>\n",
       "      <td>DecisionTreeClassifier</td>\n",
       "      <td>0.539831</td>\n",
       "      <td>0.791830</td>\n",
       "    </tr>\n",
       "    <tr>\n",
       "      <td>1</td>\n",
       "      <td>RandomForestClassifier</td>\n",
       "      <td>0.588117</td>\n",
       "      <td>0.855072</td>\n",
       "    </tr>\n",
       "  </tbody>\n",
       "</table>\n",
       "</div>"
      ],
      "text/plain": [
       "                    model  f1_downsampled  AUCROC_downsampled\n",
       "0  DecisionTreeClassifier        0.539831            0.791830\n",
       "1  RandomForestClassifier        0.588117            0.855072"
      ]
     },
     "execution_count": 59,
     "metadata": {},
     "output_type": "execute_result"
    }
   ],
   "source": [
    "# Оформим результаты в таблицу\n",
    "df_models2.loc[1] = ['RandomForestClassifier', f1_RFC2, auc_roc_RFC2]\n",
    "df_models2"
   ]
  },
  {
   "cell_type": "code",
   "execution_count": 60,
   "metadata": {},
   "outputs": [],
   "source": [
    "# обучение на логистической регрессии\n",
    "model_LR2 = LogisticRegression(random_state=12345, solver='liblinear',class_weight='balanced')\n",
    "\n",
    "# обучим модель\n",
    "model_LR2.fit(features_downsampled,target_downsampled)\n",
    "predicted_Valid23 = model_LR2.predict(features_Valid)"
   ]
  },
  {
   "cell_type": "code",
   "execution_count": 61,
   "metadata": {},
   "outputs": [
    {
     "name": "stdout",
     "output_type": "stream",
     "text": [
      "Полнота: 0.6641604010025063\n",
      "Точность: 0.364010989010989\n",
      "F1-мера: 0.4702750665483585\n",
      "AUC-ROC: 0.7464992900740296\n"
     ]
    }
   ],
   "source": [
    "# полнота\n",
    "recall_LR2 = recall_score(target_Valid, predicted_Valid23)\n",
    "print(\"Полнота:\", recall_LR2)\n",
    "\n",
    "# точность\n",
    "precision_LR2 = precision_score(target_Valid, predicted_Valid23)\n",
    "print(\"Точность:\", precision_LR2)\n",
    "\n",
    "# расчет f1 меры\n",
    "f1_LR2 = f1_score(target_Valid, predicted_Valid23)\n",
    "print(\"F1-мера:\", f1_LR2)\n",
    "\n",
    "# расчитаем AUC-ROC для модели \"Логистическая регрессия\"\n",
    "probabilities_valid_LR2 = model_LR2.predict_proba(features_Valid)\n",
    "probabilities_one_valid_LR2 = probabilities_valid_LR2[:, 1]\n",
    "auc_roc_LR2 = roc_auc_score(target_Valid, probabilities_one_valid_LR2)\n",
    "print(\"AUC-ROC:\", auc_roc_LR2)"
   ]
  },
  {
   "cell_type": "code",
   "execution_count": 62,
   "metadata": {},
   "outputs": [
    {
     "data": {
      "text/html": [
       "<div>\n",
       "<style scoped>\n",
       "    .dataframe tbody tr th:only-of-type {\n",
       "        vertical-align: middle;\n",
       "    }\n",
       "\n",
       "    .dataframe tbody tr th {\n",
       "        vertical-align: top;\n",
       "    }\n",
       "\n",
       "    .dataframe thead th {\n",
       "        text-align: right;\n",
       "    }\n",
       "</style>\n",
       "<table border=\"1\" class=\"dataframe\">\n",
       "  <thead>\n",
       "    <tr style=\"text-align: right;\">\n",
       "      <th></th>\n",
       "      <th>model</th>\n",
       "      <th>f1_downsampled</th>\n",
       "      <th>AUCROC_downsampled</th>\n",
       "    </tr>\n",
       "  </thead>\n",
       "  <tbody>\n",
       "    <tr>\n",
       "      <td>0</td>\n",
       "      <td>DecisionTreeClassifier</td>\n",
       "      <td>0.539831</td>\n",
       "      <td>0.791830</td>\n",
       "    </tr>\n",
       "    <tr>\n",
       "      <td>1</td>\n",
       "      <td>RandomForestClassifier</td>\n",
       "      <td>0.588117</td>\n",
       "      <td>0.855072</td>\n",
       "    </tr>\n",
       "    <tr>\n",
       "      <td>2</td>\n",
       "      <td>LogisticRegression</td>\n",
       "      <td>0.470275</td>\n",
       "      <td>0.746499</td>\n",
       "    </tr>\n",
       "  </tbody>\n",
       "</table>\n",
       "</div>"
      ],
      "text/plain": [
       "                    model  f1_downsampled  AUCROC_downsampled\n",
       "0  DecisionTreeClassifier        0.539831            0.791830\n",
       "1  RandomForestClassifier        0.588117            0.855072\n",
       "2      LogisticRegression        0.470275            0.746499"
      ]
     },
     "execution_count": 62,
     "metadata": {},
     "output_type": "execute_result"
    }
   ],
   "source": [
    "# Оформим результаты в таблицу\n",
    "df_models2.loc[2] = ['LogisticRegression', f1_LR2, auc_roc_LR2]\n",
    "df_models2"
   ]
  },
  {
   "cell_type": "markdown",
   "metadata": {},
   "source": [
    "#### Вывод\n",
    "1. Модель \"Решающее дерево\":\n",
    "    + было: 0.5854383358098069\n",
    "    + стало: 0.5398313027179007\n",
    "2. Модель \"Случаный лес\":\n",
    "    + было: 0.5430894308943088\n",
    "    + стало: 0.5881168177240684\n",
    "3. Модель \"Логистическая регрессия\":\n",
    "    + было: 0.3045871559633027\n",
    "    + стало: 0.4702750665483585\n",
    "4. Для модели \"Решающее дерево\" борьба с дисбалансом и уменьшение выборки привело к уменьшению f1 меры.\n",
    "5. Для модели \"Случайный лес\" борьба с дисбалансом и уменьшение выборки привело к незначительному увеличению f1 меры.\n",
    "6. Для модели \"Логистическая регрессия\" борьба с дисбалансом и уменьшение выборки привело к значительному увеличнию f1 меры"
   ]
  },
  {
   "cell_type": "markdown",
   "metadata": {},
   "source": [
    "#### Исследование изменений порогов"
   ]
  },
  {
   "cell_type": "code",
   "execution_count": 63,
   "metadata": {},
   "outputs": [
    {
     "name": "stdout",
     "output_type": "stream",
     "text": [
      "[0.22689076 0.03731343 0.         0.         0.03731343]\n",
      "Порог = 0.00 | Точность = 0.198, Полнота = 0.947, F1 = 0.328\n",
      "Порог = 0.10 | Точность = 0.354, Полнота = 0.810, F1 = 0.493\n",
      "Порог = 0.20 | Точность = 0.506, Полнота = 0.682, F1 = 0.581\n",
      "Порог = 0.30 | Точность = 0.605, Полнота = 0.591, F1 = 0.598\n",
      "Порог = 0.40 | Точность = 0.667, Полнота = 0.546, F1 = 0.601\n",
      "Порог = 0.50 | Точность = 0.719, Полнота = 0.494, F1 = 0.585\n",
      "Порог = 0.60 | Точность = 0.716, Полнота = 0.474, F1 = 0.570\n",
      "Порог = 0.70 | Точность = 0.815, Полнота = 0.343, F1 = 0.483\n",
      "Порог = 0.80 | Точность = 0.851, Полнота = 0.286, F1 = 0.428\n",
      "Порог = 0.90 | Точность = 0.880, Полнота = 0.221, F1 = 0.353\n"
     ]
    }
   ],
   "source": [
    "# исследование изменение порога на метрики модели \"Решающее дерево\"\n",
    "probabilities_valid_DTC = model_DTC.predict_proba(features_Valid)\n",
    "probabilities_one_valid_DTC = probabilities_valid_DTC[:, 1]\n",
    "# вероятность положительного класса на валидной выборке\n",
    "print(probabilities_one_valid_DTC[:5])\n",
    "\n",
    "# Перебор порогов. Найдем точность и полноту для каждого порога\n",
    "for threshold in np.arange(0, 1, 0.1):\n",
    "    predicted_valid_DTC = probabilities_one_valid_DTC > threshold\n",
    "    precision = precision_score(target_Valid, predicted_valid_DTC)\n",
    "    recall = recall_score(target_Valid, predicted_valid_DTC)\n",
    "    f1 = f1_score(target_Valid, predicted_valid_DTC)\n",
    "\n",
    "    print(\"Порог = {:.2f} | Точность = {:.3f}, Полнота = {:.3f}, F1 = {:.3f}\".format(\n",
    "        threshold, precision, recall, f1))"
   ]
  },
  {
   "cell_type": "markdown",
   "metadata": {},
   "source": [
    "#### Вывод\n",
    "1. Максимальный порог для модели \"Решающее дерево\" - 0.4. При этом значение порога, показатель F1 достигает максимального значения - 0.601"
   ]
  },
  {
   "cell_type": "code",
   "execution_count": 64,
   "metadata": {},
   "outputs": [
    {
     "name": "stdout",
     "output_type": "stream",
     "text": [
      "[0.19240712 0.05603038 0.19829258 0.09547864 0.07768708]\n",
      "Порог = 0.00 | Точность = 0.200, Полнота = 1.000, F1 = 0.333\n",
      "Порог = 0.10 | Точность = 0.310, Полнота = 0.925, F1 = 0.464\n",
      "Порог = 0.20 | Точность = 0.484, Полнота = 0.752, F1 = 0.589\n",
      "Порог = 0.30 | Точность = 0.619, Полнота = 0.591, F1 = 0.605\n",
      "Порог = 0.40 | Точность = 0.727, Полнота = 0.501, F1 = 0.593\n",
      "Порог = 0.50 | Точность = 0.773, Полнота = 0.419, F1 = 0.543\n",
      "Порог = 0.60 | Точность = 0.903, Полнота = 0.326, F1 = 0.479\n",
      "Порог = 0.70 | Точность = 0.978, Полнота = 0.226, F1 = 0.367\n",
      "Порог = 0.80 | Точность = 1.000, Полнота = 0.095, F1 = 0.174\n",
      "Порог = 0.90 | Точность = 1.000, Полнота = 0.023, F1 = 0.044\n"
     ]
    }
   ],
   "source": [
    "# исследование изменение порога на метрики модели \"Случайный лес\"\n",
    "probabilities_valid_RFC = model_RFC.predict_proba(features_Valid)\n",
    "probabilities_one_valid_RFC = probabilities_valid_RFC[:, 1]\n",
    "# вероятность положительного класса на валидной выборке\n",
    "print(probabilities_one_valid_RFC[:5])\n",
    "\n",
    "# Перебор порогов. Найдем точность и полноту для каждого порога\n",
    "for threshold in np.arange(0, 1, 0.1):\n",
    "    predicted_valid_RFC = probabilities_one_valid_RFC > threshold\n",
    "    precision = precision_score(target_Valid, predicted_valid_RFC)\n",
    "    recall = recall_score(target_Valid, predicted_valid_RFC)\n",
    "    f1 = f1_score(target_Valid, predicted_valid_RFC)\n",
    "\n",
    "    print(\"Порог = {:.2f} | Точность = {:.3f}, Полнота = {:.3f}, F1 = {:.3f}\".format(\n",
    "        threshold, precision, recall, f1))"
   ]
  },
  {
   "cell_type": "markdown",
   "metadata": {},
   "source": [
    "#### Вывод\n",
    "1. Максимальный порог для модели \"Случайный лес\" - 0.3. При этом значение порога, показатель F1 достигает максимального значения - 0.605"
   ]
  },
  {
   "cell_type": "code",
   "execution_count": 65,
   "metadata": {},
   "outputs": [
    {
     "name": "stdout",
     "output_type": "stream",
     "text": [
      "[0.22245745 0.10400097 0.74109486 0.08974674 0.13969065]\n",
      "Порог = 0.00 | Точность = 0.200, Полнота = 1.000, F1 = 0.333\n",
      "Порог = 0.10 | Точность = 0.265, Полнота = 0.867, F1 = 0.406\n",
      "Порог = 0.20 | Точность = 0.355, Полнота = 0.659, F1 = 0.461\n",
      "Порог = 0.30 | Точность = 0.438, Полнота = 0.491, F1 = 0.463\n",
      "Порог = 0.40 | Точность = 0.490, Полнота = 0.323, F1 = 0.390\n",
      "Порог = 0.50 | Точность = 0.568, Полнота = 0.208, F1 = 0.305\n",
      "Порог = 0.60 | Точность = 0.643, Полнота = 0.113, F1 = 0.192\n",
      "Порог = 0.70 | Точность = 0.667, Полнота = 0.055, F1 = 0.102\n",
      "Порог = 0.80 | Точность = 0.636, Полнота = 0.018, F1 = 0.034\n",
      "Порог = 0.90 | Точность = 1.000, Полнота = 0.003, F1 = 0.005\n"
     ]
    }
   ],
   "source": [
    "# исследование изменение порога на метрики модели \"Логистическая регрессия\"\n",
    "probabilities_valid_LR = model_LR.predict_proba(features_Valid)\n",
    "probabilities_one_valid_LR = probabilities_valid_LR[:, 1]\n",
    "# вероятность положительного класса на валидной выборке\n",
    "print(probabilities_one_valid_LR[:5])\n",
    "\n",
    "# Перебор порогов. Найдем точность и полноту для каждого порога\n",
    "for threshold in np.arange(0, 1, 0.1):\n",
    "    predicted_valid_LR = probabilities_one_valid_LR > threshold\n",
    "    precision = precision_score(target_Valid, predicted_valid_LR)\n",
    "    recall = recall_score(target_Valid, predicted_valid_LR)\n",
    "    f1 = f1_score(target_Valid, predicted_valid_LR)\n",
    "\n",
    "    print(\"Порог = {:.2f} | Точность = {:.3f}, Полнота = {:.3f}, F1 = {:.3f}\".format(\n",
    "        threshold, precision, recall, f1))"
   ]
  },
  {
   "cell_type": "markdown",
   "metadata": {},
   "source": [
    "#### Вывод\n",
    "1. Максимальный порог для модели \"Логистическая регрессия\" - 0.3. При этом значение порога, показатель F1 достигает максимального значения - 0.463"
   ]
  },
  {
   "cell_type": "code",
   "execution_count": 66,
   "metadata": {},
   "outputs": [
    {
     "data": {
      "image/png": "[encoded data removed]",
      "text/plain": [
       "<Figure size 432x432 with 1 Axes>"
      ]
     },
     "metadata": {
      "needs_background": "light"
     },
     "output_type": "display_data"
    }
   ],
   "source": [
    "# Построим PR-кривую для модели \"Решающее дерево\"\n",
    "precision_d, recall_d, thresholds_d = precision_recall_curve(target_Valid, probabilities_valid_DTC[:, 1])\n",
    "# Построим PR-кривую для модели \"Случайный лес\"\n",
    "precision_r, recall_r, thresholds_r = precision_recall_curve(target_Valid, probabilities_valid_RFC[:, 1])\n",
    "# Построим PR-кривую для модели \"Логистическая регрессия\"\n",
    "precision_l, recall_l, thresholds_l = precision_recall_curve(target_Valid, probabilities_valid_LR[:, 1])\n",
    "plt.figure(figsize=(6, 6))\n",
    "plt.step(recall_d, precision_d, where='post', label = \"Решающее дерево\")\n",
    "plt.step(recall_r, precision_r, where='post', label = \"Случайный лес\")\n",
    "plt.step(recall_l, precision_l, where='post', label = \"Логистическая регрессия\")\n",
    "plt.xlabel('Recall')\n",
    "plt.ylabel('Precision')\n",
    "plt.ylim([0.0, 1.05])\n",
    "plt.xlim([0.0, 1.0])\n",
    "plt.title('Кривая Precision-Recall')\n",
    "plt.legend() \n",
    "plt.show()"
   ]
  },
  {
   "cell_type": "code",
   "execution_count": 67,
   "metadata": {},
   "outputs": [
    {
     "data": {
      "image/png": "[encoded data removed]",
      "text/plain": [
       "<Figure size 432x288 with 1 Axes>"
      ]
     },
     "metadata": {
      "needs_background": "light"
     },
     "output_type": "display_data"
    }
   ],
   "source": [
    "# построим ROC-кривую для модели \"Решающее дерево\"\n",
    "fpr_d, tpr_d, thresholds_d = roc_curve(target_Valid, probabilities_one_valid_DTC)\n",
    "# построим ROC-кривую для модели \"Случайный лес\"\n",
    "fpr_r, tpr_r, thresholds_r = roc_curve(target_Valid, probabilities_one_valid_RFC)\n",
    "# построим ROC-кривую для модели \"Логистическая регрессия\"\n",
    "fpr_l, tpr_l, thresholds_l = roc_curve(target_Valid, probabilities_one_valid_LR)\n",
    "plt.figure()\n",
    "plt.plot(fpr_d, tpr_d, label = \"Решающее дерево\")\n",
    "plt.plot(fpr_r, tpr_r, label = \"Случайный лес\")\n",
    "plt.plot(fpr_l, tpr_l, label = \"Логистическая регрессия\")\n",
    "plt.xlim([0.0, 1.0])\n",
    "plt.ylim([0.0, 1.0])\n",
    "plt.xlabel('False Positive Rate')\n",
    "plt.ylabel('True Positive Rate')\n",
    "plt.title('ROC-кривая')\n",
    "plt.legend() \n",
    "# пунктирная прямая\n",
    "plt.plot([0, 1], [0, 1], linestyle='--')\n",
    "plt.show()"
   ]
  },
  {
   "cell_type": "code",
   "execution_count": 68,
   "metadata": {},
   "outputs": [
    {
     "data": {
      "text/html": [
       "<div>\n",
       "<style scoped>\n",
       "    .dataframe tbody tr th:only-of-type {\n",
       "        vertical-align: middle;\n",
       "    }\n",
       "\n",
       "    .dataframe tbody tr th {\n",
       "        vertical-align: top;\n",
       "    }\n",
       "\n",
       "    .dataframe thead th {\n",
       "        text-align: right;\n",
       "    }\n",
       "</style>\n",
       "<table border=\"1\" class=\"dataframe\">\n",
       "  <thead>\n",
       "    <tr style=\"text-align: right;\">\n",
       "      <th></th>\n",
       "      <th>model</th>\n",
       "      <th>f1</th>\n",
       "      <th>AUCROC</th>\n",
       "      <th>f1_upsampled</th>\n",
       "      <th>AUCROC_upsampled</th>\n",
       "      <th>f1_downsampled</th>\n",
       "      <th>AUCROC_downsampled</th>\n",
       "    </tr>\n",
       "  </thead>\n",
       "  <tbody>\n",
       "    <tr>\n",
       "      <td>0</td>\n",
       "      <td>DecisionTreeClassifier</td>\n",
       "      <td>0.585438</td>\n",
       "      <td>0.816357</td>\n",
       "      <td>0.541863</td>\n",
       "      <td>0.808201</td>\n",
       "      <td>0.539831</td>\n",
       "      <td>0.791830</td>\n",
       "    </tr>\n",
       "    <tr>\n",
       "      <td>1</td>\n",
       "      <td>RandomForestClassifier</td>\n",
       "      <td>0.543089</td>\n",
       "      <td>0.861709</td>\n",
       "      <td>0.601942</td>\n",
       "      <td>0.857085</td>\n",
       "      <td>0.588117</td>\n",
       "      <td>0.855072</td>\n",
       "    </tr>\n",
       "    <tr>\n",
       "      <td>2</td>\n",
       "      <td>LogisticRegression</td>\n",
       "      <td>0.304587</td>\n",
       "      <td>0.743592</td>\n",
       "      <td>0.475336</td>\n",
       "      <td>0.746418</td>\n",
       "      <td>0.470275</td>\n",
       "      <td>0.746499</td>\n",
       "    </tr>\n",
       "  </tbody>\n",
       "</table>\n",
       "</div>"
      ],
      "text/plain": [
       "                    model        f1    AUCROC  f1_upsampled  AUCROC_upsampled  \\\n",
       "0  DecisionTreeClassifier  0.585438  0.816357      0.541863          0.808201   \n",
       "1  RandomForestClassifier  0.543089  0.861709      0.601942          0.857085   \n",
       "2      LogisticRegression  0.304587  0.743592      0.475336          0.746418   \n",
       "\n",
       "   f1_downsampled  AUCROC_downsampled  \n",
       "0        0.539831            0.791830  \n",
       "1        0.588117            0.855072  \n",
       "2        0.470275            0.746499  "
      ]
     },
     "execution_count": 68,
     "metadata": {},
     "output_type": "execute_result"
    }
   ],
   "source": [
    "# объединим три таблицы в одну\n",
    "df_models_all = df_models.merge(df_models1, on='model', how='inner')\n",
    "df_models_all = df_models_all.merge(df_models2, on='model', how='inner')\n",
    "df_models_all"
   ]
  },
  {
   "cell_type": "markdown",
   "metadata": {},
   "source": [
    "#### Вывод\n",
    "1. Наилучшее качество у модели \"Случайный лес\" (выше всех)\n",
    "2. Наихудшее качество у модели \"Логистическая регрессия\" (ниже всех)"
   ]
  },
  {
   "cell_type": "markdown",
   "metadata": {},
   "source": [
    "#### Вывод\n",
    "1. Сильнее всего от случайной (0,5) отличается модель \"Случайный лес\"\n",
    "2. Слабее всего от случайной (0,5) отличается модель \"Логистическая регрессия\""
   ]
  },
  {
   "cell_type": "markdown",
   "metadata": {},
   "source": [
    "### Вывод\n",
    "1. Для модели \"Решающее дерево\" борьба с дисбалансовом и увеличение выборки привело к уменьшению f1 меры.\n",
    "2. Для модели \"Случайный лес\" борьба с дисбалансовом и увеличение выборки привело к значительному увеличению f1 меры.\n",
    "3. Для модели \"Логистическая регрессия\" борьба с дисбалансовом и увеличение выборки привело к уменьшению f1 меры\n",
    "4. Для модели \"Решающее дерево\" борьба с дисбалансовом и уменьшение выборки привело к уменьшению f1 меры.\n",
    "5. Для модели \"Случайный лес\" борьба с дисбалансовом и уменьшение выборки привело к незначительному увеличению f1 меры.\n",
    "6. Для модели \"Логистическая регрессия\" борьба с дисбалансовом и уменьшение выборки привело к значительному увеличнию f1 меры.\n",
    "7. Максимальный порог для модели \"Решающее дерево\" - 0.4. При этом значение порога, показатель F1 достигает максимального значения - 0.601.\n",
    "8. Максимальный порог для модели \"Случайный лес\" - 0.3. При этом значение порога, показатель F1 достигает максимального значения - 0.605.\n",
    "9. Максимальный порог для модели \"Логистическая регрессия\" - 0.3. При этом значение порога, показатель F1 достигает максимального значения - 0.463.\n",
    "10. Наилучшее качество у модели \"Случайный лес\" (выше всех).\n",
    "11. Наихудшее качество у модели \"Логистическая регрессия\" (ниже всех).\n",
    "12. Сильнее всего от случайной (0,5) отличается модель \"Случайный лес\".\n",
    "13. Слабее всего от случайной (0,5) отличается модель \"Логистическая регрессия\".\n",
    "\n",
    "#### Итог - оптимальные результаты показывают модели:\n",
    "+ \"Решающее дерево\" с помощью подбора порога.\n",
    "+ \"Случайный лес\" с помощью борьбы  с дисбалансом, подбора порога и увеличения выборки. Именно эту модель протестируем в следующем шаге"
   ]
  },
  {
   "cell_type": "markdown",
   "metadata": {},
   "source": [
    "# 4. Тестирование модели"
   ]
  },
  {
   "cell_type": "code",
   "execution_count": 69,
   "metadata": {},
   "outputs": [
    {
     "name": "stdout",
     "output_type": "stream",
     "text": [
      "Accuracy: 0.817\n"
     ]
    }
   ],
   "source": [
    "# тестирование модели \"Случайный лес\"\n",
    "# предсказание тестовой выборки \n",
    "test_predictions_RFC = model_RFC1.predict(features_Test)\n",
    "# проверка правильности тестовой выборки\n",
    "accuracy_test_RFC = accuracy_score(target_Test, test_predictions_RFC)\n",
    "print(\"Accuracy:\", accuracy_test_RFC)"
   ]
  },
  {
   "cell_type": "code",
   "execution_count": 70,
   "metadata": {},
   "outputs": [
    {
     "name": "stdout",
     "output_type": "stream",
     "text": [
      "Полнота: 0.7279236276849642\n",
      "Точность: 0.547576301615799\n",
      "F1-мера: 0.625\n",
      "AUC-ROC: 0.509601638792402\n"
     ]
    }
   ],
   "source": [
    "# полнота\n",
    "recall_test_RFC = recall_score(target_Test, test_predictions_RFC)\n",
    "print(\"Полнота:\", recall_test_RFC)\n",
    "\n",
    "# точность\n",
    "precision_test_RFC = precision_score(target_Test, test_predictions_RFC)\n",
    "print(\"Точность:\", precision_test_RFC)\n",
    "\n",
    "# расчет f1 меры\n",
    "f1_test_RFC = f1_score(target_Test, test_predictions_RFC)\n",
    "print(\"F1-мера:\", f1_test_RFC)\n",
    "\n",
    "# расчитаем AUC-ROC для модели \"Случайный лес\"\n",
    "probabilities_test_RFC = model_RFC1.predict_proba(features_Valid)\n",
    "probabilities_one_test_RFC = probabilities_test_RFC[:, 1]\n",
    "auc_roc_test_RFC = roc_auc_score(target_Test, probabilities_one_test_RFC)\n",
    "print(\"AUC-ROC:\", auc_roc_test_RFC)"
   ]
  },
  {
   "cell_type": "markdown",
   "metadata": {},
   "source": [
    "### Вывод\n",
    "1. Для итоговой модели \"Случайный лес\" показатель F1 составил 0.625\n",
    "2. Значение F1 существенно увеличилось после проверки на тестовой выборке:\n",
    "    + было (борьба  с дисбалансом и увеличение выборки): 0.601\n",
    "    + стало: 0.625"
   ]
  }
 ],
 "metadata": {
  "kernelspec": {
   "display_name": "Python 3",
   "language": "python",
   "name": "python3"
  },
  "language_info": {
   "codemirror_mode": {
    "name": "ipython",
    "version": 3
   },
   "file_extension": ".py",
   "mimetype": "text/x-python",
   "name": "python",
   "nbconvert_exporter": "python",
   "pygments_lexer": "ipython3",
   "version": "3.7.6"
  }
 },
 "nbformat": 4,
 "nbformat_minor": 2
}
